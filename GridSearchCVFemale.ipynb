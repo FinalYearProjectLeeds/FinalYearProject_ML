{
  "nbformat": 4,
  "nbformat_minor": 0,
  "metadata": {
    "colab": {
      "provenance": [],
      "authorship_tag": "ABX9TyNMOquWJ0UW1Luw7zqSQ6tx",
      "include_colab_link": true
    },
    "kernelspec": {
      "name": "python3",
      "display_name": "Python 3"
    },
    "language_info": {
      "name": "python"
    }
  },
  "cells": [
    {
      "cell_type": "markdown",
      "metadata": {
        "id": "view-in-github",
        "colab_type": "text"
      },
      "source": [
        "<a href=\"https://colab.research.google.com/github/sckgn/FinalYearProject_ML/blob/main/GridSearchCVFemale.ipynb\" target=\"_parent\"><img src=\"https://colab.research.google.com/assets/colab-badge.svg\" alt=\"Open In Colab\"/></a>"
      ]
    },
    {
      "cell_type": "code",
      "execution_count": 1,
      "metadata": {
        "id": "jwQ_ZpTFCD85"
      },
      "outputs": [],
      "source": [
        "import pandas as pd\n",
        "import numpy as np \n",
        "import matplotlib.pyplot as plt\n",
        "%matplotlib inline\n",
        "import sklearn"
      ]
    },
    {
      "cell_type": "code",
      "source": [
        "asd_2018_df = pd.read_csv('dataset_2018.csv')"
      ],
      "metadata": {
        "id": "6LOHK-NQCOgg"
      },
      "execution_count": 2,
      "outputs": []
    },
    {
      "cell_type": "code",
      "source": [
        "asd_2018_df.rename(columns={'Class/ASD Traits ':'ASD_Traits'}, inplace=True)"
      ],
      "metadata": {
        "id": "Ao73_F4eCTBp"
      },
      "execution_count": 3,
      "outputs": []
    },
    {
      "cell_type": "code",
      "source": [
        "grid_fem = asd_2018_df[asd_2018_df['Sex']=='f']"
      ],
      "metadata": {
        "id": "LXK5FTgxCjTL"
      },
      "execution_count": 4,
      "outputs": []
    },
    {
      "cell_type": "code",
      "source": [
        "grid_fem = grid_fem.drop(['Case_No', 'Qchat-10-Score','Who completed the test','Ethnicity','Sex'], axis=1)"
      ],
      "metadata": {
        "id": "Rje8grEcCVae"
      },
      "execution_count": 5,
      "outputs": []
    },
    {
      "cell_type": "code",
      "source": [
        "from sklearn.model_selection import train_test_split\n",
        "from sklearn.pipeline import Pipeline"
      ],
      "metadata": {
        "id": "je8VwlGUC7io"
      },
      "execution_count": 6,
      "outputs": []
    },
    {
      "cell_type": "code",
      "source": [
        "X_grid = grid_fem.drop(\"ASD_Traits\", axis=1)\n",
        "y_grid = grid_fem[\"ASD_Traits\"]\n",
        "\n",
        "X_grid_train, X_grid_test, y_grid_train, y_grid_test = train_test_split(X_grid, y_grid, test_size=0.3, random_state=42, stratify=y_grid)\n"
      ],
      "metadata": {
        "id": "TIkPXxjoZFve"
      },
      "execution_count": 7,
      "outputs": []
    },
    {
      "cell_type": "code",
      "source": [
        "from sklearn.preprocessing import OneHotEncoder, LabelEncoder, OrdinalEncoder\n",
        "from sklearn.preprocessing import MinMaxScaler\n",
        "\n",
        "encoder = OrdinalEncoder()\n",
        "y_encoder = LabelEncoder()\n",
        "scaler = MinMaxScaler()\n",
        "\n",
        "age = ['Age_Mons']\n",
        "char_vals = ['Jaundice','Family_mem_with_ASD']\n",
        "target = ['ASD_Traits']"
      ],
      "metadata": {
        "id": "ma_hz-cCZPju"
      },
      "execution_count": 8,
      "outputs": []
    },
    {
      "cell_type": "code",
      "source": [
        "def preprocessing(X_train, y_train, X_test, y_test):\n",
        "  X_train[age] = scaler.fit_transform(X_train[age].values.reshape(-1,1))\n",
        "  X_test[age] = scaler.transform(X_test[age].values.reshape(-1,1))\n",
        "  for c in char_vals:\n",
        "    X_train[c] = encoder.fit_transform(X_train[c].values.reshape(-1,1))\n",
        "    X_test[c] = encoder.transform(X_test[c].values.reshape(-1,1))\n",
        "  y_train = y_encoder.fit_transform(y_train.values.ravel())\n",
        "  y_test = y_encoder.transform(y_test.values.ravel())"
      ],
      "metadata": {
        "id": "D8HE5TBbZapL"
      },
      "execution_count": 9,
      "outputs": []
    },
    {
      "cell_type": "code",
      "source": [
        "  X_grid_train[age] = scaler.fit_transform(X_grid_train[age].values.reshape(-1,1))\n",
        "  X_grid_test[age] = scaler.transform(X_grid_test[age].values.reshape(-1,1))\n",
        "  for c in char_vals:\n",
        "    X_grid_train[c] = encoder.fit_transform(X_grid_train[c].values.reshape(-1,1))\n",
        "    X_grid_test[c] = encoder.transform(X_grid_test[c].values.reshape(-1,1))\n",
        "  y_grid_train = y_encoder.fit_transform(y_grid_train.values.ravel())\n",
        "  y_grid_test = y_encoder.transform(y_grid_test.values.ravel())"
      ],
      "metadata": {
        "id": "I_ElV-NOZ67v"
      },
      "execution_count": 10,
      "outputs": []
    },
    {
      "cell_type": "code",
      "source": [
        "print(y_grid_test)"
      ],
      "metadata": {
        "colab": {
          "base_uri": "https://localhost:8080/"
        },
        "id": "ccUgwQPmaz_7",
        "outputId": "badbf0b2-0435-4786-d384-efbb723a286d"
      },
      "execution_count": 11,
      "outputs": [
        {
          "output_type": "stream",
          "name": "stdout",
          "text": [
            "[1 1 1 1 0 1 1 1 0 1 0 1 0 1 0 1 1 0 1 0 0 1 0 1 1 1 1 0 0 0 1 1 0 1 1 1 0\n",
            " 0 1 1 0 0 1 0 1 1 1 0 0 1 0 1 0 0 0 0 1 1 1 1 1 1 1 1 1 1 0 1 0 1 0 1 0 1\n",
            " 1 1 1 0 1 1 1 0 0 1 0 1 0 0 1 0 1 1 0 1 1 0]\n"
          ]
        }
      ]
    },
    {
      "cell_type": "markdown",
      "source": [
        "##**Logistic Regression**"
      ],
      "metadata": {
        "id": "Hu4Ix6hFd9Fz"
      }
    },
    {
      "cell_type": "code",
      "source": [
        "from sklearn.linear_model import LogisticRegression\n",
        "\n",
        "log_reg = LogisticRegression(random_state=42)"
      ],
      "metadata": {
        "id": "72IT4E1wa9Fq"
      },
      "execution_count": 12,
      "outputs": []
    },
    {
      "cell_type": "code",
      "source": [
        "param_grid = {\n",
        "    'C'       : np.logspace(-3,3,7),\n",
        "}"
      ],
      "metadata": {
        "id": "qUKhppxsbdcj"
      },
      "execution_count": 13,
      "outputs": []
    },
    {
      "cell_type": "code",
      "source": [
        "from sklearn.metrics import make_scorer, accuracy_score, precision_score, recall_score, f1_score"
      ],
      "metadata": {
        "id": "FLTD7rM-bkSd"
      },
      "execution_count": 14,
      "outputs": []
    },
    {
      "cell_type": "code",
      "source": [
        "metrics ={'accuracy': make_scorer(accuracy_score),\n",
        "          'precision': make_scorer(precision_score, average='binary', pos_label=1),\n",
        "          'recall': make_scorer(recall_score,average='binary',pos_label=1),\n",
        "          'f1_score': make_scorer(f1_score,average='binary',pos_label=1)}"
      ],
      "metadata": {
        "id": "cIG3c5Kpbqn5"
      },
      "execution_count": 15,
      "outputs": []
    },
    {
      "cell_type": "code",
      "source": [
        "from sklearn.model_selection import GridSearchCV\n",
        "\n",
        "log_grid = GridSearchCV(log_reg, param_grid=param_grid, cv=5, scoring = metrics, refit='accuracy')"
      ],
      "metadata": {
        "id": "zQHeuAKFb6h2"
      },
      "execution_count": 16,
      "outputs": []
    },
    {
      "cell_type": "code",
      "source": [
        "log_grid.fit(X_grid_train, y_grid_train)"
      ],
      "metadata": {
        "colab": {
          "base_uri": "https://localhost:8080/",
          "height": 118
        },
        "id": "HXUKY5UkcNBy",
        "outputId": "8664262c-5c8b-4133-ea1c-8b6abd96ff8e"
      },
      "execution_count": 17,
      "outputs": [
        {
          "output_type": "execute_result",
          "data": {
            "text/plain": [
              "GridSearchCV(cv=5, estimator=LogisticRegression(random_state=42),\n",
              "             param_grid={'C': array([1.e-03, 1.e-02, 1.e-01, 1.e+00, 1.e+01, 1.e+02, 1.e+03])},\n",
              "             refit='accuracy',\n",
              "             scoring={'accuracy': make_scorer(accuracy_score),\n",
              "                      'f1_score': make_scorer(f1_score, average=binary, pos_label=1),\n",
              "                      'precision': make_scorer(precision_score, average=binary, pos_label=1),\n",
              "                      'recall': make_scorer(recall_score, average=binary, pos_label=1)})"
            ],
            "text/html": [
              "<style>#sk-container-id-1 {color: black;background-color: white;}#sk-container-id-1 pre{padding: 0;}#sk-container-id-1 div.sk-toggleable {background-color: white;}#sk-container-id-1 label.sk-toggleable__label {cursor: pointer;display: block;width: 100%;margin-bottom: 0;padding: 0.3em;box-sizing: border-box;text-align: center;}#sk-container-id-1 label.sk-toggleable__label-arrow:before {content: \"▸\";float: left;margin-right: 0.25em;color: #696969;}#sk-container-id-1 label.sk-toggleable__label-arrow:hover:before {color: black;}#sk-container-id-1 div.sk-estimator:hover label.sk-toggleable__label-arrow:before {color: black;}#sk-container-id-1 div.sk-toggleable__content {max-height: 0;max-width: 0;overflow: hidden;text-align: left;background-color: #f0f8ff;}#sk-container-id-1 div.sk-toggleable__content pre {margin: 0.2em;color: black;border-radius: 0.25em;background-color: #f0f8ff;}#sk-container-id-1 input.sk-toggleable__control:checked~div.sk-toggleable__content {max-height: 200px;max-width: 100%;overflow: auto;}#sk-container-id-1 input.sk-toggleable__control:checked~label.sk-toggleable__label-arrow:before {content: \"▾\";}#sk-container-id-1 div.sk-estimator input.sk-toggleable__control:checked~label.sk-toggleable__label {background-color: #d4ebff;}#sk-container-id-1 div.sk-label input.sk-toggleable__control:checked~label.sk-toggleable__label {background-color: #d4ebff;}#sk-container-id-1 input.sk-hidden--visually {border: 0;clip: rect(1px 1px 1px 1px);clip: rect(1px, 1px, 1px, 1px);height: 1px;margin: -1px;overflow: hidden;padding: 0;position: absolute;width: 1px;}#sk-container-id-1 div.sk-estimator {font-family: monospace;background-color: #f0f8ff;border: 1px dotted black;border-radius: 0.25em;box-sizing: border-box;margin-bottom: 0.5em;}#sk-container-id-1 div.sk-estimator:hover {background-color: #d4ebff;}#sk-container-id-1 div.sk-parallel-item::after {content: \"\";width: 100%;border-bottom: 1px solid gray;flex-grow: 1;}#sk-container-id-1 div.sk-label:hover label.sk-toggleable__label {background-color: #d4ebff;}#sk-container-id-1 div.sk-serial::before {content: \"\";position: absolute;border-left: 1px solid gray;box-sizing: border-box;top: 0;bottom: 0;left: 50%;z-index: 0;}#sk-container-id-1 div.sk-serial {display: flex;flex-direction: column;align-items: center;background-color: white;padding-right: 0.2em;padding-left: 0.2em;position: relative;}#sk-container-id-1 div.sk-item {position: relative;z-index: 1;}#sk-container-id-1 div.sk-parallel {display: flex;align-items: stretch;justify-content: center;background-color: white;position: relative;}#sk-container-id-1 div.sk-item::before, #sk-container-id-1 div.sk-parallel-item::before {content: \"\";position: absolute;border-left: 1px solid gray;box-sizing: border-box;top: 0;bottom: 0;left: 50%;z-index: -1;}#sk-container-id-1 div.sk-parallel-item {display: flex;flex-direction: column;z-index: 1;position: relative;background-color: white;}#sk-container-id-1 div.sk-parallel-item:first-child::after {align-self: flex-end;width: 50%;}#sk-container-id-1 div.sk-parallel-item:last-child::after {align-self: flex-start;width: 50%;}#sk-container-id-1 div.sk-parallel-item:only-child::after {width: 0;}#sk-container-id-1 div.sk-dashed-wrapped {border: 1px dashed gray;margin: 0 0.4em 0.5em 0.4em;box-sizing: border-box;padding-bottom: 0.4em;background-color: white;}#sk-container-id-1 div.sk-label label {font-family: monospace;font-weight: bold;display: inline-block;line-height: 1.2em;}#sk-container-id-1 div.sk-label-container {text-align: center;}#sk-container-id-1 div.sk-container {/* jupyter's `normalize.less` sets `[hidden] { display: none; }` but bootstrap.min.css set `[hidden] { display: none !important; }` so we also need the `!important` here to be able to override the default hidden behavior on the sphinx rendered scikit-learn.org. See: https://github.com/scikit-learn/scikit-learn/issues/21755 */display: inline-block !important;position: relative;}#sk-container-id-1 div.sk-text-repr-fallback {display: none;}</style><div id=\"sk-container-id-1\" class=\"sk-top-container\"><div class=\"sk-text-repr-fallback\"><pre>GridSearchCV(cv=5, estimator=LogisticRegression(random_state=42),\n",
              "             param_grid={&#x27;C&#x27;: array([1.e-03, 1.e-02, 1.e-01, 1.e+00, 1.e+01, 1.e+02, 1.e+03])},\n",
              "             refit=&#x27;accuracy&#x27;,\n",
              "             scoring={&#x27;accuracy&#x27;: make_scorer(accuracy_score),\n",
              "                      &#x27;f1_score&#x27;: make_scorer(f1_score, average=binary, pos_label=1),\n",
              "                      &#x27;precision&#x27;: make_scorer(precision_score, average=binary, pos_label=1),\n",
              "                      &#x27;recall&#x27;: make_scorer(recall_score, average=binary, pos_label=1)})</pre><b>In a Jupyter environment, please rerun this cell to show the HTML representation or trust the notebook. <br />On GitHub, the HTML representation is unable to render, please try loading this page with nbviewer.org.</b></div><div class=\"sk-container\" hidden><div class=\"sk-item sk-dashed-wrapped\"><div class=\"sk-label-container\"><div class=\"sk-label sk-toggleable\"><input class=\"sk-toggleable__control sk-hidden--visually\" id=\"sk-estimator-id-1\" type=\"checkbox\" ><label for=\"sk-estimator-id-1\" class=\"sk-toggleable__label sk-toggleable__label-arrow\">GridSearchCV</label><div class=\"sk-toggleable__content\"><pre>GridSearchCV(cv=5, estimator=LogisticRegression(random_state=42),\n",
              "             param_grid={&#x27;C&#x27;: array([1.e-03, 1.e-02, 1.e-01, 1.e+00, 1.e+01, 1.e+02, 1.e+03])},\n",
              "             refit=&#x27;accuracy&#x27;,\n",
              "             scoring={&#x27;accuracy&#x27;: make_scorer(accuracy_score),\n",
              "                      &#x27;f1_score&#x27;: make_scorer(f1_score, average=binary, pos_label=1),\n",
              "                      &#x27;precision&#x27;: make_scorer(precision_score, average=binary, pos_label=1),\n",
              "                      &#x27;recall&#x27;: make_scorer(recall_score, average=binary, pos_label=1)})</pre></div></div></div><div class=\"sk-parallel\"><div class=\"sk-parallel-item\"><div class=\"sk-item\"><div class=\"sk-label-container\"><div class=\"sk-label sk-toggleable\"><input class=\"sk-toggleable__control sk-hidden--visually\" id=\"sk-estimator-id-2\" type=\"checkbox\" ><label for=\"sk-estimator-id-2\" class=\"sk-toggleable__label sk-toggleable__label-arrow\">estimator: LogisticRegression</label><div class=\"sk-toggleable__content\"><pre>LogisticRegression(random_state=42)</pre></div></div></div><div class=\"sk-serial\"><div class=\"sk-item\"><div class=\"sk-estimator sk-toggleable\"><input class=\"sk-toggleable__control sk-hidden--visually\" id=\"sk-estimator-id-3\" type=\"checkbox\" ><label for=\"sk-estimator-id-3\" class=\"sk-toggleable__label sk-toggleable__label-arrow\">LogisticRegression</label><div class=\"sk-toggleable__content\"><pre>LogisticRegression(random_state=42)</pre></div></div></div></div></div></div></div></div></div></div>"
            ]
          },
          "metadata": {},
          "execution_count": 17
        }
      ]
    },
    {
      "cell_type": "code",
      "source": [
        "def show_grid_cv_results(model):\n",
        "  accuracy = model.cv_results_['mean_test_accuracy']\n",
        "  precision = model.cv_results_['mean_test_precision']\n",
        "  recall = model.cv_results_['mean_test_recall']\n",
        "  f1 = model.cv_results_['mean_test_f1_score']\n",
        "\n",
        "  print(\"Best parameters: {}\".format(model.best_params_))\n",
        "  print(\"Best score: {:.2f}\".format(model.best_score_))\n",
        "  print(\"Accuracy: \", accuracy.mean())\n",
        "  print(\"Precision: \", precision.mean())\n",
        "  print(\"Recall: \", recall.mean())\n",
        "  print(\"F1 Score: \", f1.mean())"
      ],
      "metadata": {
        "id": "L7XppqzYcwHU"
      },
      "execution_count": 18,
      "outputs": []
    },
    {
      "cell_type": "code",
      "source": [
        "from sklearn.metrics import ConfusionMatrixDisplay\n",
        "\n",
        "def final_evaluation(model, predictors, target):\n",
        "  predictions = model.predict(predictors)\n",
        "  print(\"Accuracy: \", accuracy_score(target, predictions))\n",
        "  print(\"Precision[YES]: \", precision_score(target, predictions, average='binary', pos_label=1))\n",
        "  print(\"Recall[YES]: \", recall_score(target, predictions,average='binary', pos_label=1))\n",
        "  print(\"F1[YES]: \", f1_score(target, predictions,average='binary', pos_label=1))\n",
        "\n",
        "  ConfusionMatrixDisplay.from_estimator(model, predictors, target)"
      ],
      "metadata": {
        "id": "avtfB1mbc_cx"
      },
      "execution_count": 19,
      "outputs": []
    },
    {
      "cell_type": "code",
      "source": [
        "show_grid_cv_results(log_grid)"
      ],
      "metadata": {
        "colab": {
          "base_uri": "https://localhost:8080/"
        },
        "id": "pQQceeiJc0Np",
        "outputId": "6dd0bd5b-3058-42b8-99ba-a77846b65c6b"
      },
      "execution_count": 20,
      "outputs": [
        {
          "output_type": "stream",
          "name": "stdout",
          "text": [
            "Best parameters: {'C': 1000.0}\n",
            "Best score: 0.99\n",
            "Accuracy:  0.917878787878788\n",
            "Precision:  0.9124866332584878\n",
            "Recall:  0.9936507936507937\n",
            "F1 Score:  0.9450613869392528\n"
          ]
        }
      ]
    },
    {
      "cell_type": "code",
      "source": [
        "best_est = log_grid.best_estimator_"
      ],
      "metadata": {
        "id": "S3LYg7kpg6mK"
      },
      "execution_count": 21,
      "outputs": []
    },
    {
      "cell_type": "code",
      "source": [
        "final_evaluation(log_grid,X_grid_test, y_grid_test)"
      ],
      "metadata": {
        "colab": {
          "base_uri": "https://localhost:8080/",
          "height": 518
        },
        "id": "WoGYYVYkc9qS",
        "outputId": "9b0862ba-8a77-47ab-87a6-6088f0c9da1b"
      },
      "execution_count": 22,
      "outputs": [
        {
          "output_type": "stream",
          "name": "stdout",
          "text": [
            "Accuracy:  1.0\n",
            "Precision[YES]:  1.0\n",
            "Recall[YES]:  1.0\n",
            "F1[YES]:  1.0\n"
          ]
        },
        {
          "output_type": "display_data",
          "data": {
            "text/plain": [
              "<Figure size 640x480 with 2 Axes>"
            ],
            "image/png": "[encoded data removed]"
          },
          "metadata": {}
        }
      ]
    },
    {
      "cell_type": "markdown",
      "source": [
        "### **Feature importance**"
      ],
      "metadata": {
        "id": "dJ9vKY9DZ-pY"
      }
    },
    {
      "cell_type": "code",
      "source": [
        "from sklearn.feature_selection import SelectKBest, chi2, mutual_info_classif"
      ],
      "metadata": {
        "colab": {
          "base_uri": "https://localhost:8080/",
          "height": 75
        },
        "id": "C0nkzVVQabxl",
        "outputId": "9441c492-cf7e-4bb2-c950-ecfdd73cc2e6"
      },
      "execution_count": 23,
      "outputs": [
        {
          "output_type": "execute_result",
          "data": {
            "text/plain": [
              "LogisticRegression()"
            ],
            "text/html": [
              "<style>#sk-container-id-2 {color: black;background-color: white;}#sk-container-id-2 pre{padding: 0;}#sk-container-id-2 div.sk-toggleable {background-color: white;}#sk-container-id-2 label.sk-toggleable__label {cursor: pointer;display: block;width: 100%;margin-bottom: 0;padding: 0.3em;box-sizing: border-box;text-align: center;}#sk-container-id-2 label.sk-toggleable__label-arrow:before {content: \"▸\";float: left;margin-right: 0.25em;color: #696969;}#sk-container-id-2 label.sk-toggleable__label-arrow:hover:before {color: black;}#sk-container-id-2 div.sk-estimator:hover label.sk-toggleable__label-arrow:before {color: black;}#sk-container-id-2 div.sk-toggleable__content {max-height: 0;max-width: 0;overflow: hidden;text-align: left;background-color: #f0f8ff;}#sk-container-id-2 div.sk-toggleable__content pre {margin: 0.2em;color: black;border-radius: 0.25em;background-color: #f0f8ff;}#sk-container-id-2 input.sk-toggleable__control:checked~div.sk-toggleable__content {max-height: 200px;max-width: 100%;overflow: auto;}#sk-container-id-2 input.sk-toggleable__control:checked~label.sk-toggleable__label-arrow:before {content: \"▾\";}#sk-container-id-2 div.sk-estimator input.sk-toggleable__control:checked~label.sk-toggleable__label {background-color: #d4ebff;}#sk-container-id-2 div.sk-label input.sk-toggleable__control:checked~label.sk-toggleable__label {background-color: #d4ebff;}#sk-container-id-2 input.sk-hidden--visually {border: 0;clip: rect(1px 1px 1px 1px);clip: rect(1px, 1px, 1px, 1px);height: 1px;margin: -1px;overflow: hidden;padding: 0;position: absolute;width: 1px;}#sk-container-id-2 div.sk-estimator {font-family: monospace;background-color: #f0f8ff;border: 1px dotted black;border-radius: 0.25em;box-sizing: border-box;margin-bottom: 0.5em;}#sk-container-id-2 div.sk-estimator:hover {background-color: #d4ebff;}#sk-container-id-2 div.sk-parallel-item::after {content: \"\";width: 100%;border-bottom: 1px solid gray;flex-grow: 1;}#sk-container-id-2 div.sk-label:hover label.sk-toggleable__label {background-color: #d4ebff;}#sk-container-id-2 div.sk-serial::before {content: \"\";position: absolute;border-left: 1px solid gray;box-sizing: border-box;top: 0;bottom: 0;left: 50%;z-index: 0;}#sk-container-id-2 div.sk-serial {display: flex;flex-direction: column;align-items: center;background-color: white;padding-right: 0.2em;padding-left: 0.2em;position: relative;}#sk-container-id-2 div.sk-item {position: relative;z-index: 1;}#sk-container-id-2 div.sk-parallel {display: flex;align-items: stretch;justify-content: center;background-color: white;position: relative;}#sk-container-id-2 div.sk-item::before, #sk-container-id-2 div.sk-parallel-item::before {content: \"\";position: absolute;border-left: 1px solid gray;box-sizing: border-box;top: 0;bottom: 0;left: 50%;z-index: -1;}#sk-container-id-2 div.sk-parallel-item {display: flex;flex-direction: column;z-index: 1;position: relative;background-color: white;}#sk-container-id-2 div.sk-parallel-item:first-child::after {align-self: flex-end;width: 50%;}#sk-container-id-2 div.sk-parallel-item:last-child::after {align-self: flex-start;width: 50%;}#sk-container-id-2 div.sk-parallel-item:only-child::after {width: 0;}#sk-container-id-2 div.sk-dashed-wrapped {border: 1px dashed gray;margin: 0 0.4em 0.5em 0.4em;box-sizing: border-box;padding-bottom: 0.4em;background-color: white;}#sk-container-id-2 div.sk-label label {font-family: monospace;font-weight: bold;display: inline-block;line-height: 1.2em;}#sk-container-id-2 div.sk-label-container {text-align: center;}#sk-container-id-2 div.sk-container {/* jupyter's `normalize.less` sets `[hidden] { display: none; }` but bootstrap.min.css set `[hidden] { display: none !important; }` so we also need the `!important` here to be able to override the default hidden behavior on the sphinx rendered scikit-learn.org. See: https://github.com/scikit-learn/scikit-learn/issues/21755 */display: inline-block !important;position: relative;}#sk-container-id-2 div.sk-text-repr-fallback {display: none;}</style><div id=\"sk-container-id-2\" class=\"sk-top-container\"><div class=\"sk-text-repr-fallback\"><pre>LogisticRegression()</pre><b>In a Jupyter environment, please rerun this cell to show the HTML representation or trust the notebook. <br />On GitHub, the HTML representation is unable to render, please try loading this page with nbviewer.org.</b></div><div class=\"sk-container\" hidden><div class=\"sk-item\"><div class=\"sk-estimator sk-toggleable\"><input class=\"sk-toggleable__control sk-hidden--visually\" id=\"sk-estimator-id-4\" type=\"checkbox\" checked><label for=\"sk-estimator-id-4\" class=\"sk-toggleable__label sk-toggleable__label-arrow\">LogisticRegression</label><div class=\"sk-toggleable__content\"><pre>LogisticRegression()</pre></div></div></div></div></div>"
            ]
          },
          "metadata": {},
          "execution_count": 23
        }
      ]
    },
    {
      "cell_type": "markdown",
      "source": [
        "**Chi squared**"
      ],
      "metadata": {
        "id": "9EpopT4BjYZz"
      }
    },
    {
      "cell_type": "code",
      "source": [
        "best = SelectKBest(chi2, k='all')\n",
        "\n",
        "X_train_best = best.fit_transform(X_grid_train,y_grid_train)\n",
        "X_test_best = best.transform(X_grid_test)\n",
        "\n",
        "bestLR = LogisticRegression()\n",
        "bestLR.fit(X_train_best,y_grid_train)"
      ],
      "metadata": {
        "colab": {
          "base_uri": "https://localhost:8080/",
          "height": 75
        },
        "id": "40NbFLHfj2Vq",
        "outputId": "2b1cd0b2-fde1-44d8-e7b2-ab18a4924bf6"
      },
      "execution_count": 35,
      "outputs": [
        {
          "output_type": "execute_result",
          "data": {
            "text/plain": [
              "LogisticRegression()"
            ],
            "text/html": [
              "<style>#sk-container-id-4 {color: black;background-color: white;}#sk-container-id-4 pre{padding: 0;}#sk-container-id-4 div.sk-toggleable {background-color: white;}#sk-container-id-4 label.sk-toggleable__label {cursor: pointer;display: block;width: 100%;margin-bottom: 0;padding: 0.3em;box-sizing: border-box;text-align: center;}#sk-container-id-4 label.sk-toggleable__label-arrow:before {content: \"▸\";float: left;margin-right: 0.25em;color: #696969;}#sk-container-id-4 label.sk-toggleable__label-arrow:hover:before {color: black;}#sk-container-id-4 div.sk-estimator:hover label.sk-toggleable__label-arrow:before {color: black;}#sk-container-id-4 div.sk-toggleable__content {max-height: 0;max-width: 0;overflow: hidden;text-align: left;background-color: #f0f8ff;}#sk-container-id-4 div.sk-toggleable__content pre {margin: 0.2em;color: black;border-radius: 0.25em;background-color: #f0f8ff;}#sk-container-id-4 input.sk-toggleable__control:checked~div.sk-toggleable__content {max-height: 200px;max-width: 100%;overflow: auto;}#sk-container-id-4 input.sk-toggleable__control:checked~label.sk-toggleable__label-arrow:before {content: \"▾\";}#sk-container-id-4 div.sk-estimator input.sk-toggleable__control:checked~label.sk-toggleable__label {background-color: #d4ebff;}#sk-container-id-4 div.sk-label input.sk-toggleable__control:checked~label.sk-toggleable__label {background-color: #d4ebff;}#sk-container-id-4 input.sk-hidden--visually {border: 0;clip: rect(1px 1px 1px 1px);clip: rect(1px, 1px, 1px, 1px);height: 1px;margin: -1px;overflow: hidden;padding: 0;position: absolute;width: 1px;}#sk-container-id-4 div.sk-estimator {font-family: monospace;background-color: #f0f8ff;border: 1px dotted black;border-radius: 0.25em;box-sizing: border-box;margin-bottom: 0.5em;}#sk-container-id-4 div.sk-estimator:hover {background-color: #d4ebff;}#sk-container-id-4 div.sk-parallel-item::after {content: \"\";width: 100%;border-bottom: 1px solid gray;flex-grow: 1;}#sk-container-id-4 div.sk-label:hover label.sk-toggleable__label {background-color: #d4ebff;}#sk-container-id-4 div.sk-serial::before {content: \"\";position: absolute;border-left: 1px solid gray;box-sizing: border-box;top: 0;bottom: 0;left: 50%;z-index: 0;}#sk-container-id-4 div.sk-serial {display: flex;flex-direction: column;align-items: center;background-color: white;padding-right: 0.2em;padding-left: 0.2em;position: relative;}#sk-container-id-4 div.sk-item {position: relative;z-index: 1;}#sk-container-id-4 div.sk-parallel {display: flex;align-items: stretch;justify-content: center;background-color: white;position: relative;}#sk-container-id-4 div.sk-item::before, #sk-container-id-4 div.sk-parallel-item::before {content: \"\";position: absolute;border-left: 1px solid gray;box-sizing: border-box;top: 0;bottom: 0;left: 50%;z-index: -1;}#sk-container-id-4 div.sk-parallel-item {display: flex;flex-direction: column;z-index: 1;position: relative;background-color: white;}#sk-container-id-4 div.sk-parallel-item:first-child::after {align-self: flex-end;width: 50%;}#sk-container-id-4 div.sk-parallel-item:last-child::after {align-self: flex-start;width: 50%;}#sk-container-id-4 div.sk-parallel-item:only-child::after {width: 0;}#sk-container-id-4 div.sk-dashed-wrapped {border: 1px dashed gray;margin: 0 0.4em 0.5em 0.4em;box-sizing: border-box;padding-bottom: 0.4em;background-color: white;}#sk-container-id-4 div.sk-label label {font-family: monospace;font-weight: bold;display: inline-block;line-height: 1.2em;}#sk-container-id-4 div.sk-label-container {text-align: center;}#sk-container-id-4 div.sk-container {/* jupyter's `normalize.less` sets `[hidden] { display: none; }` but bootstrap.min.css set `[hidden] { display: none !important; }` so we also need the `!important` here to be able to override the default hidden behavior on the sphinx rendered scikit-learn.org. See: https://github.com/scikit-learn/scikit-learn/issues/21755 */display: inline-block !important;position: relative;}#sk-container-id-4 div.sk-text-repr-fallback {display: none;}</style><div id=\"sk-container-id-4\" class=\"sk-top-container\"><div class=\"sk-text-repr-fallback\"><pre>LogisticRegression()</pre><b>In a Jupyter environment, please rerun this cell to show the HTML representation or trust the notebook. <br />On GitHub, the HTML representation is unable to render, please try loading this page with nbviewer.org.</b></div><div class=\"sk-container\" hidden><div class=\"sk-item\"><div class=\"sk-estimator sk-toggleable\"><input class=\"sk-toggleable__control sk-hidden--visually\" id=\"sk-estimator-id-8\" type=\"checkbox\" checked><label for=\"sk-estimator-id-8\" class=\"sk-toggleable__label sk-toggleable__label-arrow\">LogisticRegression</label><div class=\"sk-toggleable__content\"><pre>LogisticRegression()</pre></div></div></div></div></div>"
            ]
          },
          "metadata": {},
          "execution_count": 35
        }
      ]
    },
    {
      "cell_type": "code",
      "source": [
        "# Get the chi2 scores and names for each feature\n",
        "chi2_scores = best.scores_\n",
        "feature_names = np.array(X_grid_train.columns)\n",
        "selected_mask = best.get_support()\n",
        "\n",
        "sorted_indices = chi2_scores.argsort()[::-1]\n",
        "sorted_scores = chi2_scores[sorted_indices]\n",
        "sorted_features = feature_names[selected_mask][sorted_indices]\n",
        "\n",
        "# Print the feature names and their corresponding chi2 scores\n",
        "for feature, score in zip(sorted_features, sorted_scores):\n",
        "    print(f\"{feature}: {score:.3f}\")"
      ],
      "metadata": {
        "colab": {
          "base_uri": "https://localhost:8080/"
        },
        "id": "4-TKHsqycNId",
        "outputId": "6ca4a185-31d2-438c-b983-c126b761f167"
      },
      "execution_count": 24,
      "outputs": [
        {
          "output_type": "stream",
          "name": "stdout",
          "text": [
            "A4: 49.426\n",
            "A6: 48.695\n",
            "A9: 47.730\n",
            "A1: 47.417\n",
            "A5: 39.984\n",
            "A3: 38.899\n",
            "A7: 36.755\n",
            "A2: 29.501\n",
            "A8: 24.381\n",
            "A10: 4.053\n",
            "Family_mem_with_ASD: 1.319\n",
            "Age_Mons: 1.124\n",
            "Jaundice: 0.036\n"
          ]
        }
      ]
    },
    {
      "cell_type": "markdown",
      "source": [
        "**Information gain**"
      ],
      "metadata": {
        "id": "ewl0qtq-j7ML"
      }
    },
    {
      "cell_type": "code",
      "source": [
        "best_info = SelectKBest(mutual_info_classif, k='all')\n",
        "\n",
        "X_info_selected = best_info.fit_transform(X_grid_train,y_grid_train) \n"
      ],
      "metadata": {
        "id": "ERiry0qpkA3b"
      },
      "execution_count": 36,
      "outputs": []
    },
    {
      "cell_type": "code",
      "source": [
        "info_scores = best_info.scores_\n",
        "\n",
        "info_mask = best_info.get_support()\n",
        "\n",
        "sorted_indices_info = info_scores.argsort()[::-1]\n",
        "sorted_scores_info = info_scores[sorted_indices_info]\n",
        "sorted_feat_info = feature_names[info_mask][sorted_indices_info]\n",
        "\n",
        "for feature, score in zip(sorted_feat_info,sorted_scores_info):\n",
        "  print(f\"{feature}: {score:.3f}\")"
      ],
      "metadata": {
        "colab": {
          "base_uri": "https://localhost:8080/"
        },
        "id": "WE-p0LQ-ktPo",
        "outputId": "0acc5198-5f7d-4278-fdcc-4271bd97cf8d"
      },
      "execution_count": 38,
      "outputs": [
        {
          "output_type": "stream",
          "name": "stdout",
          "text": [
            "A1: 0.326\n",
            "A5: 0.269\n",
            "A6: 0.251\n",
            "A4: 0.234\n",
            "A9: 0.218\n",
            "A7: 0.207\n",
            "A3: 0.180\n",
            "A8: 0.133\n",
            "Family_mem_with_ASD: 0.072\n",
            "A2: 0.070\n",
            "Jaundice: 0.034\n",
            "A10: 0.020\n",
            "Age_Mons: 0.003\n"
          ]
        }
      ]
    },
    {
      "cell_type": "markdown",
      "source": [
        "**Feature Coefficients**"
      ],
      "metadata": {
        "id": "Ju-z2xjXjcQo"
      }
    },
    {
      "cell_type": "code",
      "source": [
        "coefs = best_est.coef_\n",
        "sorted_importance = sorted(zip(coefs[0], feature_names), reverse=True)\n",
        "\n",
        "print(\"{:<20} {:<10}\".format('Feature', 'Importance'))\n",
        "print(\"----------------------------------------\")\n",
        "for coef, feat in sorted_importance:\n",
        "    print(\"{:<20} {:.4f}\".format(feat, abs(coef)))\n"
      ],
      "metadata": {
        "colab": {
          "base_uri": "https://localhost:8080/"
        },
        "id": "JStrXK9WfK7O",
        "outputId": "fbde8732-4d40-4f47-ff52-5f8cbc38faa6"
      },
      "execution_count": 34,
      "outputs": [
        {
          "output_type": "stream",
          "name": "stdout",
          "text": [
            "Feature              Importance\n",
            "----------------------------------------\n",
            "A4                   11.1442\n",
            "A1                   10.6924\n",
            "A6                   9.8949\n",
            "A9                   9.6401\n",
            "A8                   9.1792\n",
            "A2                   9.0550\n",
            "A10                  8.7933\n",
            "A5                   8.5406\n",
            "A7                   8.1778\n",
            "A3                   6.6090\n",
            "Family_mem_with_ASD  3.3605\n",
            "Age_Mons             3.1499\n",
            "Jaundice             1.4116\n"
          ]
        }
      ]
    },
    {
      "cell_type": "markdown",
      "source": [
        "##**SVM**"
      ],
      "metadata": {
        "id": "5HWCSaKSeFa-"
      }
    },
    {
      "cell_type": "code",
      "source": [
        "from sklearn.svm import SVC"
      ],
      "metadata": {
        "id": "WYYV9oTue1Yx"
      },
      "execution_count": 26,
      "outputs": []
    },
    {
      "cell_type": "code",
      "source": [
        "svc = SVC(random_state=42)"
      ],
      "metadata": {
        "id": "7b07BeQrfMNl"
      },
      "execution_count": 27,
      "outputs": []
    },
    {
      "cell_type": "code",
      "source": [
        "svc_param_grid = {\n",
        "    'C': [0.1,1, 10, 100],\n",
        "    'gamma': [1,0.1,0.01,0.001],\n",
        "    'kernel': ['rbf', 'poly', 'sigmoid']\n",
        "}"
      ],
      "metadata": {
        "id": "1Amg1XM7eMMU"
      },
      "execution_count": 28,
      "outputs": []
    },
    {
      "cell_type": "code",
      "source": [
        "svc_grid = GridSearchCV(svc, param_grid = svc_param_grid, cv=5, scoring=metrics,refit='accuracy')"
      ],
      "metadata": {
        "id": "DAP3NNu0fFii"
      },
      "execution_count": 29,
      "outputs": []
    },
    {
      "cell_type": "code",
      "source": [
        "svc_grid.fit(X_grid_train, y_grid_train)"
      ],
      "metadata": {
        "colab": {
          "base_uri": "https://localhost:8080/",
          "height": 118
        },
        "id": "C4zmyx5afghD",
        "outputId": "a13a1490-781c-4c64-cfce-989304111f8a"
      },
      "execution_count": 30,
      "outputs": [
        {
          "output_type": "execute_result",
          "data": {
            "text/plain": [
              "GridSearchCV(cv=5, estimator=SVC(random_state=42),\n",
              "             param_grid={'C': [0.1, 1, 10, 100], 'gamma': [1, 0.1, 0.01, 0.001],\n",
              "                         'kernel': ['rbf', 'poly', 'sigmoid']},\n",
              "             refit='accuracy',\n",
              "             scoring={'accuracy': make_scorer(accuracy_score),\n",
              "                      'f1_score': make_scorer(f1_score, average=binary, pos_label=1),\n",
              "                      'precision': make_scorer(precision_score, average=binary, pos_label=1),\n",
              "                      'recall': make_scorer(recall_score, average=binary, pos_label=1)})"
            ],
            "text/html": [
              "<style>#sk-container-id-3 {color: black;background-color: white;}#sk-container-id-3 pre{padding: 0;}#sk-container-id-3 div.sk-toggleable {background-color: white;}#sk-container-id-3 label.sk-toggleable__label {cursor: pointer;display: block;width: 100%;margin-bottom: 0;padding: 0.3em;box-sizing: border-box;text-align: center;}#sk-container-id-3 label.sk-toggleable__label-arrow:before {content: \"▸\";float: left;margin-right: 0.25em;color: #696969;}#sk-container-id-3 label.sk-toggleable__label-arrow:hover:before {color: black;}#sk-container-id-3 div.sk-estimator:hover label.sk-toggleable__label-arrow:before {color: black;}#sk-container-id-3 div.sk-toggleable__content {max-height: 0;max-width: 0;overflow: hidden;text-align: left;background-color: #f0f8ff;}#sk-container-id-3 div.sk-toggleable__content pre {margin: 0.2em;color: black;border-radius: 0.25em;background-color: #f0f8ff;}#sk-container-id-3 input.sk-toggleable__control:checked~div.sk-toggleable__content {max-height: 200px;max-width: 100%;overflow: auto;}#sk-container-id-3 input.sk-toggleable__control:checked~label.sk-toggleable__label-arrow:before {content: \"▾\";}#sk-container-id-3 div.sk-estimator input.sk-toggleable__control:checked~label.sk-toggleable__label {background-color: #d4ebff;}#sk-container-id-3 div.sk-label input.sk-toggleable__control:checked~label.sk-toggleable__label {background-color: #d4ebff;}#sk-container-id-3 input.sk-hidden--visually {border: 0;clip: rect(1px 1px 1px 1px);clip: rect(1px, 1px, 1px, 1px);height: 1px;margin: -1px;overflow: hidden;padding: 0;position: absolute;width: 1px;}#sk-container-id-3 div.sk-estimator {font-family: monospace;background-color: #f0f8ff;border: 1px dotted black;border-radius: 0.25em;box-sizing: border-box;margin-bottom: 0.5em;}#sk-container-id-3 div.sk-estimator:hover {background-color: #d4ebff;}#sk-container-id-3 div.sk-parallel-item::after {content: \"\";width: 100%;border-bottom: 1px solid gray;flex-grow: 1;}#sk-container-id-3 div.sk-label:hover label.sk-toggleable__label {background-color: #d4ebff;}#sk-container-id-3 div.sk-serial::before {content: \"\";position: absolute;border-left: 1px solid gray;box-sizing: border-box;top: 0;bottom: 0;left: 50%;z-index: 0;}#sk-container-id-3 div.sk-serial {display: flex;flex-direction: column;align-items: center;background-color: white;padding-right: 0.2em;padding-left: 0.2em;position: relative;}#sk-container-id-3 div.sk-item {position: relative;z-index: 1;}#sk-container-id-3 div.sk-parallel {display: flex;align-items: stretch;justify-content: center;background-color: white;position: relative;}#sk-container-id-3 div.sk-item::before, #sk-container-id-3 div.sk-parallel-item::before {content: \"\";position: absolute;border-left: 1px solid gray;box-sizing: border-box;top: 0;bottom: 0;left: 50%;z-index: -1;}#sk-container-id-3 div.sk-parallel-item {display: flex;flex-direction: column;z-index: 1;position: relative;background-color: white;}#sk-container-id-3 div.sk-parallel-item:first-child::after {align-self: flex-end;width: 50%;}#sk-container-id-3 div.sk-parallel-item:last-child::after {align-self: flex-start;width: 50%;}#sk-container-id-3 div.sk-parallel-item:only-child::after {width: 0;}#sk-container-id-3 div.sk-dashed-wrapped {border: 1px dashed gray;margin: 0 0.4em 0.5em 0.4em;box-sizing: border-box;padding-bottom: 0.4em;background-color: white;}#sk-container-id-3 div.sk-label label {font-family: monospace;font-weight: bold;display: inline-block;line-height: 1.2em;}#sk-container-id-3 div.sk-label-container {text-align: center;}#sk-container-id-3 div.sk-container {/* jupyter's `normalize.less` sets `[hidden] { display: none; }` but bootstrap.min.css set `[hidden] { display: none !important; }` so we also need the `!important` here to be able to override the default hidden behavior on the sphinx rendered scikit-learn.org. See: https://github.com/scikit-learn/scikit-learn/issues/21755 */display: inline-block !important;position: relative;}#sk-container-id-3 div.sk-text-repr-fallback {display: none;}</style><div id=\"sk-container-id-3\" class=\"sk-top-container\"><div class=\"sk-text-repr-fallback\"><pre>GridSearchCV(cv=5, estimator=SVC(random_state=42),\n",
              "             param_grid={&#x27;C&#x27;: [0.1, 1, 10, 100], &#x27;gamma&#x27;: [1, 0.1, 0.01, 0.001],\n",
              "                         &#x27;kernel&#x27;: [&#x27;rbf&#x27;, &#x27;poly&#x27;, &#x27;sigmoid&#x27;]},\n",
              "             refit=&#x27;accuracy&#x27;,\n",
              "             scoring={&#x27;accuracy&#x27;: make_scorer(accuracy_score),\n",
              "                      &#x27;f1_score&#x27;: make_scorer(f1_score, average=binary, pos_label=1),\n",
              "                      &#x27;precision&#x27;: make_scorer(precision_score, average=binary, pos_label=1),\n",
              "                      &#x27;recall&#x27;: make_scorer(recall_score, average=binary, pos_label=1)})</pre><b>In a Jupyter environment, please rerun this cell to show the HTML representation or trust the notebook. <br />On GitHub, the HTML representation is unable to render, please try loading this page with nbviewer.org.</b></div><div class=\"sk-container\" hidden><div class=\"sk-item sk-dashed-wrapped\"><div class=\"sk-label-container\"><div class=\"sk-label sk-toggleable\"><input class=\"sk-toggleable__control sk-hidden--visually\" id=\"sk-estimator-id-5\" type=\"checkbox\" ><label for=\"sk-estimator-id-5\" class=\"sk-toggleable__label sk-toggleable__label-arrow\">GridSearchCV</label><div class=\"sk-toggleable__content\"><pre>GridSearchCV(cv=5, estimator=SVC(random_state=42),\n",
              "             param_grid={&#x27;C&#x27;: [0.1, 1, 10, 100], &#x27;gamma&#x27;: [1, 0.1, 0.01, 0.001],\n",
              "                         &#x27;kernel&#x27;: [&#x27;rbf&#x27;, &#x27;poly&#x27;, &#x27;sigmoid&#x27;]},\n",
              "             refit=&#x27;accuracy&#x27;,\n",
              "             scoring={&#x27;accuracy&#x27;: make_scorer(accuracy_score),\n",
              "                      &#x27;f1_score&#x27;: make_scorer(f1_score, average=binary, pos_label=1),\n",
              "                      &#x27;precision&#x27;: make_scorer(precision_score, average=binary, pos_label=1),\n",
              "                      &#x27;recall&#x27;: make_scorer(recall_score, average=binary, pos_label=1)})</pre></div></div></div><div class=\"sk-parallel\"><div class=\"sk-parallel-item\"><div class=\"sk-item\"><div class=\"sk-label-container\"><div class=\"sk-label sk-toggleable\"><input class=\"sk-toggleable__control sk-hidden--visually\" id=\"sk-estimator-id-6\" type=\"checkbox\" ><label for=\"sk-estimator-id-6\" class=\"sk-toggleable__label sk-toggleable__label-arrow\">estimator: SVC</label><div class=\"sk-toggleable__content\"><pre>SVC(random_state=42)</pre></div></div></div><div class=\"sk-serial\"><div class=\"sk-item\"><div class=\"sk-estimator sk-toggleable\"><input class=\"sk-toggleable__control sk-hidden--visually\" id=\"sk-estimator-id-7\" type=\"checkbox\" ><label for=\"sk-estimator-id-7\" class=\"sk-toggleable__label sk-toggleable__label-arrow\">SVC</label><div class=\"sk-toggleable__content\"><pre>SVC(random_state=42)</pre></div></div></div></div></div></div></div></div></div></div>"
            ]
          },
          "metadata": {},
          "execution_count": 30
        }
      ]
    },
    {
      "cell_type": "code",
      "source": [
        "show_grid_cv_results(svc_grid)"
      ],
      "metadata": {
        "colab": {
          "base_uri": "https://localhost:8080/"
        },
        "id": "h-pLG44QfoS_",
        "outputId": "1bab7e3b-87a1-465d-8257-2fbc3e59db89"
      },
      "execution_count": 31,
      "outputs": [
        {
          "output_type": "stream",
          "name": "stdout",
          "text": [
            "Best parameters: {'C': 10, 'gamma': 0.1, 'kernel': 'rbf'}\n",
            "Best score: 0.99\n",
            "Accuracy:  0.8144234006734007\n",
            "Precision:  0.8241711162146741\n",
            "Recall:  0.9572916666666668\n",
            "F1 Score:  0.8742423967040338\n"
          ]
        }
      ]
    },
    {
      "cell_type": "code",
      "source": [
        "svc_grid.best_estimator_.kernel"
      ],
      "metadata": {
        "colab": {
          "base_uri": "https://localhost:8080/",
          "height": 35
        },
        "id": "mqpW8I7ngw0R",
        "outputId": "ece997da-ce1f-4e07-f086-b89a2661d30d"
      },
      "execution_count": 32,
      "outputs": [
        {
          "output_type": "execute_result",
          "data": {
            "text/plain": [
              "'rbf'"
            ],
            "application/vnd.google.colaboratory.intrinsic+json": {
              "type": "string"
            }
          },
          "metadata": {},
          "execution_count": 32
        }
      ]
    }
  ]
}