{
  "nbformat": 4,
  "nbformat_minor": 0,
  "metadata": {
    "colab": {
      "provenance": [],
      "authorship_tag": "ABX9TyMwmeqiivK2EZszITmGNogd",
      "include_colab_link": true
    },
    "kernelspec": {
      "name": "python3",
      "display_name": "Python 3"
    },
    "language_info": {
      "name": "python"
    }
  },
  "cells": [
    {
      "cell_type": "markdown",
      "metadata": {
        "id": "view-in-github",
        "colab_type": "text"
      },
      "source": [
        "<a href=\"https://colab.research.google.com/github/sckgn/FinalYearProject_ML/blob/main/LogReg.ipynb\" target=\"_parent\"><img src=\"https://colab.research.google.com/assets/colab-badge.svg\" alt=\"Open In Colab\"/></a>"
      ]
    },
    {
      "cell_type": "code",
      "execution_count": 72,
      "metadata": {
        "colab": {
          "base_uri": "https://localhost:8080/",
          "height": 146
        },
        "id": "l1eyvKDXYSh8",
        "outputId": "ce08fe15-0912-44a3-f2ed-46cd76ac4ac0"
      },
      "outputs": [
        {
          "output_type": "display_data",
          "data": {
            "text/plain": [
              "<IPython.core.display.HTML object>"
            ],
            "text/html": [
              "\n",
              "     <input type=\"file\" id=\"files-23cde249-913d-47b3-9da1-77990dba1570\" name=\"files[]\" multiple disabled\n",
              "        style=\"border:none\" />\n",
              "     <output id=\"result-23cde249-913d-47b3-9da1-77990dba1570\">\n",
              "      Upload widget is only available when the cell has been executed in the\n",
              "      current browser session. Please rerun this cell to enable.\n",
              "      </output>\n",
              "      <script>// Copyright 2017 Google LLC\n",
              "//\n",
              "// Licensed under the Apache License, Version 2.0 (the \"License\");\n",
              "// you may not use this file except in compliance with the License.\n",
              "// You may obtain a copy of the License at\n",
              "//\n",
              "//      http://www.apache.org/licenses/LICENSE-2.0\n",
              "//\n",
              "// Unless required by applicable law or agreed to in writing, software\n",
              "// distributed under the License is distributed on an \"AS IS\" BASIS,\n",
              "// WITHOUT WARRANTIES OR CONDITIONS OF ANY KIND, either express or implied.\n",
              "// See the License for the specific language governing permissions and\n",
              "// limitations under the License.\n",
              "\n",
              "/**\n",
              " * @fileoverview Helpers for google.colab Python module.\n",
              " */\n",
              "(function(scope) {\n",
              "function span(text, styleAttributes = {}) {\n",
              "  const element = document.createElement('span');\n",
              "  element.textContent = text;\n",
              "  for (const key of Object.keys(styleAttributes)) {\n",
              "    element.style[key] = styleAttributes[key];\n",
              "  }\n",
              "  return element;\n",
              "}\n",
              "\n",
              "// Max number of bytes which will be uploaded at a time.\n",
              "const MAX_PAYLOAD_SIZE = 100 * 1024;\n",
              "\n",
              "function _uploadFiles(inputId, outputId) {\n",
              "  const steps = uploadFilesStep(inputId, outputId);\n",
              "  const outputElement = document.getElementById(outputId);\n",
              "  // Cache steps on the outputElement to make it available for the next call\n",
              "  // to uploadFilesContinue from Python.\n",
              "  outputElement.steps = steps;\n",
              "\n",
              "  return _uploadFilesContinue(outputId);\n",
              "}\n",
              "\n",
              "// This is roughly an async generator (not supported in the browser yet),\n",
              "// where there are multiple asynchronous steps and the Python side is going\n",
              "// to poll for completion of each step.\n",
              "// This uses a Promise to block the python side on completion of each step,\n",
              "// then passes the result of the previous step as the input to the next step.\n",
              "function _uploadFilesContinue(outputId) {\n",
              "  const outputElement = document.getElementById(outputId);\n",
              "  const steps = outputElement.steps;\n",
              "\n",
              "  const next = steps.next(outputElement.lastPromiseValue);\n",
              "  return Promise.resolve(next.value.promise).then((value) => {\n",
              "    // Cache the last promise value to make it available to the next\n",
              "    // step of the generator.\n",
              "    outputElement.lastPromiseValue = value;\n",
              "    return next.value.response;\n",
              "  });\n",
              "}\n",
              "\n",
              "/**\n",
              " * Generator function which is called between each async step of the upload\n",
              " * process.\n",
              " * @param {string} inputId Element ID of the input file picker element.\n",
              " * @param {string} outputId Element ID of the output display.\n",
              " * @return {!Iterable<!Object>} Iterable of next steps.\n",
              " */\n",
              "function* uploadFilesStep(inputId, outputId) {\n",
              "  const inputElement = document.getElementById(inputId);\n",
              "  inputElement.disabled = false;\n",
              "\n",
              "  const outputElement = document.getElementById(outputId);\n",
              "  outputElement.innerHTML = '';\n",
              "\n",
              "  const pickedPromise = new Promise((resolve) => {\n",
              "    inputElement.addEventListener('change', (e) => {\n",
              "      resolve(e.target.files);\n",
              "    });\n",
              "  });\n",
              "\n",
              "  const cancel = document.createElement('button');\n",
              "  inputElement.parentElement.appendChild(cancel);\n",
              "  cancel.textContent = 'Cancel upload';\n",
              "  const cancelPromise = new Promise((resolve) => {\n",
              "    cancel.onclick = () => {\n",
              "      resolve(null);\n",
              "    };\n",
              "  });\n",
              "\n",
              "  // Wait for the user to pick the files.\n",
              "  const files = yield {\n",
              "    promise: Promise.race([pickedPromise, cancelPromise]),\n",
              "    response: {\n",
              "      action: 'starting',\n",
              "    }\n",
              "  };\n",
              "\n",
              "  cancel.remove();\n",
              "\n",
              "  // Disable the input element since further picks are not allowed.\n",
              "  inputElement.disabled = true;\n",
              "\n",
              "  if (!files) {\n",
              "    return {\n",
              "      response: {\n",
              "        action: 'complete',\n",
              "      }\n",
              "    };\n",
              "  }\n",
              "\n",
              "  for (const file of files) {\n",
              "    const li = document.createElement('li');\n",
              "    li.append(span(file.name, {fontWeight: 'bold'}));\n",
              "    li.append(span(\n",
              "        `(${file.type || 'n/a'}) - ${file.size} bytes, ` +\n",
              "        `last modified: ${\n",
              "            file.lastModifiedDate ? file.lastModifiedDate.toLocaleDateString() :\n",
              "                                    'n/a'} - `));\n",
              "    const percent = span('0% done');\n",
              "    li.appendChild(percent);\n",
              "\n",
              "    outputElement.appendChild(li);\n",
              "\n",
              "    const fileDataPromise = new Promise((resolve) => {\n",
              "      const reader = new FileReader();\n",
              "      reader.onload = (e) => {\n",
              "        resolve(e.target.result);\n",
              "      };\n",
              "      reader.readAsArrayBuffer(file);\n",
              "    });\n",
              "    // Wait for the data to be ready.\n",
              "    let fileData = yield {\n",
              "      promise: fileDataPromise,\n",
              "      response: {\n",
              "        action: 'continue',\n",
              "      }\n",
              "    };\n",
              "\n",
              "    // Use a chunked sending to avoid message size limits. See b/62115660.\n",
              "    let position = 0;\n",
              "    do {\n",
              "      const length = Math.min(fileData.byteLength - position, MAX_PAYLOAD_SIZE);\n",
              "      const chunk = new Uint8Array(fileData, position, length);\n",
              "      position += length;\n",
              "\n",
              "      const base64 = btoa(String.fromCharCode.apply(null, chunk));\n",
              "      yield {\n",
              "        response: {\n",
              "          action: 'append',\n",
              "          file: file.name,\n",
              "          data: base64,\n",
              "        },\n",
              "      };\n",
              "\n",
              "      let percentDone = fileData.byteLength === 0 ?\n",
              "          100 :\n",
              "          Math.round((position / fileData.byteLength) * 100);\n",
              "      percent.textContent = `${percentDone}% done`;\n",
              "\n",
              "    } while (position < fileData.byteLength);\n",
              "  }\n",
              "\n",
              "  // All done.\n",
              "  yield {\n",
              "    response: {\n",
              "      action: 'complete',\n",
              "    }\n",
              "  };\n",
              "}\n",
              "\n",
              "scope.google = scope.google || {};\n",
              "scope.google.colab = scope.google.colab || {};\n",
              "scope.google.colab._files = {\n",
              "  _uploadFiles,\n",
              "  _uploadFilesContinue,\n",
              "};\n",
              "})(self);\n",
              "</script> "
            ]
          },
          "metadata": {}
        },
        {
          "output_type": "stream",
          "name": "stdout",
          "text": [
            "Saving saudi_prep.csv to saudi_prep.csv\n",
            "Saving dataset_saudi.csv to dataset_saudi (2).csv\n",
            "Saving dataset_2018.csv to dataset_2018 (2).csv\n"
          ]
        }
      ],
      "source": [
        "from google.colab import files\n",
        "uploaded = files.upload()"
      ]
    },
    {
      "cell_type": "code",
      "source": [
        "import os \n",
        "import pandas as pd\n",
        "import sklearn\n",
        "%matplotlib inline \n",
        "import matplotlib.pyplot as plt\n",
        "import numpy as np\n",
        "import seaborn as sns\n",
        "\n",
        "#Read in ASDTest dataset\n",
        "asd_2018_df = pd.read_csv(\"dataset_2018.csv\")\n",
        "\n",
        "asd_2018_df.info()"
      ],
      "metadata": {
        "colab": {
          "base_uri": "https://localhost:8080/"
        },
        "id": "6K0bQ7ObZngn",
        "outputId": "f6b2a1ee-2298-471c-876a-9d66d5c73253"
      },
      "execution_count": 3,
      "outputs": [
        {
          "output_type": "stream",
          "name": "stdout",
          "text": [
            "<class 'pandas.core.frame.DataFrame'>\n",
            "RangeIndex: 1054 entries, 0 to 1053\n",
            "Data columns (total 19 columns):\n",
            " #   Column                  Non-Null Count  Dtype \n",
            "---  ------                  --------------  ----- \n",
            " 0   Case_No                 1054 non-null   int64 \n",
            " 1   A1                      1054 non-null   int64 \n",
            " 2   A2                      1054 non-null   int64 \n",
            " 3   A3                      1054 non-null   int64 \n",
            " 4   A4                      1054 non-null   int64 \n",
            " 5   A5                      1054 non-null   int64 \n",
            " 6   A6                      1054 non-null   int64 \n",
            " 7   A7                      1054 non-null   int64 \n",
            " 8   A8                      1054 non-null   int64 \n",
            " 9   A9                      1054 non-null   int64 \n",
            " 10  A10                     1054 non-null   int64 \n",
            " 11  Age_Mons                1054 non-null   int64 \n",
            " 12  Qchat-10-Score          1054 non-null   int64 \n",
            " 13  Sex                     1054 non-null   object\n",
            " 14  Ethnicity               1054 non-null   object\n",
            " 15  Jaundice                1054 non-null   object\n",
            " 16  Family_mem_with_ASD     1054 non-null   object\n",
            " 17  Who completed the test  1054 non-null   object\n",
            " 18  Class/ASD Traits        1054 non-null   object\n",
            "dtypes: int64(13), object(6)\n",
            "memory usage: 156.6+ KB\n"
          ]
        }
      ]
    },
    {
      "cell_type": "code",
      "source": [
        "asd_2018_df.rename(columns={'Class/ASD Traits ':'ASD_Traits'},inplace=True)"
      ],
      "metadata": {
        "id": "jfJLzYnflmog"
      },
      "execution_count": 4,
      "outputs": []
    },
    {
      "cell_type": "code",
      "source": [
        "mixed_df = asd_2018_df.drop(['Case_No','Qchat-10-Score'],axis=1)\n",
        "mixed_df.columns\n",
        "mixed_df.head()"
      ],
      "metadata": {
        "colab": {
          "base_uri": "https://localhost:8080/",
          "height": 206
        },
        "id": "-nBusCFoZqoQ",
        "outputId": "1dc97deb-8804-4432-a89a-b61dc7640ff5"
      },
      "execution_count": 5,
      "outputs": [
        {
          "output_type": "execute_result",
          "data": {
            "text/plain": [
              "   A1  A2  A3  A4  A5  A6  A7  A8  A9  A10  Age_Mons Sex       Ethnicity  \\\n",
              "0   0   0   0   0   0   0   1   1   0    1        28   f  middle eastern   \n",
              "1   1   1   0   0   0   1   1   0   0    0        36   m  White European   \n",
              "2   1   0   0   0   0   0   1   1   0    1        36   m  middle eastern   \n",
              "3   1   1   1   1   1   1   1   1   1    1        24   m        Hispanic   \n",
              "4   1   1   0   1   1   1   1   1   1    1        20   f  White European   \n",
              "\n",
              "  Jaundice Family_mem_with_ASD Who completed the test ASD_Traits  \n",
              "0      yes                  no          family member         No  \n",
              "1      yes                  no          family member        Yes  \n",
              "2      yes                  no          family member        Yes  \n",
              "3       no                  no          family member        Yes  \n",
              "4       no                 yes          family member        Yes  "
            ],
            "text/html": [
              "\n",
              "  <div id=\"df-c372ea51-1223-4bd1-8630-300cd44d459a\">\n",
              "    <div class=\"colab-df-container\">\n",
              "      <div>\n",
              "<style scoped>\n",
              "    .dataframe tbody tr th:only-of-type {\n",
              "        vertical-align: middle;\n",
              "    }\n",
              "\n",
              "    .dataframe tbody tr th {\n",
              "        vertical-align: top;\n",
              "    }\n",
              "\n",
              "    .dataframe thead th {\n",
              "        text-align: right;\n",
              "    }\n",
              "</style>\n",
              "<table border=\"1\" class=\"dataframe\">\n",
              "  <thead>\n",
              "    <tr style=\"text-align: right;\">\n",
              "      <th></th>\n",
              "      <th>A1</th>\n",
              "      <th>A2</th>\n",
              "      <th>A3</th>\n",
              "      <th>A4</th>\n",
              "      <th>A5</th>\n",
              "      <th>A6</th>\n",
              "      <th>A7</th>\n",
              "      <th>A8</th>\n",
              "      <th>A9</th>\n",
              "      <th>A10</th>\n",
              "      <th>Age_Mons</th>\n",
              "      <th>Sex</th>\n",
              "      <th>Ethnicity</th>\n",
              "      <th>Jaundice</th>\n",
              "      <th>Family_mem_with_ASD</th>\n",
              "      <th>Who completed the test</th>\n",
              "      <th>ASD_Traits</th>\n",
              "    </tr>\n",
              "  </thead>\n",
              "  <tbody>\n",
              "    <tr>\n",
              "      <th>0</th>\n",
              "      <td>0</td>\n",
              "      <td>0</td>\n",
              "      <td>0</td>\n",
              "      <td>0</td>\n",
              "      <td>0</td>\n",
              "      <td>0</td>\n",
              "      <td>1</td>\n",
              "      <td>1</td>\n",
              "      <td>0</td>\n",
              "      <td>1</td>\n",
              "      <td>28</td>\n",
              "      <td>f</td>\n",
              "      <td>middle eastern</td>\n",
              "      <td>yes</td>\n",
              "      <td>no</td>\n",
              "      <td>family member</td>\n",
              "      <td>No</td>\n",
              "    </tr>\n",
              "    <tr>\n",
              "      <th>1</th>\n",
              "      <td>1</td>\n",
              "      <td>1</td>\n",
              "      <td>0</td>\n",
              "      <td>0</td>\n",
              "      <td>0</td>\n",
              "      <td>1</td>\n",
              "      <td>1</td>\n",
              "      <td>0</td>\n",
              "      <td>0</td>\n",
              "      <td>0</td>\n",
              "      <td>36</td>\n",
              "      <td>m</td>\n",
              "      <td>White European</td>\n",
              "      <td>yes</td>\n",
              "      <td>no</td>\n",
              "      <td>family member</td>\n",
              "      <td>Yes</td>\n",
              "    </tr>\n",
              "    <tr>\n",
              "      <th>2</th>\n",
              "      <td>1</td>\n",
              "      <td>0</td>\n",
              "      <td>0</td>\n",
              "      <td>0</td>\n",
              "      <td>0</td>\n",
              "      <td>0</td>\n",
              "      <td>1</td>\n",
              "      <td>1</td>\n",
              "      <td>0</td>\n",
              "      <td>1</td>\n",
              "      <td>36</td>\n",
              "      <td>m</td>\n",
              "      <td>middle eastern</td>\n",
              "      <td>yes</td>\n",
              "      <td>no</td>\n",
              "      <td>family member</td>\n",
              "      <td>Yes</td>\n",
              "    </tr>\n",
              "    <tr>\n",
              "      <th>3</th>\n",
              "      <td>1</td>\n",
              "      <td>1</td>\n",
              "      <td>1</td>\n",
              "      <td>1</td>\n",
              "      <td>1</td>\n",
              "      <td>1</td>\n",
              "      <td>1</td>\n",
              "      <td>1</td>\n",
              "      <td>1</td>\n",
              "      <td>1</td>\n",
              "      <td>24</td>\n",
              "      <td>m</td>\n",
              "      <td>Hispanic</td>\n",
              "      <td>no</td>\n",
              "      <td>no</td>\n",
              "      <td>family member</td>\n",
              "      <td>Yes</td>\n",
              "    </tr>\n",
              "    <tr>\n",
              "      <th>4</th>\n",
              "      <td>1</td>\n",
              "      <td>1</td>\n",
              "      <td>0</td>\n",
              "      <td>1</td>\n",
              "      <td>1</td>\n",
              "      <td>1</td>\n",
              "      <td>1</td>\n",
              "      <td>1</td>\n",
              "      <td>1</td>\n",
              "      <td>1</td>\n",
              "      <td>20</td>\n",
              "      <td>f</td>\n",
              "      <td>White European</td>\n",
              "      <td>no</td>\n",
              "      <td>yes</td>\n",
              "      <td>family member</td>\n",
              "      <td>Yes</td>\n",
              "    </tr>\n",
              "  </tbody>\n",
              "</table>\n",
              "</div>\n",
              "      <button class=\"colab-df-convert\" onclick=\"convertToInteractive('df-c372ea51-1223-4bd1-8630-300cd44d459a')\"\n",
              "              title=\"Convert this dataframe to an interactive table.\"\n",
              "              style=\"display:none;\">\n",
              "        \n",
              "  <svg xmlns=\"http://www.w3.org/2000/svg\" height=\"24px\"viewBox=\"0 0 24 24\"\n",
              "       width=\"24px\">\n",
              "    <path d=\"M0 0h24v24H0V0z\" fill=\"none\"/>\n",
              "    <path d=\"M18.56 5.44l.94 2.06.94-2.06 2.06-.94-2.06-.94-.94-2.06-.94 2.06-2.06.94zm-11 1L8.5 8.5l.94-2.06 2.06-.94-2.06-.94L8.5 2.5l-.94 2.06-2.06.94zm10 10l.94 2.06.94-2.06 2.06-.94-2.06-.94-.94-2.06-.94 2.06-2.06.94z\"/><path d=\"M17.41 7.96l-1.37-1.37c-.4-.4-.92-.59-1.43-.59-.52 0-1.04.2-1.43.59L10.3 9.45l-7.72 7.72c-.78.78-.78 2.05 0 2.83L4 21.41c.39.39.9.59 1.41.59.51 0 1.02-.2 1.41-.59l7.78-7.78 2.81-2.81c.8-.78.8-2.07 0-2.86zM5.41 20L4 18.59l7.72-7.72 1.47 1.35L5.41 20z\"/>\n",
              "  </svg>\n",
              "      </button>\n",
              "      \n",
              "  <style>\n",
              "    .colab-df-container {\n",
              "      display:flex;\n",
              "      flex-wrap:wrap;\n",
              "      gap: 12px;\n",
              "    }\n",
              "\n",
              "    .colab-df-convert {\n",
              "      background-color: #E8F0FE;\n",
              "      border: none;\n",
              "      border-radius: 50%;\n",
              "      cursor: pointer;\n",
              "      display: none;\n",
              "      fill: #1967D2;\n",
              "      height: 32px;\n",
              "      padding: 0 0 0 0;\n",
              "      width: 32px;\n",
              "    }\n",
              "\n",
              "    .colab-df-convert:hover {\n",
              "      background-color: #E2EBFA;\n",
              "      box-shadow: 0px 1px 2px rgba(60, 64, 67, 0.3), 0px 1px 3px 1px rgba(60, 64, 67, 0.15);\n",
              "      fill: #174EA6;\n",
              "    }\n",
              "\n",
              "    [theme=dark] .colab-df-convert {\n",
              "      background-color: #3B4455;\n",
              "      fill: #D2E3FC;\n",
              "    }\n",
              "\n",
              "    [theme=dark] .colab-df-convert:hover {\n",
              "      background-color: #434B5C;\n",
              "      box-shadow: 0px 1px 3px 1px rgba(0, 0, 0, 0.15);\n",
              "      filter: drop-shadow(0px 1px 2px rgba(0, 0, 0, 0.3));\n",
              "      fill: #FFFFFF;\n",
              "    }\n",
              "  </style>\n",
              "\n",
              "      <script>\n",
              "        const buttonEl =\n",
              "          document.querySelector('#df-c372ea51-1223-4bd1-8630-300cd44d459a button.colab-df-convert');\n",
              "        buttonEl.style.display =\n",
              "          google.colab.kernel.accessAllowed ? 'block' : 'none';\n",
              "\n",
              "        async function convertToInteractive(key) {\n",
              "          const element = document.querySelector('#df-c372ea51-1223-4bd1-8630-300cd44d459a');\n",
              "          const dataTable =\n",
              "            await google.colab.kernel.invokeFunction('convertToInteractive',\n",
              "                                                     [key], {});\n",
              "          if (!dataTable) return;\n",
              "\n",
              "          const docLinkHtml = 'Like what you see? Visit the ' +\n",
              "            '<a target=\"_blank\" href=https://colab.research.google.com/notebooks/data_table.ipynb>data table notebook</a>'\n",
              "            + ' to learn more about interactive tables.';\n",
              "          element.innerHTML = '';\n",
              "          dataTable['output_type'] = 'display_data';\n",
              "          await google.colab.output.renderOutput(dataTable, element);\n",
              "          const docLink = document.createElement('div');\n",
              "          docLink.innerHTML = docLinkHtml;\n",
              "          element.appendChild(docLink);\n",
              "        }\n",
              "      </script>\n",
              "    </div>\n",
              "  </div>\n",
              "  "
            ]
          },
          "metadata": {},
          "execution_count": 5
        }
      ]
    },
    {
      "cell_type": "code",
      "source": [
        "mixed_df['ASD_Traits'].value_counts()"
      ],
      "metadata": {
        "colab": {
          "base_uri": "https://localhost:8080/"
        },
        "id": "LwKeHRAsOjBJ",
        "outputId": "3a1e0a17-d894-4392-db56-31fcd37de593"
      },
      "execution_count": 6,
      "outputs": [
        {
          "output_type": "execute_result",
          "data": {
            "text/plain": [
              "Yes    728\n",
              "No     326\n",
              "Name: ASD_Traits, dtype: int64"
            ]
          },
          "metadata": {},
          "execution_count": 6
        }
      ]
    },
    {
      "cell_type": "code",
      "source": [
        "mixed_df['Age_Mons'].hist(bins=20, figsize=(10,8))"
      ],
      "metadata": {
        "colab": {
          "base_uri": "https://localhost:8080/",
          "height": 500
        },
        "id": "kkU9lDRmXTnr",
        "outputId": "7ae72464-5d97-4faa-b16c-fe90d747a5ff"
      },
      "execution_count": 7,
      "outputs": [
        {
          "output_type": "execute_result",
          "data": {
            "text/plain": [
              "<AxesSubplot:>"
            ]
          },
          "metadata": {},
          "execution_count": 7
        },
        {
          "output_type": "display_data",
          "data": {
            "text/plain": [
              "<Figure size 720x576 with 1 Axes>"
            ],
            "image/png": "[encoded data removed]"
          },
          "metadata": {
            "needs_background": "light"
          }
        }
      ]
    },
    {
      "cell_type": "code",
      "source": [
        "mixed_df.shape "
      ],
      "metadata": {
        "colab": {
          "base_uri": "https://localhost:8080/"
        },
        "id": "tKQW1OXGOQ-K",
        "outputId": "671a1122-1557-4aa9-a29d-6dd42a1e5597"
      },
      "execution_count": 8,
      "outputs": [
        {
          "output_type": "execute_result",
          "data": {
            "text/plain": [
              "(1054, 17)"
            ]
          },
          "metadata": {},
          "execution_count": 8
        }
      ]
    },
    {
      "cell_type": "code",
      "source": [
        "features=list(mixed_df)\n",
        "print(features)"
      ],
      "metadata": {
        "colab": {
          "base_uri": "https://localhost:8080/"
        },
        "id": "t2mPWeedZwgS",
        "outputId": "09ba7754-fed8-4b3b-ef9a-535480d0201e"
      },
      "execution_count": 9,
      "outputs": [
        {
          "output_type": "stream",
          "name": "stdout",
          "text": [
            "['A1', 'A2', 'A3', 'A4', 'A5', 'A6', 'A7', 'A8', 'A9', 'A10', 'Age_Mons', 'Sex', 'Ethnicity', 'Jaundice', 'Family_mem_with_ASD', 'Who completed the test', 'ASD_Traits']\n"
          ]
        }
      ]
    },
    {
      "cell_type": "code",
      "source": [
        "from sklearn.preprocessing import OneHotEncoder\n",
        "from sklearn.pipeline import Pipeline\n",
        "from sklearn.preprocessing import StandardScaler\n",
        "\n",
        "encoder = OneHotEncoder()\n",
        "scaler = StandardScaler()\n",
        "\n",
        "age = ['Age_Mons']\n",
        "char_vals = ['ASD_Traits','Sex', 'Jaundice', 'Family_mem_with_ASD','Who completed the test', 'Ethnicity']\n",
        "target = ['ASD_Traits']"
      ],
      "metadata": {
        "id": "0rxx0kkdZ2qG"
      },
      "execution_count": 10,
      "outputs": []
    },
    {
      "cell_type": "code",
      "source": [
        "def preprocess(age, char_vals, target, dataframe):\n",
        "  dataframe[age] = scaler.fit_transform(dataframe[age].values.reshape(-1,1)) \n",
        "\n",
        "  for c in char_vals:\n",
        "      dataframe[c] = encoder.fit_transform(dataframe[c].values.reshape(-1,1)).toarray()\n",
        "  print(dataframe.dtypes)\n",
        "  print(dataframe.head())"
      ],
      "metadata": {
        "id": "nehlOFE2xkMp"
      },
      "execution_count": 11,
      "outputs": []
    },
    {
      "cell_type": "code",
      "source": [
        "preprocess(age, char_vals, target, mixed_df)"
      ],
      "metadata": {
        "colab": {
          "base_uri": "https://localhost:8080/"
        },
        "id": "kLQMPfvryRJX",
        "outputId": "1e88e6c0-cdc3-4127-d19f-a6d770d1bb8d"
      },
      "execution_count": 12,
      "outputs": [
        {
          "output_type": "stream",
          "name": "stdout",
          "text": [
            "A1                          int64\n",
            "A2                          int64\n",
            "A3                          int64\n",
            "A4                          int64\n",
            "A5                          int64\n",
            "A6                          int64\n",
            "A7                          int64\n",
            "A8                          int64\n",
            "A9                          int64\n",
            "A10                         int64\n",
            "Age_Mons                  float64\n",
            "Sex                       float64\n",
            "Ethnicity                 float64\n",
            "Jaundice                  float64\n",
            "Family_mem_with_ASD       float64\n",
            "Who completed the test    float64\n",
            "ASD_Traits                float64\n",
            "dtype: object\n",
            "   A1  A2  A3  A4  A5  A6  A7  A8  A9  A10  Age_Mons  Sex  Ethnicity  \\\n",
            "0   0   0   0   0   0   0   1   1   0    1  0.016652  1.0        0.0   \n",
            "1   1   1   0   0   0   1   1   0   0    0  1.019590  0.0        0.0   \n",
            "2   1   0   0   0   0   0   1   1   0    1  1.019590  0.0        0.0   \n",
            "3   1   1   1   1   1   1   1   1   1    1 -0.484817  0.0        1.0   \n",
            "4   1   1   0   1   1   1   1   1   1    1 -0.986286  1.0        0.0   \n",
            "\n",
            "   Jaundice  Family_mem_with_ASD  Who completed the test  ASD_Traits  \n",
            "0       0.0                  1.0                     0.0         1.0  \n",
            "1       0.0                  1.0                     0.0         0.0  \n",
            "2       0.0                  1.0                     0.0         0.0  \n",
            "3       1.0                  1.0                     0.0         0.0  \n",
            "4       1.0                  0.0                     0.0         0.0  \n"
          ]
        }
      ]
    },
    {
      "cell_type": "code",
      "source": [
        "from sklearn.model_selection import train_test_split\n",
        "\n",
        "X_mixed, y_mixed = train_test_split(mixed_df, test_size=0.3, random_state=42)\n",
        "\n",
        "mixed_training = X_mixed.drop(\"ASD_Traits\", axis=1)\n",
        "mixed_class = X_mixed[\"ASD_Traits\"] "
      ],
      "metadata": {
        "id": "8ml4nnhiZ5rD"
      },
      "execution_count": 13,
      "outputs": []
    },
    {
      "cell_type": "code",
      "source": [
        "from sklearn.linear_model import LogisticRegression\n",
        "\n",
        "log_reg = LogisticRegression()\n",
        "\n",
        "log_reg.fit(mixed_training, mixed_class)\n"
      ],
      "metadata": {
        "colab": {
          "base_uri": "https://localhost:8080/"
        },
        "id": "iQ8dZPQ1aS9E",
        "outputId": "04f8ff93-3f36-4967-aa4b-fc934c230a5f"
      },
      "execution_count": 14,
      "outputs": [
        {
          "output_type": "execute_result",
          "data": {
            "text/plain": [
              "LogisticRegression()"
            ]
          },
          "metadata": {},
          "execution_count": 14
        }
      ]
    },
    {
      "cell_type": "code",
      "source": [
        "from sklearn.metrics import mean_squared_error\n",
        "from sklearn.metrics import r2_score\n",
        "\n",
        "def display_results(model, predictors, targets):\n",
        "  predictions = model.predict(predictors)\n",
        "  mse = mean_squared_error(targets, predictions)\n",
        "  rmse = np.sqrt(mse)\n",
        "\n",
        "  print(\"Root mean squared eror: \", rmse)\n",
        "  print(\"MSE: \", mse)\n",
        "  print(\"R2 Score: \", r2_score(targets, predictions))"
      ],
      "metadata": {
        "id": "qRdEtxg7aWQr"
      },
      "execution_count": 15,
      "outputs": []
    },
    {
      "cell_type": "code",
      "source": [
        "display_results(log_reg, mixed_training, mixed_class)"
      ],
      "metadata": {
        "colab": {
          "base_uri": "https://localhost:8080/"
        },
        "id": "fjKsMyz6XUwI",
        "outputId": "f3c6c5ee-6b9a-43fe-a22f-bd3fe3169516"
      },
      "execution_count": 16,
      "outputs": [
        {
          "output_type": "stream",
          "name": "stdout",
          "text": [
            "Root mean squared eror:  0.0\n",
            "MSE:  0.0\n",
            "R2 Score:  1.0\n"
          ]
        }
      ]
    },
    {
      "cell_type": "code",
      "source": [
        "mixed_test = y_mixed.drop(\"ASD_Traits\", axis=1)\n",
        "test_class = y_mixed[\"ASD_Traits\"]"
      ],
      "metadata": {
        "id": "QD-XULAVduIi"
      },
      "execution_count": 17,
      "outputs": []
    },
    {
      "cell_type": "code",
      "source": [
        "from sklearn.metrics import accuracy_score\n",
        "\n",
        "test_pred = log_reg.predict(mixed_test)\n",
        "\n",
        "accuracy_score(test_class, test_pred)"
      ],
      "metadata": {
        "colab": {
          "base_uri": "https://localhost:8080/"
        },
        "id": "DB0z7wWveGoz",
        "outputId": "0bd3280b-f512-4b19-bc11-a5cf45f505c3"
      },
      "execution_count": 18,
      "outputs": [
        {
          "output_type": "execute_result",
          "data": {
            "text/plain": [
              "1.0"
            ]
          },
          "metadata": {},
          "execution_count": 18
        }
      ]
    },
    {
      "cell_type": "markdown",
      "source": [
        "**Logistic Regression with L1 penalty - Mixed dataset**"
      ],
      "metadata": {
        "id": "KJDu7vmLCJIb"
      }
    },
    {
      "cell_type": "code",
      "source": [
        "log_1_pen = LogisticRegression(penalty='l1', solver='liblinear')\n",
        "log_1_pen.fit(mixed_training, mixed_class)"
      ],
      "metadata": {
        "colab": {
          "base_uri": "https://localhost:8080/"
        },
        "id": "gZAm_fOhCIvC",
        "outputId": "bb31fe9c-14eb-4f42-e57e-b379db9881ca"
      },
      "execution_count": 19,
      "outputs": [
        {
          "output_type": "execute_result",
          "data": {
            "text/plain": [
              "LogisticRegression(penalty='l1', solver='liblinear')"
            ]
          },
          "metadata": {},
          "execution_count": 19
        }
      ]
    },
    {
      "cell_type": "code",
      "source": [
        "display_results(log_1_pen, mixed_training, mixed_class)"
      ],
      "metadata": {
        "colab": {
          "base_uri": "https://localhost:8080/"
        },
        "id": "gL6TyCzyDYiz",
        "outputId": "9dc498fb-1957-443a-e260-1d944664605f"
      },
      "execution_count": 20,
      "outputs": [
        {
          "output_type": "stream",
          "name": "stdout",
          "text": [
            "Root mean squared eror:  0.0\n",
            "MSE:  0.0\n",
            "R2 Score:  1.0\n"
          ]
        }
      ]
    },
    {
      "cell_type": "code",
      "source": [
        "def cross_validation_results(model, predictors, target, metrics,cv):\n",
        "  results = cross_validate(model, predictors, target, scoring = metrics, return_train_score=False, cv=10)\n",
        "\n",
        "  print(\"Mean Test R2: \", results['test_r2'].mean())\n",
        "  rmse = np.sqrt(-results['test_neg_mean_squared_error']).mean()\n",
        "  print(\"Mean Test MSE: \", -results['test_neg_mean_squared_error'].mean())\n",
        "  print(\"Test std: \",np.sqrt(-results['test_neg_mean_squared_error']).std() )\n",
        "  print(\"RMSE Test: \", rmse)"
      ],
      "metadata": {
        "id": "_J6HQszsuAxb"
      },
      "execution_count": 22,
      "outputs": []
    },
    {
      "cell_type": "code",
      "source": [
        "metrics =['r2','neg_mean_squared_error']"
      ],
      "metadata": {
        "id": "WVkCWSWAb2BT"
      },
      "execution_count": 47,
      "outputs": []
    },
    {
      "cell_type": "code",
      "source": [
        "cross_validation_results(log_1_pen, mixed_training, mixed_class, metrics, 10)"
      ],
      "metadata": {
        "colab": {
          "base_uri": "https://localhost:8080/"
        },
        "id": "5j1y-BehDiya",
        "outputId": "50532802-a549-4642-88c3-dbc9387fb061"
      },
      "execution_count": 48,
      "outputs": [
        {
          "output_type": "stream",
          "name": "stdout",
          "text": [
            "Mean Test R2:  0.9936913895993179\n",
            "Mean Test MSE:  0.0013513513513513514\n",
            "Test std:  0.03487429162314579\n",
            "RMSE Test:  0.011624763874381928\n"
          ]
        }
      ]
    },
    {
      "cell_type": "markdown",
      "source": [
        "**Feature importance ( Coefficients )**"
      ],
      "metadata": {
        "id": "WA4uCehzq-Ug"
      }
    },
    {
      "cell_type": "code",
      "source": [
        "coef = np.abs(log_reg.coef_)\n",
        "sorted(zip(coef[0], np.array(features)), reverse=True)"
      ],
      "metadata": {
        "colab": {
          "base_uri": "https://localhost:8080/"
        },
        "id": "NEjl2tDR1GP0",
        "outputId": "87183f6f-28ef-4d6a-b718-096be5616ebe"
      },
      "execution_count": 49,
      "outputs": [
        {
          "output_type": "execute_result",
          "data": {
            "text/plain": [
              "[(2.7245885850553604, 'A9'),\n",
              " (2.65260045507795, 'A2'),\n",
              " (2.514351371542612, 'A8'),\n",
              " (2.423752735567937, 'A4'),\n",
              " (2.403881821494827, 'A5'),\n",
              " (2.2982497286027628, 'A7'),\n",
              " (2.2901220221802037, 'A6'),\n",
              " (2.1840290966852485, 'A1'),\n",
              " (2.1147146058941053, 'A10'),\n",
              " (1.860994972392139, 'A3'),\n",
              " (0.614236256699905, 'Jaundice'),\n",
              " (0.30137437965834735, 'Sex'),\n",
              " (0.15134210971533818, 'Ethnicity'),\n",
              " (0.11598289693087713, 'Family_mem_with_ASD'),\n",
              " (0.1000275877075814, 'Who completed the test'),\n",
              " (0.027433853774985525, 'Age_Mons')]"
            ]
          },
          "metadata": {},
          "execution_count": 49
        }
      ]
    },
    {
      "cell_type": "code",
      "source": [
        "sorted(zip(log_reg.coef_[0], np.array(features)), reverse=True)"
      ],
      "metadata": {
        "colab": {
          "base_uri": "https://localhost:8080/"
        },
        "id": "x1oQKNNYUKHn",
        "outputId": "ebdb982a-5646-485e-9923-0e5912c13ff7"
      },
      "execution_count": 50,
      "outputs": [
        {
          "output_type": "execute_result",
          "data": {
            "text/plain": [
              "[(0.614236256699905, 'Jaundice'),\n",
              " (0.30137437965834735, 'Sex'),\n",
              " (0.15134210971533818, 'Ethnicity'),\n",
              " (-0.027433853774985525, 'Age_Mons'),\n",
              " (-0.1000275877075814, 'Who completed the test'),\n",
              " (-0.11598289693087713, 'Family_mem_with_ASD'),\n",
              " (-1.860994972392139, 'A3'),\n",
              " (-2.1147146058941053, 'A10'),\n",
              " (-2.1840290966852485, 'A1'),\n",
              " (-2.2901220221802037, 'A6'),\n",
              " (-2.2982497286027628, 'A7'),\n",
              " (-2.403881821494827, 'A5'),\n",
              " (-2.423752735567937, 'A4'),\n",
              " (-2.514351371542612, 'A8'),\n",
              " (-2.65260045507795, 'A2'),\n",
              " (-2.7245885850553604, 'A9')]"
            ]
          },
          "metadata": {},
          "execution_count": 50
        }
      ]
    },
    {
      "cell_type": "markdown",
      "source": [
        "**Log Odds Ratios**"
      ],
      "metadata": {
        "id": "HD6Srh5PrImK"
      }
    },
    {
      "cell_type": "code",
      "source": [
        "odds_ratios = np.exp(log_reg.coef_)\n",
        "# print(odds_ratios)\n",
        "sorted(zip(odds_ratios[0], np.array(features)), reverse=True)"
      ],
      "metadata": {
        "colab": {
          "base_uri": "https://localhost:8080/"
        },
        "id": "QHliL7dMKeon",
        "outputId": "9fa9bd40-48d3-49dd-ac43-12ea5c022b14"
      },
      "execution_count": 51,
      "outputs": [
        {
          "output_type": "execute_result",
          "data": {
            "text/plain": [
              "[(1.8482444760415169, 'Jaundice'),\n",
              " (1.351715301534312, 'Sex'),\n",
              " (1.163394598603234, 'Ethnicity'),\n",
              " (0.9729390366694846, 'Age_Mons'),\n",
              " (0.9048124559901864, 'Who completed the test'),\n",
              " (0.8904904532870083, 'Family_mem_with_ASD'),\n",
              " (0.15551781742864146, 'A3'),\n",
              " (0.12066772249621724, 'A10'),\n",
              " (0.11258699168964191, 'A1'),\n",
              " (0.10125410585329488, 'A6'),\n",
              " (0.10043447756790244, 'A7'),\n",
              " (0.09036648499829322, 'A5'),\n",
              " (0.08858854350292021, 'A4'),\n",
              " (0.08091537920666336, 'A8'),\n",
              " (0.07046772643243032, 'A2'),\n",
              " (0.06557317495339682, 'A9')]"
            ]
          },
          "metadata": {},
          "execution_count": 51
        }
      ]
    },
    {
      "cell_type": "code",
      "source": [
        "from sklearn.feature_selection import RFE\n",
        "\n",
        "selector = RFE(log_reg, n_features_to_select=1)\n",
        "selector = selector.fit(mixed_training, mixed_class)"
      ],
      "metadata": {
        "id": "KLWhEIX11sY0"
      },
      "execution_count": 52,
      "outputs": []
    },
    {
      "cell_type": "code",
      "source": [
        "order = selector.ranking_\n",
        "order"
      ],
      "metadata": {
        "colab": {
          "base_uri": "https://localhost:8080/"
        },
        "id": "ZGeyFBbW2K88",
        "outputId": "ca3d1754-7965-49e9-a4a6-2aa7a725cedb"
      },
      "execution_count": 53,
      "outputs": [
        {
          "output_type": "execute_result",
          "data": {
            "text/plain": [
              "array([ 6,  3, 10,  4,  2,  8,  7,  5,  1,  9, 16, 12, 13, 11, 14, 15])"
            ]
          },
          "metadata": {},
          "execution_count": 53
        }
      ]
    },
    {
      "cell_type": "code",
      "source": [
        "feature_ranks = []\n",
        "\n",
        "for i in order:\n",
        "  feature_ranks.append(f\"{i}. {features[i-1]}\")\n",
        "feature_ranks"
      ],
      "metadata": {
        "colab": {
          "base_uri": "https://localhost:8080/"
        },
        "id": "nuvXzDUi2ROv",
        "outputId": "aedb01ac-3c0a-49c6-e5bb-cd9a0ef2cd11"
      },
      "execution_count": 54,
      "outputs": [
        {
          "output_type": "execute_result",
          "data": {
            "text/plain": [
              "['6. A6',\n",
              " '3. A3',\n",
              " '10. A10',\n",
              " '4. A4',\n",
              " '2. A2',\n",
              " '8. A8',\n",
              " '7. A7',\n",
              " '5. A5',\n",
              " '1. A1',\n",
              " '9. A9',\n",
              " '16. Who completed the test',\n",
              " '12. Sex',\n",
              " '13. Ethnicity',\n",
              " '11. Age_Mons',\n",
              " '14. Jaundice',\n",
              " '15. Family_mem_with_ASD']"
            ]
          },
          "metadata": {},
          "execution_count": 54
        }
      ]
    },
    {
      "cell_type": "code",
      "source": [
        "selector.score(mixed_training, mixed_class)"
      ],
      "metadata": {
        "colab": {
          "base_uri": "https://localhost:8080/"
        },
        "id": "NcRv-Obj5d0m",
        "outputId": "520fb296-35c1-41d8-b36a-81beda0abafc"
      },
      "execution_count": 55,
      "outputs": [
        {
          "output_type": "execute_result",
          "data": {
            "text/plain": [
              "0.7598371777476255"
            ]
          },
          "metadata": {},
          "execution_count": 55
        }
      ]
    },
    {
      "cell_type": "code",
      "source": [
        "from sklearn.model_selection import cross_validate\n",
        "\n",
        "\n"
      ],
      "metadata": {
        "id": "CtOA7r9kuxHO"
      },
      "execution_count": 56,
      "outputs": []
    },
    {
      "cell_type": "code",
      "source": [
        "cross_validation_results(log_reg,mixed_training, mixed_class,metrics, 10)"
      ],
      "metadata": {
        "colab": {
          "base_uri": "https://localhost:8080/"
        },
        "id": "3cvPvffWwf7q",
        "outputId": "bdbee659-02cd-485e-91c2-f85ca51993eb"
      },
      "execution_count": 57,
      "outputs": [
        {
          "output_type": "stream",
          "name": "stdout",
          "text": [
            "Mean Test R2:  0.9936913895993179\n",
            "Mean Test MSE:  0.0013513513513513514\n",
            "Test std:  0.03487429162314579\n",
            "RMSE Test:  0.011624763874381928\n"
          ]
        }
      ]
    },
    {
      "cell_type": "markdown",
      "source": [
        "**Female Dataset**"
      ],
      "metadata": {
        "id": "GC6EtV7mesOk"
      }
    },
    {
      "cell_type": "code",
      "source": [
        "females = asd_2018_df[asd_2018_df['Sex']=='f']\n",
        "females = females.drop(['Case_No','Qchat-10-Score'], axis=1)\n",
        "females.info()"
      ],
      "metadata": {
        "colab": {
          "base_uri": "https://localhost:8080/"
        },
        "id": "zHkgp0ylLHLn",
        "outputId": "b66ad3fa-72cf-4c0c-d96f-5dd60c8a81b1"
      },
      "execution_count": 58,
      "outputs": [
        {
          "output_type": "stream",
          "name": "stdout",
          "text": [
            "<class 'pandas.core.frame.DataFrame'>\n",
            "Int64Index: 319 entries, 0 to 1049\n",
            "Data columns (total 17 columns):\n",
            " #   Column                  Non-Null Count  Dtype \n",
            "---  ------                  --------------  ----- \n",
            " 0   A1                      319 non-null    int64 \n",
            " 1   A2                      319 non-null    int64 \n",
            " 2   A3                      319 non-null    int64 \n",
            " 3   A4                      319 non-null    int64 \n",
            " 4   A5                      319 non-null    int64 \n",
            " 5   A6                      319 non-null    int64 \n",
            " 6   A7                      319 non-null    int64 \n",
            " 7   A8                      319 non-null    int64 \n",
            " 8   A9                      319 non-null    int64 \n",
            " 9   A10                     319 non-null    int64 \n",
            " 10  Age_Mons                319 non-null    int64 \n",
            " 11  Sex                     319 non-null    object\n",
            " 12  Ethnicity               319 non-null    object\n",
            " 13  Jaundice                319 non-null    object\n",
            " 14  Family_mem_with_ASD     319 non-null    object\n",
            " 15  Who completed the test  319 non-null    object\n",
            " 16  ASD_Traits              319 non-null    object\n",
            "dtypes: int64(11), object(6)\n",
            "memory usage: 44.9+ KB\n"
          ]
        }
      ]
    },
    {
      "cell_type": "code",
      "source": [
        "preprocess(age,char_vals, target, females)"
      ],
      "metadata": {
        "colab": {
          "base_uri": "https://localhost:8080/"
        },
        "id": "iPeY1A4qywRG",
        "outputId": "70dcbf35-1749-427a-8a99-99f612d6852f"
      },
      "execution_count": 59,
      "outputs": [
        {
          "output_type": "stream",
          "name": "stdout",
          "text": [
            "A1                          int64\n",
            "A2                          int64\n",
            "A3                          int64\n",
            "A4                          int64\n",
            "A5                          int64\n",
            "A6                          int64\n",
            "A7                          int64\n",
            "A8                          int64\n",
            "A9                          int64\n",
            "A10                         int64\n",
            "Age_Mons                  float64\n",
            "Sex                       float64\n",
            "Ethnicity                 float64\n",
            "Jaundice                  float64\n",
            "Family_mem_with_ASD       float64\n",
            "Who completed the test    float64\n",
            "ASD_Traits                float64\n",
            "dtype: object\n",
            "    A1  A2  A3  A4  A5  A6  A7  A8  A9  A10  Age_Mons  Sex  Ethnicity  \\\n",
            "0    0   0   0   0   0   0   1   1   0    1  0.197673  1.0        0.0   \n",
            "4    1   1   0   1   1   1   1   1   1    1 -0.736515  1.0        0.0   \n",
            "12   0   0   0   0   0   0   0   0   0    0 -0.152647  1.0        0.0   \n",
            "13   1   1   1   1   0   0   1   0   1    1 -1.320382  1.0        0.0   \n",
            "17   1   1   1   0   1   1   1   1   0    1 -1.670702  1.0        0.0   \n",
            "\n",
            "    Jaundice  Family_mem_with_ASD  Who completed the test  ASD_Traits  \n",
            "0        0.0                  1.0                     0.0         1.0  \n",
            "4        1.0                  0.0                     0.0         0.0  \n",
            "12       0.0                  1.0                     0.0         1.0  \n",
            "13       0.0                  1.0                     0.0         0.0  \n",
            "17       0.0                  1.0                     0.0         0.0  \n"
          ]
        }
      ]
    },
    {
      "cell_type": "code",
      "source": [
        "X_fem, y_fem = train_test_split(females, test_size=0.3, random_state=42)\n",
        "\n",
        "fem_train = X_fem.drop(\"ASD_Traits\", axis=1)\n",
        "fem_class = X_fem[\"ASD_Traits\"]"
      ],
      "metadata": {
        "id": "rtJc_T97LRa7"
      },
      "execution_count": 60,
      "outputs": []
    },
    {
      "cell_type": "code",
      "source": [
        "f_log_reg = LogisticRegression()\n",
        "\n",
        "f_log_reg.fit(fem_train, fem_class)"
      ],
      "metadata": {
        "colab": {
          "base_uri": "https://localhost:8080/"
        },
        "id": "flkCeyZALnP_",
        "outputId": "da92fe1e-90e3-417a-ee36-0df64ae6f6da"
      },
      "execution_count": 61,
      "outputs": [
        {
          "output_type": "execute_result",
          "data": {
            "text/plain": [
              "LogisticRegression()"
            ]
          },
          "metadata": {},
          "execution_count": 61
        }
      ]
    },
    {
      "cell_type": "markdown",
      "source": [
        "**Feature importance**"
      ],
      "metadata": {
        "id": "XbflIuQFQKDN"
      }
    },
    {
      "cell_type": "code",
      "source": [
        "coef = np.abs(f_log_reg.coef_)\n",
        "sorted(zip(coef[0], np.array(features)), reverse=True)"
      ],
      "metadata": {
        "colab": {
          "base_uri": "https://localhost:8080/"
        },
        "id": "MYj7yAJgO2mK",
        "outputId": "8c2a6caa-2d2a-49ce-c6d6-069b87dc0e5c"
      },
      "execution_count": 62,
      "outputs": [
        {
          "output_type": "execute_result",
          "data": {
            "text/plain": [
              "[(1.855899159098125, 'A8'),\n",
              " (1.7764349932000716, 'A1'),\n",
              " (1.6776398586990622, 'A3'),\n",
              " (1.6644636446840841, 'A5'),\n",
              " (1.5139283259224292, 'A6'),\n",
              " (1.4959969725194175, 'A2'),\n",
              " (1.4692997545901285, 'A4'),\n",
              " (1.1727055267157467, 'A9'),\n",
              " (1.1401879818292706, 'A7'),\n",
              " (1.0460779197262202, 'A10'),\n",
              " (0.2870601486274916, 'Family_mem_with_ASD'),\n",
              " (0.15737619579735296, 'Age_Mons'),\n",
              " (0.09792130460899905, 'Ethnicity'),\n",
              " (0.09726287097520851, 'Jaundice'),\n",
              " (0.0637953628137045, 'Who completed the test'),\n",
              " (2.7319617819293182e-05, 'Sex')]"
            ]
          },
          "metadata": {},
          "execution_count": 62
        }
      ]
    },
    {
      "cell_type": "code",
      "source": [
        "display_results(f_log_reg, fem_train, fem_class)"
      ],
      "metadata": {
        "colab": {
          "base_uri": "https://localhost:8080/"
        },
        "id": "RWzf3IrRL1fk",
        "outputId": "c7512916-a8b8-4fc9-f411-f1ce384bd243"
      },
      "execution_count": 63,
      "outputs": [
        {
          "output_type": "stream",
          "name": "stdout",
          "text": [
            "Root mean squared eror:  0.0\n",
            "MSE:  0.0\n",
            "R2 Score:  1.0\n"
          ]
        }
      ]
    },
    {
      "cell_type": "code",
      "source": [
        "cross_validation_results(f_log_reg, fem_train, fem_class, metrics, 10)"
      ],
      "metadata": {
        "colab": {
          "base_uri": "https://localhost:8080/"
        },
        "id": "9JX9qADmw_ED",
        "outputId": "14c890c2-1ebf-4987-ed84-007e4a728e68"
      },
      "execution_count": 64,
      "outputs": [
        {
          "output_type": "stream",
          "name": "stdout",
          "text": [
            "Mean Test R2:  0.9629426129426129\n",
            "Mean Test MSE:  0.008893280632411068\n",
            "Test std:  0.08434953538829475\n",
            "RMSE Test:  0.042171513041268524\n"
          ]
        }
      ]
    },
    {
      "cell_type": "markdown",
      "source": [
        "**Accuracy of model trained on female data only**"
      ],
      "metadata": {
        "id": "ATuYiQ50AJDy"
      }
    },
    {
      "cell_type": "markdown",
      "source": [
        "Accuracy is calculated for the mixed dataset features and targets."
      ],
      "metadata": {
        "id": "pw-DqoA9AN9K"
      }
    },
    {
      "cell_type": "code",
      "source": [
        "fem_pred = f_log_reg.predict(mixed_test)\n",
        "\n",
        "accuracy_score(test_class, fem_pred)"
      ],
      "metadata": {
        "colab": {
          "base_uri": "https://localhost:8080/"
        },
        "id": "q72mSe8-Y_VW",
        "outputId": "0673912f-147e-4105-97b6-7016e8db0206"
      },
      "execution_count": 65,
      "outputs": [
        {
          "output_type": "execute_result",
          "data": {
            "text/plain": [
              "0.9905362776025236"
            ]
          },
          "metadata": {},
          "execution_count": 65
        }
      ]
    },
    {
      "cell_type": "markdown",
      "source": [
        "**Male dataset**"
      ],
      "metadata": {
        "id": "_wvmTIGuRIIf"
      }
    },
    {
      "cell_type": "code",
      "source": [
        "males = asd_2018_df[asd_2018_df['Sex']=='m']\n",
        "males = males.drop(['Case_No','Qchat-10-Score'], axis=1)\n",
        "males.info()"
      ],
      "metadata": {
        "colab": {
          "base_uri": "https://localhost:8080/"
        },
        "id": "d5dTwk4SRLhb",
        "outputId": "9c51bf3e-3193-4833-b50e-72c997e71272"
      },
      "execution_count": 66,
      "outputs": [
        {
          "output_type": "stream",
          "name": "stdout",
          "text": [
            "<class 'pandas.core.frame.DataFrame'>\n",
            "Int64Index: 735 entries, 1 to 1053\n",
            "Data columns (total 17 columns):\n",
            " #   Column                  Non-Null Count  Dtype \n",
            "---  ------                  --------------  ----- \n",
            " 0   A1                      735 non-null    int64 \n",
            " 1   A2                      735 non-null    int64 \n",
            " 2   A3                      735 non-null    int64 \n",
            " 3   A4                      735 non-null    int64 \n",
            " 4   A5                      735 non-null    int64 \n",
            " 5   A6                      735 non-null    int64 \n",
            " 6   A7                      735 non-null    int64 \n",
            " 7   A8                      735 non-null    int64 \n",
            " 8   A9                      735 non-null    int64 \n",
            " 9   A10                     735 non-null    int64 \n",
            " 10  Age_Mons                735 non-null    int64 \n",
            " 11  Sex                     735 non-null    object\n",
            " 12  Ethnicity               735 non-null    object\n",
            " 13  Jaundice                735 non-null    object\n",
            " 14  Family_mem_with_ASD     735 non-null    object\n",
            " 15  Who completed the test  735 non-null    object\n",
            " 16  ASD_Traits              735 non-null    object\n",
            "dtypes: int64(11), object(6)\n",
            "memory usage: 103.4+ KB\n"
          ]
        }
      ]
    },
    {
      "cell_type": "code",
      "source": [
        "preprocess(age, char_vals, target, males)"
      ],
      "metadata": {
        "id": "1H3ys74GRZXy",
        "colab": {
          "base_uri": "https://localhost:8080/"
        },
        "outputId": "9241c255-7338-49bc-d539-2b33739d799f"
      },
      "execution_count": 67,
      "outputs": [
        {
          "output_type": "stream",
          "name": "stdout",
          "text": [
            "A1                          int64\n",
            "A2                          int64\n",
            "A3                          int64\n",
            "A4                          int64\n",
            "A5                          int64\n",
            "A6                          int64\n",
            "A7                          int64\n",
            "A8                          int64\n",
            "A9                          int64\n",
            "A10                         int64\n",
            "Age_Mons                  float64\n",
            "Sex                       float64\n",
            "Ethnicity                 float64\n",
            "Jaundice                  float64\n",
            "Family_mem_with_ASD       float64\n",
            "Who completed the test    float64\n",
            "ASD_Traits                float64\n",
            "dtype: object\n",
            "   A1  A2  A3  A4  A5  A6  A7  A8  A9  A10  Age_Mons  Sex  Ethnicity  \\\n",
            "1   1   1   0   0   0   1   1   0   0    0  0.979862  1.0        0.0   \n",
            "2   1   0   0   0   0   0   1   1   0    1  0.979862  1.0        0.0   \n",
            "3   1   1   1   1   1   1   1   1   1    1 -0.597215  1.0        1.0   \n",
            "5   1   1   0   0   1   1   1   1   1    1 -0.991485  1.0        0.0   \n",
            "6   1   0   0   1   1   1   0   0   1    0  0.585593  1.0        0.0   \n",
            "\n",
            "   Jaundice  Family_mem_with_ASD  Who completed the test  ASD_Traits  \n",
            "1       0.0                  1.0                     0.0         0.0  \n",
            "2       0.0                  1.0                     0.0         0.0  \n",
            "3       1.0                  1.0                     0.0         0.0  \n",
            "5       1.0                  1.0                     0.0         0.0  \n",
            "6       0.0                  1.0                     0.0         0.0  \n"
          ]
        }
      ]
    },
    {
      "cell_type": "code",
      "source": [
        "X_m, y_m = train_test_split(males, test_size=0.3, random_state=42)\n",
        "\n",
        "m_train = X_m.drop(\"ASD_Traits\", axis=1)\n",
        "m_class = X_m[\"ASD_Traits\"]"
      ],
      "metadata": {
        "id": "cDdf63OlRspI"
      },
      "execution_count": 68,
      "outputs": []
    },
    {
      "cell_type": "code",
      "source": [
        "m_log_reg = LogisticRegression()\n",
        "\n",
        "m_log_reg.fit(m_train, m_class)"
      ],
      "metadata": {
        "colab": {
          "base_uri": "https://localhost:8080/"
        },
        "id": "QZ5MTceaR2vt",
        "outputId": "3a67bfe9-6fcc-4bd4-e995-dd0a8bccee18"
      },
      "execution_count": 69,
      "outputs": [
        {
          "output_type": "execute_result",
          "data": {
            "text/plain": [
              "LogisticRegression()"
            ]
          },
          "metadata": {},
          "execution_count": 69
        }
      ]
    },
    {
      "cell_type": "code",
      "source": [
        "coef = np.abs(m_log_reg.coef_)\n",
        "sorted(zip(coef[0], np.array(features)), reverse=True)"
      ],
      "metadata": {
        "id": "PIQs7ThXR-Tv",
        "outputId": "3633a149-fb15-421f-c081-0f9b59a8c710",
        "colab": {
          "base_uri": "https://localhost:8080/"
        }
      },
      "execution_count": 70,
      "outputs": [
        {
          "output_type": "execute_result",
          "data": {
            "text/plain": [
              "[(2.6441942916461407, 'A9'),\n",
              " (2.29891123247169, 'A2'),\n",
              " (2.2818014634610573, 'A7'),\n",
              " (2.1256282731441307, 'A6'),\n",
              " (2.0003394999799555, 'A8'),\n",
              " (1.936737698161668, 'A5'),\n",
              " (1.8906024171427558, 'A10'),\n",
              " (1.775464124423448, 'A1'),\n",
              " (1.7162104877243967, 'A3'),\n",
              " (1.6671069845007285, 'A4'),\n",
              " (0.34677014746047813, 'Jaundice'),\n",
              " (0.2662128999826258, 'Family_mem_with_ASD'),\n",
              " (0.10639772860125826, 'Ethnicity'),\n",
              " (0.05452117572316278, 'Who completed the test'),\n",
              " (0.03788599099829091, 'Age_Mons'),\n",
              " (0.000185209106282706, 'Sex')]"
            ]
          },
          "metadata": {},
          "execution_count": 70
        }
      ]
    },
    {
      "cell_type": "markdown",
      "source": [
        "**Saudi Mixed**"
      ],
      "metadata": {
        "id": "KkGuKA04e3mV"
      }
    },
    {
      "cell_type": "code",
      "source": [
        "saudi_df = pd.read_csv(\"saudi_prep.csv\")"
      ],
      "metadata": {
        "id": "rjvfXFsrZHmT"
      },
      "execution_count": 73,
      "outputs": []
    },
    {
      "cell_type": "code",
      "source": [
        "saudi_df.head()"
      ],
      "metadata": {
        "colab": {
          "base_uri": "https://localhost:8080/",
          "height": 206
        },
        "id": "5x1R1qx8ZtZP",
        "outputId": "79ab81d1-ac33-4289-864f-6faf797f98db"
      },
      "execution_count": 74,
      "outputs": [
        {
          "output_type": "execute_result",
          "data": {
            "text/plain": [
              "   A1  A2  A3  A4  A5  A6  A7  A8  A9  A10  Age_Mons     Sex  \\\n",
              "0   0   0   0   0   0   1   1   1   0    0        32  Female   \n",
              "1   0   0   1   0   1   0   0   1   0    0        30  Female   \n",
              "2   0   0   0   0   0   0   1   0   0    0        36    Male   \n",
              "3   0   0   0   0   0   0   0   0   0    0        36  Female   \n",
              "4   0   0   0   0   0   0   0   0   0    0        36  Female   \n",
              "\n",
              "  Family_mem_with_ASD Who completed the test  ASD_Traits  \n",
              "0                  No          Family member           0  \n",
              "1                  No          Family member           0  \n",
              "2                  No          Family member           0  \n",
              "3                 Yes          Family member           0  \n",
              "4                  No          Family member           0  "
            ],
            "text/html": [
              "\n",
              "  <div id=\"df-b1353bb0-3d4c-4c86-a43f-e7e6cbc105c3\">\n",
              "    <div class=\"colab-df-container\">\n",
              "      <div>\n",
              "<style scoped>\n",
              "    .dataframe tbody tr th:only-of-type {\n",
              "        vertical-align: middle;\n",
              "    }\n",
              "\n",
              "    .dataframe tbody tr th {\n",
              "        vertical-align: top;\n",
              "    }\n",
              "\n",
              "    .dataframe thead th {\n",
              "        text-align: right;\n",
              "    }\n",
              "</style>\n",
              "<table border=\"1\" class=\"dataframe\">\n",
              "  <thead>\n",
              "    <tr style=\"text-align: right;\">\n",
              "      <th></th>\n",
              "      <th>A1</th>\n",
              "      <th>A2</th>\n",
              "      <th>A3</th>\n",
              "      <th>A4</th>\n",
              "      <th>A5</th>\n",
              "      <th>A6</th>\n",
              "      <th>A7</th>\n",
              "      <th>A8</th>\n",
              "      <th>A9</th>\n",
              "      <th>A10</th>\n",
              "      <th>Age_Mons</th>\n",
              "      <th>Sex</th>\n",
              "      <th>Family_mem_with_ASD</th>\n",
              "      <th>Who completed the test</th>\n",
              "      <th>ASD_Traits</th>\n",
              "    </tr>\n",
              "  </thead>\n",
              "  <tbody>\n",
              "    <tr>\n",
              "      <th>0</th>\n",
              "      <td>0</td>\n",
              "      <td>0</td>\n",
              "      <td>0</td>\n",
              "      <td>0</td>\n",
              "      <td>0</td>\n",
              "      <td>1</td>\n",
              "      <td>1</td>\n",
              "      <td>1</td>\n",
              "      <td>0</td>\n",
              "      <td>0</td>\n",
              "      <td>32</td>\n",
              "      <td>Female</td>\n",
              "      <td>No</td>\n",
              "      <td>Family member</td>\n",
              "      <td>0</td>\n",
              "    </tr>\n",
              "    <tr>\n",
              "      <th>1</th>\n",
              "      <td>0</td>\n",
              "      <td>0</td>\n",
              "      <td>1</td>\n",
              "      <td>0</td>\n",
              "      <td>1</td>\n",
              "      <td>0</td>\n",
              "      <td>0</td>\n",
              "      <td>1</td>\n",
              "      <td>0</td>\n",
              "      <td>0</td>\n",
              "      <td>30</td>\n",
              "      <td>Female</td>\n",
              "      <td>No</td>\n",
              "      <td>Family member</td>\n",
              "      <td>0</td>\n",
              "    </tr>\n",
              "    <tr>\n",
              "      <th>2</th>\n",
              "      <td>0</td>\n",
              "      <td>0</td>\n",
              "      <td>0</td>\n",
              "      <td>0</td>\n",
              "      <td>0</td>\n",
              "      <td>0</td>\n",
              "      <td>1</td>\n",
              "      <td>0</td>\n",
              "      <td>0</td>\n",
              "      <td>0</td>\n",
              "      <td>36</td>\n",
              "      <td>Male</td>\n",
              "      <td>No</td>\n",
              "      <td>Family member</td>\n",
              "      <td>0</td>\n",
              "    </tr>\n",
              "    <tr>\n",
              "      <th>3</th>\n",
              "      <td>0</td>\n",
              "      <td>0</td>\n",
              "      <td>0</td>\n",
              "      <td>0</td>\n",
              "      <td>0</td>\n",
              "      <td>0</td>\n",
              "      <td>0</td>\n",
              "      <td>0</td>\n",
              "      <td>0</td>\n",
              "      <td>0</td>\n",
              "      <td>36</td>\n",
              "      <td>Female</td>\n",
              "      <td>Yes</td>\n",
              "      <td>Family member</td>\n",
              "      <td>0</td>\n",
              "    </tr>\n",
              "    <tr>\n",
              "      <th>4</th>\n",
              "      <td>0</td>\n",
              "      <td>0</td>\n",
              "      <td>0</td>\n",
              "      <td>0</td>\n",
              "      <td>0</td>\n",
              "      <td>0</td>\n",
              "      <td>0</td>\n",
              "      <td>0</td>\n",
              "      <td>0</td>\n",
              "      <td>0</td>\n",
              "      <td>36</td>\n",
              "      <td>Female</td>\n",
              "      <td>No</td>\n",
              "      <td>Family member</td>\n",
              "      <td>0</td>\n",
              "    </tr>\n",
              "  </tbody>\n",
              "</table>\n",
              "</div>\n",
              "      <button class=\"colab-df-convert\" onclick=\"convertToInteractive('df-b1353bb0-3d4c-4c86-a43f-e7e6cbc105c3')\"\n",
              "              title=\"Convert this dataframe to an interactive table.\"\n",
              "              style=\"display:none;\">\n",
              "        \n",
              "  <svg xmlns=\"http://www.w3.org/2000/svg\" height=\"24px\"viewBox=\"0 0 24 24\"\n",
              "       width=\"24px\">\n",
              "    <path d=\"M0 0h24v24H0V0z\" fill=\"none\"/>\n",
              "    <path d=\"M18.56 5.44l.94 2.06.94-2.06 2.06-.94-2.06-.94-.94-2.06-.94 2.06-2.06.94zm-11 1L8.5 8.5l.94-2.06 2.06-.94-2.06-.94L8.5 2.5l-.94 2.06-2.06.94zm10 10l.94 2.06.94-2.06 2.06-.94-2.06-.94-.94-2.06-.94 2.06-2.06.94z\"/><path d=\"M17.41 7.96l-1.37-1.37c-.4-.4-.92-.59-1.43-.59-.52 0-1.04.2-1.43.59L10.3 9.45l-7.72 7.72c-.78.78-.78 2.05 0 2.83L4 21.41c.39.39.9.59 1.41.59.51 0 1.02-.2 1.41-.59l7.78-7.78 2.81-2.81c.8-.78.8-2.07 0-2.86zM5.41 20L4 18.59l7.72-7.72 1.47 1.35L5.41 20z\"/>\n",
              "  </svg>\n",
              "      </button>\n",
              "      \n",
              "  <style>\n",
              "    .colab-df-container {\n",
              "      display:flex;\n",
              "      flex-wrap:wrap;\n",
              "      gap: 12px;\n",
              "    }\n",
              "\n",
              "    .colab-df-convert {\n",
              "      background-color: #E8F0FE;\n",
              "      border: none;\n",
              "      border-radius: 50%;\n",
              "      cursor: pointer;\n",
              "      display: none;\n",
              "      fill: #1967D2;\n",
              "      height: 32px;\n",
              "      padding: 0 0 0 0;\n",
              "      width: 32px;\n",
              "    }\n",
              "\n",
              "    .colab-df-convert:hover {\n",
              "      background-color: #E2EBFA;\n",
              "      box-shadow: 0px 1px 2px rgba(60, 64, 67, 0.3), 0px 1px 3px 1px rgba(60, 64, 67, 0.15);\n",
              "      fill: #174EA6;\n",
              "    }\n",
              "\n",
              "    [theme=dark] .colab-df-convert {\n",
              "      background-color: #3B4455;\n",
              "      fill: #D2E3FC;\n",
              "    }\n",
              "\n",
              "    [theme=dark] .colab-df-convert:hover {\n",
              "      background-color: #434B5C;\n",
              "      box-shadow: 0px 1px 3px 1px rgba(0, 0, 0, 0.15);\n",
              "      filter: drop-shadow(0px 1px 2px rgba(0, 0, 0, 0.3));\n",
              "      fill: #FFFFFF;\n",
              "    }\n",
              "  </style>\n",
              "\n",
              "      <script>\n",
              "        const buttonEl =\n",
              "          document.querySelector('#df-b1353bb0-3d4c-4c86-a43f-e7e6cbc105c3 button.colab-df-convert');\n",
              "        buttonEl.style.display =\n",
              "          google.colab.kernel.accessAllowed ? 'block' : 'none';\n",
              "\n",
              "        async function convertToInteractive(key) {\n",
              "          const element = document.querySelector('#df-b1353bb0-3d4c-4c86-a43f-e7e6cbc105c3');\n",
              "          const dataTable =\n",
              "            await google.colab.kernel.invokeFunction('convertToInteractive',\n",
              "                                                     [key], {});\n",
              "          if (!dataTable) return;\n",
              "\n",
              "          const docLinkHtml = 'Like what you see? Visit the ' +\n",
              "            '<a target=\"_blank\" href=https://colab.research.google.com/notebooks/data_table.ipynb>data table notebook</a>'\n",
              "            + ' to learn more about interactive tables.';\n",
              "          element.innerHTML = '';\n",
              "          dataTable['output_type'] = 'display_data';\n",
              "          await google.colab.output.renderOutput(dataTable, element);\n",
              "          const docLink = document.createElement('div');\n",
              "          docLink.innerHTML = docLinkHtml;\n",
              "          element.appendChild(docLink);\n",
              "        }\n",
              "      </script>\n",
              "    </div>\n",
              "  </div>\n",
              "  "
            ]
          },
          "metadata": {},
          "execution_count": 74
        }
      ]
    },
    {
      "cell_type": "code",
      "source": [
        "saudi_df.info()"
      ],
      "metadata": {
        "colab": {
          "base_uri": "https://localhost:8080/"
        },
        "id": "8t4we-K7Afxy",
        "outputId": "f812b722-2c0f-450d-a624-700f772d8fa2"
      },
      "execution_count": 75,
      "outputs": [
        {
          "output_type": "stream",
          "name": "stdout",
          "text": [
            "<class 'pandas.core.frame.DataFrame'>\n",
            "RangeIndex: 506 entries, 0 to 505\n",
            "Data columns (total 15 columns):\n",
            " #   Column                  Non-Null Count  Dtype \n",
            "---  ------                  --------------  ----- \n",
            " 0   A1                      506 non-null    int64 \n",
            " 1   A2                      506 non-null    int64 \n",
            " 2   A3                      506 non-null    int64 \n",
            " 3   A4                      506 non-null    int64 \n",
            " 4   A5                      506 non-null    int64 \n",
            " 5   A6                      506 non-null    int64 \n",
            " 6   A7                      506 non-null    int64 \n",
            " 7   A8                      506 non-null    int64 \n",
            " 8   A9                      506 non-null    int64 \n",
            " 9   A10                     506 non-null    int64 \n",
            " 10  Age_Mons                506 non-null    int64 \n",
            " 11  Sex                     506 non-null    object\n",
            " 12  Family_mem_with_ASD     506 non-null    object\n",
            " 13  Who completed the test  506 non-null    object\n",
            " 14  ASD_Traits              506 non-null    int64 \n",
            "dtypes: int64(12), object(3)\n",
            "memory usage: 59.4+ KB\n"
          ]
        }
      ]
    },
    {
      "cell_type": "code",
      "source": [
        "chars = ['ASD_Traits','Sex', 'Family_mem_with_ASD','Who completed the test']"
      ],
      "metadata": {
        "id": "u_ch2LMMjE2J"
      },
      "execution_count": 76,
      "outputs": []
    },
    {
      "cell_type": "code",
      "source": [
        "preprocess(age, chars, target, saudi_df)"
      ],
      "metadata": {
        "id": "tKIarG1fzATQ",
        "colab": {
          "base_uri": "https://localhost:8080/"
        },
        "outputId": "21d18274-f950-4c65-a8cc-6014aa5bdd10"
      },
      "execution_count": 77,
      "outputs": [
        {
          "output_type": "stream",
          "name": "stdout",
          "text": [
            "A1                          int64\n",
            "A2                          int64\n",
            "A3                          int64\n",
            "A4                          int64\n",
            "A5                          int64\n",
            "A6                          int64\n",
            "A7                          int64\n",
            "A8                          int64\n",
            "A9                          int64\n",
            "A10                         int64\n",
            "Age_Mons                  float64\n",
            "Sex                       float64\n",
            "Family_mem_with_ASD       float64\n",
            "Who completed the test    float64\n",
            "ASD_Traits                float64\n",
            "dtype: object\n",
            "   A1  A2  A3  A4  A5  A6  A7  A8  A9  A10  Age_Mons  Sex  \\\n",
            "0   0   0   0   0   0   1   1   1   0    0  0.905853  1.0   \n",
            "1   0   0   1   0   1   0   0   1   0    0  0.665936  1.0   \n",
            "2   0   0   0   0   0   0   1   0   0    0  1.385687  0.0   \n",
            "3   0   0   0   0   0   0   0   0   0    0  1.385687  1.0   \n",
            "4   0   0   0   0   0   0   0   0   0    0  1.385687  1.0   \n",
            "\n",
            "   Family_mem_with_ASD  Who completed the test  ASD_Traits  \n",
            "0                  1.0                     1.0         1.0  \n",
            "1                  1.0                     1.0         1.0  \n",
            "2                  1.0                     1.0         1.0  \n",
            "3                  0.0                     1.0         1.0  \n",
            "4                  1.0                     1.0         1.0  \n"
          ]
        }
      ]
    },
    {
      "cell_type": "code",
      "source": [
        "X_saudi, y_saudi = train_test_split(saudi_df, test_size=0.3, random_state=42)\n",
        "\n",
        "saudi_train = X_saudi.drop(\"ASD_Traits\", axis=1)\n",
        "saudi_class = X_saudi[\"ASD_Traits\"]\n",
        "saudi_test = y_saudi.drop(\"ASD_Traits\", axis=1)\n",
        "saudi_test_class = y_saudi[\"ASD_Traits\"]"
      ],
      "metadata": {
        "id": "p0UypQGPj0OQ"
      },
      "execution_count": 78,
      "outputs": []
    },
    {
      "cell_type": "code",
      "source": [
        "saudi_log = LogisticRegression()\n",
        "\n",
        "saudi_log.fit(saudi_train, saudi_class)"
      ],
      "metadata": {
        "colab": {
          "base_uri": "https://localhost:8080/"
        },
        "id": "wpqYUE68rqEv",
        "outputId": "98d78de8-fb1a-4c96-fb30-756e4f807bad"
      },
      "execution_count": 79,
      "outputs": [
        {
          "output_type": "execute_result",
          "data": {
            "text/plain": [
              "LogisticRegression()"
            ]
          },
          "metadata": {},
          "execution_count": 79
        }
      ]
    },
    {
      "cell_type": "code",
      "source": [
        "display_results(saudi_log, saudi_train, saudi_class)"
      ],
      "metadata": {
        "colab": {
          "base_uri": "https://localhost:8080/"
        },
        "id": "tG68D07FsBTQ",
        "outputId": "68ee0c3b-9e23-448e-85c8-f030888ea272"
      },
      "execution_count": 80,
      "outputs": [
        {
          "output_type": "stream",
          "name": "stdout",
          "text": [
            "Root mean squared eror:  0.053149400345273386\n",
            "MSE:  0.002824858757062147\n",
            "R2 Score:  0.9870614035087719\n"
          ]
        }
      ]
    },
    {
      "cell_type": "code",
      "source": [
        "cross_validation_results(saudi_log, saudi_train, saudi_class, metrics, 10)"
      ],
      "metadata": {
        "colab": {
          "base_uri": "https://localhost:8080/"
        },
        "id": "gL2DvCWFvCe_",
        "outputId": "8abb31b4-6442-4237-d358-ead541646dce"
      },
      "execution_count": 81,
      "outputs": [
        {
          "output_type": "stream",
          "name": "stdout",
          "text": [
            "Mean Test R2:  0.9484848484848485\n",
            "Mean Test MSE:  0.011269841269841268\n",
            "Test std:  0.08940728964420293\n",
            "RMSE Test:  0.057237905520021205\n"
          ]
        }
      ]
    },
    {
      "cell_type": "code",
      "source": [
        "saudi_pred = saudi_log.predict(saudi_test)\n",
        "accuracy_score(saudi_test_class, saudi_pred)"
      ],
      "metadata": {
        "colab": {
          "base_uri": "https://localhost:8080/"
        },
        "id": "c1qLH5WXkFru",
        "outputId": "8b64d28c-b1c1-4f7c-d219-1237c1b7c0a7"
      },
      "execution_count": 82,
      "outputs": [
        {
          "output_type": "execute_result",
          "data": {
            "text/plain": [
              "0.993421052631579"
            ]
          },
          "metadata": {},
          "execution_count": 82
        }
      ]
    },
    {
      "cell_type": "markdown",
      "source": [
        "**New mixed dataset ( 2018 dataset )**"
      ],
      "metadata": {
        "id": "W7Vx6COqhahk"
      }
    },
    {
      "cell_type": "markdown",
      "source": [
        "Training a new logistic regression model with features matching the saudi arabian dataset."
      ],
      "metadata": {
        "id": "bT2eRguChgyj"
      }
    },
    {
      "cell_type": "code",
      "source": [
        "new_mixed = mixed_df.copy()\n",
        "new_mixed = new_mixed.drop(['Ethnicity','Jaundice'], axis=1)\n",
        "new_mixed"
      ],
      "metadata": {
        "id": "px1yZXITfBll",
        "colab": {
          "base_uri": "https://localhost:8080/",
          "height": 424
        },
        "outputId": "273dee26-1ee8-4721-9e94-4c215ba40835"
      },
      "execution_count": 83,
      "outputs": [
        {
          "output_type": "execute_result",
          "data": {
            "text/plain": [
              "      A1  A2  A3  A4  A5  A6  A7  A8  A9  A10  Age_Mons  Sex  \\\n",
              "0      0   0   0   0   0   0   1   1   0    1  0.016652  1.0   \n",
              "1      1   1   0   0   0   1   1   0   0    0  1.019590  0.0   \n",
              "2      1   0   0   0   0   0   1   1   0    1  1.019590  0.0   \n",
              "3      1   1   1   1   1   1   1   1   1    1 -0.484817  0.0   \n",
              "4      1   1   0   1   1   1   1   1   1    1 -0.986286  1.0   \n",
              "...   ..  ..  ..  ..  ..  ..  ..  ..  ..  ...       ...  ...   \n",
              "1049   0   0   0   0   0   0   0   0   0    1 -0.484817  1.0   \n",
              "1050   0   0   1   1   1   0   1   0   1    0 -1.989223  0.0   \n",
              "1051   1   0   1   1   1   1   1   1   1    1 -1.237020  0.0   \n",
              "1052   1   0   0   0   0   0   0   1   0    1 -1.111653  0.0   \n",
              "1053   1   1   0   0   1   1   0   1   1    0 -0.484817  0.0   \n",
              "\n",
              "      Family_mem_with_ASD  Who completed the test  ASD_Traits  \n",
              "0                     1.0                     0.0         1.0  \n",
              "1                     1.0                     0.0         0.0  \n",
              "2                     1.0                     0.0         0.0  \n",
              "3                     1.0                     0.0         0.0  \n",
              "4                     0.0                     0.0         0.0  \n",
              "...                   ...                     ...         ...  \n",
              "1049                  0.0                     0.0         1.0  \n",
              "1050                  1.0                     0.0         0.0  \n",
              "1051                  1.0                     0.0         0.0  \n",
              "1052                  0.0                     0.0         1.0  \n",
              "1053                  0.0                     0.0         0.0  \n",
              "\n",
              "[1054 rows x 15 columns]"
            ],
            "text/html": [
              "\n",
              "  <div id=\"df-c4da42e7-6ae1-42c6-ba1d-05fd05401587\">\n",
              "    <div class=\"colab-df-container\">\n",
              "      <div>\n",
              "<style scoped>\n",
              "    .dataframe tbody tr th:only-of-type {\n",
              "        vertical-align: middle;\n",
              "    }\n",
              "\n",
              "    .dataframe tbody tr th {\n",
              "        vertical-align: top;\n",
              "    }\n",
              "\n",
              "    .dataframe thead th {\n",
              "        text-align: right;\n",
              "    }\n",
              "</style>\n",
              "<table border=\"1\" class=\"dataframe\">\n",
              "  <thead>\n",
              "    <tr style=\"text-align: right;\">\n",
              "      <th></th>\n",
              "      <th>A1</th>\n",
              "      <th>A2</th>\n",
              "      <th>A3</th>\n",
              "      <th>A4</th>\n",
              "      <th>A5</th>\n",
              "      <th>A6</th>\n",
              "      <th>A7</th>\n",
              "      <th>A8</th>\n",
              "      <th>A9</th>\n",
              "      <th>A10</th>\n",
              "      <th>Age_Mons</th>\n",
              "      <th>Sex</th>\n",
              "      <th>Family_mem_with_ASD</th>\n",
              "      <th>Who completed the test</th>\n",
              "      <th>ASD_Traits</th>\n",
              "    </tr>\n",
              "  </thead>\n",
              "  <tbody>\n",
              "    <tr>\n",
              "      <th>0</th>\n",
              "      <td>0</td>\n",
              "      <td>0</td>\n",
              "      <td>0</td>\n",
              "      <td>0</td>\n",
              "      <td>0</td>\n",
              "      <td>0</td>\n",
              "      <td>1</td>\n",
              "      <td>1</td>\n",
              "      <td>0</td>\n",
              "      <td>1</td>\n",
              "      <td>0.016652</td>\n",
              "      <td>1.0</td>\n",
              "      <td>1.0</td>\n",
              "      <td>0.0</td>\n",
              "      <td>1.0</td>\n",
              "    </tr>\n",
              "    <tr>\n",
              "      <th>1</th>\n",
              "      <td>1</td>\n",
              "      <td>1</td>\n",
              "      <td>0</td>\n",
              "      <td>0</td>\n",
              "      <td>0</td>\n",
              "      <td>1</td>\n",
              "      <td>1</td>\n",
              "      <td>0</td>\n",
              "      <td>0</td>\n",
              "      <td>0</td>\n",
              "      <td>1.019590</td>\n",
              "      <td>0.0</td>\n",
              "      <td>1.0</td>\n",
              "      <td>0.0</td>\n",
              "      <td>0.0</td>\n",
              "    </tr>\n",
              "    <tr>\n",
              "      <th>2</th>\n",
              "      <td>1</td>\n",
              "      <td>0</td>\n",
              "      <td>0</td>\n",
              "      <td>0</td>\n",
              "      <td>0</td>\n",
              "      <td>0</td>\n",
              "      <td>1</td>\n",
              "      <td>1</td>\n",
              "      <td>0</td>\n",
              "      <td>1</td>\n",
              "      <td>1.019590</td>\n",
              "      <td>0.0</td>\n",
              "      <td>1.0</td>\n",
              "      <td>0.0</td>\n",
              "      <td>0.0</td>\n",
              "    </tr>\n",
              "    <tr>\n",
              "      <th>3</th>\n",
              "      <td>1</td>\n",
              "      <td>1</td>\n",
              "      <td>1</td>\n",
              "      <td>1</td>\n",
              "      <td>1</td>\n",
              "      <td>1</td>\n",
              "      <td>1</td>\n",
              "      <td>1</td>\n",
              "      <td>1</td>\n",
              "      <td>1</td>\n",
              "      <td>-0.484817</td>\n",
              "      <td>0.0</td>\n",
              "      <td>1.0</td>\n",
              "      <td>0.0</td>\n",
              "      <td>0.0</td>\n",
              "    </tr>\n",
              "    <tr>\n",
              "      <th>4</th>\n",
              "      <td>1</td>\n",
              "      <td>1</td>\n",
              "      <td>0</td>\n",
              "      <td>1</td>\n",
              "      <td>1</td>\n",
              "      <td>1</td>\n",
              "      <td>1</td>\n",
              "      <td>1</td>\n",
              "      <td>1</td>\n",
              "      <td>1</td>\n",
              "      <td>-0.986286</td>\n",
              "      <td>1.0</td>\n",
              "      <td>0.0</td>\n",
              "      <td>0.0</td>\n",
              "      <td>0.0</td>\n",
              "    </tr>\n",
              "    <tr>\n",
              "      <th>...</th>\n",
              "      <td>...</td>\n",
              "      <td>...</td>\n",
              "      <td>...</td>\n",
              "      <td>...</td>\n",
              "      <td>...</td>\n",
              "      <td>...</td>\n",
              "      <td>...</td>\n",
              "      <td>...</td>\n",
              "      <td>...</td>\n",
              "      <td>...</td>\n",
              "      <td>...</td>\n",
              "      <td>...</td>\n",
              "      <td>...</td>\n",
              "      <td>...</td>\n",
              "      <td>...</td>\n",
              "    </tr>\n",
              "    <tr>\n",
              "      <th>1049</th>\n",
              "      <td>0</td>\n",
              "      <td>0</td>\n",
              "      <td>0</td>\n",
              "      <td>0</td>\n",
              "      <td>0</td>\n",
              "      <td>0</td>\n",
              "      <td>0</td>\n",
              "      <td>0</td>\n",
              "      <td>0</td>\n",
              "      <td>1</td>\n",
              "      <td>-0.484817</td>\n",
              "      <td>1.0</td>\n",
              "      <td>0.0</td>\n",
              "      <td>0.0</td>\n",
              "      <td>1.0</td>\n",
              "    </tr>\n",
              "    <tr>\n",
              "      <th>1050</th>\n",
              "      <td>0</td>\n",
              "      <td>0</td>\n",
              "      <td>1</td>\n",
              "      <td>1</td>\n",
              "      <td>1</td>\n",
              "      <td>0</td>\n",
              "      <td>1</td>\n",
              "      <td>0</td>\n",
              "      <td>1</td>\n",
              "      <td>0</td>\n",
              "      <td>-1.989223</td>\n",
              "      <td>0.0</td>\n",
              "      <td>1.0</td>\n",
              "      <td>0.0</td>\n",
              "      <td>0.0</td>\n",
              "    </tr>\n",
              "    <tr>\n",
              "      <th>1051</th>\n",
              "      <td>1</td>\n",
              "      <td>0</td>\n",
              "      <td>1</td>\n",
              "      <td>1</td>\n",
              "      <td>1</td>\n",
              "      <td>1</td>\n",
              "      <td>1</td>\n",
              "      <td>1</td>\n",
              "      <td>1</td>\n",
              "      <td>1</td>\n",
              "      <td>-1.237020</td>\n",
              "      <td>0.0</td>\n",
              "      <td>1.0</td>\n",
              "      <td>0.0</td>\n",
              "      <td>0.0</td>\n",
              "    </tr>\n",
              "    <tr>\n",
              "      <th>1052</th>\n",
              "      <td>1</td>\n",
              "      <td>0</td>\n",
              "      <td>0</td>\n",
              "      <td>0</td>\n",
              "      <td>0</td>\n",
              "      <td>0</td>\n",
              "      <td>0</td>\n",
              "      <td>1</td>\n",
              "      <td>0</td>\n",
              "      <td>1</td>\n",
              "      <td>-1.111653</td>\n",
              "      <td>0.0</td>\n",
              "      <td>0.0</td>\n",
              "      <td>0.0</td>\n",
              "      <td>1.0</td>\n",
              "    </tr>\n",
              "    <tr>\n",
              "      <th>1053</th>\n",
              "      <td>1</td>\n",
              "      <td>1</td>\n",
              "      <td>0</td>\n",
              "      <td>0</td>\n",
              "      <td>1</td>\n",
              "      <td>1</td>\n",
              "      <td>0</td>\n",
              "      <td>1</td>\n",
              "      <td>1</td>\n",
              "      <td>0</td>\n",
              "      <td>-0.484817</td>\n",
              "      <td>0.0</td>\n",
              "      <td>0.0</td>\n",
              "      <td>0.0</td>\n",
              "      <td>0.0</td>\n",
              "    </tr>\n",
              "  </tbody>\n",
              "</table>\n",
              "<p>1054 rows × 15 columns</p>\n",
              "</div>\n",
              "      <button class=\"colab-df-convert\" onclick=\"convertToInteractive('df-c4da42e7-6ae1-42c6-ba1d-05fd05401587')\"\n",
              "              title=\"Convert this dataframe to an interactive table.\"\n",
              "              style=\"display:none;\">\n",
              "        \n",
              "  <svg xmlns=\"http://www.w3.org/2000/svg\" height=\"24px\"viewBox=\"0 0 24 24\"\n",
              "       width=\"24px\">\n",
              "    <path d=\"M0 0h24v24H0V0z\" fill=\"none\"/>\n",
              "    <path d=\"M18.56 5.44l.94 2.06.94-2.06 2.06-.94-2.06-.94-.94-2.06-.94 2.06-2.06.94zm-11 1L8.5 8.5l.94-2.06 2.06-.94-2.06-.94L8.5 2.5l-.94 2.06-2.06.94zm10 10l.94 2.06.94-2.06 2.06-.94-2.06-.94-.94-2.06-.94 2.06-2.06.94z\"/><path d=\"M17.41 7.96l-1.37-1.37c-.4-.4-.92-.59-1.43-.59-.52 0-1.04.2-1.43.59L10.3 9.45l-7.72 7.72c-.78.78-.78 2.05 0 2.83L4 21.41c.39.39.9.59 1.41.59.51 0 1.02-.2 1.41-.59l7.78-7.78 2.81-2.81c.8-.78.8-2.07 0-2.86zM5.41 20L4 18.59l7.72-7.72 1.47 1.35L5.41 20z\"/>\n",
              "  </svg>\n",
              "      </button>\n",
              "      \n",
              "  <style>\n",
              "    .colab-df-container {\n",
              "      display:flex;\n",
              "      flex-wrap:wrap;\n",
              "      gap: 12px;\n",
              "    }\n",
              "\n",
              "    .colab-df-convert {\n",
              "      background-color: #E8F0FE;\n",
              "      border: none;\n",
              "      border-radius: 50%;\n",
              "      cursor: pointer;\n",
              "      display: none;\n",
              "      fill: #1967D2;\n",
              "      height: 32px;\n",
              "      padding: 0 0 0 0;\n",
              "      width: 32px;\n",
              "    }\n",
              "\n",
              "    .colab-df-convert:hover {\n",
              "      background-color: #E2EBFA;\n",
              "      box-shadow: 0px 1px 2px rgba(60, 64, 67, 0.3), 0px 1px 3px 1px rgba(60, 64, 67, 0.15);\n",
              "      fill: #174EA6;\n",
              "    }\n",
              "\n",
              "    [theme=dark] .colab-df-convert {\n",
              "      background-color: #3B4455;\n",
              "      fill: #D2E3FC;\n",
              "    }\n",
              "\n",
              "    [theme=dark] .colab-df-convert:hover {\n",
              "      background-color: #434B5C;\n",
              "      box-shadow: 0px 1px 3px 1px rgba(0, 0, 0, 0.15);\n",
              "      filter: drop-shadow(0px 1px 2px rgba(0, 0, 0, 0.3));\n",
              "      fill: #FFFFFF;\n",
              "    }\n",
              "  </style>\n",
              "\n",
              "      <script>\n",
              "        const buttonEl =\n",
              "          document.querySelector('#df-c4da42e7-6ae1-42c6-ba1d-05fd05401587 button.colab-df-convert');\n",
              "        buttonEl.style.display =\n",
              "          google.colab.kernel.accessAllowed ? 'block' : 'none';\n",
              "\n",
              "        async function convertToInteractive(key) {\n",
              "          const element = document.querySelector('#df-c4da42e7-6ae1-42c6-ba1d-05fd05401587');\n",
              "          const dataTable =\n",
              "            await google.colab.kernel.invokeFunction('convertToInteractive',\n",
              "                                                     [key], {});\n",
              "          if (!dataTable) return;\n",
              "\n",
              "          const docLinkHtml = 'Like what you see? Visit the ' +\n",
              "            '<a target=\"_blank\" href=https://colab.research.google.com/notebooks/data_table.ipynb>data table notebook</a>'\n",
              "            + ' to learn more about interactive tables.';\n",
              "          element.innerHTML = '';\n",
              "          dataTable['output_type'] = 'display_data';\n",
              "          await google.colab.output.renderOutput(dataTable, element);\n",
              "          const docLink = document.createElement('div');\n",
              "          docLink.innerHTML = docLinkHtml;\n",
              "          element.appendChild(docLink);\n",
              "        }\n",
              "      </script>\n",
              "    </div>\n",
              "  </div>\n",
              "  "
            ]
          },
          "metadata": {},
          "execution_count": 83
        }
      ]
    },
    {
      "cell_type": "code",
      "source": [
        "new_mixed.drop(labels=range(506,1054), axis=0)"
      ],
      "metadata": {
        "colab": {
          "base_uri": "https://localhost:8080/",
          "height": 424
        },
        "id": "o_dzPed3A7c-",
        "outputId": "9328e5b6-279d-4ff2-e9fa-d2dedaa063c0"
      },
      "execution_count": 84,
      "outputs": [
        {
          "output_type": "execute_result",
          "data": {
            "text/plain": [
              "     A1  A2  A3  A4  A5  A6  A7  A8  A9  A10  Age_Mons  Sex  \\\n",
              "0     0   0   0   0   0   0   1   1   0    1  0.016652  1.0   \n",
              "1     1   1   0   0   0   1   1   0   0    0  1.019590  0.0   \n",
              "2     1   0   0   0   0   0   1   1   0    1  1.019590  0.0   \n",
              "3     1   1   1   1   1   1   1   1   1    1 -0.484817  0.0   \n",
              "4     1   1   0   1   1   1   1   1   1    1 -0.986286  1.0   \n",
              "..   ..  ..  ..  ..  ..  ..  ..  ..  ..  ...       ...  ...   \n",
              "501   1   1   0   0   1   0   0   0   0    1  1.019590  0.0   \n",
              "502   0   1   1   1   1   1   1   0   1    1 -1.989223  0.0   \n",
              "503   1   1   0   1   1   1   0   1   1    0  1.019590  0.0   \n",
              "504   1   0   1   0   1   0   0   0   0    0  1.019590  0.0   \n",
              "505   0   1   1   0   0   0   0   1   0    1  1.019590  0.0   \n",
              "\n",
              "     Family_mem_with_ASD  Who completed the test  ASD_Traits  \n",
              "0                    1.0                     0.0         1.0  \n",
              "1                    1.0                     0.0         0.0  \n",
              "2                    1.0                     0.0         0.0  \n",
              "3                    1.0                     0.0         0.0  \n",
              "4                    0.0                     0.0         0.0  \n",
              "..                   ...                     ...         ...  \n",
              "501                  1.0                     0.0         0.0  \n",
              "502                  0.0                     0.0         0.0  \n",
              "503                  1.0                     0.0         0.0  \n",
              "504                  1.0                     0.0         1.0  \n",
              "505                  1.0                     0.0         0.0  \n",
              "\n",
              "[506 rows x 15 columns]"
            ],
            "text/html": [
              "\n",
              "  <div id=\"df-c48aeca6-c499-44e7-b82f-71ed64f30d15\">\n",
              "    <div class=\"colab-df-container\">\n",
              "      <div>\n",
              "<style scoped>\n",
              "    .dataframe tbody tr th:only-of-type {\n",
              "        vertical-align: middle;\n",
              "    }\n",
              "\n",
              "    .dataframe tbody tr th {\n",
              "        vertical-align: top;\n",
              "    }\n",
              "\n",
              "    .dataframe thead th {\n",
              "        text-align: right;\n",
              "    }\n",
              "</style>\n",
              "<table border=\"1\" class=\"dataframe\">\n",
              "  <thead>\n",
              "    <tr style=\"text-align: right;\">\n",
              "      <th></th>\n",
              "      <th>A1</th>\n",
              "      <th>A2</th>\n",
              "      <th>A3</th>\n",
              "      <th>A4</th>\n",
              "      <th>A5</th>\n",
              "      <th>A6</th>\n",
              "      <th>A7</th>\n",
              "      <th>A8</th>\n",
              "      <th>A9</th>\n",
              "      <th>A10</th>\n",
              "      <th>Age_Mons</th>\n",
              "      <th>Sex</th>\n",
              "      <th>Family_mem_with_ASD</th>\n",
              "      <th>Who completed the test</th>\n",
              "      <th>ASD_Traits</th>\n",
              "    </tr>\n",
              "  </thead>\n",
              "  <tbody>\n",
              "    <tr>\n",
              "      <th>0</th>\n",
              "      <td>0</td>\n",
              "      <td>0</td>\n",
              "      <td>0</td>\n",
              "      <td>0</td>\n",
              "      <td>0</td>\n",
              "      <td>0</td>\n",
              "      <td>1</td>\n",
              "      <td>1</td>\n",
              "      <td>0</td>\n",
              "      <td>1</td>\n",
              "      <td>0.016652</td>\n",
              "      <td>1.0</td>\n",
              "      <td>1.0</td>\n",
              "      <td>0.0</td>\n",
              "      <td>1.0</td>\n",
              "    </tr>\n",
              "    <tr>\n",
              "      <th>1</th>\n",
              "      <td>1</td>\n",
              "      <td>1</td>\n",
              "      <td>0</td>\n",
              "      <td>0</td>\n",
              "      <td>0</td>\n",
              "      <td>1</td>\n",
              "      <td>1</td>\n",
              "      <td>0</td>\n",
              "      <td>0</td>\n",
              "      <td>0</td>\n",
              "      <td>1.019590</td>\n",
              "      <td>0.0</td>\n",
              "      <td>1.0</td>\n",
              "      <td>0.0</td>\n",
              "      <td>0.0</td>\n",
              "    </tr>\n",
              "    <tr>\n",
              "      <th>2</th>\n",
              "      <td>1</td>\n",
              "      <td>0</td>\n",
              "      <td>0</td>\n",
              "      <td>0</td>\n",
              "      <td>0</td>\n",
              "      <td>0</td>\n",
              "      <td>1</td>\n",
              "      <td>1</td>\n",
              "      <td>0</td>\n",
              "      <td>1</td>\n",
              "      <td>1.019590</td>\n",
              "      <td>0.0</td>\n",
              "      <td>1.0</td>\n",
              "      <td>0.0</td>\n",
              "      <td>0.0</td>\n",
              "    </tr>\n",
              "    <tr>\n",
              "      <th>3</th>\n",
              "      <td>1</td>\n",
              "      <td>1</td>\n",
              "      <td>1</td>\n",
              "      <td>1</td>\n",
              "      <td>1</td>\n",
              "      <td>1</td>\n",
              "      <td>1</td>\n",
              "      <td>1</td>\n",
              "      <td>1</td>\n",
              "      <td>1</td>\n",
              "      <td>-0.484817</td>\n",
              "      <td>0.0</td>\n",
              "      <td>1.0</td>\n",
              "      <td>0.0</td>\n",
              "      <td>0.0</td>\n",
              "    </tr>\n",
              "    <tr>\n",
              "      <th>4</th>\n",
              "      <td>1</td>\n",
              "      <td>1</td>\n",
              "      <td>0</td>\n",
              "      <td>1</td>\n",
              "      <td>1</td>\n",
              "      <td>1</td>\n",
              "      <td>1</td>\n",
              "      <td>1</td>\n",
              "      <td>1</td>\n",
              "      <td>1</td>\n",
              "      <td>-0.986286</td>\n",
              "      <td>1.0</td>\n",
              "      <td>0.0</td>\n",
              "      <td>0.0</td>\n",
              "      <td>0.0</td>\n",
              "    </tr>\n",
              "    <tr>\n",
              "      <th>...</th>\n",
              "      <td>...</td>\n",
              "      <td>...</td>\n",
              "      <td>...</td>\n",
              "      <td>...</td>\n",
              "      <td>...</td>\n",
              "      <td>...</td>\n",
              "      <td>...</td>\n",
              "      <td>...</td>\n",
              "      <td>...</td>\n",
              "      <td>...</td>\n",
              "      <td>...</td>\n",
              "      <td>...</td>\n",
              "      <td>...</td>\n",
              "      <td>...</td>\n",
              "      <td>...</td>\n",
              "    </tr>\n",
              "    <tr>\n",
              "      <th>501</th>\n",
              "      <td>1</td>\n",
              "      <td>1</td>\n",
              "      <td>0</td>\n",
              "      <td>0</td>\n",
              "      <td>1</td>\n",
              "      <td>0</td>\n",
              "      <td>0</td>\n",
              "      <td>0</td>\n",
              "      <td>0</td>\n",
              "      <td>1</td>\n",
              "      <td>1.019590</td>\n",
              "      <td>0.0</td>\n",
              "      <td>1.0</td>\n",
              "      <td>0.0</td>\n",
              "      <td>0.0</td>\n",
              "    </tr>\n",
              "    <tr>\n",
              "      <th>502</th>\n",
              "      <td>0</td>\n",
              "      <td>1</td>\n",
              "      <td>1</td>\n",
              "      <td>1</td>\n",
              "      <td>1</td>\n",
              "      <td>1</td>\n",
              "      <td>1</td>\n",
              "      <td>0</td>\n",
              "      <td>1</td>\n",
              "      <td>1</td>\n",
              "      <td>-1.989223</td>\n",
              "      <td>0.0</td>\n",
              "      <td>0.0</td>\n",
              "      <td>0.0</td>\n",
              "      <td>0.0</td>\n",
              "    </tr>\n",
              "    <tr>\n",
              "      <th>503</th>\n",
              "      <td>1</td>\n",
              "      <td>1</td>\n",
              "      <td>0</td>\n",
              "      <td>1</td>\n",
              "      <td>1</td>\n",
              "      <td>1</td>\n",
              "      <td>0</td>\n",
              "      <td>1</td>\n",
              "      <td>1</td>\n",
              "      <td>0</td>\n",
              "      <td>1.019590</td>\n",
              "      <td>0.0</td>\n",
              "      <td>1.0</td>\n",
              "      <td>0.0</td>\n",
              "      <td>0.0</td>\n",
              "    </tr>\n",
              "    <tr>\n",
              "      <th>504</th>\n",
              "      <td>1</td>\n",
              "      <td>0</td>\n",
              "      <td>1</td>\n",
              "      <td>0</td>\n",
              "      <td>1</td>\n",
              "      <td>0</td>\n",
              "      <td>0</td>\n",
              "      <td>0</td>\n",
              "      <td>0</td>\n",
              "      <td>0</td>\n",
              "      <td>1.019590</td>\n",
              "      <td>0.0</td>\n",
              "      <td>1.0</td>\n",
              "      <td>0.0</td>\n",
              "      <td>1.0</td>\n",
              "    </tr>\n",
              "    <tr>\n",
              "      <th>505</th>\n",
              "      <td>0</td>\n",
              "      <td>1</td>\n",
              "      <td>1</td>\n",
              "      <td>0</td>\n",
              "      <td>0</td>\n",
              "      <td>0</td>\n",
              "      <td>0</td>\n",
              "      <td>1</td>\n",
              "      <td>0</td>\n",
              "      <td>1</td>\n",
              "      <td>1.019590</td>\n",
              "      <td>0.0</td>\n",
              "      <td>1.0</td>\n",
              "      <td>0.0</td>\n",
              "      <td>0.0</td>\n",
              "    </tr>\n",
              "  </tbody>\n",
              "</table>\n",
              "<p>506 rows × 15 columns</p>\n",
              "</div>\n",
              "      <button class=\"colab-df-convert\" onclick=\"convertToInteractive('df-c48aeca6-c499-44e7-b82f-71ed64f30d15')\"\n",
              "              title=\"Convert this dataframe to an interactive table.\"\n",
              "              style=\"display:none;\">\n",
              "        \n",
              "  <svg xmlns=\"http://www.w3.org/2000/svg\" height=\"24px\"viewBox=\"0 0 24 24\"\n",
              "       width=\"24px\">\n",
              "    <path d=\"M0 0h24v24H0V0z\" fill=\"none\"/>\n",
              "    <path d=\"M18.56 5.44l.94 2.06.94-2.06 2.06-.94-2.06-.94-.94-2.06-.94 2.06-2.06.94zm-11 1L8.5 8.5l.94-2.06 2.06-.94-2.06-.94L8.5 2.5l-.94 2.06-2.06.94zm10 10l.94 2.06.94-2.06 2.06-.94-2.06-.94-.94-2.06-.94 2.06-2.06.94z\"/><path d=\"M17.41 7.96l-1.37-1.37c-.4-.4-.92-.59-1.43-.59-.52 0-1.04.2-1.43.59L10.3 9.45l-7.72 7.72c-.78.78-.78 2.05 0 2.83L4 21.41c.39.39.9.59 1.41.59.51 0 1.02-.2 1.41-.59l7.78-7.78 2.81-2.81c.8-.78.8-2.07 0-2.86zM5.41 20L4 18.59l7.72-7.72 1.47 1.35L5.41 20z\"/>\n",
              "  </svg>\n",
              "      </button>\n",
              "      \n",
              "  <style>\n",
              "    .colab-df-container {\n",
              "      display:flex;\n",
              "      flex-wrap:wrap;\n",
              "      gap: 12px;\n",
              "    }\n",
              "\n",
              "    .colab-df-convert {\n",
              "      background-color: #E8F0FE;\n",
              "      border: none;\n",
              "      border-radius: 50%;\n",
              "      cursor: pointer;\n",
              "      display: none;\n",
              "      fill: #1967D2;\n",
              "      height: 32px;\n",
              "      padding: 0 0 0 0;\n",
              "      width: 32px;\n",
              "    }\n",
              "\n",
              "    .colab-df-convert:hover {\n",
              "      background-color: #E2EBFA;\n",
              "      box-shadow: 0px 1px 2px rgba(60, 64, 67, 0.3), 0px 1px 3px 1px rgba(60, 64, 67, 0.15);\n",
              "      fill: #174EA6;\n",
              "    }\n",
              "\n",
              "    [theme=dark] .colab-df-convert {\n",
              "      background-color: #3B4455;\n",
              "      fill: #D2E3FC;\n",
              "    }\n",
              "\n",
              "    [theme=dark] .colab-df-convert:hover {\n",
              "      background-color: #434B5C;\n",
              "      box-shadow: 0px 1px 3px 1px rgba(0, 0, 0, 0.15);\n",
              "      filter: drop-shadow(0px 1px 2px rgba(0, 0, 0, 0.3));\n",
              "      fill: #FFFFFF;\n",
              "    }\n",
              "  </style>\n",
              "\n",
              "      <script>\n",
              "        const buttonEl =\n",
              "          document.querySelector('#df-c48aeca6-c499-44e7-b82f-71ed64f30d15 button.colab-df-convert');\n",
              "        buttonEl.style.display =\n",
              "          google.colab.kernel.accessAllowed ? 'block' : 'none';\n",
              "\n",
              "        async function convertToInteractive(key) {\n",
              "          const element = document.querySelector('#df-c48aeca6-c499-44e7-b82f-71ed64f30d15');\n",
              "          const dataTable =\n",
              "            await google.colab.kernel.invokeFunction('convertToInteractive',\n",
              "                                                     [key], {});\n",
              "          if (!dataTable) return;\n",
              "\n",
              "          const docLinkHtml = 'Like what you see? Visit the ' +\n",
              "            '<a target=\"_blank\" href=https://colab.research.google.com/notebooks/data_table.ipynb>data table notebook</a>'\n",
              "            + ' to learn more about interactive tables.';\n",
              "          element.innerHTML = '';\n",
              "          dataTable['output_type'] = 'display_data';\n",
              "          await google.colab.output.renderOutput(dataTable, element);\n",
              "          const docLink = document.createElement('div');\n",
              "          docLink.innerHTML = docLinkHtml;\n",
              "          element.appendChild(docLink);\n",
              "        }\n",
              "      </script>\n",
              "    </div>\n",
              "  </div>\n",
              "  "
            ]
          },
          "metadata": {},
          "execution_count": 84
        }
      ]
    },
    {
      "cell_type": "code",
      "source": [
        "preprocess(age, chars, target, new_mixed)"
      ],
      "metadata": {
        "id": "jGc0RdafzPxl",
        "colab": {
          "base_uri": "https://localhost:8080/"
        },
        "outputId": "87890750-e93a-4627-ca5a-854654e148f6"
      },
      "execution_count": 85,
      "outputs": [
        {
          "output_type": "stream",
          "name": "stdout",
          "text": [
            "A1                          int64\n",
            "A2                          int64\n",
            "A3                          int64\n",
            "A4                          int64\n",
            "A5                          int64\n",
            "A6                          int64\n",
            "A7                          int64\n",
            "A8                          int64\n",
            "A9                          int64\n",
            "A10                         int64\n",
            "Age_Mons                  float64\n",
            "Sex                       float64\n",
            "Family_mem_with_ASD       float64\n",
            "Who completed the test    float64\n",
            "ASD_Traits                float64\n",
            "dtype: object\n",
            "   A1  A2  A3  A4  A5  A6  A7  A8  A9  A10  Age_Mons  Sex  \\\n",
            "0   0   0   0   0   0   0   1   1   0    1  0.016652  0.0   \n",
            "1   1   1   0   0   0   1   1   0   0    0  1.019590  1.0   \n",
            "2   1   0   0   0   0   0   1   1   0    1  1.019590  1.0   \n",
            "3   1   1   1   1   1   1   1   1   1    1 -0.484817  1.0   \n",
            "4   1   1   0   1   1   1   1   1   1    1 -0.986286  0.0   \n",
            "\n",
            "   Family_mem_with_ASD  Who completed the test  ASD_Traits  \n",
            "0                  0.0                     1.0         0.0  \n",
            "1                  0.0                     1.0         1.0  \n",
            "2                  0.0                     1.0         1.0  \n",
            "3                  0.0                     1.0         1.0  \n",
            "4                  1.0                     1.0         1.0  \n"
          ]
        }
      ]
    },
    {
      "cell_type": "code",
      "source": [
        "new_log_reg = LogisticRegression()\n",
        "\n",
        "new_feat = new_mixed.drop(['ASD_Traits'], axis=1)\n",
        "new_class = new_mixed[\"ASD_Traits\"]\n",
        "\n",
        "new_log_reg.fit(new_feat, new_class)"
      ],
      "metadata": {
        "colab": {
          "base_uri": "https://localhost:8080/"
        },
        "id": "cHv9U0fchvJ3",
        "outputId": "7e4c7fd5-637b-4ad4-dde2-5056453efe92"
      },
      "execution_count": 86,
      "outputs": [
        {
          "output_type": "execute_result",
          "data": {
            "text/plain": [
              "LogisticRegression()"
            ]
          },
          "metadata": {},
          "execution_count": 86
        }
      ]
    },
    {
      "cell_type": "markdown",
      "source": [
        "**Three year old data - Logistic Regression**"
      ],
      "metadata": {
        "id": "RMCMsE9fELY2"
      }
    },
    {
      "cell_type": "code",
      "source": [
        "three_y_old = asd_2018_df[asd_2018_df['Age_Mons'] > 24]\n",
        "three_y_old['Age_Mons'].value_counts()"
      ],
      "metadata": {
        "id": "axTHMeMYEK1t",
        "colab": {
          "base_uri": "https://localhost:8080/"
        },
        "outputId": "1e7d8aec-fd4c-4f34-95ae-7ef2e8129202"
      },
      "execution_count": 90,
      "outputs": [
        {
          "output_type": "execute_result",
          "data": {
            "text/plain": [
              "36    320\n",
              "30     67\n",
              "28     42\n",
              "33     36\n",
              "26     36\n",
              "34     34\n",
              "35     30\n",
              "32     30\n",
              "31     30\n",
              "25     26\n",
              "29     24\n",
              "27     23\n",
              "Name: Age_Mons, dtype: int64"
            ]
          },
          "metadata": {},
          "execution_count": 90
        }
      ]
    },
    {
      "cell_type": "code",
      "source": [
        "three_y_old = three_y_old.drop(['Case_No','Qchat-10-Score'], axis=1)"
      ],
      "metadata": {
        "id": "QFNyHjh_c9XR"
      },
      "execution_count": 92,
      "outputs": []
    },
    {
      "cell_type": "code",
      "source": [
        "preprocess(age, char_vals, target, three_y_old)"
      ],
      "metadata": {
        "id": "d2JRInSVdWaG"
      },
      "execution_count": null,
      "outputs": []
    },
    {
      "cell_type": "code",
      "source": [
        "three_y_log_reg = LogisticRegression()\n",
        "three_feat = three_y_old.drop(['ASD_Traits'], axis=1)\n",
        "three_target = three_y_old['ASD_Traits']\n",
        "\n",
        "three_y_log_reg.fit(three_feat, three_target)"
      ],
      "metadata": {
        "colab": {
          "base_uri": "https://localhost:8080/"
        },
        "id": "EXJ-TqTDdgrQ",
        "outputId": "c10af958-8241-4469-8bfb-f7838fd96488"
      },
      "execution_count": 99,
      "outputs": [
        {
          "output_type": "execute_result",
          "data": {
            "text/plain": [
              "LogisticRegression()"
            ]
          },
          "metadata": {},
          "execution_count": 99
        }
      ]
    },
    {
      "cell_type": "code",
      "source": [
        "display_results(three_y_log_reg, three_feat, three_target)"
      ],
      "metadata": {
        "colab": {
          "base_uri": "https://localhost:8080/"
        },
        "id": "vs64amr-eKYI",
        "outputId": "c1a0134f-7409-44fd-d116-d08d2f54ecb3"
      },
      "execution_count": 100,
      "outputs": [
        {
          "output_type": "stream",
          "name": "stdout",
          "text": [
            "Root mean squared eror:  0.0\n",
            "MSE:  0.0\n",
            "R2 Score:  1.0\n"
          ]
        }
      ]
    },
    {
      "cell_type": "code",
      "source": [
        "cross_validation_results(three_y_log_reg, three_feat, three_target, metrics, 10)"
      ],
      "metadata": {
        "colab": {
          "base_uri": "https://localhost:8080/"
        },
        "id": "5bi_rOU2e1VO",
        "outputId": "86da0346-6fb6-45ab-b6d5-8e258fda67a3"
      },
      "execution_count": 101,
      "outputs": [
        {
          "output_type": "stream",
          "name": "stdout",
          "text": [
            "Mean Test R2:  1.0\n",
            "Mean Test MSE:  -0.0\n",
            "Test std:  0.0\n",
            "RMSE Test:  0.0\n"
          ]
        }
      ]
    },
    {
      "cell_type": "markdown",
      "source": [
        "**Two year old data - Logistic Regression**"
      ],
      "metadata": {
        "id": "PWI2oXzgETC5"
      }
    },
    {
      "cell_type": "code",
      "source": [
        "two_y_old = asd_2018_df[asd_2018_df['Age_Mons'] <= 24]\n",
        "two_y_old['Age_Mons'].value_counts()"
      ],
      "metadata": {
        "id": "JoGivBo3ETRS"
      },
      "execution_count": null,
      "outputs": []
    },
    {
      "cell_type": "code",
      "source": [
        "two_y_old = two_y_old.drop(['Case_No','Qchat-10-Score'], axis=1)"
      ],
      "metadata": {
        "id": "2g07CUvtgLPG"
      },
      "execution_count": 102,
      "outputs": []
    },
    {
      "cell_type": "code",
      "source": [
        "preprocess(age, char_vals, target, two_y_old)"
      ],
      "metadata": {
        "id": "vHf4OMAWgrRl"
      },
      "execution_count": null,
      "outputs": []
    },
    {
      "cell_type": "code",
      "source": [
        "two_y_log_reg = LogisticRegression()\n",
        "two_feat = two_y_old.drop(['ASD_Traits'], axis=1)\n",
        "two_target = two_y_old['ASD_Traits']\n",
        "\n",
        "two_y_log_reg.fit(two_feat, two_target)"
      ],
      "metadata": {
        "colab": {
          "base_uri": "https://localhost:8080/"
        },
        "id": "iD-Dnsb9g0oR",
        "outputId": "ba95c01b-626d-41b4-a248-6da8546b40f8"
      },
      "execution_count": 105,
      "outputs": [
        {
          "output_type": "execute_result",
          "data": {
            "text/plain": [
              "LogisticRegression()"
            ]
          },
          "metadata": {},
          "execution_count": 105
        }
      ]
    },
    {
      "cell_type": "code",
      "source": [
        "display_results(two_y_log_reg, two_feat, two_target)"
      ],
      "metadata": {
        "colab": {
          "base_uri": "https://localhost:8080/"
        },
        "id": "eKH1EzcjhTBP",
        "outputId": "469d4509-c597-4c66-f2ba-dafa7134b2e1"
      },
      "execution_count": 106,
      "outputs": [
        {
          "output_type": "stream",
          "name": "stdout",
          "text": [
            "Root mean squared eror:  0.0\n",
            "MSE:  0.0\n",
            "R2 Score:  1.0\n"
          ]
        }
      ]
    },
    {
      "cell_type": "code",
      "source": [
        "cross_validation_results(two_y_log_reg, two_feat, two_target, metrics, 10)"
      ],
      "metadata": {
        "colab": {
          "base_uri": "https://localhost:8080/"
        },
        "id": "eyn7yt30hcVq",
        "outputId": "0aa13abb-2db2-40f2-a403-adaea49d4e38"
      },
      "execution_count": 107,
      "outputs": [
        {
          "output_type": "stream",
          "name": "stdout",
          "text": [
            "Mean Test R2:  0.9494565217391304\n",
            "Mean Test MSE:  0.011349206349206348\n",
            "Test std:  0.08969898793149975\n",
            "RMSE Test:  0.057474323947924864\n"
          ]
        }
      ]
    },
    {
      "cell_type": "markdown",
      "source": [
        "**Dataset general population representation**"
      ],
      "metadata": {
        "id": "uPq7T033EZPQ"
      }
    },
    {
      "cell_type": "markdown",
      "source": [
        "The available dataset has a 2.3:1 male to female ratio."
      ],
      "metadata": {
        "id": "UCrXn4yOmrfC"
      }
    },
    {
      "cell_type": "code",
      "source": [
        "asd_2018_df['Sex'].value_counts()"
      ],
      "metadata": {
        "id": "VyrgSwtaEm3R",
        "colab": {
          "base_uri": "https://localhost:8080/"
        },
        "outputId": "0ad9fd7c-e5e3-4ff1-c003-51bb912ec2a1"
      },
      "execution_count": 109,
      "outputs": [
        {
          "output_type": "execute_result",
          "data": {
            "text/plain": [
              "m    735\n",
              "f    319\n",
              "Name: Sex, dtype: int64"
            ]
          },
          "metadata": {},
          "execution_count": 109
        }
      ]
    },
    {
      "cell_type": "markdown",
      "source": [
        "**Dataset - 50/50 female/male ratio, equal number of ASD/No ASD Traits**"
      ],
      "metadata": {
        "id": "zp83bcPtEgMr"
      }
    },
    {
      "cell_type": "code",
      "source": [
        "f_only = asd_2018_df[asd_2018_df['Sex']=='f']\n",
        "f_only.info()\n",
        "f_only['ASD_Traits'].value_counts()"
      ],
      "metadata": {
        "id": "uv6ES2_9EngI",
        "colab": {
          "base_uri": "https://localhost:8080/"
        },
        "outputId": "6d8f1b75-c15f-4a65-c262-aec1c4181ac4"
      },
      "execution_count": 114,
      "outputs": [
        {
          "output_type": "stream",
          "name": "stdout",
          "text": [
            "<class 'pandas.core.frame.DataFrame'>\n",
            "Int64Index: 319 entries, 0 to 1049\n",
            "Data columns (total 19 columns):\n",
            " #   Column                  Non-Null Count  Dtype \n",
            "---  ------                  --------------  ----- \n",
            " 0   Case_No                 319 non-null    int64 \n",
            " 1   A1                      319 non-null    int64 \n",
            " 2   A2                      319 non-null    int64 \n",
            " 3   A3                      319 non-null    int64 \n",
            " 4   A4                      319 non-null    int64 \n",
            " 5   A5                      319 non-null    int64 \n",
            " 6   A6                      319 non-null    int64 \n",
            " 7   A7                      319 non-null    int64 \n",
            " 8   A8                      319 non-null    int64 \n",
            " 9   A9                      319 non-null    int64 \n",
            " 10  A10                     319 non-null    int64 \n",
            " 11  Age_Mons                319 non-null    int64 \n",
            " 12  Qchat-10-Score          319 non-null    int64 \n",
            " 13  Sex                     319 non-null    object\n",
            " 14  Ethnicity               319 non-null    object\n",
            " 15  Jaundice                319 non-null    object\n",
            " 16  Family_mem_with_ASD     319 non-null    object\n",
            " 17  Who completed the test  319 non-null    object\n",
            " 18  ASD_Traits              319 non-null    object\n",
            "dtypes: int64(13), object(6)\n",
            "memory usage: 49.8+ KB\n"
          ]
        },
        {
          "output_type": "execute_result",
          "data": {
            "text/plain": [
              "Yes    194\n",
              "No     125\n",
              "Name: ASD_Traits, dtype: int64"
            ]
          },
          "metadata": {},
          "execution_count": 114
        }
      ]
    },
    {
      "cell_type": "code",
      "source": [
        "y_male = asd_2018_df[(asd_2018_df['Sex']=='m') & (asd_2018_df['ASD_Traits']=='Yes')].head(194)\n",
        "y_male.info()\n",
        "y_male['ASD_Traits'].value_counts()"
      ],
      "metadata": {
        "colab": {
          "base_uri": "https://localhost:8080/"
        },
        "id": "qIq71BblmPi-",
        "outputId": "e6daa2c2-1662-4027-ab81-654bcdffd99d"
      },
      "execution_count": 122,
      "outputs": [
        {
          "output_type": "stream",
          "name": "stdout",
          "text": [
            "<class 'pandas.core.frame.DataFrame'>\n",
            "Int64Index: 194 entries, 1 to 405\n",
            "Data columns (total 19 columns):\n",
            " #   Column                  Non-Null Count  Dtype \n",
            "---  ------                  --------------  ----- \n",
            " 0   Case_No                 194 non-null    int64 \n",
            " 1   A1                      194 non-null    int64 \n",
            " 2   A2                      194 non-null    int64 \n",
            " 3   A3                      194 non-null    int64 \n",
            " 4   A4                      194 non-null    int64 \n",
            " 5   A5                      194 non-null    int64 \n",
            " 6   A6                      194 non-null    int64 \n",
            " 7   A7                      194 non-null    int64 \n",
            " 8   A8                      194 non-null    int64 \n",
            " 9   A9                      194 non-null    int64 \n",
            " 10  A10                     194 non-null    int64 \n",
            " 11  Age_Mons                194 non-null    int64 \n",
            " 12  Qchat-10-Score          194 non-null    int64 \n",
            " 13  Sex                     194 non-null    object\n",
            " 14  Ethnicity               194 non-null    object\n",
            " 15  Jaundice                194 non-null    object\n",
            " 16  Family_mem_with_ASD     194 non-null    object\n",
            " 17  Who completed the test  194 non-null    object\n",
            " 18  ASD_Traits              194 non-null    object\n",
            "dtypes: int64(13), object(6)\n",
            "memory usage: 30.3+ KB\n"
          ]
        },
        {
          "output_type": "execute_result",
          "data": {
            "text/plain": [
              "Yes    194\n",
              "Name: ASD_Traits, dtype: int64"
            ]
          },
          "metadata": {},
          "execution_count": 122
        }
      ]
    },
    {
      "cell_type": "code",
      "source": [
        "n_male = asd_2018_df[(asd_2018_df['Sex']=='m') & (asd_2018_df['ASD_Traits']=='No')].head(125)\n",
        "n_male.info()\n",
        "n_male['ASD_Traits'].value_counts()"
      ],
      "metadata": {
        "colab": {
          "base_uri": "https://localhost:8080/"
        },
        "id": "nFuzR7wmobyk",
        "outputId": "7a14729e-5b92-49cd-c609-4d30a6ad844a"
      },
      "execution_count": 123,
      "outputs": [
        {
          "output_type": "stream",
          "name": "stdout",
          "text": [
            "<class 'pandas.core.frame.DataFrame'>\n",
            "Int64Index: 125 entries, 8 to 704\n",
            "Data columns (total 19 columns):\n",
            " #   Column                  Non-Null Count  Dtype \n",
            "---  ------                  --------------  ----- \n",
            " 0   Case_No                 125 non-null    int64 \n",
            " 1   A1                      125 non-null    int64 \n",
            " 2   A2                      125 non-null    int64 \n",
            " 3   A3                      125 non-null    int64 \n",
            " 4   A4                      125 non-null    int64 \n",
            " 5   A5                      125 non-null    int64 \n",
            " 6   A6                      125 non-null    int64 \n",
            " 7   A7                      125 non-null    int64 \n",
            " 8   A8                      125 non-null    int64 \n",
            " 9   A9                      125 non-null    int64 \n",
            " 10  A10                     125 non-null    int64 \n",
            " 11  Age_Mons                125 non-null    int64 \n",
            " 12  Qchat-10-Score          125 non-null    int64 \n",
            " 13  Sex                     125 non-null    object\n",
            " 14  Ethnicity               125 non-null    object\n",
            " 15  Jaundice                125 non-null    object\n",
            " 16  Family_mem_with_ASD     125 non-null    object\n",
            " 17  Who completed the test  125 non-null    object\n",
            " 18  ASD_Traits              125 non-null    object\n",
            "dtypes: int64(13), object(6)\n",
            "memory usage: 19.5+ KB\n"
          ]
        },
        {
          "output_type": "execute_result",
          "data": {
            "text/plain": [
              "No    125\n",
              "Name: ASD_Traits, dtype: int64"
            ]
          },
          "metadata": {},
          "execution_count": 123
        }
      ]
    },
    {
      "cell_type": "code",
      "source": [
        "equal_male = pd.concat([y_male,n_male], axis=0)\n",
        "equal_male.info()"
      ],
      "metadata": {
        "colab": {
          "base_uri": "https://localhost:8080/"
        },
        "id": "YscmnZ5oow5x",
        "outputId": "15f9a191-8c45-42f1-fcc1-15fe3f62da92"
      },
      "execution_count": 127,
      "outputs": [
        {
          "output_type": "stream",
          "name": "stdout",
          "text": [
            "<class 'pandas.core.frame.DataFrame'>\n",
            "Int64Index: 319 entries, 1 to 704\n",
            "Data columns (total 19 columns):\n",
            " #   Column                  Non-Null Count  Dtype \n",
            "---  ------                  --------------  ----- \n",
            " 0   Case_No                 319 non-null    int64 \n",
            " 1   A1                      319 non-null    int64 \n",
            " 2   A2                      319 non-null    int64 \n",
            " 3   A3                      319 non-null    int64 \n",
            " 4   A4                      319 non-null    int64 \n",
            " 5   A5                      319 non-null    int64 \n",
            " 6   A6                      319 non-null    int64 \n",
            " 7   A7                      319 non-null    int64 \n",
            " 8   A8                      319 non-null    int64 \n",
            " 9   A9                      319 non-null    int64 \n",
            " 10  A10                     319 non-null    int64 \n",
            " 11  Age_Mons                319 non-null    int64 \n",
            " 12  Qchat-10-Score          319 non-null    int64 \n",
            " 13  Sex                     319 non-null    object\n",
            " 14  Ethnicity               319 non-null    object\n",
            " 15  Jaundice                319 non-null    object\n",
            " 16  Family_mem_with_ASD     319 non-null    object\n",
            " 17  Who completed the test  319 non-null    object\n",
            " 18  ASD_Traits              319 non-null    object\n",
            "dtypes: int64(13), object(6)\n",
            "memory usage: 49.8+ KB\n"
          ]
        }
      ]
    },
    {
      "cell_type": "code",
      "source": [
        "equal_ratio = pd.concat([f_only, equal_male], axis=0)\n",
        "equal_ratio.info()"
      ],
      "metadata": {
        "colab": {
          "base_uri": "https://localhost:8080/"
        },
        "id": "54KA4_dMppCX",
        "outputId": "79c78231-cde8-44bc-81ab-c34e8d2f6bb2"
      },
      "execution_count": 130,
      "outputs": [
        {
          "output_type": "stream",
          "name": "stdout",
          "text": [
            "<class 'pandas.core.frame.DataFrame'>\n",
            "Int64Index: 638 entries, 0 to 704\n",
            "Data columns (total 19 columns):\n",
            " #   Column                  Non-Null Count  Dtype \n",
            "---  ------                  --------------  ----- \n",
            " 0   Case_No                 638 non-null    int64 \n",
            " 1   A1                      638 non-null    int64 \n",
            " 2   A2                      638 non-null    int64 \n",
            " 3   A3                      638 non-null    int64 \n",
            " 4   A4                      638 non-null    int64 \n",
            " 5   A5                      638 non-null    int64 \n",
            " 6   A6                      638 non-null    int64 \n",
            " 7   A7                      638 non-null    int64 \n",
            " 8   A8                      638 non-null    int64 \n",
            " 9   A9                      638 non-null    int64 \n",
            " 10  A10                     638 non-null    int64 \n",
            " 11  Age_Mons                638 non-null    int64 \n",
            " 12  Qchat-10-Score          638 non-null    int64 \n",
            " 13  Sex                     638 non-null    object\n",
            " 14  Ethnicity               638 non-null    object\n",
            " 15  Jaundice                638 non-null    object\n",
            " 16  Family_mem_with_ASD     638 non-null    object\n",
            " 17  Who completed the test  638 non-null    object\n",
            " 18  ASD_Traits              638 non-null    object\n",
            "dtypes: int64(13), object(6)\n",
            "memory usage: 99.7+ KB\n"
          ]
        }
      ]
    },
    {
      "cell_type": "code",
      "source": [
        "from sklearn.inspection import PartialDependenceDisplay\n",
        "\n",
        "disp1 = PartialDependenceDisplay.from_estimator(log_reg, mixed_training,[0])"
      ],
      "metadata": {
        "colab": {
          "base_uri": "https://localhost:8080/",
          "height": 279
        },
        "id": "6l6prAMPdU8m",
        "outputId": "e7d711e8-4bed-4909-8e70-a76b508ad152"
      },
      "execution_count": 87,
      "outputs": [
        {
          "output_type": "display_data",
          "data": {
            "text/plain": [
              "<Figure size 432x288 with 2 Axes>"
            ],
            "image/png": "[encoded data removed]"
          },
          "metadata": {
            "needs_background": "light"
          }
        }
      ]
    },
    {
      "cell_type": "code",
      "source": [
        "from sklearn.model_selection import RepeatedStratifiedKFold\n",
        "from sklearn.pipeline import Pipeline\n",
        "from sklearn.model_selection import cross_val_score\n",
        "\n",
        "\n"
      ],
      "metadata": {
        "id": "hJe7QLczF5E9"
      },
      "execution_count": 88,
      "outputs": []
    },
    {
      "cell_type": "code",
      "source": [
        "# import pickle\n",
        "\n",
        "# pickle.dump(log_reg, open('log_reg.pkl','wb'))"
      ],
      "metadata": {
        "id": "0Bqm85zRecvO"
      },
      "execution_count": 89,
      "outputs": []
    }
  ]
}