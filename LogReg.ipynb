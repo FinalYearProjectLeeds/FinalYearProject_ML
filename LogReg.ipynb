{
  "nbformat": 4,
  "nbformat_minor": 0,
  "metadata": {
    "colab": {
      "provenance": [],
      "authorship_tag": "ABX9TyN+I5IiGp5SNdJTDGMEfP78",
      "include_colab_link": true
    },
    "kernelspec": {
      "name": "python3",
      "display_name": "Python 3"
    },
    "language_info": {
      "name": "python"
    }
  },
  "cells": [
    {
      "cell_type": "markdown",
      "metadata": {
        "id": "view-in-github",
        "colab_type": "text"
      },
      "source": [
        "<a href=\"https://colab.research.google.com/github/sckgn/FinalYearProject_ML/blob/main/LogReg.ipynb\" target=\"_parent\"><img src=\"https://colab.research.google.com/assets/colab-badge.svg\" alt=\"Open In Colab\"/></a>"
      ]
    },
    {
      "cell_type": "code",
      "execution_count": 1,
      "metadata": {
        "colab": {
          "base_uri": "https://localhost:8080/",
          "height": 146
        },
        "id": "l1eyvKDXYSh8",
        "outputId": "1ea427c4-3820-4bf7-d1af-5eacb8eb7fa2"
      },
      "outputs": [
        {
          "output_type": "display_data",
          "data": {
            "text/plain": [
              "<IPython.core.display.HTML object>"
            ],
            "text/html": [
              "\n",
              "     <input type=\"file\" id=\"files-24e95c62-27f9-4cc9-b2d1-75451352c4b6\" name=\"files[]\" multiple disabled\n",
              "        style=\"border:none\" />\n",
              "     <output id=\"result-24e95c62-27f9-4cc9-b2d1-75451352c4b6\">\n",
              "      Upload widget is only available when the cell has been executed in the\n",
              "      current browser session. Please rerun this cell to enable.\n",
              "      </output>\n",
              "      <script>// Copyright 2017 Google LLC\n",
              "//\n",
              "// Licensed under the Apache License, Version 2.0 (the \"License\");\n",
              "// you may not use this file except in compliance with the License.\n",
              "// You may obtain a copy of the License at\n",
              "//\n",
              "//      http://www.apache.org/licenses/LICENSE-2.0\n",
              "//\n",
              "// Unless required by applicable law or agreed to in writing, software\n",
              "// distributed under the License is distributed on an \"AS IS\" BASIS,\n",
              "// WITHOUT WARRANTIES OR CONDITIONS OF ANY KIND, either express or implied.\n",
              "// See the License for the specific language governing permissions and\n",
              "// limitations under the License.\n",
              "\n",
              "/**\n",
              " * @fileoverview Helpers for google.colab Python module.\n",
              " */\n",
              "(function(scope) {\n",
              "function span(text, styleAttributes = {}) {\n",
              "  const element = document.createElement('span');\n",
              "  element.textContent = text;\n",
              "  for (const key of Object.keys(styleAttributes)) {\n",
              "    element.style[key] = styleAttributes[key];\n",
              "  }\n",
              "  return element;\n",
              "}\n",
              "\n",
              "// Max number of bytes which will be uploaded at a time.\n",
              "const MAX_PAYLOAD_SIZE = 100 * 1024;\n",
              "\n",
              "function _uploadFiles(inputId, outputId) {\n",
              "  const steps = uploadFilesStep(inputId, outputId);\n",
              "  const outputElement = document.getElementById(outputId);\n",
              "  // Cache steps on the outputElement to make it available for the next call\n",
              "  // to uploadFilesContinue from Python.\n",
              "  outputElement.steps = steps;\n",
              "\n",
              "  return _uploadFilesContinue(outputId);\n",
              "}\n",
              "\n",
              "// This is roughly an async generator (not supported in the browser yet),\n",
              "// where there are multiple asynchronous steps and the Python side is going\n",
              "// to poll for completion of each step.\n",
              "// This uses a Promise to block the python side on completion of each step,\n",
              "// then passes the result of the previous step as the input to the next step.\n",
              "function _uploadFilesContinue(outputId) {\n",
              "  const outputElement = document.getElementById(outputId);\n",
              "  const steps = outputElement.steps;\n",
              "\n",
              "  const next = steps.next(outputElement.lastPromiseValue);\n",
              "  return Promise.resolve(next.value.promise).then((value) => {\n",
              "    // Cache the last promise value to make it available to the next\n",
              "    // step of the generator.\n",
              "    outputElement.lastPromiseValue = value;\n",
              "    return next.value.response;\n",
              "  });\n",
              "}\n",
              "\n",
              "/**\n",
              " * Generator function which is called between each async step of the upload\n",
              " * process.\n",
              " * @param {string} inputId Element ID of the input file picker element.\n",
              " * @param {string} outputId Element ID of the output display.\n",
              " * @return {!Iterable<!Object>} Iterable of next steps.\n",
              " */\n",
              "function* uploadFilesStep(inputId, outputId) {\n",
              "  const inputElement = document.getElementById(inputId);\n",
              "  inputElement.disabled = false;\n",
              "\n",
              "  const outputElement = document.getElementById(outputId);\n",
              "  outputElement.innerHTML = '';\n",
              "\n",
              "  const pickedPromise = new Promise((resolve) => {\n",
              "    inputElement.addEventListener('change', (e) => {\n",
              "      resolve(e.target.files);\n",
              "    });\n",
              "  });\n",
              "\n",
              "  const cancel = document.createElement('button');\n",
              "  inputElement.parentElement.appendChild(cancel);\n",
              "  cancel.textContent = 'Cancel upload';\n",
              "  const cancelPromise = new Promise((resolve) => {\n",
              "    cancel.onclick = () => {\n",
              "      resolve(null);\n",
              "    };\n",
              "  });\n",
              "\n",
              "  // Wait for the user to pick the files.\n",
              "  const files = yield {\n",
              "    promise: Promise.race([pickedPromise, cancelPromise]),\n",
              "    response: {\n",
              "      action: 'starting',\n",
              "    }\n",
              "  };\n",
              "\n",
              "  cancel.remove();\n",
              "\n",
              "  // Disable the input element since further picks are not allowed.\n",
              "  inputElement.disabled = true;\n",
              "\n",
              "  if (!files) {\n",
              "    return {\n",
              "      response: {\n",
              "        action: 'complete',\n",
              "      }\n",
              "    };\n",
              "  }\n",
              "\n",
              "  for (const file of files) {\n",
              "    const li = document.createElement('li');\n",
              "    li.append(span(file.name, {fontWeight: 'bold'}));\n",
              "    li.append(span(\n",
              "        `(${file.type || 'n/a'}) - ${file.size} bytes, ` +\n",
              "        `last modified: ${\n",
              "            file.lastModifiedDate ? file.lastModifiedDate.toLocaleDateString() :\n",
              "                                    'n/a'} - `));\n",
              "    const percent = span('0% done');\n",
              "    li.appendChild(percent);\n",
              "\n",
              "    outputElement.appendChild(li);\n",
              "\n",
              "    const fileDataPromise = new Promise((resolve) => {\n",
              "      const reader = new FileReader();\n",
              "      reader.onload = (e) => {\n",
              "        resolve(e.target.result);\n",
              "      };\n",
              "      reader.readAsArrayBuffer(file);\n",
              "    });\n",
              "    // Wait for the data to be ready.\n",
              "    let fileData = yield {\n",
              "      promise: fileDataPromise,\n",
              "      response: {\n",
              "        action: 'continue',\n",
              "      }\n",
              "    };\n",
              "\n",
              "    // Use a chunked sending to avoid message size limits. See b/62115660.\n",
              "    let position = 0;\n",
              "    do {\n",
              "      const length = Math.min(fileData.byteLength - position, MAX_PAYLOAD_SIZE);\n",
              "      const chunk = new Uint8Array(fileData, position, length);\n",
              "      position += length;\n",
              "\n",
              "      const base64 = btoa(String.fromCharCode.apply(null, chunk));\n",
              "      yield {\n",
              "        response: {\n",
              "          action: 'append',\n",
              "          file: file.name,\n",
              "          data: base64,\n",
              "        },\n",
              "      };\n",
              "\n",
              "      let percentDone = fileData.byteLength === 0 ?\n",
              "          100 :\n",
              "          Math.round((position / fileData.byteLength) * 100);\n",
              "      percent.textContent = `${percentDone}% done`;\n",
              "\n",
              "    } while (position < fileData.byteLength);\n",
              "  }\n",
              "\n",
              "  // All done.\n",
              "  yield {\n",
              "    response: {\n",
              "      action: 'complete',\n",
              "    }\n",
              "  };\n",
              "}\n",
              "\n",
              "scope.google = scope.google || {};\n",
              "scope.google.colab = scope.google.colab || {};\n",
              "scope.google.colab._files = {\n",
              "  _uploadFiles,\n",
              "  _uploadFilesContinue,\n",
              "};\n",
              "})(self);\n",
              "</script> "
            ]
          },
          "metadata": {}
        },
        {
          "output_type": "stream",
          "name": "stdout",
          "text": [
            "Saving saudi_prep.csv to saudi_prep.csv\n",
            "Saving dataset_saudi.csv to dataset_saudi.csv\n",
            "Saving dataset_2018.csv to dataset_2018.csv\n"
          ]
        }
      ],
      "source": [
        "from google.colab import files\n",
        "uploaded = files.upload()"
      ]
    },
    {
      "cell_type": "code",
      "source": [
        "import os \n",
        "import pandas as pd\n",
        "import sklearn\n",
        "%matplotlib inline \n",
        "import matplotlib.pyplot as plt\n",
        "import numpy as np\n",
        "import seaborn as sns\n",
        "\n",
        "#Read in ASDTest dataset\n",
        "asd_2018_df = pd.read_csv(\"dataset_2018.csv\")\n",
        "\n",
        "asd_2018_df.info()"
      ],
      "metadata": {
        "colab": {
          "base_uri": "https://localhost:8080/"
        },
        "id": "6K0bQ7ObZngn",
        "outputId": "52bd6ac2-b539-45c8-f141-fedb8ef3b894"
      },
      "execution_count": 2,
      "outputs": [
        {
          "output_type": "stream",
          "name": "stdout",
          "text": [
            "<class 'pandas.core.frame.DataFrame'>\n",
            "RangeIndex: 1054 entries, 0 to 1053\n",
            "Data columns (total 19 columns):\n",
            " #   Column                  Non-Null Count  Dtype \n",
            "---  ------                  --------------  ----- \n",
            " 0   Case_No                 1054 non-null   int64 \n",
            " 1   A1                      1054 non-null   int64 \n",
            " 2   A2                      1054 non-null   int64 \n",
            " 3   A3                      1054 non-null   int64 \n",
            " 4   A4                      1054 non-null   int64 \n",
            " 5   A5                      1054 non-null   int64 \n",
            " 6   A6                      1054 non-null   int64 \n",
            " 7   A7                      1054 non-null   int64 \n",
            " 8   A8                      1054 non-null   int64 \n",
            " 9   A9                      1054 non-null   int64 \n",
            " 10  A10                     1054 non-null   int64 \n",
            " 11  Age_Mons                1054 non-null   int64 \n",
            " 12  Qchat-10-Score          1054 non-null   int64 \n",
            " 13  Sex                     1054 non-null   object\n",
            " 14  Ethnicity               1054 non-null   object\n",
            " 15  Jaundice                1054 non-null   object\n",
            " 16  Family_mem_with_ASD     1054 non-null   object\n",
            " 17  Who completed the test  1054 non-null   object\n",
            " 18  Class/ASD Traits        1054 non-null   object\n",
            "dtypes: int64(13), object(6)\n",
            "memory usage: 156.6+ KB\n"
          ]
        }
      ]
    },
    {
      "cell_type": "code",
      "source": [
        "asd_2018_df.rename(columns={'Class/ASD Traits ':'ASD_Traits'},inplace=True)"
      ],
      "metadata": {
        "id": "jfJLzYnflmog"
      },
      "execution_count": 3,
      "outputs": []
    },
    {
      "cell_type": "code",
      "source": [
        "mixed_df = asd_2018_df.drop(['Case_No','Qchat-10-Score'],axis=1)\n",
        "mixed_df.columns\n",
        "mixed_df.head()"
      ],
      "metadata": {
        "colab": {
          "base_uri": "https://localhost:8080/",
          "height": 206
        },
        "id": "-nBusCFoZqoQ",
        "outputId": "248e1b42-633a-4225-d973-4f538fd5dca4"
      },
      "execution_count": 4,
      "outputs": [
        {
          "output_type": "execute_result",
          "data": {
            "text/plain": [
              "   A1  A2  A3  A4  A5  A6  A7  A8  A9  A10  Age_Mons Sex       Ethnicity  \\\n",
              "0   0   0   0   0   0   0   1   1   0    1        28   f  middle eastern   \n",
              "1   1   1   0   0   0   1   1   0   0    0        36   m  White European   \n",
              "2   1   0   0   0   0   0   1   1   0    1        36   m  middle eastern   \n",
              "3   1   1   1   1   1   1   1   1   1    1        24   m        Hispanic   \n",
              "4   1   1   0   1   1   1   1   1   1    1        20   f  White European   \n",
              "\n",
              "  Jaundice Family_mem_with_ASD Who completed the test ASD_Traits  \n",
              "0      yes                  no          family member         No  \n",
              "1      yes                  no          family member        Yes  \n",
              "2      yes                  no          family member        Yes  \n",
              "3       no                  no          family member        Yes  \n",
              "4       no                 yes          family member        Yes  "
            ],
            "text/html": [
              "\n",
              "  <div id=\"df-6ab81331-f1bb-4268-9bfd-fa158643b759\">\n",
              "    <div class=\"colab-df-container\">\n",
              "      <div>\n",
              "<style scoped>\n",
              "    .dataframe tbody tr th:only-of-type {\n",
              "        vertical-align: middle;\n",
              "    }\n",
              "\n",
              "    .dataframe tbody tr th {\n",
              "        vertical-align: top;\n",
              "    }\n",
              "\n",
              "    .dataframe thead th {\n",
              "        text-align: right;\n",
              "    }\n",
              "</style>\n",
              "<table border=\"1\" class=\"dataframe\">\n",
              "  <thead>\n",
              "    <tr style=\"text-align: right;\">\n",
              "      <th></th>\n",
              "      <th>A1</th>\n",
              "      <th>A2</th>\n",
              "      <th>A3</th>\n",
              "      <th>A4</th>\n",
              "      <th>A5</th>\n",
              "      <th>A6</th>\n",
              "      <th>A7</th>\n",
              "      <th>A8</th>\n",
              "      <th>A9</th>\n",
              "      <th>A10</th>\n",
              "      <th>Age_Mons</th>\n",
              "      <th>Sex</th>\n",
              "      <th>Ethnicity</th>\n",
              "      <th>Jaundice</th>\n",
              "      <th>Family_mem_with_ASD</th>\n",
              "      <th>Who completed the test</th>\n",
              "      <th>ASD_Traits</th>\n",
              "    </tr>\n",
              "  </thead>\n",
              "  <tbody>\n",
              "    <tr>\n",
              "      <th>0</th>\n",
              "      <td>0</td>\n",
              "      <td>0</td>\n",
              "      <td>0</td>\n",
              "      <td>0</td>\n",
              "      <td>0</td>\n",
              "      <td>0</td>\n",
              "      <td>1</td>\n",
              "      <td>1</td>\n",
              "      <td>0</td>\n",
              "      <td>1</td>\n",
              "      <td>28</td>\n",
              "      <td>f</td>\n",
              "      <td>middle eastern</td>\n",
              "      <td>yes</td>\n",
              "      <td>no</td>\n",
              "      <td>family member</td>\n",
              "      <td>No</td>\n",
              "    </tr>\n",
              "    <tr>\n",
              "      <th>1</th>\n",
              "      <td>1</td>\n",
              "      <td>1</td>\n",
              "      <td>0</td>\n",
              "      <td>0</td>\n",
              "      <td>0</td>\n",
              "      <td>1</td>\n",
              "      <td>1</td>\n",
              "      <td>0</td>\n",
              "      <td>0</td>\n",
              "      <td>0</td>\n",
              "      <td>36</td>\n",
              "      <td>m</td>\n",
              "      <td>White European</td>\n",
              "      <td>yes</td>\n",
              "      <td>no</td>\n",
              "      <td>family member</td>\n",
              "      <td>Yes</td>\n",
              "    </tr>\n",
              "    <tr>\n",
              "      <th>2</th>\n",
              "      <td>1</td>\n",
              "      <td>0</td>\n",
              "      <td>0</td>\n",
              "      <td>0</td>\n",
              "      <td>0</td>\n",
              "      <td>0</td>\n",
              "      <td>1</td>\n",
              "      <td>1</td>\n",
              "      <td>0</td>\n",
              "      <td>1</td>\n",
              "      <td>36</td>\n",
              "      <td>m</td>\n",
              "      <td>middle eastern</td>\n",
              "      <td>yes</td>\n",
              "      <td>no</td>\n",
              "      <td>family member</td>\n",
              "      <td>Yes</td>\n",
              "    </tr>\n",
              "    <tr>\n",
              "      <th>3</th>\n",
              "      <td>1</td>\n",
              "      <td>1</td>\n",
              "      <td>1</td>\n",
              "      <td>1</td>\n",
              "      <td>1</td>\n",
              "      <td>1</td>\n",
              "      <td>1</td>\n",
              "      <td>1</td>\n",
              "      <td>1</td>\n",
              "      <td>1</td>\n",
              "      <td>24</td>\n",
              "      <td>m</td>\n",
              "      <td>Hispanic</td>\n",
              "      <td>no</td>\n",
              "      <td>no</td>\n",
              "      <td>family member</td>\n",
              "      <td>Yes</td>\n",
              "    </tr>\n",
              "    <tr>\n",
              "      <th>4</th>\n",
              "      <td>1</td>\n",
              "      <td>1</td>\n",
              "      <td>0</td>\n",
              "      <td>1</td>\n",
              "      <td>1</td>\n",
              "      <td>1</td>\n",
              "      <td>1</td>\n",
              "      <td>1</td>\n",
              "      <td>1</td>\n",
              "      <td>1</td>\n",
              "      <td>20</td>\n",
              "      <td>f</td>\n",
              "      <td>White European</td>\n",
              "      <td>no</td>\n",
              "      <td>yes</td>\n",
              "      <td>family member</td>\n",
              "      <td>Yes</td>\n",
              "    </tr>\n",
              "  </tbody>\n",
              "</table>\n",
              "</div>\n",
              "      <button class=\"colab-df-convert\" onclick=\"convertToInteractive('df-6ab81331-f1bb-4268-9bfd-fa158643b759')\"\n",
              "              title=\"Convert this dataframe to an interactive table.\"\n",
              "              style=\"display:none;\">\n",
              "        \n",
              "  <svg xmlns=\"http://www.w3.org/2000/svg\" height=\"24px\"viewBox=\"0 0 24 24\"\n",
              "       width=\"24px\">\n",
              "    <path d=\"M0 0h24v24H0V0z\" fill=\"none\"/>\n",
              "    <path d=\"M18.56 5.44l.94 2.06.94-2.06 2.06-.94-2.06-.94-.94-2.06-.94 2.06-2.06.94zm-11 1L8.5 8.5l.94-2.06 2.06-.94-2.06-.94L8.5 2.5l-.94 2.06-2.06.94zm10 10l.94 2.06.94-2.06 2.06-.94-2.06-.94-.94-2.06-.94 2.06-2.06.94z\"/><path d=\"M17.41 7.96l-1.37-1.37c-.4-.4-.92-.59-1.43-.59-.52 0-1.04.2-1.43.59L10.3 9.45l-7.72 7.72c-.78.78-.78 2.05 0 2.83L4 21.41c.39.39.9.59 1.41.59.51 0 1.02-.2 1.41-.59l7.78-7.78 2.81-2.81c.8-.78.8-2.07 0-2.86zM5.41 20L4 18.59l7.72-7.72 1.47 1.35L5.41 20z\"/>\n",
              "  </svg>\n",
              "      </button>\n",
              "      \n",
              "  <style>\n",
              "    .colab-df-container {\n",
              "      display:flex;\n",
              "      flex-wrap:wrap;\n",
              "      gap: 12px;\n",
              "    }\n",
              "\n",
              "    .colab-df-convert {\n",
              "      background-color: #E8F0FE;\n",
              "      border: none;\n",
              "      border-radius: 50%;\n",
              "      cursor: pointer;\n",
              "      display: none;\n",
              "      fill: #1967D2;\n",
              "      height: 32px;\n",
              "      padding: 0 0 0 0;\n",
              "      width: 32px;\n",
              "    }\n",
              "\n",
              "    .colab-df-convert:hover {\n",
              "      background-color: #E2EBFA;\n",
              "      box-shadow: 0px 1px 2px rgba(60, 64, 67, 0.3), 0px 1px 3px 1px rgba(60, 64, 67, 0.15);\n",
              "      fill: #174EA6;\n",
              "    }\n",
              "\n",
              "    [theme=dark] .colab-df-convert {\n",
              "      background-color: #3B4455;\n",
              "      fill: #D2E3FC;\n",
              "    }\n",
              "\n",
              "    [theme=dark] .colab-df-convert:hover {\n",
              "      background-color: #434B5C;\n",
              "      box-shadow: 0px 1px 3px 1px rgba(0, 0, 0, 0.15);\n",
              "      filter: drop-shadow(0px 1px 2px rgba(0, 0, 0, 0.3));\n",
              "      fill: #FFFFFF;\n",
              "    }\n",
              "  </style>\n",
              "\n",
              "      <script>\n",
              "        const buttonEl =\n",
              "          document.querySelector('#df-6ab81331-f1bb-4268-9bfd-fa158643b759 button.colab-df-convert');\n",
              "        buttonEl.style.display =\n",
              "          google.colab.kernel.accessAllowed ? 'block' : 'none';\n",
              "\n",
              "        async function convertToInteractive(key) {\n",
              "          const element = document.querySelector('#df-6ab81331-f1bb-4268-9bfd-fa158643b759');\n",
              "          const dataTable =\n",
              "            await google.colab.kernel.invokeFunction('convertToInteractive',\n",
              "                                                     [key], {});\n",
              "          if (!dataTable) return;\n",
              "\n",
              "          const docLinkHtml = 'Like what you see? Visit the ' +\n",
              "            '<a target=\"_blank\" href=https://colab.research.google.com/notebooks/data_table.ipynb>data table notebook</a>'\n",
              "            + ' to learn more about interactive tables.';\n",
              "          element.innerHTML = '';\n",
              "          dataTable['output_type'] = 'display_data';\n",
              "          await google.colab.output.renderOutput(dataTable, element);\n",
              "          const docLink = document.createElement('div');\n",
              "          docLink.innerHTML = docLinkHtml;\n",
              "          element.appendChild(docLink);\n",
              "        }\n",
              "      </script>\n",
              "    </div>\n",
              "  </div>\n",
              "  "
            ]
          },
          "metadata": {},
          "execution_count": 4
        }
      ]
    },
    {
      "cell_type": "code",
      "source": [
        "mixed_df['ASD_Traits'].value_counts()"
      ],
      "metadata": {
        "colab": {
          "base_uri": "https://localhost:8080/"
        },
        "id": "LwKeHRAsOjBJ",
        "outputId": "8f4d174c-c727-44c5-b534-3b1906fd40e9"
      },
      "execution_count": 5,
      "outputs": [
        {
          "output_type": "execute_result",
          "data": {
            "text/plain": [
              "Yes    728\n",
              "No     326\n",
              "Name: ASD_Traits, dtype: int64"
            ]
          },
          "metadata": {},
          "execution_count": 5
        }
      ]
    },
    {
      "cell_type": "code",
      "source": [
        "mixed_df['Age_Mons'].hist(bins=20, figsize=(10,8))"
      ],
      "metadata": {
        "colab": {
          "base_uri": "https://localhost:8080/",
          "height": 500
        },
        "id": "kkU9lDRmXTnr",
        "outputId": "31961e05-cf99-45c4-e0cb-6096db73811d"
      },
      "execution_count": 6,
      "outputs": [
        {
          "output_type": "execute_result",
          "data": {
            "text/plain": [
              "<AxesSubplot:>"
            ]
          },
          "metadata": {},
          "execution_count": 6
        },
        {
          "output_type": "display_data",
          "data": {
            "text/plain": [
              "<Figure size 720x576 with 1 Axes>"
            ],
            "image/png": "[encoded data removed]"
          },
          "metadata": {
            "needs_background": "light"
          }
        }
      ]
    },
    {
      "cell_type": "code",
      "source": [
        "mixed_df.shape "
      ],
      "metadata": {
        "colab": {
          "base_uri": "https://localhost:8080/"
        },
        "id": "tKQW1OXGOQ-K",
        "outputId": "162992fc-c30f-4e16-e594-0e42809a5ea9"
      },
      "execution_count": 7,
      "outputs": [
        {
          "output_type": "execute_result",
          "data": {
            "text/plain": [
              "(1054, 17)"
            ]
          },
          "metadata": {},
          "execution_count": 7
        }
      ]
    },
    {
      "cell_type": "code",
      "source": [
        "features=list(mixed_df)\n",
        "print(features)"
      ],
      "metadata": {
        "colab": {
          "base_uri": "https://localhost:8080/"
        },
        "id": "t2mPWeedZwgS",
        "outputId": "53fbf996-6f6d-4bf1-cb08-0f1c67ba22fd"
      },
      "execution_count": 8,
      "outputs": [
        {
          "output_type": "stream",
          "name": "stdout",
          "text": [
            "['A1', 'A2', 'A3', 'A4', 'A5', 'A6', 'A7', 'A8', 'A9', 'A10', 'Age_Mons', 'Sex', 'Ethnicity', 'Jaundice', 'Family_mem_with_ASD', 'Who completed the test', 'ASD_Traits']\n"
          ]
        }
      ]
    },
    {
      "cell_type": "code",
      "source": [
        "from sklearn.preprocessing import OneHotEncoder\n",
        "from sklearn.pipeline import Pipeline\n",
        "from sklearn.preprocessing import StandardScaler\n",
        "\n",
        "encoder = OneHotEncoder()\n",
        "scaler = StandardScaler()\n",
        "\n",
        "age = ['Age_Mons']\n",
        "char_vals = ['ASD_Traits','Sex', 'Jaundice', 'Family_mem_with_ASD','Who completed the test', 'Ethnicity']\n",
        "target = ['ASD_Traits']"
      ],
      "metadata": {
        "id": "0rxx0kkdZ2qG"
      },
      "execution_count": 9,
      "outputs": []
    },
    {
      "cell_type": "code",
      "source": [
        "def preprocess(age, char_vals, target, dataframe):\n",
        "  dataframe[age] = scaler.fit_transform(dataframe[age].values.reshape(-1,1)) \n",
        "\n",
        "  for c in char_vals:\n",
        "      dataframe[c] = encoder.fit_transform(dataframe[c].values.reshape(-1,1)).toarray()\n",
        "  print(dataframe.dtypes)\n",
        "  print(dataframe.head())"
      ],
      "metadata": {
        "id": "nehlOFE2xkMp"
      },
      "execution_count": 10,
      "outputs": []
    },
    {
      "cell_type": "code",
      "source": [
        "preprocess(age, char_vals, target, mixed_df)"
      ],
      "metadata": {
        "colab": {
          "base_uri": "https://localhost:8080/"
        },
        "id": "kLQMPfvryRJX",
        "outputId": "7572170a-c516-43b7-9a9e-b9912757e20e"
      },
      "execution_count": 11,
      "outputs": [
        {
          "output_type": "stream",
          "name": "stdout",
          "text": [
            "A1                          int64\n",
            "A2                          int64\n",
            "A3                          int64\n",
            "A4                          int64\n",
            "A5                          int64\n",
            "A6                          int64\n",
            "A7                          int64\n",
            "A8                          int64\n",
            "A9                          int64\n",
            "A10                         int64\n",
            "Age_Mons                  float64\n",
            "Sex                       float64\n",
            "Ethnicity                 float64\n",
            "Jaundice                  float64\n",
            "Family_mem_with_ASD       float64\n",
            "Who completed the test    float64\n",
            "ASD_Traits                float64\n",
            "dtype: object\n",
            "   A1  A2  A3  A4  A5  A6  A7  A8  A9  A10  Age_Mons  Sex  Ethnicity  \\\n",
            "0   0   0   0   0   0   0   1   1   0    1  0.016652  1.0        0.0   \n",
            "1   1   1   0   0   0   1   1   0   0    0  1.019590  0.0        0.0   \n",
            "2   1   0   0   0   0   0   1   1   0    1  1.019590  0.0        0.0   \n",
            "3   1   1   1   1   1   1   1   1   1    1 -0.484817  0.0        1.0   \n",
            "4   1   1   0   1   1   1   1   1   1    1 -0.986286  1.0        0.0   \n",
            "\n",
            "   Jaundice  Family_mem_with_ASD  Who completed the test  ASD_Traits  \n",
            "0       0.0                  1.0                     0.0         1.0  \n",
            "1       0.0                  1.0                     0.0         0.0  \n",
            "2       0.0                  1.0                     0.0         0.0  \n",
            "3       1.0                  1.0                     0.0         0.0  \n",
            "4       1.0                  0.0                     0.0         0.0  \n"
          ]
        }
      ]
    },
    {
      "cell_type": "code",
      "source": [
        "from sklearn.model_selection import train_test_split\n",
        "\n",
        "X_mixed, y_mixed = train_test_split(mixed_df, test_size=0.3, random_state=42)\n",
        "\n",
        "mixed_training = X_mixed.drop(\"ASD_Traits\", axis=1)\n",
        "mixed_class = X_mixed[\"ASD_Traits\"] "
      ],
      "metadata": {
        "id": "8ml4nnhiZ5rD"
      },
      "execution_count": 12,
      "outputs": []
    },
    {
      "cell_type": "code",
      "source": [
        "from sklearn.linear_model import LogisticRegression\n",
        "\n",
        "log_reg = LogisticRegression()\n",
        "\n",
        "log_reg.fit(mixed_training, mixed_class)\n"
      ],
      "metadata": {
        "colab": {
          "base_uri": "https://localhost:8080/"
        },
        "id": "iQ8dZPQ1aS9E",
        "outputId": "9adf8f42-6971-4a2a-ecbb-1dc29045f3bd"
      },
      "execution_count": 13,
      "outputs": [
        {
          "output_type": "execute_result",
          "data": {
            "text/plain": [
              "LogisticRegression()"
            ]
          },
          "metadata": {},
          "execution_count": 13
        }
      ]
    },
    {
      "cell_type": "code",
      "source": [
        "from sklearn.metrics import mean_squared_error\n",
        "from sklearn.metrics import r2_score\n",
        "\n",
        "def display_results(model, predictors, targets):\n",
        "  predictions = model.predict(predictors)\n",
        "  mse = mean_squared_error(targets, predictions)\n",
        "  rmse = np.sqrt(mse)\n",
        "\n",
        "  print(\"Root mean squared eror: \", rmse)\n",
        "  print(\"MSE: \", mse)\n",
        "  print(\"R2 Score: \", r2_score(targets, predictions))"
      ],
      "metadata": {
        "id": "qRdEtxg7aWQr"
      },
      "execution_count": 14,
      "outputs": []
    },
    {
      "cell_type": "code",
      "source": [
        "display_results(log_reg, mixed_training, mixed_class)"
      ],
      "metadata": {
        "colab": {
          "base_uri": "https://localhost:8080/"
        },
        "id": "fjKsMyz6XUwI",
        "outputId": "a9f1b3a3-fa46-4439-cdef-4991a9cdb8f0"
      },
      "execution_count": 15,
      "outputs": [
        {
          "output_type": "stream",
          "name": "stdout",
          "text": [
            "Root mean squared eror:  0.0\n",
            "MSE:  0.0\n",
            "R2 Score:  1.0\n"
          ]
        }
      ]
    },
    {
      "cell_type": "code",
      "source": [
        "mixed_test = y_mixed.drop(\"ASD_Traits\", axis=1)\n",
        "test_class = y_mixed[\"ASD_Traits\"]"
      ],
      "metadata": {
        "id": "QD-XULAVduIi"
      },
      "execution_count": 16,
      "outputs": []
    },
    {
      "cell_type": "code",
      "source": [
        "from sklearn.metrics import accuracy_score\n",
        "\n",
        "test_pred = log_reg.predict(mixed_test)\n",
        "\n",
        "accuracy_score(test_class, test_pred)"
      ],
      "metadata": {
        "colab": {
          "base_uri": "https://localhost:8080/"
        },
        "id": "DB0z7wWveGoz",
        "outputId": "11b2ab11-a7b4-469d-de8b-7addcadaa180"
      },
      "execution_count": 17,
      "outputs": [
        {
          "output_type": "execute_result",
          "data": {
            "text/plain": [
              "1.0"
            ]
          },
          "metadata": {},
          "execution_count": 17
        }
      ]
    },
    {
      "cell_type": "markdown",
      "source": [
        "**Logistic Regression with L1 penalty - Mixed dataset**"
      ],
      "metadata": {
        "id": "KJDu7vmLCJIb"
      }
    },
    {
      "cell_type": "code",
      "source": [
        "log_1_pen = LogisticRegression(penalty='l1', solver='liblinear')\n",
        "log_1_pen.fit(mixed_training, mixed_class)"
      ],
      "metadata": {
        "colab": {
          "base_uri": "https://localhost:8080/"
        },
        "id": "gZAm_fOhCIvC",
        "outputId": "227c63f3-e92b-442c-ebaf-8e84652201cc"
      },
      "execution_count": 18,
      "outputs": [
        {
          "output_type": "execute_result",
          "data": {
            "text/plain": [
              "LogisticRegression(penalty='l1', solver='liblinear')"
            ]
          },
          "metadata": {},
          "execution_count": 18
        }
      ]
    },
    {
      "cell_type": "code",
      "source": [
        "display_results(log_1_pen, mixed_training, mixed_class)"
      ],
      "metadata": {
        "colab": {
          "base_uri": "https://localhost:8080/"
        },
        "id": "gL6TyCzyDYiz",
        "outputId": "fd15a7f5-daf1-4e44-8f86-2a22d2b420c6"
      },
      "execution_count": 19,
      "outputs": [
        {
          "output_type": "stream",
          "name": "stdout",
          "text": [
            "Root mean squared eror:  0.0\n",
            "MSE:  0.0\n",
            "R2 Score:  1.0\n"
          ]
        }
      ]
    },
    {
      "cell_type": "code",
      "source": [
        "from sklearn.model_selection import cross_validate\n",
        "\n",
        "\n"
      ],
      "metadata": {
        "id": "CtOA7r9kuxHO"
      },
      "execution_count": 23,
      "outputs": []
    },
    {
      "cell_type": "code",
      "source": [
        "def cross_validation_results(model, predictors, target, metrics,cv):\n",
        "  results = cross_validate(model, predictors, target, scoring = metrics, return_train_score=False, cv=10)\n",
        "\n",
        "  print(\"Mean Test R2: \", results['test_r2'].mean())\n",
        "  rmse = np.sqrt(-results['test_neg_mean_squared_error']).mean()\n",
        "  print(\"Mean Test MSE: \", -results['test_neg_mean_squared_error'].mean())\n",
        "  print(\"Test std: \",np.sqrt(-results['test_neg_mean_squared_error']).std() )\n",
        "  print(\"RMSE Test: \", rmse)"
      ],
      "metadata": {
        "id": "_J6HQszsuAxb"
      },
      "execution_count": 24,
      "outputs": []
    },
    {
      "cell_type": "code",
      "source": [
        "metrics =['r2','neg_mean_squared_error']"
      ],
      "metadata": {
        "id": "WVkCWSWAb2BT"
      },
      "execution_count": 25,
      "outputs": []
    },
    {
      "cell_type": "code",
      "source": [
        "cross_validation_results(log_1_pen, mixed_training, mixed_class, metrics, 10)"
      ],
      "metadata": {
        "colab": {
          "base_uri": "https://localhost:8080/"
        },
        "id": "5j1y-BehDiya",
        "outputId": "bfd2a319-558e-440a-c6a5-80b6a07a0f2c"
      },
      "execution_count": 26,
      "outputs": [
        {
          "output_type": "stream",
          "name": "stdout",
          "text": [
            "Mean Test R2:  0.9936913895993179\n",
            "Mean Test MSE:  0.0013513513513513514\n",
            "Test std:  0.03487429162314579\n",
            "RMSE Test:  0.011624763874381928\n"
          ]
        }
      ]
    },
    {
      "cell_type": "markdown",
      "source": [
        "**Feature importance ( Coefficients )**"
      ],
      "metadata": {
        "id": "WA4uCehzq-Ug"
      }
    },
    {
      "cell_type": "code",
      "source": [
        "coef = np.abs(log_reg.coef_)\n",
        "sorted(zip(coef[0], np.array(features)), reverse=True)"
      ],
      "metadata": {
        "colab": {
          "base_uri": "https://localhost:8080/"
        },
        "id": "NEjl2tDR1GP0",
        "outputId": "87804fad-6127-4278-8612-0960cee5e438"
      },
      "execution_count": 27,
      "outputs": [
        {
          "output_type": "execute_result",
          "data": {
            "text/plain": [
              "[(2.7245885850553604, 'A9'),\n",
              " (2.65260045507795, 'A2'),\n",
              " (2.514351371542612, 'A8'),\n",
              " (2.423752735567937, 'A4'),\n",
              " (2.403881821494827, 'A5'),\n",
              " (2.2982497286027628, 'A7'),\n",
              " (2.2901220221802037, 'A6'),\n",
              " (2.1840290966852485, 'A1'),\n",
              " (2.1147146058941053, 'A10'),\n",
              " (1.860994972392139, 'A3'),\n",
              " (0.614236256699905, 'Jaundice'),\n",
              " (0.30137437965834735, 'Sex'),\n",
              " (0.15134210971533818, 'Ethnicity'),\n",
              " (0.11598289693087713, 'Family_mem_with_ASD'),\n",
              " (0.1000275877075814, 'Who completed the test'),\n",
              " (0.027433853774985525, 'Age_Mons')]"
            ]
          },
          "metadata": {},
          "execution_count": 27
        }
      ]
    },
    {
      "cell_type": "code",
      "source": [
        "sorted(zip(log_reg.coef_[0], np.array(features)), reverse=True)"
      ],
      "metadata": {
        "colab": {
          "base_uri": "https://localhost:8080/"
        },
        "id": "x1oQKNNYUKHn",
        "outputId": "a3768e30-1a72-4607-e44a-89073d3e7123"
      },
      "execution_count": 28,
      "outputs": [
        {
          "output_type": "execute_result",
          "data": {
            "text/plain": [
              "[(0.614236256699905, 'Jaundice'),\n",
              " (0.30137437965834735, 'Sex'),\n",
              " (0.15134210971533818, 'Ethnicity'),\n",
              " (-0.027433853774985525, 'Age_Mons'),\n",
              " (-0.1000275877075814, 'Who completed the test'),\n",
              " (-0.11598289693087713, 'Family_mem_with_ASD'),\n",
              " (-1.860994972392139, 'A3'),\n",
              " (-2.1147146058941053, 'A10'),\n",
              " (-2.1840290966852485, 'A1'),\n",
              " (-2.2901220221802037, 'A6'),\n",
              " (-2.2982497286027628, 'A7'),\n",
              " (-2.403881821494827, 'A5'),\n",
              " (-2.423752735567937, 'A4'),\n",
              " (-2.514351371542612, 'A8'),\n",
              " (-2.65260045507795, 'A2'),\n",
              " (-2.7245885850553604, 'A9')]"
            ]
          },
          "metadata": {},
          "execution_count": 28
        }
      ]
    },
    {
      "cell_type": "markdown",
      "source": [
        "**Log Odds Ratios**"
      ],
      "metadata": {
        "id": "HD6Srh5PrImK"
      }
    },
    {
      "cell_type": "code",
      "source": [
        "odds_ratios = np.exp(log_reg.coef_)\n",
        "# print(odds_ratios)\n",
        "sorted(zip(odds_ratios[0], np.array(features)), reverse=True)"
      ],
      "metadata": {
        "colab": {
          "base_uri": "https://localhost:8080/"
        },
        "id": "QHliL7dMKeon",
        "outputId": "b70253d0-48d7-4ca6-9d21-e712137a8e93"
      },
      "execution_count": 29,
      "outputs": [
        {
          "output_type": "execute_result",
          "data": {
            "text/plain": [
              "[(1.8482444760415169, 'Jaundice'),\n",
              " (1.351715301534312, 'Sex'),\n",
              " (1.163394598603234, 'Ethnicity'),\n",
              " (0.9729390366694846, 'Age_Mons'),\n",
              " (0.9048124559901864, 'Who completed the test'),\n",
              " (0.8904904532870083, 'Family_mem_with_ASD'),\n",
              " (0.15551781742864146, 'A3'),\n",
              " (0.12066772249621724, 'A10'),\n",
              " (0.11258699168964191, 'A1'),\n",
              " (0.10125410585329488, 'A6'),\n",
              " (0.10043447756790244, 'A7'),\n",
              " (0.09036648499829322, 'A5'),\n",
              " (0.08858854350292021, 'A4'),\n",
              " (0.08091537920666336, 'A8'),\n",
              " (0.07046772643243032, 'A2'),\n",
              " (0.06557317495339682, 'A9')]"
            ]
          },
          "metadata": {},
          "execution_count": 29
        }
      ]
    },
    {
      "cell_type": "code",
      "source": [
        "from sklearn.feature_selection import RFE\n",
        "\n",
        "selector = RFE(log_reg, n_features_to_select=1)\n",
        "selector = selector.fit(mixed_training, mixed_class)"
      ],
      "metadata": {
        "id": "KLWhEIX11sY0"
      },
      "execution_count": 30,
      "outputs": []
    },
    {
      "cell_type": "code",
      "source": [
        "order = selector.ranking_\n",
        "order"
      ],
      "metadata": {
        "colab": {
          "base_uri": "https://localhost:8080/"
        },
        "id": "ZGeyFBbW2K88",
        "outputId": "6a29b17f-15a2-48fa-d632-b4adaba25665"
      },
      "execution_count": 31,
      "outputs": [
        {
          "output_type": "execute_result",
          "data": {
            "text/plain": [
              "array([ 6,  3, 10,  4,  2,  8,  7,  5,  1,  9, 16, 12, 13, 11, 14, 15])"
            ]
          },
          "metadata": {},
          "execution_count": 31
        }
      ]
    },
    {
      "cell_type": "code",
      "source": [
        "feature_ranks = []\n",
        "\n",
        "for i in order:\n",
        "  feature_ranks.append(f\"{i}. {features[i-1]}\")\n",
        "feature_ranks"
      ],
      "metadata": {
        "colab": {
          "base_uri": "https://localhost:8080/"
        },
        "id": "nuvXzDUi2ROv",
        "outputId": "5d6363f5-8061-4be0-9f4c-b36c775f5d64"
      },
      "execution_count": 32,
      "outputs": [
        {
          "output_type": "execute_result",
          "data": {
            "text/plain": [
              "['6. A6',\n",
              " '3. A3',\n",
              " '10. A10',\n",
              " '4. A4',\n",
              " '2. A2',\n",
              " '8. A8',\n",
              " '7. A7',\n",
              " '5. A5',\n",
              " '1. A1',\n",
              " '9. A9',\n",
              " '16. Who completed the test',\n",
              " '12. Sex',\n",
              " '13. Ethnicity',\n",
              " '11. Age_Mons',\n",
              " '14. Jaundice',\n",
              " '15. Family_mem_with_ASD']"
            ]
          },
          "metadata": {},
          "execution_count": 32
        }
      ]
    },
    {
      "cell_type": "code",
      "source": [
        "selector.score(mixed_training, mixed_class)"
      ],
      "metadata": {
        "colab": {
          "base_uri": "https://localhost:8080/"
        },
        "id": "NcRv-Obj5d0m",
        "outputId": "51792619-244a-470f-ae67-5eedc04d9cf3"
      },
      "execution_count": 33,
      "outputs": [
        {
          "output_type": "execute_result",
          "data": {
            "text/plain": [
              "0.7598371777476255"
            ]
          },
          "metadata": {},
          "execution_count": 33
        }
      ]
    },
    {
      "cell_type": "code",
      "source": [
        "cross_validation_results(log_reg,mixed_training, mixed_class,metrics, 10)"
      ],
      "metadata": {
        "colab": {
          "base_uri": "https://localhost:8080/"
        },
        "id": "3cvPvffWwf7q",
        "outputId": "2e9259f5-67de-4f16-da1b-9035274fe7e1"
      },
      "execution_count": 34,
      "outputs": [
        {
          "output_type": "stream",
          "name": "stdout",
          "text": [
            "Mean Test R2:  0.9936913895993179\n",
            "Mean Test MSE:  0.0013513513513513514\n",
            "Test std:  0.03487429162314579\n",
            "RMSE Test:  0.011624763874381928\n"
          ]
        }
      ]
    },
    {
      "cell_type": "markdown",
      "source": [
        "**Female Dataset**"
      ],
      "metadata": {
        "id": "GC6EtV7mesOk"
      }
    },
    {
      "cell_type": "code",
      "source": [
        "females = asd_2018_df[asd_2018_df['Sex']=='f']\n",
        "females = females.drop(['Case_No','Qchat-10-Score'], axis=1)\n",
        "females.info()"
      ],
      "metadata": {
        "colab": {
          "base_uri": "https://localhost:8080/"
        },
        "id": "zHkgp0ylLHLn",
        "outputId": "28387100-1ff6-4c26-af2d-3599c89be569"
      },
      "execution_count": 35,
      "outputs": [
        {
          "output_type": "stream",
          "name": "stdout",
          "text": [
            "<class 'pandas.core.frame.DataFrame'>\n",
            "Int64Index: 319 entries, 0 to 1049\n",
            "Data columns (total 17 columns):\n",
            " #   Column                  Non-Null Count  Dtype \n",
            "---  ------                  --------------  ----- \n",
            " 0   A1                      319 non-null    int64 \n",
            " 1   A2                      319 non-null    int64 \n",
            " 2   A3                      319 non-null    int64 \n",
            " 3   A4                      319 non-null    int64 \n",
            " 4   A5                      319 non-null    int64 \n",
            " 5   A6                      319 non-null    int64 \n",
            " 6   A7                      319 non-null    int64 \n",
            " 7   A8                      319 non-null    int64 \n",
            " 8   A9                      319 non-null    int64 \n",
            " 9   A10                     319 non-null    int64 \n",
            " 10  Age_Mons                319 non-null    int64 \n",
            " 11  Sex                     319 non-null    object\n",
            " 12  Ethnicity               319 non-null    object\n",
            " 13  Jaundice                319 non-null    object\n",
            " 14  Family_mem_with_ASD     319 non-null    object\n",
            " 15  Who completed the test  319 non-null    object\n",
            " 16  ASD_Traits              319 non-null    object\n",
            "dtypes: int64(11), object(6)\n",
            "memory usage: 44.9+ KB\n"
          ]
        }
      ]
    },
    {
      "cell_type": "code",
      "source": [
        "preprocess(age,char_vals, target, females)"
      ],
      "metadata": {
        "colab": {
          "base_uri": "https://localhost:8080/"
        },
        "id": "iPeY1A4qywRG",
        "outputId": "ceb4f80f-1823-469e-9d06-03147ce7e425"
      },
      "execution_count": 36,
      "outputs": [
        {
          "output_type": "stream",
          "name": "stdout",
          "text": [
            "A1                          int64\n",
            "A2                          int64\n",
            "A3                          int64\n",
            "A4                          int64\n",
            "A5                          int64\n",
            "A6                          int64\n",
            "A7                          int64\n",
            "A8                          int64\n",
            "A9                          int64\n",
            "A10                         int64\n",
            "Age_Mons                  float64\n",
            "Sex                       float64\n",
            "Ethnicity                 float64\n",
            "Jaundice                  float64\n",
            "Family_mem_with_ASD       float64\n",
            "Who completed the test    float64\n",
            "ASD_Traits                float64\n",
            "dtype: object\n",
            "    A1  A2  A3  A4  A5  A6  A7  A8  A9  A10  Age_Mons  Sex  Ethnicity  \\\n",
            "0    0   0   0   0   0   0   1   1   0    1  0.197673  1.0        0.0   \n",
            "4    1   1   0   1   1   1   1   1   1    1 -0.736515  1.0        0.0   \n",
            "12   0   0   0   0   0   0   0   0   0    0 -0.152647  1.0        0.0   \n",
            "13   1   1   1   1   0   0   1   0   1    1 -1.320382  1.0        0.0   \n",
            "17   1   1   1   0   1   1   1   1   0    1 -1.670702  1.0        0.0   \n",
            "\n",
            "    Jaundice  Family_mem_with_ASD  Who completed the test  ASD_Traits  \n",
            "0        0.0                  1.0                     0.0         1.0  \n",
            "4        1.0                  0.0                     0.0         0.0  \n",
            "12       0.0                  1.0                     0.0         1.0  \n",
            "13       0.0                  1.0                     0.0         0.0  \n",
            "17       0.0                  1.0                     0.0         0.0  \n"
          ]
        }
      ]
    },
    {
      "cell_type": "code",
      "source": [
        "X_fem, y_fem = train_test_split(females, test_size=0.3, random_state=42)\n",
        "\n",
        "fem_train = X_fem.drop(\"ASD_Traits\", axis=1)\n",
        "fem_class = X_fem[\"ASD_Traits\"]"
      ],
      "metadata": {
        "id": "rtJc_T97LRa7"
      },
      "execution_count": 37,
      "outputs": []
    },
    {
      "cell_type": "code",
      "source": [
        "f_log_reg = LogisticRegression()\n",
        "\n",
        "f_log_reg.fit(fem_train, fem_class)"
      ],
      "metadata": {
        "colab": {
          "base_uri": "https://localhost:8080/"
        },
        "id": "flkCeyZALnP_",
        "outputId": "079250e4-594e-4762-b78a-9287d9c19940"
      },
      "execution_count": 38,
      "outputs": [
        {
          "output_type": "execute_result",
          "data": {
            "text/plain": [
              "LogisticRegression()"
            ]
          },
          "metadata": {},
          "execution_count": 38
        }
      ]
    },
    {
      "cell_type": "markdown",
      "source": [
        "**Feature importance**"
      ],
      "metadata": {
        "id": "XbflIuQFQKDN"
      }
    },
    {
      "cell_type": "code",
      "source": [
        "coef = np.abs(f_log_reg.coef_)\n",
        "sorted(zip(coef[0], np.array(features)), reverse=True)"
      ],
      "metadata": {
        "colab": {
          "base_uri": "https://localhost:8080/"
        },
        "id": "MYj7yAJgO2mK",
        "outputId": "734d74e9-58a9-4fa6-8655-dc943fbf93d4"
      },
      "execution_count": 39,
      "outputs": [
        {
          "output_type": "execute_result",
          "data": {
            "text/plain": [
              "[(1.855899159098125, 'A8'),\n",
              " (1.7764349932000716, 'A1'),\n",
              " (1.6776398586990622, 'A3'),\n",
              " (1.6644636446840841, 'A5'),\n",
              " (1.5139283259224292, 'A6'),\n",
              " (1.4959969725194175, 'A2'),\n",
              " (1.4692997545901285, 'A4'),\n",
              " (1.1727055267157467, 'A9'),\n",
              " (1.1401879818292706, 'A7'),\n",
              " (1.0460779197262202, 'A10'),\n",
              " (0.2870601486274916, 'Family_mem_with_ASD'),\n",
              " (0.15737619579735296, 'Age_Mons'),\n",
              " (0.09792130460899905, 'Ethnicity'),\n",
              " (0.09726287097520851, 'Jaundice'),\n",
              " (0.0637953628137045, 'Who completed the test'),\n",
              " (2.7319617819293182e-05, 'Sex')]"
            ]
          },
          "metadata": {},
          "execution_count": 39
        }
      ]
    },
    {
      "cell_type": "code",
      "source": [
        "display_results(f_log_reg, fem_train, fem_class)"
      ],
      "metadata": {
        "colab": {
          "base_uri": "https://localhost:8080/"
        },
        "id": "RWzf3IrRL1fk",
        "outputId": "9c14efd4-e590-49b3-f080-b70bb1a8292e"
      },
      "execution_count": 40,
      "outputs": [
        {
          "output_type": "stream",
          "name": "stdout",
          "text": [
            "Root mean squared eror:  0.0\n",
            "MSE:  0.0\n",
            "R2 Score:  1.0\n"
          ]
        }
      ]
    },
    {
      "cell_type": "code",
      "source": [
        "cross_validation_results(f_log_reg, fem_train, fem_class, metrics, 10)"
      ],
      "metadata": {
        "colab": {
          "base_uri": "https://localhost:8080/"
        },
        "id": "9JX9qADmw_ED",
        "outputId": "88f778dd-0163-4dd2-e25a-8a6f0638d516"
      },
      "execution_count": 41,
      "outputs": [
        {
          "output_type": "stream",
          "name": "stdout",
          "text": [
            "Mean Test R2:  0.9629426129426129\n",
            "Mean Test MSE:  0.008893280632411068\n",
            "Test std:  0.08434953538829475\n",
            "RMSE Test:  0.042171513041268524\n"
          ]
        }
      ]
    },
    {
      "cell_type": "markdown",
      "source": [
        "**Accuracy of model trained on female data only**"
      ],
      "metadata": {
        "id": "ATuYiQ50AJDy"
      }
    },
    {
      "cell_type": "markdown",
      "source": [
        "Accuracy is calculated for the mixed dataset features and targets."
      ],
      "metadata": {
        "id": "pw-DqoA9AN9K"
      }
    },
    {
      "cell_type": "code",
      "source": [
        "fem_pred = f_log_reg.predict(mixed_test)\n",
        "\n",
        "accuracy_score(test_class, fem_pred)"
      ],
      "metadata": {
        "colab": {
          "base_uri": "https://localhost:8080/"
        },
        "id": "q72mSe8-Y_VW",
        "outputId": "2e596162-dc1f-4395-8dba-f5e3668cb7e5"
      },
      "execution_count": 42,
      "outputs": [
        {
          "output_type": "execute_result",
          "data": {
            "text/plain": [
              "0.9905362776025236"
            ]
          },
          "metadata": {},
          "execution_count": 42
        }
      ]
    },
    {
      "cell_type": "markdown",
      "source": [
        "**Male dataset**"
      ],
      "metadata": {
        "id": "_wvmTIGuRIIf"
      }
    },
    {
      "cell_type": "code",
      "source": [
        "males = asd_2018_df[asd_2018_df['Sex']=='m']\n",
        "males = males.drop(['Case_No','Qchat-10-Score'], axis=1)\n",
        "males.info()"
      ],
      "metadata": {
        "colab": {
          "base_uri": "https://localhost:8080/"
        },
        "id": "d5dTwk4SRLhb",
        "outputId": "c4443214-e23d-4c4d-fdaa-ca75f88278b2"
      },
      "execution_count": 43,
      "outputs": [
        {
          "output_type": "stream",
          "name": "stdout",
          "text": [
            "<class 'pandas.core.frame.DataFrame'>\n",
            "Int64Index: 735 entries, 1 to 1053\n",
            "Data columns (total 17 columns):\n",
            " #   Column                  Non-Null Count  Dtype \n",
            "---  ------                  --------------  ----- \n",
            " 0   A1                      735 non-null    int64 \n",
            " 1   A2                      735 non-null    int64 \n",
            " 2   A3                      735 non-null    int64 \n",
            " 3   A4                      735 non-null    int64 \n",
            " 4   A5                      735 non-null    int64 \n",
            " 5   A6                      735 non-null    int64 \n",
            " 6   A7                      735 non-null    int64 \n",
            " 7   A8                      735 non-null    int64 \n",
            " 8   A9                      735 non-null    int64 \n",
            " 9   A10                     735 non-null    int64 \n",
            " 10  Age_Mons                735 non-null    int64 \n",
            " 11  Sex                     735 non-null    object\n",
            " 12  Ethnicity               735 non-null    object\n",
            " 13  Jaundice                735 non-null    object\n",
            " 14  Family_mem_with_ASD     735 non-null    object\n",
            " 15  Who completed the test  735 non-null    object\n",
            " 16  ASD_Traits              735 non-null    object\n",
            "dtypes: int64(11), object(6)\n",
            "memory usage: 103.4+ KB\n"
          ]
        }
      ]
    },
    {
      "cell_type": "code",
      "source": [
        "preprocess(age, char_vals, target, males)"
      ],
      "metadata": {
        "id": "1H3ys74GRZXy",
        "colab": {
          "base_uri": "https://localhost:8080/"
        },
        "outputId": "07a498c4-9b6a-438a-c51e-e50103e1a76c"
      },
      "execution_count": 44,
      "outputs": [
        {
          "output_type": "stream",
          "name": "stdout",
          "text": [
            "A1                          int64\n",
            "A2                          int64\n",
            "A3                          int64\n",
            "A4                          int64\n",
            "A5                          int64\n",
            "A6                          int64\n",
            "A7                          int64\n",
            "A8                          int64\n",
            "A9                          int64\n",
            "A10                         int64\n",
            "Age_Mons                  float64\n",
            "Sex                       float64\n",
            "Ethnicity                 float64\n",
            "Jaundice                  float64\n",
            "Family_mem_with_ASD       float64\n",
            "Who completed the test    float64\n",
            "ASD_Traits                float64\n",
            "dtype: object\n",
            "   A1  A2  A3  A4  A5  A6  A7  A8  A9  A10  Age_Mons  Sex  Ethnicity  \\\n",
            "1   1   1   0   0   0   1   1   0   0    0  0.979862  1.0        0.0   \n",
            "2   1   0   0   0   0   0   1   1   0    1  0.979862  1.0        0.0   \n",
            "3   1   1   1   1   1   1   1   1   1    1 -0.597215  1.0        1.0   \n",
            "5   1   1   0   0   1   1   1   1   1    1 -0.991485  1.0        0.0   \n",
            "6   1   0   0   1   1   1   0   0   1    0  0.585593  1.0        0.0   \n",
            "\n",
            "   Jaundice  Family_mem_with_ASD  Who completed the test  ASD_Traits  \n",
            "1       0.0                  1.0                     0.0         0.0  \n",
            "2       0.0                  1.0                     0.0         0.0  \n",
            "3       1.0                  1.0                     0.0         0.0  \n",
            "5       1.0                  1.0                     0.0         0.0  \n",
            "6       0.0                  1.0                     0.0         0.0  \n"
          ]
        }
      ]
    },
    {
      "cell_type": "code",
      "source": [
        "X_m, y_m = train_test_split(males, test_size=0.3, random_state=42)\n",
        "\n",
        "m_train = X_m.drop(\"ASD_Traits\", axis=1)\n",
        "m_class = X_m[\"ASD_Traits\"]"
      ],
      "metadata": {
        "id": "cDdf63OlRspI"
      },
      "execution_count": 45,
      "outputs": []
    },
    {
      "cell_type": "code",
      "source": [
        "m_log_reg = LogisticRegression()\n",
        "\n",
        "m_log_reg.fit(m_train, m_class)"
      ],
      "metadata": {
        "colab": {
          "base_uri": "https://localhost:8080/"
        },
        "id": "QZ5MTceaR2vt",
        "outputId": "09e67df7-35cd-4035-ba8c-f5f0e64302cc"
      },
      "execution_count": 46,
      "outputs": [
        {
          "output_type": "execute_result",
          "data": {
            "text/plain": [
              "LogisticRegression()"
            ]
          },
          "metadata": {},
          "execution_count": 46
        }
      ]
    },
    {
      "cell_type": "code",
      "source": [
        "coef = np.abs(m_log_reg.coef_)\n",
        "sorted(zip(coef[0], np.array(features)), reverse=True)"
      ],
      "metadata": {
        "id": "PIQs7ThXR-Tv",
        "outputId": "33839145-d4b3-41bf-94e6-09d6ed355784",
        "colab": {
          "base_uri": "https://localhost:8080/"
        }
      },
      "execution_count": 47,
      "outputs": [
        {
          "output_type": "execute_result",
          "data": {
            "text/plain": [
              "[(2.6441942916461407, 'A9'),\n",
              " (2.29891123247169, 'A2'),\n",
              " (2.2818014634610573, 'A7'),\n",
              " (2.1256282731441307, 'A6'),\n",
              " (2.0003394999799555, 'A8'),\n",
              " (1.936737698161668, 'A5'),\n",
              " (1.8906024171427558, 'A10'),\n",
              " (1.775464124423448, 'A1'),\n",
              " (1.7162104877243967, 'A3'),\n",
              " (1.6671069845007285, 'A4'),\n",
              " (0.34677014746047813, 'Jaundice'),\n",
              " (0.2662128999826258, 'Family_mem_with_ASD'),\n",
              " (0.10639772860125826, 'Ethnicity'),\n",
              " (0.05452117572316278, 'Who completed the test'),\n",
              " (0.03788599099829091, 'Age_Mons'),\n",
              " (0.000185209106282706, 'Sex')]"
            ]
          },
          "metadata": {},
          "execution_count": 47
        }
      ]
    },
    {
      "cell_type": "markdown",
      "source": [
        "**Saudi Mixed**"
      ],
      "metadata": {
        "id": "KkGuKA04e3mV"
      }
    },
    {
      "cell_type": "code",
      "source": [
        "saudi_df = pd.read_csv(\"saudi_prep.csv\")"
      ],
      "metadata": {
        "id": "rjvfXFsrZHmT"
      },
      "execution_count": 48,
      "outputs": []
    },
    {
      "cell_type": "code",
      "source": [
        "saudi_df.head()"
      ],
      "metadata": {
        "colab": {
          "base_uri": "https://localhost:8080/",
          "height": 206
        },
        "id": "5x1R1qx8ZtZP",
        "outputId": "a0ef2462-9b11-486c-93fa-77d662b609c5"
      },
      "execution_count": 49,
      "outputs": [
        {
          "output_type": "execute_result",
          "data": {
            "text/plain": [
              "   A1  A2  A3  A4  A5  A6  A7  A8  A9  A10  Age_Mons     Sex  \\\n",
              "0   0   0   0   0   0   1   1   1   0    0        32  Female   \n",
              "1   0   0   1   0   1   0   0   1   0    0        30  Female   \n",
              "2   0   0   0   0   0   0   1   0   0    0        36    Male   \n",
              "3   0   0   0   0   0   0   0   0   0    0        36  Female   \n",
              "4   0   0   0   0   0   0   0   0   0    0        36  Female   \n",
              "\n",
              "  Family_mem_with_ASD Who completed the test  ASD_Traits  \n",
              "0                  No          Family member           0  \n",
              "1                  No          Family member           0  \n",
              "2                  No          Family member           0  \n",
              "3                 Yes          Family member           0  \n",
              "4                  No          Family member           0  "
            ],
            "text/html": [
              "\n",
              "  <div id=\"df-ae2a4cd6-1a2d-42b6-8dae-18a17697eb2f\">\n",
              "    <div class=\"colab-df-container\">\n",
              "      <div>\n",
              "<style scoped>\n",
              "    .dataframe tbody tr th:only-of-type {\n",
              "        vertical-align: middle;\n",
              "    }\n",
              "\n",
              "    .dataframe tbody tr th {\n",
              "        vertical-align: top;\n",
              "    }\n",
              "\n",
              "    .dataframe thead th {\n",
              "        text-align: right;\n",
              "    }\n",
              "</style>\n",
              "<table border=\"1\" class=\"dataframe\">\n",
              "  <thead>\n",
              "    <tr style=\"text-align: right;\">\n",
              "      <th></th>\n",
              "      <th>A1</th>\n",
              "      <th>A2</th>\n",
              "      <th>A3</th>\n",
              "      <th>A4</th>\n",
              "      <th>A5</th>\n",
              "      <th>A6</th>\n",
              "      <th>A7</th>\n",
              "      <th>A8</th>\n",
              "      <th>A9</th>\n",
              "      <th>A10</th>\n",
              "      <th>Age_Mons</th>\n",
              "      <th>Sex</th>\n",
              "      <th>Family_mem_with_ASD</th>\n",
              "      <th>Who completed the test</th>\n",
              "      <th>ASD_Traits</th>\n",
              "    </tr>\n",
              "  </thead>\n",
              "  <tbody>\n",
              "    <tr>\n",
              "      <th>0</th>\n",
              "      <td>0</td>\n",
              "      <td>0</td>\n",
              "      <td>0</td>\n",
              "      <td>0</td>\n",
              "      <td>0</td>\n",
              "      <td>1</td>\n",
              "      <td>1</td>\n",
              "      <td>1</td>\n",
              "      <td>0</td>\n",
              "      <td>0</td>\n",
              "      <td>32</td>\n",
              "      <td>Female</td>\n",
              "      <td>No</td>\n",
              "      <td>Family member</td>\n",
              "      <td>0</td>\n",
              "    </tr>\n",
              "    <tr>\n",
              "      <th>1</th>\n",
              "      <td>0</td>\n",
              "      <td>0</td>\n",
              "      <td>1</td>\n",
              "      <td>0</td>\n",
              "      <td>1</td>\n",
              "      <td>0</td>\n",
              "      <td>0</td>\n",
              "      <td>1</td>\n",
              "      <td>0</td>\n",
              "      <td>0</td>\n",
              "      <td>30</td>\n",
              "      <td>Female</td>\n",
              "      <td>No</td>\n",
              "      <td>Family member</td>\n",
              "      <td>0</td>\n",
              "    </tr>\n",
              "    <tr>\n",
              "      <th>2</th>\n",
              "      <td>0</td>\n",
              "      <td>0</td>\n",
              "      <td>0</td>\n",
              "      <td>0</td>\n",
              "      <td>0</td>\n",
              "      <td>0</td>\n",
              "      <td>1</td>\n",
              "      <td>0</td>\n",
              "      <td>0</td>\n",
              "      <td>0</td>\n",
              "      <td>36</td>\n",
              "      <td>Male</td>\n",
              "      <td>No</td>\n",
              "      <td>Family member</td>\n",
              "      <td>0</td>\n",
              "    </tr>\n",
              "    <tr>\n",
              "      <th>3</th>\n",
              "      <td>0</td>\n",
              "      <td>0</td>\n",
              "      <td>0</td>\n",
              "      <td>0</td>\n",
              "      <td>0</td>\n",
              "      <td>0</td>\n",
              "      <td>0</td>\n",
              "      <td>0</td>\n",
              "      <td>0</td>\n",
              "      <td>0</td>\n",
              "      <td>36</td>\n",
              "      <td>Female</td>\n",
              "      <td>Yes</td>\n",
              "      <td>Family member</td>\n",
              "      <td>0</td>\n",
              "    </tr>\n",
              "    <tr>\n",
              "      <th>4</th>\n",
              "      <td>0</td>\n",
              "      <td>0</td>\n",
              "      <td>0</td>\n",
              "      <td>0</td>\n",
              "      <td>0</td>\n",
              "      <td>0</td>\n",
              "      <td>0</td>\n",
              "      <td>0</td>\n",
              "      <td>0</td>\n",
              "      <td>0</td>\n",
              "      <td>36</td>\n",
              "      <td>Female</td>\n",
              "      <td>No</td>\n",
              "      <td>Family member</td>\n",
              "      <td>0</td>\n",
              "    </tr>\n",
              "  </tbody>\n",
              "</table>\n",
              "</div>\n",
              "      <button class=\"colab-df-convert\" onclick=\"convertToInteractive('df-ae2a4cd6-1a2d-42b6-8dae-18a17697eb2f')\"\n",
              "              title=\"Convert this dataframe to an interactive table.\"\n",
              "              style=\"display:none;\">\n",
              "        \n",
              "  <svg xmlns=\"http://www.w3.org/2000/svg\" height=\"24px\"viewBox=\"0 0 24 24\"\n",
              "       width=\"24px\">\n",
              "    <path d=\"M0 0h24v24H0V0z\" fill=\"none\"/>\n",
              "    <path d=\"M18.56 5.44l.94 2.06.94-2.06 2.06-.94-2.06-.94-.94-2.06-.94 2.06-2.06.94zm-11 1L8.5 8.5l.94-2.06 2.06-.94-2.06-.94L8.5 2.5l-.94 2.06-2.06.94zm10 10l.94 2.06.94-2.06 2.06-.94-2.06-.94-.94-2.06-.94 2.06-2.06.94z\"/><path d=\"M17.41 7.96l-1.37-1.37c-.4-.4-.92-.59-1.43-.59-.52 0-1.04.2-1.43.59L10.3 9.45l-7.72 7.72c-.78.78-.78 2.05 0 2.83L4 21.41c.39.39.9.59 1.41.59.51 0 1.02-.2 1.41-.59l7.78-7.78 2.81-2.81c.8-.78.8-2.07 0-2.86zM5.41 20L4 18.59l7.72-7.72 1.47 1.35L5.41 20z\"/>\n",
              "  </svg>\n",
              "      </button>\n",
              "      \n",
              "  <style>\n",
              "    .colab-df-container {\n",
              "      display:flex;\n",
              "      flex-wrap:wrap;\n",
              "      gap: 12px;\n",
              "    }\n",
              "\n",
              "    .colab-df-convert {\n",
              "      background-color: #E8F0FE;\n",
              "      border: none;\n",
              "      border-radius: 50%;\n",
              "      cursor: pointer;\n",
              "      display: none;\n",
              "      fill: #1967D2;\n",
              "      height: 32px;\n",
              "      padding: 0 0 0 0;\n",
              "      width: 32px;\n",
              "    }\n",
              "\n",
              "    .colab-df-convert:hover {\n",
              "      background-color: #E2EBFA;\n",
              "      box-shadow: 0px 1px 2px rgba(60, 64, 67, 0.3), 0px 1px 3px 1px rgba(60, 64, 67, 0.15);\n",
              "      fill: #174EA6;\n",
              "    }\n",
              "\n",
              "    [theme=dark] .colab-df-convert {\n",
              "      background-color: #3B4455;\n",
              "      fill: #D2E3FC;\n",
              "    }\n",
              "\n",
              "    [theme=dark] .colab-df-convert:hover {\n",
              "      background-color: #434B5C;\n",
              "      box-shadow: 0px 1px 3px 1px rgba(0, 0, 0, 0.15);\n",
              "      filter: drop-shadow(0px 1px 2px rgba(0, 0, 0, 0.3));\n",
              "      fill: #FFFFFF;\n",
              "    }\n",
              "  </style>\n",
              "\n",
              "      <script>\n",
              "        const buttonEl =\n",
              "          document.querySelector('#df-ae2a4cd6-1a2d-42b6-8dae-18a17697eb2f button.colab-df-convert');\n",
              "        buttonEl.style.display =\n",
              "          google.colab.kernel.accessAllowed ? 'block' : 'none';\n",
              "\n",
              "        async function convertToInteractive(key) {\n",
              "          const element = document.querySelector('#df-ae2a4cd6-1a2d-42b6-8dae-18a17697eb2f');\n",
              "          const dataTable =\n",
              "            await google.colab.kernel.invokeFunction('convertToInteractive',\n",
              "                                                     [key], {});\n",
              "          if (!dataTable) return;\n",
              "\n",
              "          const docLinkHtml = 'Like what you see? Visit the ' +\n",
              "            '<a target=\"_blank\" href=https://colab.research.google.com/notebooks/data_table.ipynb>data table notebook</a>'\n",
              "            + ' to learn more about interactive tables.';\n",
              "          element.innerHTML = '';\n",
              "          dataTable['output_type'] = 'display_data';\n",
              "          await google.colab.output.renderOutput(dataTable, element);\n",
              "          const docLink = document.createElement('div');\n",
              "          docLink.innerHTML = docLinkHtml;\n",
              "          element.appendChild(docLink);\n",
              "        }\n",
              "      </script>\n",
              "    </div>\n",
              "  </div>\n",
              "  "
            ]
          },
          "metadata": {},
          "execution_count": 49
        }
      ]
    },
    {
      "cell_type": "code",
      "source": [
        "saudi_df.info()"
      ],
      "metadata": {
        "colab": {
          "base_uri": "https://localhost:8080/"
        },
        "id": "8t4we-K7Afxy",
        "outputId": "db5ac66d-5167-45cb-9ba9-cb0468e86285"
      },
      "execution_count": 50,
      "outputs": [
        {
          "output_type": "stream",
          "name": "stdout",
          "text": [
            "<class 'pandas.core.frame.DataFrame'>\n",
            "RangeIndex: 506 entries, 0 to 505\n",
            "Data columns (total 15 columns):\n",
            " #   Column                  Non-Null Count  Dtype \n",
            "---  ------                  --------------  ----- \n",
            " 0   A1                      506 non-null    int64 \n",
            " 1   A2                      506 non-null    int64 \n",
            " 2   A3                      506 non-null    int64 \n",
            " 3   A4                      506 non-null    int64 \n",
            " 4   A5                      506 non-null    int64 \n",
            " 5   A6                      506 non-null    int64 \n",
            " 6   A7                      506 non-null    int64 \n",
            " 7   A8                      506 non-null    int64 \n",
            " 8   A9                      506 non-null    int64 \n",
            " 9   A10                     506 non-null    int64 \n",
            " 10  Age_Mons                506 non-null    int64 \n",
            " 11  Sex                     506 non-null    object\n",
            " 12  Family_mem_with_ASD     506 non-null    object\n",
            " 13  Who completed the test  506 non-null    object\n",
            " 14  ASD_Traits              506 non-null    int64 \n",
            "dtypes: int64(12), object(3)\n",
            "memory usage: 59.4+ KB\n"
          ]
        }
      ]
    },
    {
      "cell_type": "code",
      "source": [
        "chars = ['ASD_Traits','Sex', 'Family_mem_with_ASD','Who completed the test']"
      ],
      "metadata": {
        "id": "u_ch2LMMjE2J"
      },
      "execution_count": 51,
      "outputs": []
    },
    {
      "cell_type": "code",
      "source": [
        "preprocess(age, chars, target, saudi_df)"
      ],
      "metadata": {
        "id": "tKIarG1fzATQ",
        "colab": {
          "base_uri": "https://localhost:8080/"
        },
        "outputId": "cde528f7-13b6-42c7-ea7b-04ed4e2361ef"
      },
      "execution_count": 52,
      "outputs": [
        {
          "output_type": "stream",
          "name": "stdout",
          "text": [
            "A1                          int64\n",
            "A2                          int64\n",
            "A3                          int64\n",
            "A4                          int64\n",
            "A5                          int64\n",
            "A6                          int64\n",
            "A7                          int64\n",
            "A8                          int64\n",
            "A9                          int64\n",
            "A10                         int64\n",
            "Age_Mons                  float64\n",
            "Sex                       float64\n",
            "Family_mem_with_ASD       float64\n",
            "Who completed the test    float64\n",
            "ASD_Traits                float64\n",
            "dtype: object\n",
            "   A1  A2  A3  A4  A5  A6  A7  A8  A9  A10  Age_Mons  Sex  \\\n",
            "0   0   0   0   0   0   1   1   1   0    0  0.905853  1.0   \n",
            "1   0   0   1   0   1   0   0   1   0    0  0.665936  1.0   \n",
            "2   0   0   0   0   0   0   1   0   0    0  1.385687  0.0   \n",
            "3   0   0   0   0   0   0   0   0   0    0  1.385687  1.0   \n",
            "4   0   0   0   0   0   0   0   0   0    0  1.385687  1.0   \n",
            "\n",
            "   Family_mem_with_ASD  Who completed the test  ASD_Traits  \n",
            "0                  1.0                     1.0         1.0  \n",
            "1                  1.0                     1.0         1.0  \n",
            "2                  1.0                     1.0         1.0  \n",
            "3                  0.0                     1.0         1.0  \n",
            "4                  1.0                     1.0         1.0  \n"
          ]
        }
      ]
    },
    {
      "cell_type": "code",
      "source": [
        "X_saudi, y_saudi = train_test_split(saudi_df, test_size=0.3, random_state=42)\n",
        "\n",
        "saudi_train = X_saudi.drop(\"ASD_Traits\", axis=1)\n",
        "saudi_class = X_saudi[\"ASD_Traits\"]\n",
        "saudi_test = y_saudi.drop(\"ASD_Traits\", axis=1)\n",
        "saudi_test_class = y_saudi[\"ASD_Traits\"]"
      ],
      "metadata": {
        "id": "p0UypQGPj0OQ"
      },
      "execution_count": 53,
      "outputs": []
    },
    {
      "cell_type": "code",
      "source": [
        "saudi_log = LogisticRegression()\n",
        "\n",
        "saudi_log.fit(saudi_train, saudi_class)"
      ],
      "metadata": {
        "colab": {
          "base_uri": "https://localhost:8080/"
        },
        "id": "wpqYUE68rqEv",
        "outputId": "fb8977a9-1c42-480d-9dc8-bdfdc29c5a3b"
      },
      "execution_count": 54,
      "outputs": [
        {
          "output_type": "execute_result",
          "data": {
            "text/plain": [
              "LogisticRegression()"
            ]
          },
          "metadata": {},
          "execution_count": 54
        }
      ]
    },
    {
      "cell_type": "code",
      "source": [
        "display_results(saudi_log, saudi_train, saudi_class)"
      ],
      "metadata": {
        "colab": {
          "base_uri": "https://localhost:8080/"
        },
        "id": "tG68D07FsBTQ",
        "outputId": "339db892-0325-4638-95fa-3f3ec0ef87ef"
      },
      "execution_count": 55,
      "outputs": [
        {
          "output_type": "stream",
          "name": "stdout",
          "text": [
            "Root mean squared eror:  0.053149400345273386\n",
            "MSE:  0.002824858757062147\n",
            "R2 Score:  0.9870614035087719\n"
          ]
        }
      ]
    },
    {
      "cell_type": "code",
      "source": [
        "cross_validation_results(saudi_log, saudi_train, saudi_class, metrics, 10)"
      ],
      "metadata": {
        "colab": {
          "base_uri": "https://localhost:8080/"
        },
        "id": "gL2DvCWFvCe_",
        "outputId": "fcf062aa-670c-4056-80da-da3bd31bed7d"
      },
      "execution_count": 56,
      "outputs": [
        {
          "output_type": "stream",
          "name": "stdout",
          "text": [
            "Mean Test R2:  0.9484848484848485\n",
            "Mean Test MSE:  0.011269841269841268\n",
            "Test std:  0.08940728964420293\n",
            "RMSE Test:  0.057237905520021205\n"
          ]
        }
      ]
    },
    {
      "cell_type": "code",
      "source": [
        "saudi_pred = saudi_log.predict(saudi_test)\n",
        "accuracy_score(saudi_test_class, saudi_pred)"
      ],
      "metadata": {
        "colab": {
          "base_uri": "https://localhost:8080/"
        },
        "id": "c1qLH5WXkFru",
        "outputId": "9f9ec25a-fff1-4296-dc11-d28b47367d71"
      },
      "execution_count": 57,
      "outputs": [
        {
          "output_type": "execute_result",
          "data": {
            "text/plain": [
              "0.993421052631579"
            ]
          },
          "metadata": {},
          "execution_count": 57
        }
      ]
    },
    {
      "cell_type": "markdown",
      "source": [
        "**New mixed dataset ( 2018 dataset )**"
      ],
      "metadata": {
        "id": "W7Vx6COqhahk"
      }
    },
    {
      "cell_type": "markdown",
      "source": [
        "Training a new logistic regression model with features matching the saudi arabian dataset."
      ],
      "metadata": {
        "id": "bT2eRguChgyj"
      }
    },
    {
      "cell_type": "code",
      "source": [
        "new_mixed = mixed_df.copy()\n",
        "new_mixed = new_mixed.drop(['Ethnicity','Jaundice'], axis=1)\n",
        "new_mixed"
      ],
      "metadata": {
        "id": "px1yZXITfBll",
        "colab": {
          "base_uri": "https://localhost:8080/",
          "height": 424
        },
        "outputId": "c26e6eef-f5c6-4c25-96a2-d04bfc9da324"
      },
      "execution_count": 58,
      "outputs": [
        {
          "output_type": "execute_result",
          "data": {
            "text/plain": [
              "      A1  A2  A3  A4  A5  A6  A7  A8  A9  A10  Age_Mons  Sex  \\\n",
              "0      0   0   0   0   0   0   1   1   0    1  0.016652  1.0   \n",
              "1      1   1   0   0   0   1   1   0   0    0  1.019590  0.0   \n",
              "2      1   0   0   0   0   0   1   1   0    1  1.019590  0.0   \n",
              "3      1   1   1   1   1   1   1   1   1    1 -0.484817  0.0   \n",
              "4      1   1   0   1   1   1   1   1   1    1 -0.986286  1.0   \n",
              "...   ..  ..  ..  ..  ..  ..  ..  ..  ..  ...       ...  ...   \n",
              "1049   0   0   0   0   0   0   0   0   0    1 -0.484817  1.0   \n",
              "1050   0   0   1   1   1   0   1   0   1    0 -1.989223  0.0   \n",
              "1051   1   0   1   1   1   1   1   1   1    1 -1.237020  0.0   \n",
              "1052   1   0   0   0   0   0   0   1   0    1 -1.111653  0.0   \n",
              "1053   1   1   0   0   1   1   0   1   1    0 -0.484817  0.0   \n",
              "\n",
              "      Family_mem_with_ASD  Who completed the test  ASD_Traits  \n",
              "0                     1.0                     0.0         1.0  \n",
              "1                     1.0                     0.0         0.0  \n",
              "2                     1.0                     0.0         0.0  \n",
              "3                     1.0                     0.0         0.0  \n",
              "4                     0.0                     0.0         0.0  \n",
              "...                   ...                     ...         ...  \n",
              "1049                  0.0                     0.0         1.0  \n",
              "1050                  1.0                     0.0         0.0  \n",
              "1051                  1.0                     0.0         0.0  \n",
              "1052                  0.0                     0.0         1.0  \n",
              "1053                  0.0                     0.0         0.0  \n",
              "\n",
              "[1054 rows x 15 columns]"
            ],
            "text/html": [
              "\n",
              "  <div id=\"df-838a53f6-94fa-45dc-91d5-7d138e23a3ab\">\n",
              "    <div class=\"colab-df-container\">\n",
              "      <div>\n",
              "<style scoped>\n",
              "    .dataframe tbody tr th:only-of-type {\n",
              "        vertical-align: middle;\n",
              "    }\n",
              "\n",
              "    .dataframe tbody tr th {\n",
              "        vertical-align: top;\n",
              "    }\n",
              "\n",
              "    .dataframe thead th {\n",
              "        text-align: right;\n",
              "    }\n",
              "</style>\n",
              "<table border=\"1\" class=\"dataframe\">\n",
              "  <thead>\n",
              "    <tr style=\"text-align: right;\">\n",
              "      <th></th>\n",
              "      <th>A1</th>\n",
              "      <th>A2</th>\n",
              "      <th>A3</th>\n",
              "      <th>A4</th>\n",
              "      <th>A5</th>\n",
              "      <th>A6</th>\n",
              "      <th>A7</th>\n",
              "      <th>A8</th>\n",
              "      <th>A9</th>\n",
              "      <th>A10</th>\n",
              "      <th>Age_Mons</th>\n",
              "      <th>Sex</th>\n",
              "      <th>Family_mem_with_ASD</th>\n",
              "      <th>Who completed the test</th>\n",
              "      <th>ASD_Traits</th>\n",
              "    </tr>\n",
              "  </thead>\n",
              "  <tbody>\n",
              "    <tr>\n",
              "      <th>0</th>\n",
              "      <td>0</td>\n",
              "      <td>0</td>\n",
              "      <td>0</td>\n",
              "      <td>0</td>\n",
              "      <td>0</td>\n",
              "      <td>0</td>\n",
              "      <td>1</td>\n",
              "      <td>1</td>\n",
              "      <td>0</td>\n",
              "      <td>1</td>\n",
              "      <td>0.016652</td>\n",
              "      <td>1.0</td>\n",
              "      <td>1.0</td>\n",
              "      <td>0.0</td>\n",
              "      <td>1.0</td>\n",
              "    </tr>\n",
              "    <tr>\n",
              "      <th>1</th>\n",
              "      <td>1</td>\n",
              "      <td>1</td>\n",
              "      <td>0</td>\n",
              "      <td>0</td>\n",
              "      <td>0</td>\n",
              "      <td>1</td>\n",
              "      <td>1</td>\n",
              "      <td>0</td>\n",
              "      <td>0</td>\n",
              "      <td>0</td>\n",
              "      <td>1.019590</td>\n",
              "      <td>0.0</td>\n",
              "      <td>1.0</td>\n",
              "      <td>0.0</td>\n",
              "      <td>0.0</td>\n",
              "    </tr>\n",
              "    <tr>\n",
              "      <th>2</th>\n",
              "      <td>1</td>\n",
              "      <td>0</td>\n",
              "      <td>0</td>\n",
              "      <td>0</td>\n",
              "      <td>0</td>\n",
              "      <td>0</td>\n",
              "      <td>1</td>\n",
              "      <td>1</td>\n",
              "      <td>0</td>\n",
              "      <td>1</td>\n",
              "      <td>1.019590</td>\n",
              "      <td>0.0</td>\n",
              "      <td>1.0</td>\n",
              "      <td>0.0</td>\n",
              "      <td>0.0</td>\n",
              "    </tr>\n",
              "    <tr>\n",
              "      <th>3</th>\n",
              "      <td>1</td>\n",
              "      <td>1</td>\n",
              "      <td>1</td>\n",
              "      <td>1</td>\n",
              "      <td>1</td>\n",
              "      <td>1</td>\n",
              "      <td>1</td>\n",
              "      <td>1</td>\n",
              "      <td>1</td>\n",
              "      <td>1</td>\n",
              "      <td>-0.484817</td>\n",
              "      <td>0.0</td>\n",
              "      <td>1.0</td>\n",
              "      <td>0.0</td>\n",
              "      <td>0.0</td>\n",
              "    </tr>\n",
              "    <tr>\n",
              "      <th>4</th>\n",
              "      <td>1</td>\n",
              "      <td>1</td>\n",
              "      <td>0</td>\n",
              "      <td>1</td>\n",
              "      <td>1</td>\n",
              "      <td>1</td>\n",
              "      <td>1</td>\n",
              "      <td>1</td>\n",
              "      <td>1</td>\n",
              "      <td>1</td>\n",
              "      <td>-0.986286</td>\n",
              "      <td>1.0</td>\n",
              "      <td>0.0</td>\n",
              "      <td>0.0</td>\n",
              "      <td>0.0</td>\n",
              "    </tr>\n",
              "    <tr>\n",
              "      <th>...</th>\n",
              "      <td>...</td>\n",
              "      <td>...</td>\n",
              "      <td>...</td>\n",
              "      <td>...</td>\n",
              "      <td>...</td>\n",
              "      <td>...</td>\n",
              "      <td>...</td>\n",
              "      <td>...</td>\n",
              "      <td>...</td>\n",
              "      <td>...</td>\n",
              "      <td>...</td>\n",
              "      <td>...</td>\n",
              "      <td>...</td>\n",
              "      <td>...</td>\n",
              "      <td>...</td>\n",
              "    </tr>\n",
              "    <tr>\n",
              "      <th>1049</th>\n",
              "      <td>0</td>\n",
              "      <td>0</td>\n",
              "      <td>0</td>\n",
              "      <td>0</td>\n",
              "      <td>0</td>\n",
              "      <td>0</td>\n",
              "      <td>0</td>\n",
              "      <td>0</td>\n",
              "      <td>0</td>\n",
              "      <td>1</td>\n",
              "      <td>-0.484817</td>\n",
              "      <td>1.0</td>\n",
              "      <td>0.0</td>\n",
              "      <td>0.0</td>\n",
              "      <td>1.0</td>\n",
              "    </tr>\n",
              "    <tr>\n",
              "      <th>1050</th>\n",
              "      <td>0</td>\n",
              "      <td>0</td>\n",
              "      <td>1</td>\n",
              "      <td>1</td>\n",
              "      <td>1</td>\n",
              "      <td>0</td>\n",
              "      <td>1</td>\n",
              "      <td>0</td>\n",
              "      <td>1</td>\n",
              "      <td>0</td>\n",
              "      <td>-1.989223</td>\n",
              "      <td>0.0</td>\n",
              "      <td>1.0</td>\n",
              "      <td>0.0</td>\n",
              "      <td>0.0</td>\n",
              "    </tr>\n",
              "    <tr>\n",
              "      <th>1051</th>\n",
              "      <td>1</td>\n",
              "      <td>0</td>\n",
              "      <td>1</td>\n",
              "      <td>1</td>\n",
              "      <td>1</td>\n",
              "      <td>1</td>\n",
              "      <td>1</td>\n",
              "      <td>1</td>\n",
              "      <td>1</td>\n",
              "      <td>1</td>\n",
              "      <td>-1.237020</td>\n",
              "      <td>0.0</td>\n",
              "      <td>1.0</td>\n",
              "      <td>0.0</td>\n",
              "      <td>0.0</td>\n",
              "    </tr>\n",
              "    <tr>\n",
              "      <th>1052</th>\n",
              "      <td>1</td>\n",
              "      <td>0</td>\n",
              "      <td>0</td>\n",
              "      <td>0</td>\n",
              "      <td>0</td>\n",
              "      <td>0</td>\n",
              "      <td>0</td>\n",
              "      <td>1</td>\n",
              "      <td>0</td>\n",
              "      <td>1</td>\n",
              "      <td>-1.111653</td>\n",
              "      <td>0.0</td>\n",
              "      <td>0.0</td>\n",
              "      <td>0.0</td>\n",
              "      <td>1.0</td>\n",
              "    </tr>\n",
              "    <tr>\n",
              "      <th>1053</th>\n",
              "      <td>1</td>\n",
              "      <td>1</td>\n",
              "      <td>0</td>\n",
              "      <td>0</td>\n",
              "      <td>1</td>\n",
              "      <td>1</td>\n",
              "      <td>0</td>\n",
              "      <td>1</td>\n",
              "      <td>1</td>\n",
              "      <td>0</td>\n",
              "      <td>-0.484817</td>\n",
              "      <td>0.0</td>\n",
              "      <td>0.0</td>\n",
              "      <td>0.0</td>\n",
              "      <td>0.0</td>\n",
              "    </tr>\n",
              "  </tbody>\n",
              "</table>\n",
              "<p>1054 rows × 15 columns</p>\n",
              "</div>\n",
              "      <button class=\"colab-df-convert\" onclick=\"convertToInteractive('df-838a53f6-94fa-45dc-91d5-7d138e23a3ab')\"\n",
              "              title=\"Convert this dataframe to an interactive table.\"\n",
              "              style=\"display:none;\">\n",
              "        \n",
              "  <svg xmlns=\"http://www.w3.org/2000/svg\" height=\"24px\"viewBox=\"0 0 24 24\"\n",
              "       width=\"24px\">\n",
              "    <path d=\"M0 0h24v24H0V0z\" fill=\"none\"/>\n",
              "    <path d=\"M18.56 5.44l.94 2.06.94-2.06 2.06-.94-2.06-.94-.94-2.06-.94 2.06-2.06.94zm-11 1L8.5 8.5l.94-2.06 2.06-.94-2.06-.94L8.5 2.5l-.94 2.06-2.06.94zm10 10l.94 2.06.94-2.06 2.06-.94-2.06-.94-.94-2.06-.94 2.06-2.06.94z\"/><path d=\"M17.41 7.96l-1.37-1.37c-.4-.4-.92-.59-1.43-.59-.52 0-1.04.2-1.43.59L10.3 9.45l-7.72 7.72c-.78.78-.78 2.05 0 2.83L4 21.41c.39.39.9.59 1.41.59.51 0 1.02-.2 1.41-.59l7.78-7.78 2.81-2.81c.8-.78.8-2.07 0-2.86zM5.41 20L4 18.59l7.72-7.72 1.47 1.35L5.41 20z\"/>\n",
              "  </svg>\n",
              "      </button>\n",
              "      \n",
              "  <style>\n",
              "    .colab-df-container {\n",
              "      display:flex;\n",
              "      flex-wrap:wrap;\n",
              "      gap: 12px;\n",
              "    }\n",
              "\n",
              "    .colab-df-convert {\n",
              "      background-color: #E8F0FE;\n",
              "      border: none;\n",
              "      border-radius: 50%;\n",
              "      cursor: pointer;\n",
              "      display: none;\n",
              "      fill: #1967D2;\n",
              "      height: 32px;\n",
              "      padding: 0 0 0 0;\n",
              "      width: 32px;\n",
              "    }\n",
              "\n",
              "    .colab-df-convert:hover {\n",
              "      background-color: #E2EBFA;\n",
              "      box-shadow: 0px 1px 2px rgba(60, 64, 67, 0.3), 0px 1px 3px 1px rgba(60, 64, 67, 0.15);\n",
              "      fill: #174EA6;\n",
              "    }\n",
              "\n",
              "    [theme=dark] .colab-df-convert {\n",
              "      background-color: #3B4455;\n",
              "      fill: #D2E3FC;\n",
              "    }\n",
              "\n",
              "    [theme=dark] .colab-df-convert:hover {\n",
              "      background-color: #434B5C;\n",
              "      box-shadow: 0px 1px 3px 1px rgba(0, 0, 0, 0.15);\n",
              "      filter: drop-shadow(0px 1px 2px rgba(0, 0, 0, 0.3));\n",
              "      fill: #FFFFFF;\n",
              "    }\n",
              "  </style>\n",
              "\n",
              "      <script>\n",
              "        const buttonEl =\n",
              "          document.querySelector('#df-838a53f6-94fa-45dc-91d5-7d138e23a3ab button.colab-df-convert');\n",
              "        buttonEl.style.display =\n",
              "          google.colab.kernel.accessAllowed ? 'block' : 'none';\n",
              "\n",
              "        async function convertToInteractive(key) {\n",
              "          const element = document.querySelector('#df-838a53f6-94fa-45dc-91d5-7d138e23a3ab');\n",
              "          const dataTable =\n",
              "            await google.colab.kernel.invokeFunction('convertToInteractive',\n",
              "                                                     [key], {});\n",
              "          if (!dataTable) return;\n",
              "\n",
              "          const docLinkHtml = 'Like what you see? Visit the ' +\n",
              "            '<a target=\"_blank\" href=https://colab.research.google.com/notebooks/data_table.ipynb>data table notebook</a>'\n",
              "            + ' to learn more about interactive tables.';\n",
              "          element.innerHTML = '';\n",
              "          dataTable['output_type'] = 'display_data';\n",
              "          await google.colab.output.renderOutput(dataTable, element);\n",
              "          const docLink = document.createElement('div');\n",
              "          docLink.innerHTML = docLinkHtml;\n",
              "          element.appendChild(docLink);\n",
              "        }\n",
              "      </script>\n",
              "    </div>\n",
              "  </div>\n",
              "  "
            ]
          },
          "metadata": {},
          "execution_count": 58
        }
      ]
    },
    {
      "cell_type": "code",
      "source": [
        "new_mixed.drop(labels=range(506,1054), axis=0)"
      ],
      "metadata": {
        "colab": {
          "base_uri": "https://localhost:8080/",
          "height": 424
        },
        "id": "o_dzPed3A7c-",
        "outputId": "e6b5990b-1d43-4371-df5e-61ae8c74f272"
      },
      "execution_count": 59,
      "outputs": [
        {
          "output_type": "execute_result",
          "data": {
            "text/plain": [
              "     A1  A2  A3  A4  A5  A6  A7  A8  A9  A10  Age_Mons  Sex  \\\n",
              "0     0   0   0   0   0   0   1   1   0    1  0.016652  1.0   \n",
              "1     1   1   0   0   0   1   1   0   0    0  1.019590  0.0   \n",
              "2     1   0   0   0   0   0   1   1   0    1  1.019590  0.0   \n",
              "3     1   1   1   1   1   1   1   1   1    1 -0.484817  0.0   \n",
              "4     1   1   0   1   1   1   1   1   1    1 -0.986286  1.0   \n",
              "..   ..  ..  ..  ..  ..  ..  ..  ..  ..  ...       ...  ...   \n",
              "501   1   1   0   0   1   0   0   0   0    1  1.019590  0.0   \n",
              "502   0   1   1   1   1   1   1   0   1    1 -1.989223  0.0   \n",
              "503   1   1   0   1   1   1   0   1   1    0  1.019590  0.0   \n",
              "504   1   0   1   0   1   0   0   0   0    0  1.019590  0.0   \n",
              "505   0   1   1   0   0   0   0   1   0    1  1.019590  0.0   \n",
              "\n",
              "     Family_mem_with_ASD  Who completed the test  ASD_Traits  \n",
              "0                    1.0                     0.0         1.0  \n",
              "1                    1.0                     0.0         0.0  \n",
              "2                    1.0                     0.0         0.0  \n",
              "3                    1.0                     0.0         0.0  \n",
              "4                    0.0                     0.0         0.0  \n",
              "..                   ...                     ...         ...  \n",
              "501                  1.0                     0.0         0.0  \n",
              "502                  0.0                     0.0         0.0  \n",
              "503                  1.0                     0.0         0.0  \n",
              "504                  1.0                     0.0         1.0  \n",
              "505                  1.0                     0.0         0.0  \n",
              "\n",
              "[506 rows x 15 columns]"
            ],
            "text/html": [
              "\n",
              "  <div id=\"df-3441cd52-90f9-46f3-849b-915da258f54d\">\n",
              "    <div class=\"colab-df-container\">\n",
              "      <div>\n",
              "<style scoped>\n",
              "    .dataframe tbody tr th:only-of-type {\n",
              "        vertical-align: middle;\n",
              "    }\n",
              "\n",
              "    .dataframe tbody tr th {\n",
              "        vertical-align: top;\n",
              "    }\n",
              "\n",
              "    .dataframe thead th {\n",
              "        text-align: right;\n",
              "    }\n",
              "</style>\n",
              "<table border=\"1\" class=\"dataframe\">\n",
              "  <thead>\n",
              "    <tr style=\"text-align: right;\">\n",
              "      <th></th>\n",
              "      <th>A1</th>\n",
              "      <th>A2</th>\n",
              "      <th>A3</th>\n",
              "      <th>A4</th>\n",
              "      <th>A5</th>\n",
              "      <th>A6</th>\n",
              "      <th>A7</th>\n",
              "      <th>A8</th>\n",
              "      <th>A9</th>\n",
              "      <th>A10</th>\n",
              "      <th>Age_Mons</th>\n",
              "      <th>Sex</th>\n",
              "      <th>Family_mem_with_ASD</th>\n",
              "      <th>Who completed the test</th>\n",
              "      <th>ASD_Traits</th>\n",
              "    </tr>\n",
              "  </thead>\n",
              "  <tbody>\n",
              "    <tr>\n",
              "      <th>0</th>\n",
              "      <td>0</td>\n",
              "      <td>0</td>\n",
              "      <td>0</td>\n",
              "      <td>0</td>\n",
              "      <td>0</td>\n",
              "      <td>0</td>\n",
              "      <td>1</td>\n",
              "      <td>1</td>\n",
              "      <td>0</td>\n",
              "      <td>1</td>\n",
              "      <td>0.016652</td>\n",
              "      <td>1.0</td>\n",
              "      <td>1.0</td>\n",
              "      <td>0.0</td>\n",
              "      <td>1.0</td>\n",
              "    </tr>\n",
              "    <tr>\n",
              "      <th>1</th>\n",
              "      <td>1</td>\n",
              "      <td>1</td>\n",
              "      <td>0</td>\n",
              "      <td>0</td>\n",
              "      <td>0</td>\n",
              "      <td>1</td>\n",
              "      <td>1</td>\n",
              "      <td>0</td>\n",
              "      <td>0</td>\n",
              "      <td>0</td>\n",
              "      <td>1.019590</td>\n",
              "      <td>0.0</td>\n",
              "      <td>1.0</td>\n",
              "      <td>0.0</td>\n",
              "      <td>0.0</td>\n",
              "    </tr>\n",
              "    <tr>\n",
              "      <th>2</th>\n",
              "      <td>1</td>\n",
              "      <td>0</td>\n",
              "      <td>0</td>\n",
              "      <td>0</td>\n",
              "      <td>0</td>\n",
              "      <td>0</td>\n",
              "      <td>1</td>\n",
              "      <td>1</td>\n",
              "      <td>0</td>\n",
              "      <td>1</td>\n",
              "      <td>1.019590</td>\n",
              "      <td>0.0</td>\n",
              "      <td>1.0</td>\n",
              "      <td>0.0</td>\n",
              "      <td>0.0</td>\n",
              "    </tr>\n",
              "    <tr>\n",
              "      <th>3</th>\n",
              "      <td>1</td>\n",
              "      <td>1</td>\n",
              "      <td>1</td>\n",
              "      <td>1</td>\n",
              "      <td>1</td>\n",
              "      <td>1</td>\n",
              "      <td>1</td>\n",
              "      <td>1</td>\n",
              "      <td>1</td>\n",
              "      <td>1</td>\n",
              "      <td>-0.484817</td>\n",
              "      <td>0.0</td>\n",
              "      <td>1.0</td>\n",
              "      <td>0.0</td>\n",
              "      <td>0.0</td>\n",
              "    </tr>\n",
              "    <tr>\n",
              "      <th>4</th>\n",
              "      <td>1</td>\n",
              "      <td>1</td>\n",
              "      <td>0</td>\n",
              "      <td>1</td>\n",
              "      <td>1</td>\n",
              "      <td>1</td>\n",
              "      <td>1</td>\n",
              "      <td>1</td>\n",
              "      <td>1</td>\n",
              "      <td>1</td>\n",
              "      <td>-0.986286</td>\n",
              "      <td>1.0</td>\n",
              "      <td>0.0</td>\n",
              "      <td>0.0</td>\n",
              "      <td>0.0</td>\n",
              "    </tr>\n",
              "    <tr>\n",
              "      <th>...</th>\n",
              "      <td>...</td>\n",
              "      <td>...</td>\n",
              "      <td>...</td>\n",
              "      <td>...</td>\n",
              "      <td>...</td>\n",
              "      <td>...</td>\n",
              "      <td>...</td>\n",
              "      <td>...</td>\n",
              "      <td>...</td>\n",
              "      <td>...</td>\n",
              "      <td>...</td>\n",
              "      <td>...</td>\n",
              "      <td>...</td>\n",
              "      <td>...</td>\n",
              "      <td>...</td>\n",
              "    </tr>\n",
              "    <tr>\n",
              "      <th>501</th>\n",
              "      <td>1</td>\n",
              "      <td>1</td>\n",
              "      <td>0</td>\n",
              "      <td>0</td>\n",
              "      <td>1</td>\n",
              "      <td>0</td>\n",
              "      <td>0</td>\n",
              "      <td>0</td>\n",
              "      <td>0</td>\n",
              "      <td>1</td>\n",
              "      <td>1.019590</td>\n",
              "      <td>0.0</td>\n",
              "      <td>1.0</td>\n",
              "      <td>0.0</td>\n",
              "      <td>0.0</td>\n",
              "    </tr>\n",
              "    <tr>\n",
              "      <th>502</th>\n",
              "      <td>0</td>\n",
              "      <td>1</td>\n",
              "      <td>1</td>\n",
              "      <td>1</td>\n",
              "      <td>1</td>\n",
              "      <td>1</td>\n",
              "      <td>1</td>\n",
              "      <td>0</td>\n",
              "      <td>1</td>\n",
              "      <td>1</td>\n",
              "      <td>-1.989223</td>\n",
              "      <td>0.0</td>\n",
              "      <td>0.0</td>\n",
              "      <td>0.0</td>\n",
              "      <td>0.0</td>\n",
              "    </tr>\n",
              "    <tr>\n",
              "      <th>503</th>\n",
              "      <td>1</td>\n",
              "      <td>1</td>\n",
              "      <td>0</td>\n",
              "      <td>1</td>\n",
              "      <td>1</td>\n",
              "      <td>1</td>\n",
              "      <td>0</td>\n",
              "      <td>1</td>\n",
              "      <td>1</td>\n",
              "      <td>0</td>\n",
              "      <td>1.019590</td>\n",
              "      <td>0.0</td>\n",
              "      <td>1.0</td>\n",
              "      <td>0.0</td>\n",
              "      <td>0.0</td>\n",
              "    </tr>\n",
              "    <tr>\n",
              "      <th>504</th>\n",
              "      <td>1</td>\n",
              "      <td>0</td>\n",
              "      <td>1</td>\n",
              "      <td>0</td>\n",
              "      <td>1</td>\n",
              "      <td>0</td>\n",
              "      <td>0</td>\n",
              "      <td>0</td>\n",
              "      <td>0</td>\n",
              "      <td>0</td>\n",
              "      <td>1.019590</td>\n",
              "      <td>0.0</td>\n",
              "      <td>1.0</td>\n",
              "      <td>0.0</td>\n",
              "      <td>1.0</td>\n",
              "    </tr>\n",
              "    <tr>\n",
              "      <th>505</th>\n",
              "      <td>0</td>\n",
              "      <td>1</td>\n",
              "      <td>1</td>\n",
              "      <td>0</td>\n",
              "      <td>0</td>\n",
              "      <td>0</td>\n",
              "      <td>0</td>\n",
              "      <td>1</td>\n",
              "      <td>0</td>\n",
              "      <td>1</td>\n",
              "      <td>1.019590</td>\n",
              "      <td>0.0</td>\n",
              "      <td>1.0</td>\n",
              "      <td>0.0</td>\n",
              "      <td>0.0</td>\n",
              "    </tr>\n",
              "  </tbody>\n",
              "</table>\n",
              "<p>506 rows × 15 columns</p>\n",
              "</div>\n",
              "      <button class=\"colab-df-convert\" onclick=\"convertToInteractive('df-3441cd52-90f9-46f3-849b-915da258f54d')\"\n",
              "              title=\"Convert this dataframe to an interactive table.\"\n",
              "              style=\"display:none;\">\n",
              "        \n",
              "  <svg xmlns=\"http://www.w3.org/2000/svg\" height=\"24px\"viewBox=\"0 0 24 24\"\n",
              "       width=\"24px\">\n",
              "    <path d=\"M0 0h24v24H0V0z\" fill=\"none\"/>\n",
              "    <path d=\"M18.56 5.44l.94 2.06.94-2.06 2.06-.94-2.06-.94-.94-2.06-.94 2.06-2.06.94zm-11 1L8.5 8.5l.94-2.06 2.06-.94-2.06-.94L8.5 2.5l-.94 2.06-2.06.94zm10 10l.94 2.06.94-2.06 2.06-.94-2.06-.94-.94-2.06-.94 2.06-2.06.94z\"/><path d=\"M17.41 7.96l-1.37-1.37c-.4-.4-.92-.59-1.43-.59-.52 0-1.04.2-1.43.59L10.3 9.45l-7.72 7.72c-.78.78-.78 2.05 0 2.83L4 21.41c.39.39.9.59 1.41.59.51 0 1.02-.2 1.41-.59l7.78-7.78 2.81-2.81c.8-.78.8-2.07 0-2.86zM5.41 20L4 18.59l7.72-7.72 1.47 1.35L5.41 20z\"/>\n",
              "  </svg>\n",
              "      </button>\n",
              "      \n",
              "  <style>\n",
              "    .colab-df-container {\n",
              "      display:flex;\n",
              "      flex-wrap:wrap;\n",
              "      gap: 12px;\n",
              "    }\n",
              "\n",
              "    .colab-df-convert {\n",
              "      background-color: #E8F0FE;\n",
              "      border: none;\n",
              "      border-radius: 50%;\n",
              "      cursor: pointer;\n",
              "      display: none;\n",
              "      fill: #1967D2;\n",
              "      height: 32px;\n",
              "      padding: 0 0 0 0;\n",
              "      width: 32px;\n",
              "    }\n",
              "\n",
              "    .colab-df-convert:hover {\n",
              "      background-color: #E2EBFA;\n",
              "      box-shadow: 0px 1px 2px rgba(60, 64, 67, 0.3), 0px 1px 3px 1px rgba(60, 64, 67, 0.15);\n",
              "      fill: #174EA6;\n",
              "    }\n",
              "\n",
              "    [theme=dark] .colab-df-convert {\n",
              "      background-color: #3B4455;\n",
              "      fill: #D2E3FC;\n",
              "    }\n",
              "\n",
              "    [theme=dark] .colab-df-convert:hover {\n",
              "      background-color: #434B5C;\n",
              "      box-shadow: 0px 1px 3px 1px rgba(0, 0, 0, 0.15);\n",
              "      filter: drop-shadow(0px 1px 2px rgba(0, 0, 0, 0.3));\n",
              "      fill: #FFFFFF;\n",
              "    }\n",
              "  </style>\n",
              "\n",
              "      <script>\n",
              "        const buttonEl =\n",
              "          document.querySelector('#df-3441cd52-90f9-46f3-849b-915da258f54d button.colab-df-convert');\n",
              "        buttonEl.style.display =\n",
              "          google.colab.kernel.accessAllowed ? 'block' : 'none';\n",
              "\n",
              "        async function convertToInteractive(key) {\n",
              "          const element = document.querySelector('#df-3441cd52-90f9-46f3-849b-915da258f54d');\n",
              "          const dataTable =\n",
              "            await google.colab.kernel.invokeFunction('convertToInteractive',\n",
              "                                                     [key], {});\n",
              "          if (!dataTable) return;\n",
              "\n",
              "          const docLinkHtml = 'Like what you see? Visit the ' +\n",
              "            '<a target=\"_blank\" href=https://colab.research.google.com/notebooks/data_table.ipynb>data table notebook</a>'\n",
              "            + ' to learn more about interactive tables.';\n",
              "          element.innerHTML = '';\n",
              "          dataTable['output_type'] = 'display_data';\n",
              "          await google.colab.output.renderOutput(dataTable, element);\n",
              "          const docLink = document.createElement('div');\n",
              "          docLink.innerHTML = docLinkHtml;\n",
              "          element.appendChild(docLink);\n",
              "        }\n",
              "      </script>\n",
              "    </div>\n",
              "  </div>\n",
              "  "
            ]
          },
          "metadata": {},
          "execution_count": 59
        }
      ]
    },
    {
      "cell_type": "code",
      "source": [
        "preprocess(age, chars, target, new_mixed)"
      ],
      "metadata": {
        "id": "jGc0RdafzPxl",
        "colab": {
          "base_uri": "https://localhost:8080/"
        },
        "outputId": "d02dac37-7e7e-4001-d55d-7e759f24b1e8"
      },
      "execution_count": 60,
      "outputs": [
        {
          "output_type": "stream",
          "name": "stdout",
          "text": [
            "A1                          int64\n",
            "A2                          int64\n",
            "A3                          int64\n",
            "A4                          int64\n",
            "A5                          int64\n",
            "A6                          int64\n",
            "A7                          int64\n",
            "A8                          int64\n",
            "A9                          int64\n",
            "A10                         int64\n",
            "Age_Mons                  float64\n",
            "Sex                       float64\n",
            "Family_mem_with_ASD       float64\n",
            "Who completed the test    float64\n",
            "ASD_Traits                float64\n",
            "dtype: object\n",
            "   A1  A2  A3  A4  A5  A6  A7  A8  A9  A10  Age_Mons  Sex  \\\n",
            "0   0   0   0   0   0   0   1   1   0    1  0.016652  0.0   \n",
            "1   1   1   0   0   0   1   1   0   0    0  1.019590  1.0   \n",
            "2   1   0   0   0   0   0   1   1   0    1  1.019590  1.0   \n",
            "3   1   1   1   1   1   1   1   1   1    1 -0.484817  1.0   \n",
            "4   1   1   0   1   1   1   1   1   1    1 -0.986286  0.0   \n",
            "\n",
            "   Family_mem_with_ASD  Who completed the test  ASD_Traits  \n",
            "0                  0.0                     1.0         0.0  \n",
            "1                  0.0                     1.0         1.0  \n",
            "2                  0.0                     1.0         1.0  \n",
            "3                  0.0                     1.0         1.0  \n",
            "4                  1.0                     1.0         1.0  \n"
          ]
        }
      ]
    },
    {
      "cell_type": "code",
      "source": [
        "new_log_reg = LogisticRegression()\n",
        "\n",
        "new_feat = new_mixed.drop(['ASD_Traits'], axis=1)\n",
        "new_class = new_mixed[\"ASD_Traits\"]\n",
        "\n",
        "new_log_reg.fit(new_feat, new_class)"
      ],
      "metadata": {
        "colab": {
          "base_uri": "https://localhost:8080/"
        },
        "id": "cHv9U0fchvJ3",
        "outputId": "fedd818b-1248-4e80-e068-1b1f9fd690cd"
      },
      "execution_count": 61,
      "outputs": [
        {
          "output_type": "execute_result",
          "data": {
            "text/plain": [
              "LogisticRegression()"
            ]
          },
          "metadata": {},
          "execution_count": 61
        }
      ]
    },
    {
      "cell_type": "markdown",
      "source": [
        "**Three year old data - Logistic Regression**"
      ],
      "metadata": {
        "id": "RMCMsE9fELY2"
      }
    },
    {
      "cell_type": "code",
      "source": [
        "three_y_old = asd_2018_df[asd_2018_df['Age_Mons'] > 24]\n",
        "three_y_old['Age_Mons'].value_counts()"
      ],
      "metadata": {
        "id": "axTHMeMYEK1t",
        "colab": {
          "base_uri": "https://localhost:8080/"
        },
        "outputId": "4899c4ba-3e37-4fd1-b720-b89217bb2d0b"
      },
      "execution_count": 62,
      "outputs": [
        {
          "output_type": "execute_result",
          "data": {
            "text/plain": [
              "36    320\n",
              "30     67\n",
              "28     42\n",
              "33     36\n",
              "26     36\n",
              "34     34\n",
              "35     30\n",
              "32     30\n",
              "31     30\n",
              "25     26\n",
              "29     24\n",
              "27     23\n",
              "Name: Age_Mons, dtype: int64"
            ]
          },
          "metadata": {},
          "execution_count": 62
        }
      ]
    },
    {
      "cell_type": "code",
      "source": [
        "three_y_old = three_y_old.drop(['Case_No','Qchat-10-Score'], axis=1)"
      ],
      "metadata": {
        "id": "QFNyHjh_c9XR"
      },
      "execution_count": 63,
      "outputs": []
    },
    {
      "cell_type": "code",
      "source": [
        "preprocess(age, char_vals, target, three_y_old)"
      ],
      "metadata": {
        "id": "d2JRInSVdWaG",
        "colab": {
          "base_uri": "https://localhost:8080/"
        },
        "outputId": "9205b07b-73f8-4434-d6ac-991c5f281cfe"
      },
      "execution_count": 64,
      "outputs": [
        {
          "output_type": "stream",
          "name": "stdout",
          "text": [
            "A1                          int64\n",
            "A2                          int64\n",
            "A3                          int64\n",
            "A4                          int64\n",
            "A5                          int64\n",
            "A6                          int64\n",
            "A7                          int64\n",
            "A8                          int64\n",
            "A9                          int64\n",
            "A10                         int64\n",
            "Age_Mons                  float64\n",
            "Sex                       float64\n",
            "Ethnicity                 float64\n",
            "Jaundice                  float64\n",
            "Family_mem_with_ASD       float64\n",
            "Who completed the test    float64\n",
            "ASD_Traits                float64\n",
            "dtype: object\n",
            "   A1  A2  A3  A4  A5  A6  A7  A8  A9  A10  Age_Mons  Sex  Ethnicity  \\\n",
            "0   0   0   0   0   0   0   1   1   0    1 -1.304084  1.0        0.0   \n",
            "1   1   1   0   0   0   1   1   0   0    0  0.870298  0.0        0.0   \n",
            "2   1   0   0   0   0   0   1   1   0    1  0.870298  0.0        0.0   \n",
            "6   1   0   0   1   1   1   0   0   1    0  0.054905  0.0        0.0   \n",
            "7   0   1   0   0   1   0   1   1   1    1  0.054905  0.0        0.0   \n",
            "\n",
            "   Jaundice  Family_mem_with_ASD  Who completed the test  ASD_Traits  \n",
            "0       0.0                  1.0                     0.0         1.0  \n",
            "1       0.0                  1.0                     0.0         0.0  \n",
            "2       0.0                  1.0                     0.0         0.0  \n",
            "6       0.0                  1.0                     0.0         0.0  \n",
            "7       0.0                  1.0                     0.0         0.0  \n"
          ]
        }
      ]
    },
    {
      "cell_type": "code",
      "source": [
        "three_y_log_reg = LogisticRegression()\n",
        "three_feat = three_y_old.drop(['ASD_Traits'], axis=1)\n",
        "three_target = three_y_old['ASD_Traits']\n",
        "\n",
        "three_y_log_reg.fit(three_feat, three_target)"
      ],
      "metadata": {
        "colab": {
          "base_uri": "https://localhost:8080/"
        },
        "id": "EXJ-TqTDdgrQ",
        "outputId": "d8560f77-8e66-44b4-e899-05aae93b0e60"
      },
      "execution_count": 65,
      "outputs": [
        {
          "output_type": "execute_result",
          "data": {
            "text/plain": [
              "LogisticRegression()"
            ]
          },
          "metadata": {},
          "execution_count": 65
        }
      ]
    },
    {
      "cell_type": "code",
      "source": [
        "display_results(three_y_log_reg, three_feat, three_target)"
      ],
      "metadata": {
        "colab": {
          "base_uri": "https://localhost:8080/"
        },
        "id": "vs64amr-eKYI",
        "outputId": "74954b84-5717-4349-ab27-6567c4fa3aeb"
      },
      "execution_count": 66,
      "outputs": [
        {
          "output_type": "stream",
          "name": "stdout",
          "text": [
            "Root mean squared eror:  0.0\n",
            "MSE:  0.0\n",
            "R2 Score:  1.0\n"
          ]
        }
      ]
    },
    {
      "cell_type": "code",
      "source": [
        "cross_validation_results(three_y_log_reg, three_feat, three_target, metrics, 10)"
      ],
      "metadata": {
        "colab": {
          "base_uri": "https://localhost:8080/"
        },
        "id": "5bi_rOU2e1VO",
        "outputId": "211e1ddf-cda0-4ba9-b49f-f944465556dd"
      },
      "execution_count": 67,
      "outputs": [
        {
          "output_type": "stream",
          "name": "stdout",
          "text": [
            "Mean Test R2:  1.0\n",
            "Mean Test MSE:  -0.0\n",
            "Test std:  0.0\n",
            "RMSE Test:  0.0\n"
          ]
        }
      ]
    },
    {
      "cell_type": "markdown",
      "source": [
        "**Two year old data - Logistic Regression**"
      ],
      "metadata": {
        "id": "PWI2oXzgETC5"
      }
    },
    {
      "cell_type": "code",
      "source": [
        "two_y_old = asd_2018_df[asd_2018_df['Age_Mons'] <= 24]\n",
        "two_y_old['Age_Mons'].value_counts()"
      ],
      "metadata": {
        "id": "JoGivBo3ETRS",
        "colab": {
          "base_uri": "https://localhost:8080/"
        },
        "outputId": "d1e9b186-2e50-4cf1-ec1a-631955662607"
      },
      "execution_count": 68,
      "outputs": [
        {
          "output_type": "execute_result",
          "data": {
            "text/plain": [
              "24    70\n",
              "12    67\n",
              "15    31\n",
              "23    28\n",
              "22    27\n",
              "20    21\n",
              "19    21\n",
              "14    19\n",
              "13    18\n",
              "18    16\n",
              "21    13\n",
              "16    13\n",
              "17    12\n",
              "Name: Age_Mons, dtype: int64"
            ]
          },
          "metadata": {},
          "execution_count": 68
        }
      ]
    },
    {
      "cell_type": "code",
      "source": [
        "two_y_old = two_y_old.drop(['Case_No','Qchat-10-Score'], axis=1)"
      ],
      "metadata": {
        "id": "2g07CUvtgLPG"
      },
      "execution_count": 69,
      "outputs": []
    },
    {
      "cell_type": "code",
      "source": [
        "preprocess(age, char_vals, target, two_y_old)"
      ],
      "metadata": {
        "id": "vHf4OMAWgrRl",
        "colab": {
          "base_uri": "https://localhost:8080/"
        },
        "outputId": "28ef741b-452d-4c0b-d836-bf96a389300a"
      },
      "execution_count": 70,
      "outputs": [
        {
          "output_type": "stream",
          "name": "stdout",
          "text": [
            "A1                          int64\n",
            "A2                          int64\n",
            "A3                          int64\n",
            "A4                          int64\n",
            "A5                          int64\n",
            "A6                          int64\n",
            "A7                          int64\n",
            "A8                          int64\n",
            "A9                          int64\n",
            "A10                         int64\n",
            "Age_Mons                  float64\n",
            "Sex                       float64\n",
            "Ethnicity                 float64\n",
            "Jaundice                  float64\n",
            "Family_mem_with_ASD       float64\n",
            "Who completed the test    float64\n",
            "ASD_Traits                float64\n",
            "dtype: object\n",
            "    A1  A2  A3  A4  A5  A6  A7  A8  A9  A10  Age_Mons  Sex  Ethnicity  \\\n",
            "3    1   1   1   1   1   1   1   1   1    1  1.274957  0.0        1.0   \n",
            "4    1   1   0   1   1   1   1   1   1    1  0.395761  1.0        0.0   \n",
            "5    1   1   0   0   1   1   1   1   1    1  0.615560  0.0        0.0   \n",
            "9    1   1   1   0   1   1   0   1   1    1  0.835359  0.0        0.0   \n",
            "11   1   1   1   1   0   1   1   1   0    1 -0.263635  0.0        0.0   \n",
            "\n",
            "    Jaundice  Family_mem_with_ASD  Who completed the test  ASD_Traits  \n",
            "3        1.0                  1.0                     0.0         0.0  \n",
            "4        1.0                  0.0                     0.0         0.0  \n",
            "5        1.0                  1.0                     0.0         0.0  \n",
            "9        1.0                  1.0                     1.0         0.0  \n",
            "11       0.0                  1.0                     0.0         0.0  \n"
          ]
        }
      ]
    },
    {
      "cell_type": "code",
      "source": [
        "two_y_log_reg = LogisticRegression()\n",
        "two_feat = two_y_old.drop(['ASD_Traits'], axis=1)\n",
        "two_target = two_y_old['ASD_Traits']\n",
        "\n",
        "two_y_log_reg.fit(two_feat, two_target)"
      ],
      "metadata": {
        "colab": {
          "base_uri": "https://localhost:8080/"
        },
        "id": "iD-Dnsb9g0oR",
        "outputId": "abca1583-eeed-4526-e3a7-ae372af46e5c"
      },
      "execution_count": 71,
      "outputs": [
        {
          "output_type": "execute_result",
          "data": {
            "text/plain": [
              "LogisticRegression()"
            ]
          },
          "metadata": {},
          "execution_count": 71
        }
      ]
    },
    {
      "cell_type": "code",
      "source": [
        "display_results(two_y_log_reg, two_feat, two_target)"
      ],
      "metadata": {
        "colab": {
          "base_uri": "https://localhost:8080/"
        },
        "id": "eKH1EzcjhTBP",
        "outputId": "36729f1f-b369-4169-9f2c-4311c063560b"
      },
      "execution_count": 72,
      "outputs": [
        {
          "output_type": "stream",
          "name": "stdout",
          "text": [
            "Root mean squared eror:  0.0\n",
            "MSE:  0.0\n",
            "R2 Score:  1.0\n"
          ]
        }
      ]
    },
    {
      "cell_type": "code",
      "source": [
        "cross_validation_results(two_y_log_reg, two_feat, two_target, metrics, 10)"
      ],
      "metadata": {
        "colab": {
          "base_uri": "https://localhost:8080/"
        },
        "id": "eyn7yt30hcVq",
        "outputId": "43c0bfc1-d101-4506-95ad-6b37561ae1a8"
      },
      "execution_count": 73,
      "outputs": [
        {
          "output_type": "stream",
          "name": "stdout",
          "text": [
            "Mean Test R2:  0.9494565217391304\n",
            "Mean Test MSE:  0.011349206349206348\n",
            "Test std:  0.08969898793149975\n",
            "RMSE Test:  0.057474323947924864\n"
          ]
        }
      ]
    },
    {
      "cell_type": "markdown",
      "source": [
        "**Dataset general population representation**"
      ],
      "metadata": {
        "id": "uPq7T033EZPQ"
      }
    },
    {
      "cell_type": "markdown",
      "source": [
        "The available dataset has a 2.3:1 male to female ratio."
      ],
      "metadata": {
        "id": "UCrXn4yOmrfC"
      }
    },
    {
      "cell_type": "code",
      "source": [
        "asd_2018_df['Sex'].value_counts()"
      ],
      "metadata": {
        "id": "VyrgSwtaEm3R",
        "colab": {
          "base_uri": "https://localhost:8080/"
        },
        "outputId": "0a3fe432-02c3-45d1-cd01-5adc78ed350c"
      },
      "execution_count": 74,
      "outputs": [
        {
          "output_type": "execute_result",
          "data": {
            "text/plain": [
              "m    735\n",
              "f    319\n",
              "Name: Sex, dtype: int64"
            ]
          },
          "metadata": {},
          "execution_count": 74
        }
      ]
    },
    {
      "cell_type": "markdown",
      "source": [
        "**Dataset - 50/50 female/male ratio, equal number of ASD/No ASD Traits**"
      ],
      "metadata": {
        "id": "zp83bcPtEgMr"
      }
    },
    {
      "cell_type": "code",
      "source": [
        "f_only = asd_2018_df[asd_2018_df['Sex']=='f']\n",
        "f_only.info()\n",
        "f_only['ASD_Traits'].value_counts()"
      ],
      "metadata": {
        "id": "uv6ES2_9EngI",
        "colab": {
          "base_uri": "https://localhost:8080/"
        },
        "outputId": "bd7ec5db-378e-4cd8-a97f-010176cf27b9"
      },
      "execution_count": 75,
      "outputs": [
        {
          "output_type": "stream",
          "name": "stdout",
          "text": [
            "<class 'pandas.core.frame.DataFrame'>\n",
            "Int64Index: 319 entries, 0 to 1049\n",
            "Data columns (total 19 columns):\n",
            " #   Column                  Non-Null Count  Dtype \n",
            "---  ------                  --------------  ----- \n",
            " 0   Case_No                 319 non-null    int64 \n",
            " 1   A1                      319 non-null    int64 \n",
            " 2   A2                      319 non-null    int64 \n",
            " 3   A3                      319 non-null    int64 \n",
            " 4   A4                      319 non-null    int64 \n",
            " 5   A5                      319 non-null    int64 \n",
            " 6   A6                      319 non-null    int64 \n",
            " 7   A7                      319 non-null    int64 \n",
            " 8   A8                      319 non-null    int64 \n",
            " 9   A9                      319 non-null    int64 \n",
            " 10  A10                     319 non-null    int64 \n",
            " 11  Age_Mons                319 non-null    int64 \n",
            " 12  Qchat-10-Score          319 non-null    int64 \n",
            " 13  Sex                     319 non-null    object\n",
            " 14  Ethnicity               319 non-null    object\n",
            " 15  Jaundice                319 non-null    object\n",
            " 16  Family_mem_with_ASD     319 non-null    object\n",
            " 17  Who completed the test  319 non-null    object\n",
            " 18  ASD_Traits              319 non-null    object\n",
            "dtypes: int64(13), object(6)\n",
            "memory usage: 49.8+ KB\n"
          ]
        },
        {
          "output_type": "execute_result",
          "data": {
            "text/plain": [
              "Yes    194\n",
              "No     125\n",
              "Name: ASD_Traits, dtype: int64"
            ]
          },
          "metadata": {},
          "execution_count": 75
        }
      ]
    },
    {
      "cell_type": "code",
      "source": [
        "y_male = asd_2018_df[(asd_2018_df['Sex']=='m') & (asd_2018_df['ASD_Traits']=='Yes')].head(194)\n",
        "y_male.info()\n",
        "y_male['ASD_Traits'].value_counts()"
      ],
      "metadata": {
        "colab": {
          "base_uri": "https://localhost:8080/"
        },
        "id": "qIq71BblmPi-",
        "outputId": "47275706-6c82-41d9-b63f-5fa932e9b0e1"
      },
      "execution_count": 76,
      "outputs": [
        {
          "output_type": "stream",
          "name": "stdout",
          "text": [
            "<class 'pandas.core.frame.DataFrame'>\n",
            "Int64Index: 194 entries, 1 to 405\n",
            "Data columns (total 19 columns):\n",
            " #   Column                  Non-Null Count  Dtype \n",
            "---  ------                  --------------  ----- \n",
            " 0   Case_No                 194 non-null    int64 \n",
            " 1   A1                      194 non-null    int64 \n",
            " 2   A2                      194 non-null    int64 \n",
            " 3   A3                      194 non-null    int64 \n",
            " 4   A4                      194 non-null    int64 \n",
            " 5   A5                      194 non-null    int64 \n",
            " 6   A6                      194 non-null    int64 \n",
            " 7   A7                      194 non-null    int64 \n",
            " 8   A8                      194 non-null    int64 \n",
            " 9   A9                      194 non-null    int64 \n",
            " 10  A10                     194 non-null    int64 \n",
            " 11  Age_Mons                194 non-null    int64 \n",
            " 12  Qchat-10-Score          194 non-null    int64 \n",
            " 13  Sex                     194 non-null    object\n",
            " 14  Ethnicity               194 non-null    object\n",
            " 15  Jaundice                194 non-null    object\n",
            " 16  Family_mem_with_ASD     194 non-null    object\n",
            " 17  Who completed the test  194 non-null    object\n",
            " 18  ASD_Traits              194 non-null    object\n",
            "dtypes: int64(13), object(6)\n",
            "memory usage: 30.3+ KB\n"
          ]
        },
        {
          "output_type": "execute_result",
          "data": {
            "text/plain": [
              "Yes    194\n",
              "Name: ASD_Traits, dtype: int64"
            ]
          },
          "metadata": {},
          "execution_count": 76
        }
      ]
    },
    {
      "cell_type": "code",
      "source": [
        "n_male = asd_2018_df[(asd_2018_df['Sex']=='m') & (asd_2018_df['ASD_Traits']=='No')].head(125)\n",
        "n_male.info()\n",
        "n_male['ASD_Traits'].value_counts()"
      ],
      "metadata": {
        "colab": {
          "base_uri": "https://localhost:8080/"
        },
        "id": "nFuzR7wmobyk",
        "outputId": "5d9b3562-b55d-40e7-d3bb-c84122b542d7"
      },
      "execution_count": 77,
      "outputs": [
        {
          "output_type": "stream",
          "name": "stdout",
          "text": [
            "<class 'pandas.core.frame.DataFrame'>\n",
            "Int64Index: 125 entries, 8 to 704\n",
            "Data columns (total 19 columns):\n",
            " #   Column                  Non-Null Count  Dtype \n",
            "---  ------                  --------------  ----- \n",
            " 0   Case_No                 125 non-null    int64 \n",
            " 1   A1                      125 non-null    int64 \n",
            " 2   A2                      125 non-null    int64 \n",
            " 3   A3                      125 non-null    int64 \n",
            " 4   A4                      125 non-null    int64 \n",
            " 5   A5                      125 non-null    int64 \n",
            " 6   A6                      125 non-null    int64 \n",
            " 7   A7                      125 non-null    int64 \n",
            " 8   A8                      125 non-null    int64 \n",
            " 9   A9                      125 non-null    int64 \n",
            " 10  A10                     125 non-null    int64 \n",
            " 11  Age_Mons                125 non-null    int64 \n",
            " 12  Qchat-10-Score          125 non-null    int64 \n",
            " 13  Sex                     125 non-null    object\n",
            " 14  Ethnicity               125 non-null    object\n",
            " 15  Jaundice                125 non-null    object\n",
            " 16  Family_mem_with_ASD     125 non-null    object\n",
            " 17  Who completed the test  125 non-null    object\n",
            " 18  ASD_Traits              125 non-null    object\n",
            "dtypes: int64(13), object(6)\n",
            "memory usage: 19.5+ KB\n"
          ]
        },
        {
          "output_type": "execute_result",
          "data": {
            "text/plain": [
              "No    125\n",
              "Name: ASD_Traits, dtype: int64"
            ]
          },
          "metadata": {},
          "execution_count": 77
        }
      ]
    },
    {
      "cell_type": "code",
      "source": [
        "equal_male = pd.concat([y_male,n_male], axis=0)\n",
        "equal_male.info()"
      ],
      "metadata": {
        "colab": {
          "base_uri": "https://localhost:8080/"
        },
        "id": "YscmnZ5oow5x",
        "outputId": "c12fbc83-677f-4733-8920-b6ec8428f527"
      },
      "execution_count": 78,
      "outputs": [
        {
          "output_type": "stream",
          "name": "stdout",
          "text": [
            "<class 'pandas.core.frame.DataFrame'>\n",
            "Int64Index: 319 entries, 1 to 704\n",
            "Data columns (total 19 columns):\n",
            " #   Column                  Non-Null Count  Dtype \n",
            "---  ------                  --------------  ----- \n",
            " 0   Case_No                 319 non-null    int64 \n",
            " 1   A1                      319 non-null    int64 \n",
            " 2   A2                      319 non-null    int64 \n",
            " 3   A3                      319 non-null    int64 \n",
            " 4   A4                      319 non-null    int64 \n",
            " 5   A5                      319 non-null    int64 \n",
            " 6   A6                      319 non-null    int64 \n",
            " 7   A7                      319 non-null    int64 \n",
            " 8   A8                      319 non-null    int64 \n",
            " 9   A9                      319 non-null    int64 \n",
            " 10  A10                     319 non-null    int64 \n",
            " 11  Age_Mons                319 non-null    int64 \n",
            " 12  Qchat-10-Score          319 non-null    int64 \n",
            " 13  Sex                     319 non-null    object\n",
            " 14  Ethnicity               319 non-null    object\n",
            " 15  Jaundice                319 non-null    object\n",
            " 16  Family_mem_with_ASD     319 non-null    object\n",
            " 17  Who completed the test  319 non-null    object\n",
            " 18  ASD_Traits              319 non-null    object\n",
            "dtypes: int64(13), object(6)\n",
            "memory usage: 49.8+ KB\n"
          ]
        }
      ]
    },
    {
      "cell_type": "code",
      "source": [
        "equal_ratio = pd.concat([f_only, equal_male], axis=0)\n",
        "equal_ratio.info()"
      ],
      "metadata": {
        "colab": {
          "base_uri": "https://localhost:8080/"
        },
        "id": "54KA4_dMppCX",
        "outputId": "0a514399-2413-408b-eff3-a2b19becac1c"
      },
      "execution_count": 79,
      "outputs": [
        {
          "output_type": "stream",
          "name": "stdout",
          "text": [
            "<class 'pandas.core.frame.DataFrame'>\n",
            "Int64Index: 638 entries, 0 to 704\n",
            "Data columns (total 19 columns):\n",
            " #   Column                  Non-Null Count  Dtype \n",
            "---  ------                  --------------  ----- \n",
            " 0   Case_No                 638 non-null    int64 \n",
            " 1   A1                      638 non-null    int64 \n",
            " 2   A2                      638 non-null    int64 \n",
            " 3   A3                      638 non-null    int64 \n",
            " 4   A4                      638 non-null    int64 \n",
            " 5   A5                      638 non-null    int64 \n",
            " 6   A6                      638 non-null    int64 \n",
            " 7   A7                      638 non-null    int64 \n",
            " 8   A8                      638 non-null    int64 \n",
            " 9   A9                      638 non-null    int64 \n",
            " 10  A10                     638 non-null    int64 \n",
            " 11  Age_Mons                638 non-null    int64 \n",
            " 12  Qchat-10-Score          638 non-null    int64 \n",
            " 13  Sex                     638 non-null    object\n",
            " 14  Ethnicity               638 non-null    object\n",
            " 15  Jaundice                638 non-null    object\n",
            " 16  Family_mem_with_ASD     638 non-null    object\n",
            " 17  Who completed the test  638 non-null    object\n",
            " 18  ASD_Traits              638 non-null    object\n",
            "dtypes: int64(13), object(6)\n",
            "memory usage: 99.7+ KB\n"
          ]
        }
      ]
    },
    {
      "cell_type": "code",
      "source": [
        "equal_ratio = equal_ratio.drop(['Case_No','Qchat-10-Score'], axis=1)"
      ],
      "metadata": {
        "id": "rB4WKIkCq9BH"
      },
      "execution_count": 80,
      "outputs": []
    },
    {
      "cell_type": "code",
      "source": [
        "preprocess(age, char_vals, target, equal_ratio)"
      ],
      "metadata": {
        "colab": {
          "base_uri": "https://localhost:8080/"
        },
        "id": "r2er0y7orEDz",
        "outputId": "6cade20b-b99e-457e-f32b-7b92e6655841"
      },
      "execution_count": 81,
      "outputs": [
        {
          "output_type": "stream",
          "name": "stdout",
          "text": [
            "A1                          int64\n",
            "A2                          int64\n",
            "A3                          int64\n",
            "A4                          int64\n",
            "A5                          int64\n",
            "A6                          int64\n",
            "A7                          int64\n",
            "A8                          int64\n",
            "A9                          int64\n",
            "A10                         int64\n",
            "Age_Mons                  float64\n",
            "Sex                       float64\n",
            "Ethnicity                 float64\n",
            "Jaundice                  float64\n",
            "Family_mem_with_ASD       float64\n",
            "Who completed the test    float64\n",
            "ASD_Traits                float64\n",
            "dtype: object\n",
            "    A1  A2  A3  A4  A5  A6  A7  A8  A9  A10  Age_Mons  Sex  Ethnicity  \\\n",
            "0    0   0   0   0   0   0   1   1   0    1 -0.000390  1.0        0.0   \n",
            "4    1   1   0   1   1   1   1   1   1    1 -0.994756  1.0        0.0   \n",
            "12   0   0   0   0   0   0   0   0   0    0 -0.373277  1.0        0.0   \n",
            "13   1   1   1   1   0   0   1   0   1    1 -1.616235  1.0        0.0   \n",
            "17   1   1   1   0   1   1   1   1   0    1 -1.989122  1.0        0.0   \n",
            "\n",
            "    Jaundice  Family_mem_with_ASD  Who completed the test  ASD_Traits  \n",
            "0        0.0                  1.0                     0.0         1.0  \n",
            "4        1.0                  0.0                     0.0         0.0  \n",
            "12       0.0                  1.0                     0.0         1.0  \n",
            "13       0.0                  1.0                     0.0         0.0  \n",
            "17       0.0                  1.0                     0.0         0.0  \n"
          ]
        }
      ]
    },
    {
      "cell_type": "code",
      "source": [
        "X_equal, y_equal = train_test_split(equal_ratio, test_size=0.3, random_state=42)\n",
        "\n",
        "equal_train = X_equal.drop(\"ASD_Traits\", axis=1)\n",
        "equal_class = X_equal[\"ASD_Traits\"]"
      ],
      "metadata": {
        "id": "dlHZrYV6r5yo"
      },
      "execution_count": 82,
      "outputs": []
    },
    {
      "cell_type": "code",
      "source": [
        "equal_log_reg = LogisticRegression()\n",
        "equal_log_reg.fit(equal_train, equal_class)"
      ],
      "metadata": {
        "colab": {
          "base_uri": "https://localhost:8080/"
        },
        "id": "BOVMfY_ysS70",
        "outputId": "314b3419-daee-4534-e2c5-74189f8f53d7"
      },
      "execution_count": 83,
      "outputs": [
        {
          "output_type": "execute_result",
          "data": {
            "text/plain": [
              "LogisticRegression()"
            ]
          },
          "metadata": {},
          "execution_count": 83
        }
      ]
    },
    {
      "cell_type": "code",
      "source": [
        "display_results(equal_log_reg, equal_train, equal_class)"
      ],
      "metadata": {
        "colab": {
          "base_uri": "https://localhost:8080/"
        },
        "id": "_6zI5WDFsbrW",
        "outputId": "1ed6d4e1-bd8b-47dc-8ff7-2a8e87f511b1"
      },
      "execution_count": 84,
      "outputs": [
        {
          "output_type": "stream",
          "name": "stdout",
          "text": [
            "Root mean squared eror:  0.047351372381037836\n",
            "MSE:  0.002242152466367713\n",
            "R2 Score:  0.9905156831472621\n"
          ]
        }
      ]
    },
    {
      "cell_type": "code",
      "source": [
        "cross_validation_results(equal_log_reg,equal_train, equal_class, metrics, 10)"
      ],
      "metadata": {
        "colab": {
          "base_uri": "https://localhost:8080/"
        },
        "id": "aVQ_fwoisj7M",
        "outputId": "19557422-62e7-4afc-a246-128e1a7e9fab"
      },
      "execution_count": 85,
      "outputs": [
        {
          "output_type": "stream",
          "name": "stdout",
          "text": [
            "Mean Test R2:  0.9713741051976346\n",
            "Mean Test MSE:  0.006767676767676768\n",
            "Test std:  0.07385978178105702\n",
            "RMSE Test:  0.03622719148555964\n"
          ]
        }
      ]
    },
    {
      "cell_type": "code",
      "source": [
        "from sklearn.inspection import PartialDependenceDisplay\n",
        "\n",
        "disp1 = PartialDependenceDisplay.from_estimator(log_reg, mixed_training,[0])"
      ],
      "metadata": {
        "colab": {
          "base_uri": "https://localhost:8080/",
          "height": 279
        },
        "id": "6l6prAMPdU8m",
        "outputId": "62f354ab-7519-4374-c4a9-8df5f6500537"
      },
      "execution_count": 86,
      "outputs": [
        {
          "output_type": "display_data",
          "data": {
            "text/plain": [
              "<Figure size 432x288 with 2 Axes>"
            ],
            "image/png": "[encoded data removed]"
          },
          "metadata": {
            "needs_background": "light"
          }
        }
      ]
    },
    {
      "cell_type": "markdown",
      "source": [
        "**Feature selection with CHI2 for mixed dataset**"
      ],
      "metadata": {
        "id": "yoTHgC1mJ7aX"
      }
    },
    {
      "cell_type": "markdown",
      "source": [
        "Code adapted from https://stackoverflow.com/questions/51695769/sklearn-chi2-for-feature-selection"
      ],
      "metadata": {
        "id": "het3z-4wLg2s"
      }
    },
    {
      "cell_type": "code",
      "source": [
        "from sklearn.feature_selection import SelectKBest\n",
        "from sklearn.feature_selection import chi2\n",
        "from sklearn.preprocessing import MinMaxScaler\n",
        "\n",
        "scaler = MinMaxScaler()\n",
        "\n",
        "\n",
        "X_mixed_df = mixed_df.drop(\"ASD_Traits\", axis=1)\n",
        "y_mixed_df = mixed_df[\"ASD_Traits\"]\n",
        "\n",
        "scaled_X = scaler.fit_transform(X_mixed_df)\n",
        "\n",
        "chi2_selector = SelectKBest(chi2, k=5)\n",
        "chi2_selector.fit(scaled_X, y_mixed_df)\n",
        "\n",
        "chi2_scores = pd.DataFrame(list(zip(features, chi2_selector.scores_,chi2_selector.pvalues_)), columns=['feature','score','pval'])\n",
        "chi2_scores\n",
        "\n",
        "features_chi = list(mixed_df)\n",
        "\n",
        "kbest = sorted(np.asarray(features_chi[:16])[chi2_selector.get_support()], reverse=True)\n",
        "kbest"
      ],
      "metadata": {
        "id": "hJe7QLczF5E9",
        "colab": {
          "base_uri": "https://localhost:8080/"
        },
        "outputId": "b5cc7c58-459f-4054-e921-cef80ddd9ef0"
      },
      "execution_count": 101,
      "outputs": [
        {
          "output_type": "execute_result",
          "data": {
            "text/plain": [
              "['A9', 'A6', 'A5', 'A4', 'A2']"
            ]
          },
          "metadata": {},
          "execution_count": 101
        }
      ]
    },
    {
      "cell_type": "code",
      "source": [
        "chi2_scores"
      ],
      "metadata": {
        "colab": {
          "base_uri": "https://localhost:8080/",
          "height": 551
        },
        "id": "oDFq8eZfGzDc",
        "outputId": "79d0a222-5272-4255-f9ae-97052487dbc8"
      },
      "execution_count": 106,
      "outputs": [
        {
          "output_type": "execute_result",
          "data": {
            "text/plain": [
              "                   feature       score          pval\n",
              "0                       A1  116.759119  3.241388e-27\n",
              "1                       A2  124.799967  5.629263e-29\n",
              "2                       A3  105.916292  7.691663e-25\n",
              "3                       A4  131.188598  2.251647e-30\n",
              "4                       A5  158.969159  1.900549e-36\n",
              "5                       A6  144.612750  2.609901e-33\n",
              "6                       A7  117.034985  2.820482e-27\n",
              "7                       A8  104.003028  2.020071e-24\n",
              "8                       A9  179.324288  6.807022e-41\n",
              "9                      A10   14.100258  1.733200e-04\n",
              "10                Age_Mons    0.786537  3.751494e-01\n",
              "11                     Sex   10.175930  1.422859e-03\n",
              "12               Ethnicity    0.658372  4.171354e-01\n",
              "13                Jaundice    1.579635  2.088133e-01\n",
              "14     Family_mem_with_ASD    0.030994  8.602535e-01\n",
              "15  Who completed the test    0.395023  5.296709e-01"
            ],
            "text/html": [
              "\n",
              "  <div id=\"df-8dda191a-2757-43ea-b8c2-5e3427add1f3\">\n",
              "    <div class=\"colab-df-container\">\n",
              "      <div>\n",
              "<style scoped>\n",
              "    .dataframe tbody tr th:only-of-type {\n",
              "        vertical-align: middle;\n",
              "    }\n",
              "\n",
              "    .dataframe tbody tr th {\n",
              "        vertical-align: top;\n",
              "    }\n",
              "\n",
              "    .dataframe thead th {\n",
              "        text-align: right;\n",
              "    }\n",
              "</style>\n",
              "<table border=\"1\" class=\"dataframe\">\n",
              "  <thead>\n",
              "    <tr style=\"text-align: right;\">\n",
              "      <th></th>\n",
              "      <th>feature</th>\n",
              "      <th>score</th>\n",
              "      <th>pval</th>\n",
              "    </tr>\n",
              "  </thead>\n",
              "  <tbody>\n",
              "    <tr>\n",
              "      <th>0</th>\n",
              "      <td>A1</td>\n",
              "      <td>116.759119</td>\n",
              "      <td>3.241388e-27</td>\n",
              "    </tr>\n",
              "    <tr>\n",
              "      <th>1</th>\n",
              "      <td>A2</td>\n",
              "      <td>124.799967</td>\n",
              "      <td>5.629263e-29</td>\n",
              "    </tr>\n",
              "    <tr>\n",
              "      <th>2</th>\n",
              "      <td>A3</td>\n",
              "      <td>105.916292</td>\n",
              "      <td>7.691663e-25</td>\n",
              "    </tr>\n",
              "    <tr>\n",
              "      <th>3</th>\n",
              "      <td>A4</td>\n",
              "      <td>131.188598</td>\n",
              "      <td>2.251647e-30</td>\n",
              "    </tr>\n",
              "    <tr>\n",
              "      <th>4</th>\n",
              "      <td>A5</td>\n",
              "      <td>158.969159</td>\n",
              "      <td>1.900549e-36</td>\n",
              "    </tr>\n",
              "    <tr>\n",
              "      <th>5</th>\n",
              "      <td>A6</td>\n",
              "      <td>144.612750</td>\n",
              "      <td>2.609901e-33</td>\n",
              "    </tr>\n",
              "    <tr>\n",
              "      <th>6</th>\n",
              "      <td>A7</td>\n",
              "      <td>117.034985</td>\n",
              "      <td>2.820482e-27</td>\n",
              "    </tr>\n",
              "    <tr>\n",
              "      <th>7</th>\n",
              "      <td>A8</td>\n",
              "      <td>104.003028</td>\n",
              "      <td>2.020071e-24</td>\n",
              "    </tr>\n",
              "    <tr>\n",
              "      <th>8</th>\n",
              "      <td>A9</td>\n",
              "      <td>179.324288</td>\n",
              "      <td>6.807022e-41</td>\n",
              "    </tr>\n",
              "    <tr>\n",
              "      <th>9</th>\n",
              "      <td>A10</td>\n",
              "      <td>14.100258</td>\n",
              "      <td>1.733200e-04</td>\n",
              "    </tr>\n",
              "    <tr>\n",
              "      <th>10</th>\n",
              "      <td>Age_Mons</td>\n",
              "      <td>0.786537</td>\n",
              "      <td>3.751494e-01</td>\n",
              "    </tr>\n",
              "    <tr>\n",
              "      <th>11</th>\n",
              "      <td>Sex</td>\n",
              "      <td>10.175930</td>\n",
              "      <td>1.422859e-03</td>\n",
              "    </tr>\n",
              "    <tr>\n",
              "      <th>12</th>\n",
              "      <td>Ethnicity</td>\n",
              "      <td>0.658372</td>\n",
              "      <td>4.171354e-01</td>\n",
              "    </tr>\n",
              "    <tr>\n",
              "      <th>13</th>\n",
              "      <td>Jaundice</td>\n",
              "      <td>1.579635</td>\n",
              "      <td>2.088133e-01</td>\n",
              "    </tr>\n",
              "    <tr>\n",
              "      <th>14</th>\n",
              "      <td>Family_mem_with_ASD</td>\n",
              "      <td>0.030994</td>\n",
              "      <td>8.602535e-01</td>\n",
              "    </tr>\n",
              "    <tr>\n",
              "      <th>15</th>\n",
              "      <td>Who completed the test</td>\n",
              "      <td>0.395023</td>\n",
              "      <td>5.296709e-01</td>\n",
              "    </tr>\n",
              "  </tbody>\n",
              "</table>\n",
              "</div>\n",
              "      <button class=\"colab-df-convert\" onclick=\"convertToInteractive('df-8dda191a-2757-43ea-b8c2-5e3427add1f3')\"\n",
              "              title=\"Convert this dataframe to an interactive table.\"\n",
              "              style=\"display:none;\">\n",
              "        \n",
              "  <svg xmlns=\"http://www.w3.org/2000/svg\" height=\"24px\"viewBox=\"0 0 24 24\"\n",
              "       width=\"24px\">\n",
              "    <path d=\"M0 0h24v24H0V0z\" fill=\"none\"/>\n",
              "    <path d=\"M18.56 5.44l.94 2.06.94-2.06 2.06-.94-2.06-.94-.94-2.06-.94 2.06-2.06.94zm-11 1L8.5 8.5l.94-2.06 2.06-.94-2.06-.94L8.5 2.5l-.94 2.06-2.06.94zm10 10l.94 2.06.94-2.06 2.06-.94-2.06-.94-.94-2.06-.94 2.06-2.06.94z\"/><path d=\"M17.41 7.96l-1.37-1.37c-.4-.4-.92-.59-1.43-.59-.52 0-1.04.2-1.43.59L10.3 9.45l-7.72 7.72c-.78.78-.78 2.05 0 2.83L4 21.41c.39.39.9.59 1.41.59.51 0 1.02-.2 1.41-.59l7.78-7.78 2.81-2.81c.8-.78.8-2.07 0-2.86zM5.41 20L4 18.59l7.72-7.72 1.47 1.35L5.41 20z\"/>\n",
              "  </svg>\n",
              "      </button>\n",
              "      \n",
              "  <style>\n",
              "    .colab-df-container {\n",
              "      display:flex;\n",
              "      flex-wrap:wrap;\n",
              "      gap: 12px;\n",
              "    }\n",
              "\n",
              "    .colab-df-convert {\n",
              "      background-color: #E8F0FE;\n",
              "      border: none;\n",
              "      border-radius: 50%;\n",
              "      cursor: pointer;\n",
              "      display: none;\n",
              "      fill: #1967D2;\n",
              "      height: 32px;\n",
              "      padding: 0 0 0 0;\n",
              "      width: 32px;\n",
              "    }\n",
              "\n",
              "    .colab-df-convert:hover {\n",
              "      background-color: #E2EBFA;\n",
              "      box-shadow: 0px 1px 2px rgba(60, 64, 67, 0.3), 0px 1px 3px 1px rgba(60, 64, 67, 0.15);\n",
              "      fill: #174EA6;\n",
              "    }\n",
              "\n",
              "    [theme=dark] .colab-df-convert {\n",
              "      background-color: #3B4455;\n",
              "      fill: #D2E3FC;\n",
              "    }\n",
              "\n",
              "    [theme=dark] .colab-df-convert:hover {\n",
              "      background-color: #434B5C;\n",
              "      box-shadow: 0px 1px 3px 1px rgba(0, 0, 0, 0.15);\n",
              "      filter: drop-shadow(0px 1px 2px rgba(0, 0, 0, 0.3));\n",
              "      fill: #FFFFFF;\n",
              "    }\n",
              "  </style>\n",
              "\n",
              "      <script>\n",
              "        const buttonEl =\n",
              "          document.querySelector('#df-8dda191a-2757-43ea-b8c2-5e3427add1f3 button.colab-df-convert');\n",
              "        buttonEl.style.display =\n",
              "          google.colab.kernel.accessAllowed ? 'block' : 'none';\n",
              "\n",
              "        async function convertToInteractive(key) {\n",
              "          const element = document.querySelector('#df-8dda191a-2757-43ea-b8c2-5e3427add1f3');\n",
              "          const dataTable =\n",
              "            await google.colab.kernel.invokeFunction('convertToInteractive',\n",
              "                                                     [key], {});\n",
              "          if (!dataTable) return;\n",
              "\n",
              "          const docLinkHtml = 'Like what you see? Visit the ' +\n",
              "            '<a target=\"_blank\" href=https://colab.research.google.com/notebooks/data_table.ipynb>data table notebook</a>'\n",
              "            + ' to learn more about interactive tables.';\n",
              "          element.innerHTML = '';\n",
              "          dataTable['output_type'] = 'display_data';\n",
              "          await google.colab.output.renderOutput(dataTable, element);\n",
              "          const docLink = document.createElement('div');\n",
              "          docLink.innerHTML = docLinkHtml;\n",
              "          element.appendChild(docLink);\n",
              "        }\n",
              "      </script>\n",
              "    </div>\n",
              "  </div>\n",
              "  "
            ]
          },
          "metadata": {},
          "execution_count": 106
        }
      ]
    },
    {
      "cell_type": "code",
      "source": [
        "X_females = females.drop(\"ASD_Traits\", axis=1)\n",
        "y_females = females['ASD_Traits']\n",
        "\n",
        "scaled_X_f = scaler.fit_transform(X_females)\n",
        "chi2_selector_f = SelectKBest(chi2, k=5)\n",
        "\n",
        "chi2_selector_f.fit(scaled_X_f, y_females)\n",
        "\n",
        "chi2_scores_f = pd.DataFrame(list(zip(features, chi2_selector_f.scores_, chi2_selector.pvalues_)), columns=['feature','score','pval'])\n",
        "chi2_scores_f"
      ],
      "metadata": {
        "colab": {
          "base_uri": "https://localhost:8080/",
          "height": 551
        },
        "id": "96VGVARpKH_a",
        "outputId": "dcb7a265-d57c-4249-b25e-e1ac4f0559f6"
      },
      "execution_count": 107,
      "outputs": [
        {
          "output_type": "execute_result",
          "data": {
            "text/plain": [
              "                   feature      score          pval\n",
              "0                       A1  65.725883  3.241388e-27\n",
              "1                       A2  49.652717  5.629263e-29\n",
              "2                       A3  57.294371  7.691663e-25\n",
              "3                       A4  64.554371  2.251647e-30\n",
              "4                       A5  57.827805  1.900549e-36\n",
              "5                       A6  58.347481  2.609901e-33\n",
              "6                       A7  49.476137  2.820482e-27\n",
              "7                       A8  38.248330  2.020071e-24\n",
              "8                       A9  62.664629  6.807022e-41\n",
              "9                      A10   6.078445  1.733200e-04\n",
              "10                Age_Mons   1.418171  3.751494e-01\n",
              "11                     Sex        NaN  1.422859e-03\n",
              "12               Ethnicity   0.129320  4.171354e-01\n",
              "13                Jaundice   0.000034  2.088133e-01\n",
              "14     Family_mem_with_ASD   0.129956  8.602535e-01\n",
              "15  Who completed the test   0.909064  5.296709e-01"
            ],
            "text/html": [
              "\n",
              "  <div id=\"df-527b7c9f-202c-442d-8614-723b99adace0\">\n",
              "    <div class=\"colab-df-container\">\n",
              "      <div>\n",
              "<style scoped>\n",
              "    .dataframe tbody tr th:only-of-type {\n",
              "        vertical-align: middle;\n",
              "    }\n",
              "\n",
              "    .dataframe tbody tr th {\n",
              "        vertical-align: top;\n",
              "    }\n",
              "\n",
              "    .dataframe thead th {\n",
              "        text-align: right;\n",
              "    }\n",
              "</style>\n",
              "<table border=\"1\" class=\"dataframe\">\n",
              "  <thead>\n",
              "    <tr style=\"text-align: right;\">\n",
              "      <th></th>\n",
              "      <th>feature</th>\n",
              "      <th>score</th>\n",
              "      <th>pval</th>\n",
              "    </tr>\n",
              "  </thead>\n",
              "  <tbody>\n",
              "    <tr>\n",
              "      <th>0</th>\n",
              "      <td>A1</td>\n",
              "      <td>65.725883</td>\n",
              "      <td>3.241388e-27</td>\n",
              "    </tr>\n",
              "    <tr>\n",
              "      <th>1</th>\n",
              "      <td>A2</td>\n",
              "      <td>49.652717</td>\n",
              "      <td>5.629263e-29</td>\n",
              "    </tr>\n",
              "    <tr>\n",
              "      <th>2</th>\n",
              "      <td>A3</td>\n",
              "      <td>57.294371</td>\n",
              "      <td>7.691663e-25</td>\n",
              "    </tr>\n",
              "    <tr>\n",
              "      <th>3</th>\n",
              "      <td>A4</td>\n",
              "      <td>64.554371</td>\n",
              "      <td>2.251647e-30</td>\n",
              "    </tr>\n",
              "    <tr>\n",
              "      <th>4</th>\n",
              "      <td>A5</td>\n",
              "      <td>57.827805</td>\n",
              "      <td>1.900549e-36</td>\n",
              "    </tr>\n",
              "    <tr>\n",
              "      <th>5</th>\n",
              "      <td>A6</td>\n",
              "      <td>58.347481</td>\n",
              "      <td>2.609901e-33</td>\n",
              "    </tr>\n",
              "    <tr>\n",
              "      <th>6</th>\n",
              "      <td>A7</td>\n",
              "      <td>49.476137</td>\n",
              "      <td>2.820482e-27</td>\n",
              "    </tr>\n",
              "    <tr>\n",
              "      <th>7</th>\n",
              "      <td>A8</td>\n",
              "      <td>38.248330</td>\n",
              "      <td>2.020071e-24</td>\n",
              "    </tr>\n",
              "    <tr>\n",
              "      <th>8</th>\n",
              "      <td>A9</td>\n",
              "      <td>62.664629</td>\n",
              "      <td>6.807022e-41</td>\n",
              "    </tr>\n",
              "    <tr>\n",
              "      <th>9</th>\n",
              "      <td>A10</td>\n",
              "      <td>6.078445</td>\n",
              "      <td>1.733200e-04</td>\n",
              "    </tr>\n",
              "    <tr>\n",
              "      <th>10</th>\n",
              "      <td>Age_Mons</td>\n",
              "      <td>1.418171</td>\n",
              "      <td>3.751494e-01</td>\n",
              "    </tr>\n",
              "    <tr>\n",
              "      <th>11</th>\n",
              "      <td>Sex</td>\n",
              "      <td>NaN</td>\n",
              "      <td>1.422859e-03</td>\n",
              "    </tr>\n",
              "    <tr>\n",
              "      <th>12</th>\n",
              "      <td>Ethnicity</td>\n",
              "      <td>0.129320</td>\n",
              "      <td>4.171354e-01</td>\n",
              "    </tr>\n",
              "    <tr>\n",
              "      <th>13</th>\n",
              "      <td>Jaundice</td>\n",
              "      <td>0.000034</td>\n",
              "      <td>2.088133e-01</td>\n",
              "    </tr>\n",
              "    <tr>\n",
              "      <th>14</th>\n",
              "      <td>Family_mem_with_ASD</td>\n",
              "      <td>0.129956</td>\n",
              "      <td>8.602535e-01</td>\n",
              "    </tr>\n",
              "    <tr>\n",
              "      <th>15</th>\n",
              "      <td>Who completed the test</td>\n",
              "      <td>0.909064</td>\n",
              "      <td>5.296709e-01</td>\n",
              "    </tr>\n",
              "  </tbody>\n",
              "</table>\n",
              "</div>\n",
              "      <button class=\"colab-df-convert\" onclick=\"convertToInteractive('df-527b7c9f-202c-442d-8614-723b99adace0')\"\n",
              "              title=\"Convert this dataframe to an interactive table.\"\n",
              "              style=\"display:none;\">\n",
              "        \n",
              "  <svg xmlns=\"http://www.w3.org/2000/svg\" height=\"24px\"viewBox=\"0 0 24 24\"\n",
              "       width=\"24px\">\n",
              "    <path d=\"M0 0h24v24H0V0z\" fill=\"none\"/>\n",
              "    <path d=\"M18.56 5.44l.94 2.06.94-2.06 2.06-.94-2.06-.94-.94-2.06-.94 2.06-2.06.94zm-11 1L8.5 8.5l.94-2.06 2.06-.94-2.06-.94L8.5 2.5l-.94 2.06-2.06.94zm10 10l.94 2.06.94-2.06 2.06-.94-2.06-.94-.94-2.06-.94 2.06-2.06.94z\"/><path d=\"M17.41 7.96l-1.37-1.37c-.4-.4-.92-.59-1.43-.59-.52 0-1.04.2-1.43.59L10.3 9.45l-7.72 7.72c-.78.78-.78 2.05 0 2.83L4 21.41c.39.39.9.59 1.41.59.51 0 1.02-.2 1.41-.59l7.78-7.78 2.81-2.81c.8-.78.8-2.07 0-2.86zM5.41 20L4 18.59l7.72-7.72 1.47 1.35L5.41 20z\"/>\n",
              "  </svg>\n",
              "      </button>\n",
              "      \n",
              "  <style>\n",
              "    .colab-df-container {\n",
              "      display:flex;\n",
              "      flex-wrap:wrap;\n",
              "      gap: 12px;\n",
              "    }\n",
              "\n",
              "    .colab-df-convert {\n",
              "      background-color: #E8F0FE;\n",
              "      border: none;\n",
              "      border-radius: 50%;\n",
              "      cursor: pointer;\n",
              "      display: none;\n",
              "      fill: #1967D2;\n",
              "      height: 32px;\n",
              "      padding: 0 0 0 0;\n",
              "      width: 32px;\n",
              "    }\n",
              "\n",
              "    .colab-df-convert:hover {\n",
              "      background-color: #E2EBFA;\n",
              "      box-shadow: 0px 1px 2px rgba(60, 64, 67, 0.3), 0px 1px 3px 1px rgba(60, 64, 67, 0.15);\n",
              "      fill: #174EA6;\n",
              "    }\n",
              "\n",
              "    [theme=dark] .colab-df-convert {\n",
              "      background-color: #3B4455;\n",
              "      fill: #D2E3FC;\n",
              "    }\n",
              "\n",
              "    [theme=dark] .colab-df-convert:hover {\n",
              "      background-color: #434B5C;\n",
              "      box-shadow: 0px 1px 3px 1px rgba(0, 0, 0, 0.15);\n",
              "      filter: drop-shadow(0px 1px 2px rgba(0, 0, 0, 0.3));\n",
              "      fill: #FFFFFF;\n",
              "    }\n",
              "  </style>\n",
              "\n",
              "      <script>\n",
              "        const buttonEl =\n",
              "          document.querySelector('#df-527b7c9f-202c-442d-8614-723b99adace0 button.colab-df-convert');\n",
              "        buttonEl.style.display =\n",
              "          google.colab.kernel.accessAllowed ? 'block' : 'none';\n",
              "\n",
              "        async function convertToInteractive(key) {\n",
              "          const element = document.querySelector('#df-527b7c9f-202c-442d-8614-723b99adace0');\n",
              "          const dataTable =\n",
              "            await google.colab.kernel.invokeFunction('convertToInteractive',\n",
              "                                                     [key], {});\n",
              "          if (!dataTable) return;\n",
              "\n",
              "          const docLinkHtml = 'Like what you see? Visit the ' +\n",
              "            '<a target=\"_blank\" href=https://colab.research.google.com/notebooks/data_table.ipynb>data table notebook</a>'\n",
              "            + ' to learn more about interactive tables.';\n",
              "          element.innerHTML = '';\n",
              "          dataTable['output_type'] = 'display_data';\n",
              "          await google.colab.output.renderOutput(dataTable, element);\n",
              "          const docLink = document.createElement('div');\n",
              "          docLink.innerHTML = docLinkHtml;\n",
              "          element.appendChild(docLink);\n",
              "        }\n",
              "      </script>\n",
              "    </div>\n",
              "  </div>\n",
              "  "
            ]
          },
          "metadata": {},
          "execution_count": 107
        }
      ]
    },
    {
      "cell_type": "code",
      "source": [
        "kbest_f = sorted(np.asarray(features_chi[:16])[chi2_selector_f.get_support()], reverse=True)\n",
        "kbest_f"
      ],
      "metadata": {
        "colab": {
          "base_uri": "https://localhost:8080/"
        },
        "id": "4pz2t0BRNB06",
        "outputId": "d57e9acc-b294-4c17-ed4d-04ac88333f71"
      },
      "execution_count": 105,
      "outputs": [
        {
          "output_type": "execute_result",
          "data": {
            "text/plain": [
              "['A9', 'A6', 'A5', 'A4', 'A1']"
            ]
          },
          "metadata": {},
          "execution_count": 105
        }
      ]
    },
    {
      "cell_type": "code",
      "source": [
        "# import pickle\n",
        "\n",
        "# pickle.dump(log_reg, open('log_reg.pkl','wb'))"
      ],
      "metadata": {
        "id": "0Bqm85zRecvO"
      },
      "execution_count": 88,
      "outputs": []
    }
  ]
}