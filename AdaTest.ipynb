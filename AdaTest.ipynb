{
  "cells": [
    {
      "cell_type": "markdown",
      "metadata": {
        "id": "view-in-github",
        "colab_type": "text"
      },
      "source": [
        "<a href=\"https://colab.research.google.com/github/sckgn/FinalYearProject_ML/blob/main/AdaTest.ipynb\" target=\"_parent\"><img src=\"https://colab.research.google.com/assets/colab-badge.svg\" alt=\"Open In Colab\"/></a>"
      ]
    },
    {
      "cell_type": "code",
      "execution_count": 1,
      "metadata": {
        "id": "8dXabEfp2A4p"
      },
      "outputs": [],
      "source": [
        "import pandas as pd\n",
        "import numpy as np \n",
        "import matplotlib.pyplot as plt\n",
        "%matplotlib inline\n",
        "import sklearn"
      ]
    },
    {
      "cell_type": "code",
      "execution_count": 2,
      "metadata": {
        "id": "cSfOxbc_2A4t"
      },
      "outputs": [],
      "source": [
        "asd_2018_df = pd.read_csv('dataset_2018.csv')"
      ]
    },
    {
      "cell_type": "code",
      "execution_count": 3,
      "metadata": {
        "id": "_3SVjv9A2A4v"
      },
      "outputs": [],
      "source": [
        "asd_2018_df.rename(columns={'Class/ASD Traits ':'ASD_Traits'}, inplace=True)"
      ]
    },
    {
      "cell_type": "markdown",
      "source": [
        "# **Default parameters**"
      ],
      "metadata": {
        "id": "9D62UE0P3AGl"
      }
    },
    {
      "cell_type": "markdown",
      "source": [
        "##**Female dataset**"
      ],
      "metadata": {
        "id": "u-jQeHKA3Pw6"
      }
    },
    {
      "cell_type": "code",
      "execution_count": 115,
      "metadata": {
        "id": "e8a9zHKL2A4w"
      },
      "outputs": [],
      "source": [
        "female_df = asd_2018_df[asd_2018_df['Sex']=='f']"
      ]
    },
    {
      "cell_type": "code",
      "execution_count": 116,
      "metadata": {
        "id": "_iGp-Fbw2A4x"
      },
      "outputs": [],
      "source": [
        "female_df = female_df.drop(['Case_No', 'Qchat-10-Score','Who completed the test','Ethnicity','Sex'], axis=1)"
      ]
    },
    {
      "cell_type": "code",
      "execution_count": 117,
      "metadata": {
        "id": "ERuQBLUd2A4y"
      },
      "outputs": [],
      "source": [
        "from sklearn.preprocessing import OneHotEncoder, LabelEncoder, OrdinalEncoder\n",
        "from sklearn.preprocessing import MinMaxScaler\n",
        "\n",
        "encoder = OrdinalEncoder()\n",
        "y_encoder = LabelEncoder()\n",
        "scaler = MinMaxScaler()\n",
        "\n",
        "age = ['Age_Mons']\n",
        "# char_vals = ['Sex','Jaundice','Family_mem_with_ASD']\n",
        "char_vals = ['Jaundice','Family_mem_with_ASD']\n",
        "target = ['ASD_Traits']"
      ]
    },
    {
      "cell_type": "code",
      "execution_count": 118,
      "metadata": {
        "id": "R5pzHAw42A4z"
      },
      "outputs": [],
      "source": [
        "from sklearn.model_selection import train_test_split\n",
        "\n",
        "X = female_df.drop(\"ASD_Traits\", axis=1)\n",
        "y = female_df[\"ASD_Traits\"]\n",
        "\n",
        "X_train, X_test, y_train, y_test = train_test_split(X, y, test_size=0.3, random_state=42, stratify=y)"
      ]
    },
    {
      "cell_type": "code",
      "execution_count": 119,
      "metadata": {
        "colab": {
          "base_uri": "https://localhost:8080/"
        },
        "id": "yB2wGpZl2A40",
        "outputId": "103597c6-6647-4cad-a670-937d4b0fdefb"
      },
      "outputs": [
        {
          "output_type": "stream",
          "name": "stdout",
          "text": [
            "['No' 'Yes']\n"
          ]
        }
      ],
      "source": [
        "print(np.unique(y_train))"
      ]
    },
    {
      "cell_type": "code",
      "source": [
        "X.columns"
      ],
      "metadata": {
        "colab": {
          "base_uri": "https://localhost:8080/"
        },
        "id": "6QkyAIM8NIxj",
        "outputId": "baab6428-33f1-45d6-ee4b-5e98e9c2529b"
      },
      "execution_count": 120,
      "outputs": [
        {
          "output_type": "execute_result",
          "data": {
            "text/plain": [
              "Index(['A1', 'A2', 'A3', 'A4', 'A5', 'A6', 'A7', 'A8', 'A9', 'A10', 'Age_Mons',\n",
              "       'Jaundice', 'Family_mem_with_ASD'],\n",
              "      dtype='object')"
            ]
          },
          "metadata": {},
          "execution_count": 120
        }
      ]
    },
    {
      "cell_type": "code",
      "execution_count": 121,
      "metadata": {
        "id": "BaswlUz-2A43"
      },
      "outputs": [],
      "source": [
        "X_train[age] = scaler.fit_transform(X_train[age].values.reshape(-1,1))\n",
        "X_test[age] = scaler.transform(X_test[age].values.reshape(-1,1))\n",
        "for c in char_vals:\n",
        "  X_train[c] = encoder.fit_transform(X_train[c].values.reshape(-1,1))\n",
        "  X_test[c] = encoder.transform(X_test[c].values.reshape(-1,1))\n",
        "y_train = y_encoder.fit_transform(y_train.values.ravel())\n",
        "y_test = y_encoder.transform(y_test.values.ravel())"
      ]
    },
    {
      "cell_type": "code",
      "execution_count": 122,
      "metadata": {
        "colab": {
          "base_uri": "https://localhost:8080/"
        },
        "id": "C-7mc_XF2A44",
        "outputId": "9a823d63-b797-4d5f-a80a-64052e849f12"
      },
      "outputs": [
        {
          "output_type": "stream",
          "name": "stdout",
          "text": [
            "[1 1 1 1 0 1 1 1 0 1 0 1 0 1 0 1 1 0 1 0 0 1 0 1 1 1 1 0 0 0 1 1 0 1 1 1 0\n",
            " 0 1 1 0 0 1 0 1 1 1 0 0 1 0 1 0 0 0 0 1 1 1 1 1 1 1 1 1 1 0 1 0 1 0 1 0 1\n",
            " 1 1 1 0 1 1 1 0 0 1 0 1 0 0 1 0 1 1 0 1 1 0]\n"
          ]
        }
      ],
      "source": [
        "print(y_test)"
      ]
    },
    {
      "cell_type": "code",
      "execution_count": 123,
      "metadata": {
        "colab": {
          "base_uri": "https://localhost:8080/",
          "height": 75
        },
        "id": "O50M3MHp2A45",
        "outputId": "29386b14-b642-46c5-f7a3-f2e5b5d81918"
      },
      "outputs": [
        {
          "output_type": "execute_result",
          "data": {
            "text/plain": [
              "AdaBoostClassifier(n_estimators=100, random_state=42)"
            ],
            "text/html": [
              "<style>#sk-container-id-12 {color: black;background-color: white;}#sk-container-id-12 pre{padding: 0;}#sk-container-id-12 div.sk-toggleable {background-color: white;}#sk-container-id-12 label.sk-toggleable__label {cursor: pointer;display: block;width: 100%;margin-bottom: 0;padding: 0.3em;box-sizing: border-box;text-align: center;}#sk-container-id-12 label.sk-toggleable__label-arrow:before {content: \"▸\";float: left;margin-right: 0.25em;color: #696969;}#sk-container-id-12 label.sk-toggleable__label-arrow:hover:before {color: black;}#sk-container-id-12 div.sk-estimator:hover label.sk-toggleable__label-arrow:before {color: black;}#sk-container-id-12 div.sk-toggleable__content {max-height: 0;max-width: 0;overflow: hidden;text-align: left;background-color: #f0f8ff;}#sk-container-id-12 div.sk-toggleable__content pre {margin: 0.2em;color: black;border-radius: 0.25em;background-color: #f0f8ff;}#sk-container-id-12 input.sk-toggleable__control:checked~div.sk-toggleable__content {max-height: 200px;max-width: 100%;overflow: auto;}#sk-container-id-12 input.sk-toggleable__control:checked~label.sk-toggleable__label-arrow:before {content: \"▾\";}#sk-container-id-12 div.sk-estimator input.sk-toggleable__control:checked~label.sk-toggleable__label {background-color: #d4ebff;}#sk-container-id-12 div.sk-label input.sk-toggleable__control:checked~label.sk-toggleable__label {background-color: #d4ebff;}#sk-container-id-12 input.sk-hidden--visually {border: 0;clip: rect(1px 1px 1px 1px);clip: rect(1px, 1px, 1px, 1px);height: 1px;margin: -1px;overflow: hidden;padding: 0;position: absolute;width: 1px;}#sk-container-id-12 div.sk-estimator {font-family: monospace;background-color: #f0f8ff;border: 1px dotted black;border-radius: 0.25em;box-sizing: border-box;margin-bottom: 0.5em;}#sk-container-id-12 div.sk-estimator:hover {background-color: #d4ebff;}#sk-container-id-12 div.sk-parallel-item::after {content: \"\";width: 100%;border-bottom: 1px solid gray;flex-grow: 1;}#sk-container-id-12 div.sk-label:hover label.sk-toggleable__label {background-color: #d4ebff;}#sk-container-id-12 div.sk-serial::before {content: \"\";position: absolute;border-left: 1px solid gray;box-sizing: border-box;top: 0;bottom: 0;left: 50%;z-index: 0;}#sk-container-id-12 div.sk-serial {display: flex;flex-direction: column;align-items: center;background-color: white;padding-right: 0.2em;padding-left: 0.2em;position: relative;}#sk-container-id-12 div.sk-item {position: relative;z-index: 1;}#sk-container-id-12 div.sk-parallel {display: flex;align-items: stretch;justify-content: center;background-color: white;position: relative;}#sk-container-id-12 div.sk-item::before, #sk-container-id-12 div.sk-parallel-item::before {content: \"\";position: absolute;border-left: 1px solid gray;box-sizing: border-box;top: 0;bottom: 0;left: 50%;z-index: -1;}#sk-container-id-12 div.sk-parallel-item {display: flex;flex-direction: column;z-index: 1;position: relative;background-color: white;}#sk-container-id-12 div.sk-parallel-item:first-child::after {align-self: flex-end;width: 50%;}#sk-container-id-12 div.sk-parallel-item:last-child::after {align-self: flex-start;width: 50%;}#sk-container-id-12 div.sk-parallel-item:only-child::after {width: 0;}#sk-container-id-12 div.sk-dashed-wrapped {border: 1px dashed gray;margin: 0 0.4em 0.5em 0.4em;box-sizing: border-box;padding-bottom: 0.4em;background-color: white;}#sk-container-id-12 div.sk-label label {font-family: monospace;font-weight: bold;display: inline-block;line-height: 1.2em;}#sk-container-id-12 div.sk-label-container {text-align: center;}#sk-container-id-12 div.sk-container {/* jupyter's `normalize.less` sets `[hidden] { display: none; }` but bootstrap.min.css set `[hidden] { display: none !important; }` so we also need the `!important` here to be able to override the default hidden behavior on the sphinx rendered scikit-learn.org. See: https://github.com/scikit-learn/scikit-learn/issues/21755 */display: inline-block !important;position: relative;}#sk-container-id-12 div.sk-text-repr-fallback {display: none;}</style><div id=\"sk-container-id-12\" class=\"sk-top-container\"><div class=\"sk-text-repr-fallback\"><pre>AdaBoostClassifier(n_estimators=100, random_state=42)</pre><b>In a Jupyter environment, please rerun this cell to show the HTML representation or trust the notebook. <br />On GitHub, the HTML representation is unable to render, please try loading this page with nbviewer.org.</b></div><div class=\"sk-container\" hidden><div class=\"sk-item\"><div class=\"sk-estimator sk-toggleable\"><input class=\"sk-toggleable__control sk-hidden--visually\" id=\"sk-estimator-id-51\" type=\"checkbox\" checked><label for=\"sk-estimator-id-51\" class=\"sk-toggleable__label sk-toggleable__label-arrow\">AdaBoostClassifier</label><div class=\"sk-toggleable__content\"><pre>AdaBoostClassifier(n_estimators=100, random_state=42)</pre></div></div></div></div></div>"
            ]
          },
          "metadata": {},
          "execution_count": 123
        }
      ],
      "source": [
        "from sklearn.ensemble import AdaBoostClassifier\n",
        "\n",
        "ada = AdaBoostClassifier(n_estimators=100, random_state=42)\n",
        "ada.fit(X_train, y_train)"
      ]
    },
    {
      "cell_type": "code",
      "execution_count": 124,
      "metadata": {
        "id": "vXGUrKD_2A46"
      },
      "outputs": [],
      "source": [
        "from sklearn.model_selection import cross_validate\n",
        "from sklearn.metrics import make_scorer, accuracy_score, precision_score, recall_score, f1_score"
      ]
    },
    {
      "cell_type": "code",
      "execution_count": 125,
      "metadata": {
        "id": "IivMcN1U2A47"
      },
      "outputs": [],
      "source": [
        "metrics ={'accuracy': make_scorer(accuracy_score),\n",
        "          'precision': make_scorer(precision_score),\n",
        "          'recall' : make_scorer(recall_score),\n",
        "          'f1_score' : make_scorer(f1_score)}"
      ]
    },
    {
      "cell_type": "code",
      "execution_count": 126,
      "metadata": {
        "id": "2gwFIsEw2A49"
      },
      "outputs": [],
      "source": [
        "def cross_validation_results(model, predictors, target, metrics):\n",
        "  results = cross_validate(model, predictors, target, scoring = metrics, return_train_score=False, cv=10)\n",
        "\n",
        "  print(\"Mean Test Precision: \", results['test_precision'].mean())\n",
        "  print(\"Mean Test Recall: \", results['test_recall'].mean())\n",
        "  print(\"Mean Test F1: \", results['test_f1_score'].mean())\n",
        "  print(\"Accuracy: \", results['test_accuracy'].mean())"
      ]
    },
    {
      "cell_type": "code",
      "execution_count": 127,
      "metadata": {
        "colab": {
          "base_uri": "https://localhost:8080/"
        },
        "id": "V-IJJH-p2A4-",
        "outputId": "d89a27ad-5cc3-4859-d858-1524d3d17ec7"
      },
      "outputs": [
        {
          "output_type": "stream",
          "name": "stdout",
          "text": [
            "Mean Test Precision:  0.9803571428571429\n",
            "Mean Test Recall:  0.9851648351648352\n",
            "Mean Test F1:  0.981925925925926\n",
            "Accuracy:  0.9776679841897234\n"
          ]
        }
      ],
      "source": [
        "cross_validation_results(ada, X_train, y_train, metrics)"
      ]
    },
    {
      "cell_type": "code",
      "execution_count": 16,
      "metadata": {
        "id": "5ImFmbsR2A4_"
      },
      "outputs": [],
      "source": [
        "from sklearn.metrics import ConfusionMatrixDisplay\n",
        "\n",
        "def evaluate_on_test(model, predictors, target):\n",
        "  predictions = model.predict(predictors)\n",
        "  print(\"Accuracy: \", accuracy_score(target, predictions))\n",
        "  print(\"Precision: \", precision_score(target, predictions, average='binary', pos_label=1))\n",
        "  print(\"Recall: \", recall_score(target, predictions))\n",
        "  print(\"F1: \", f1_score(target, predictions))\n",
        "  ConfusionMatrixDisplay.from_estimator(model, predictors, target)"
      ]
    },
    {
      "cell_type": "code",
      "execution_count": 17,
      "metadata": {
        "colab": {
          "base_uri": "https://localhost:8080/",
          "height": 348
        },
        "id": "5kb4y4ml2A5A",
        "outputId": "56c5dfac-c611-4d5d-bed5-8a9f08af0b08"
      },
      "outputs": [
        {
          "output_type": "stream",
          "name": "stdout",
          "text": [
            "Accuracy:  0.96875\n",
            "Precision:  0.9508196721311475\n",
            "Recall:  1.0\n",
            "F1:  0.9747899159663865\n"
          ]
        },
        {
          "output_type": "display_data",
          "data": {
            "text/plain": [
              "<Figure size 432x288 with 2 Axes>"
            ],
            "image/png": "[encoded data removed]"
          },
          "metadata": {
            "needs_background": "light"
          }
        }
      ],
      "source": [
        "evaluate_on_test(ada, X_test, y_test)"
      ]
    },
    {
      "cell_type": "code",
      "execution_count": 18,
      "metadata": {
        "id": "2sC7Wo_R2A5B"
      },
      "outputs": [],
      "source": [
        "def show_incorrectly_classified(predictors, predictions, target):\n",
        "  for row_index, (input, prediction, label) in enumerate(zip(predictors.values, predictions, target)):\n",
        "    if prediction != label:\n",
        "        print('Row', row_index, 'has been classified as', prediction, 'and should be', label, \"\\nInput:\",input)"
      ]
    },
    {
      "cell_type": "code",
      "execution_count": 19,
      "metadata": {
        "colab": {
          "base_uri": "https://localhost:8080/"
        },
        "id": "sPAWhDf12A5C",
        "outputId": "c9e3abcc-1657-407c-f60f-6771119960b6"
      },
      "outputs": [
        {
          "output_type": "stream",
          "name": "stdout",
          "text": [
            "Row 4 has been classified as 1.0 and should be [0.] \n",
            "Input: [1.         0.         0.         0.         1.         0.\n",
            " 0.         0.         0.         1.         0.70833333 0.\n",
            " 0.         0.        ]\n",
            "Row 32 has been classified as 1.0 and should be [0.] \n",
            "Input: [1.         0.         0.         1.         0.         1.\n",
            " 0.         0.         0.         0.         0.70833333 0.\n",
            " 0.         0.        ]\n",
            "Row 40 has been classified as 1.0 and should be [0.] \n",
            "Input: [0.         0.         0.         1.         0.         0.\n",
            " 1.         0.         0.         1.         0.91666667 0.\n",
            " 0.         1.        ]\n"
          ]
        }
      ],
      "source": [
        "show_incorrectly_classified(X_test, ada.predict(X_test), y_test)"
      ]
    },
    {
      "cell_type": "code",
      "source": [
        "ada.learning_rate"
      ],
      "metadata": {
        "colab": {
          "base_uri": "https://localhost:8080/"
        },
        "id": "2AduwB1dsIj2",
        "outputId": "0e2f2abc-8174-4482-ff2f-985dd3edfd08"
      },
      "execution_count": 20,
      "outputs": [
        {
          "output_type": "execute_result",
          "data": {
            "text/plain": [
              "1.0"
            ]
          },
          "metadata": {},
          "execution_count": 20
        }
      ]
    },
    {
      "cell_type": "code",
      "source": [
        "ada.n_estimators"
      ],
      "metadata": {
        "colab": {
          "base_uri": "https://localhost:8080/"
        },
        "id": "fvzPuyoIsfMP",
        "outputId": "0b708cb5-184f-4045-ce5c-828cb1af46fc"
      },
      "execution_count": 21,
      "outputs": [
        {
          "output_type": "execute_result",
          "data": {
            "text/plain": [
              "100"
            ]
          },
          "metadata": {},
          "execution_count": 21
        }
      ]
    },
    {
      "cell_type": "markdown",
      "source": [
        "#**GridSearchCV**"
      ],
      "metadata": {
        "id": "rY3r7sQq37nW"
      }
    },
    {
      "cell_type": "markdown",
      "source": [
        "##**Female**"
      ],
      "metadata": {
        "id": "rBNGzKuE34H2"
      }
    },
    {
      "cell_type": "code",
      "source": [
        "grid_female = female_df = asd_2018_df[asd_2018_df['Sex']=='f']"
      ],
      "metadata": {
        "id": "voRAncyV4Dnr"
      },
      "execution_count": 22,
      "outputs": []
    },
    {
      "cell_type": "code",
      "source": [
        "grid_female = grid_female.drop(['Case_No', 'Qchat-10-Score','Who completed the test','Ethnicity'], axis=1)"
      ],
      "metadata": {
        "id": "i5pSDS0d9tCF"
      },
      "execution_count": 23,
      "outputs": []
    },
    {
      "cell_type": "code",
      "source": [
        "from sklearn.pipeline import Pipeline\n",
        "\n",
        "X_grid = grid_female.drop(\"ASD_Traits\", axis=1)\n",
        "y_grid = grid_female[\"ASD_Traits\"]\n",
        "\n",
        "X_grid_train, X_grid_test, y_grid_train, y_grid_test = train_test_split(X_grid, y_grid, test_size=0.3, random_state=42, stratify=y)\n"
      ],
      "metadata": {
        "id": "X9QbHAxp97ds"
      },
      "execution_count": 24,
      "outputs": []
    },
    {
      "cell_type": "code",
      "source": [
        "y_grid_train"
      ],
      "metadata": {
        "colab": {
          "base_uri": "https://localhost:8080/"
        },
        "id": "Ta5fLJ6rckiq",
        "outputId": "32820b6f-292a-4650-9a18-df77562a1bfd"
      },
      "execution_count": 25,
      "outputs": [
        {
          "output_type": "execute_result",
          "data": {
            "text/plain": [
              "750    Yes\n",
              "285     No\n",
              "901    Yes\n",
              "902    Yes\n",
              "228    Yes\n",
              "      ... \n",
              "53     Yes\n",
              "835     No\n",
              "170     No\n",
              "362    Yes\n",
              "39      No\n",
              "Name: ASD_Traits, Length: 223, dtype: object"
            ]
          },
          "metadata": {},
          "execution_count": 25
        }
      ]
    },
    {
      "cell_type": "code",
      "source": [
        "from sklearn.compose import ColumnTransformer\n",
        "\n",
        "cat_vals = ['Sex','Jaundice','Family_mem_with_ASD']\n",
        "\n",
        "preprocess = ColumnTransformer(\n",
        "    transformers=[\n",
        "        ('scaling',MinMaxScaler(),['Age_Mons']),\n",
        "        ('encoding',OrdinalEncoder(),cat_vals)\n",
        "    ]\n",
        ")\n",
        "pipeline = Pipeline(steps=[('preprocess', preprocess),\n",
        "                             ('classifier', AdaBoostClassifier(random_state=42))])\n",
        "\n",
        "target_encoder = LabelEncoder()"
      ],
      "metadata": {
        "id": "FB7vbDNEBNwC"
      },
      "execution_count": 26,
      "outputs": []
    },
    {
      "cell_type": "code",
      "source": [
        "y_grid_train_prepared = target_encoder.fit_transform(y_grid_train.values.reshape(-1,1))"
      ],
      "metadata": {
        "colab": {
          "base_uri": "https://localhost:8080/"
        },
        "id": "yOk8OKpLhQP5",
        "outputId": "e875d3dd-b819-4e37-d73c-7d2fbd9de47c"
      },
      "execution_count": 27,
      "outputs": [
        {
          "output_type": "stream",
          "name": "stderr",
          "text": [
            "/usr/local/lib/python3.9/dist-packages/sklearn/preprocessing/_label.py:116: DataConversionWarning: A column-vector y was passed when a 1d array was expected. Please change the shape of y to (n_samples, ), for example using ravel().\n",
            "  y = column_or_1d(y, warn=True)\n"
          ]
        }
      ]
    },
    {
      "cell_type": "code",
      "source": [
        "param_grid = {\n",
        "    'classifier__n_estimators': [50, 100, 200],\n",
        "    'classifier__learning_rate': [0.01, 0.1, 1.0],\n",
        "}"
      ],
      "metadata": {
        "id": "wvu_9eZYCj0L"
      },
      "execution_count": 28,
      "outputs": []
    },
    {
      "cell_type": "code",
      "source": [
        "scorers = {\n",
        "    'accuracy': make_scorer(accuracy_score),\n",
        "    'precision': make_scorer(precision_score, pos_label='Yes'),\n",
        "    'recall': make_scorer(recall_score,pos_label='Yes'),\n",
        "    'f1_score': make_scorer(f1_score,pos_label='Yes')\n",
        "}"
      ],
      "metadata": {
        "id": "J_kIskyIrM4W"
      },
      "execution_count": 29,
      "outputs": []
    },
    {
      "cell_type": "code",
      "source": [
        "from sklearn.model_selection import GridSearchCV\n",
        "\n",
        "grid_search = GridSearchCV(pipeline, param_grid=param_grid,cv=5, scoring=scorers, refit='accuracy')"
      ],
      "metadata": {
        "id": "6wEJyA8PC9BP"
      },
      "execution_count": 30,
      "outputs": []
    },
    {
      "cell_type": "code",
      "source": [
        "grid_search"
      ],
      "metadata": {
        "colab": {
          "base_uri": "https://localhost:8080/",
          "height": 219
        },
        "id": "urst-ACeauS2",
        "outputId": "98ca15f9-dd32-4107-fcb6-de3e8c89ac51"
      },
      "execution_count": 31,
      "outputs": [
        {
          "output_type": "execute_result",
          "data": {
            "text/plain": [
              "GridSearchCV(cv=5,\n",
              "             estimator=Pipeline(steps=[('preprocess',\n",
              "                                        ColumnTransformer(transformers=[('scaling',\n",
              "                                                                         MinMaxScaler(),\n",
              "                                                                         ['Age_Mons']),\n",
              "                                                                        ('encoding',\n",
              "                                                                         OrdinalEncoder(),\n",
              "                                                                         ['Sex',\n",
              "                                                                          'Jaundice',\n",
              "                                                                          'Family_mem_with_ASD'])])),\n",
              "                                       ('classifier',\n",
              "                                        AdaBoostClassifier(random_state=42))]),\n",
              "             param_grid={'classifier__learning_rate': [0.01, 0.1, 1.0],\n",
              "                         'classifier__n_estimators': [50, 100, 200]},\n",
              "             refit='accuracy',\n",
              "             scoring={'accuracy': make_scorer(accuracy_score),\n",
              "                      'f1_score': make_scorer(f1_score, pos_label=Yes),\n",
              "                      'precision': make_scorer(precision_score, pos_label=Yes),\n",
              "                      'recall': make_scorer(recall_score, pos_label=Yes)})"
            ],
            "text/html": [
              "<style>#sk-container-id-2 {color: black;background-color: white;}#sk-container-id-2 pre{padding: 0;}#sk-container-id-2 div.sk-toggleable {background-color: white;}#sk-container-id-2 label.sk-toggleable__label {cursor: pointer;display: block;width: 100%;margin-bottom: 0;padding: 0.3em;box-sizing: border-box;text-align: center;}#sk-container-id-2 label.sk-toggleable__label-arrow:before {content: \"▸\";float: left;margin-right: 0.25em;color: #696969;}#sk-container-id-2 label.sk-toggleable__label-arrow:hover:before {color: black;}#sk-container-id-2 div.sk-estimator:hover label.sk-toggleable__label-arrow:before {color: black;}#sk-container-id-2 div.sk-toggleable__content {max-height: 0;max-width: 0;overflow: hidden;text-align: left;background-color: #f0f8ff;}#sk-container-id-2 div.sk-toggleable__content pre {margin: 0.2em;color: black;border-radius: 0.25em;background-color: #f0f8ff;}#sk-container-id-2 input.sk-toggleable__control:checked~div.sk-toggleable__content {max-height: 200px;max-width: 100%;overflow: auto;}#sk-container-id-2 input.sk-toggleable__control:checked~label.sk-toggleable__label-arrow:before {content: \"▾\";}#sk-container-id-2 div.sk-estimator input.sk-toggleable__control:checked~label.sk-toggleable__label {background-color: #d4ebff;}#sk-container-id-2 div.sk-label input.sk-toggleable__control:checked~label.sk-toggleable__label {background-color: #d4ebff;}#sk-container-id-2 input.sk-hidden--visually {border: 0;clip: rect(1px 1px 1px 1px);clip: rect(1px, 1px, 1px, 1px);height: 1px;margin: -1px;overflow: hidden;padding: 0;position: absolute;width: 1px;}#sk-container-id-2 div.sk-estimator {font-family: monospace;background-color: #f0f8ff;border: 1px dotted black;border-radius: 0.25em;box-sizing: border-box;margin-bottom: 0.5em;}#sk-container-id-2 div.sk-estimator:hover {background-color: #d4ebff;}#sk-container-id-2 div.sk-parallel-item::after {content: \"\";width: 100%;border-bottom: 1px solid gray;flex-grow: 1;}#sk-container-id-2 div.sk-label:hover label.sk-toggleable__label {background-color: #d4ebff;}#sk-container-id-2 div.sk-serial::before {content: \"\";position: absolute;border-left: 1px solid gray;box-sizing: border-box;top: 0;bottom: 0;left: 50%;z-index: 0;}#sk-container-id-2 div.sk-serial {display: flex;flex-direction: column;align-items: center;background-color: white;padding-right: 0.2em;padding-left: 0.2em;position: relative;}#sk-container-id-2 div.sk-item {position: relative;z-index: 1;}#sk-container-id-2 div.sk-parallel {display: flex;align-items: stretch;justify-content: center;background-color: white;position: relative;}#sk-container-id-2 div.sk-item::before, #sk-container-id-2 div.sk-parallel-item::before {content: \"\";position: absolute;border-left: 1px solid gray;box-sizing: border-box;top: 0;bottom: 0;left: 50%;z-index: -1;}#sk-container-id-2 div.sk-parallel-item {display: flex;flex-direction: column;z-index: 1;position: relative;background-color: white;}#sk-container-id-2 div.sk-parallel-item:first-child::after {align-self: flex-end;width: 50%;}#sk-container-id-2 div.sk-parallel-item:last-child::after {align-self: flex-start;width: 50%;}#sk-container-id-2 div.sk-parallel-item:only-child::after {width: 0;}#sk-container-id-2 div.sk-dashed-wrapped {border: 1px dashed gray;margin: 0 0.4em 0.5em 0.4em;box-sizing: border-box;padding-bottom: 0.4em;background-color: white;}#sk-container-id-2 div.sk-label label {font-family: monospace;font-weight: bold;display: inline-block;line-height: 1.2em;}#sk-container-id-2 div.sk-label-container {text-align: center;}#sk-container-id-2 div.sk-container {/* jupyter's `normalize.less` sets `[hidden] { display: none; }` but bootstrap.min.css set `[hidden] { display: none !important; }` so we also need the `!important` here to be able to override the default hidden behavior on the sphinx rendered scikit-learn.org. See: https://github.com/scikit-learn/scikit-learn/issues/21755 */display: inline-block !important;position: relative;}#sk-container-id-2 div.sk-text-repr-fallback {display: none;}</style><div id=\"sk-container-id-2\" class=\"sk-top-container\"><div class=\"sk-text-repr-fallback\"><pre>GridSearchCV(cv=5,\n",
              "             estimator=Pipeline(steps=[(&#x27;preprocess&#x27;,\n",
              "                                        ColumnTransformer(transformers=[(&#x27;scaling&#x27;,\n",
              "                                                                         MinMaxScaler(),\n",
              "                                                                         [&#x27;Age_Mons&#x27;]),\n",
              "                                                                        (&#x27;encoding&#x27;,\n",
              "                                                                         OrdinalEncoder(),\n",
              "                                                                         [&#x27;Sex&#x27;,\n",
              "                                                                          &#x27;Jaundice&#x27;,\n",
              "                                                                          &#x27;Family_mem_with_ASD&#x27;])])),\n",
              "                                       (&#x27;classifier&#x27;,\n",
              "                                        AdaBoostClassifier(random_state=42))]),\n",
              "             param_grid={&#x27;classifier__learning_rate&#x27;: [0.01, 0.1, 1.0],\n",
              "                         &#x27;classifier__n_estimators&#x27;: [50, 100, 200]},\n",
              "             refit=&#x27;accuracy&#x27;,\n",
              "             scoring={&#x27;accuracy&#x27;: make_scorer(accuracy_score),\n",
              "                      &#x27;f1_score&#x27;: make_scorer(f1_score, pos_label=Yes),\n",
              "                      &#x27;precision&#x27;: make_scorer(precision_score, pos_label=Yes),\n",
              "                      &#x27;recall&#x27;: make_scorer(recall_score, pos_label=Yes)})</pre><b>In a Jupyter environment, please rerun this cell to show the HTML representation or trust the notebook. <br />On GitHub, the HTML representation is unable to render, please try loading this page with nbviewer.org.</b></div><div class=\"sk-container\" hidden><div class=\"sk-item sk-dashed-wrapped\"><div class=\"sk-label-container\"><div class=\"sk-label sk-toggleable\"><input class=\"sk-toggleable__control sk-hidden--visually\" id=\"sk-estimator-id-2\" type=\"checkbox\" ><label for=\"sk-estimator-id-2\" class=\"sk-toggleable__label sk-toggleable__label-arrow\">GridSearchCV</label><div class=\"sk-toggleable__content\"><pre>GridSearchCV(cv=5,\n",
              "             estimator=Pipeline(steps=[(&#x27;preprocess&#x27;,\n",
              "                                        ColumnTransformer(transformers=[(&#x27;scaling&#x27;,\n",
              "                                                                         MinMaxScaler(),\n",
              "                                                                         [&#x27;Age_Mons&#x27;]),\n",
              "                                                                        (&#x27;encoding&#x27;,\n",
              "                                                                         OrdinalEncoder(),\n",
              "                                                                         [&#x27;Sex&#x27;,\n",
              "                                                                          &#x27;Jaundice&#x27;,\n",
              "                                                                          &#x27;Family_mem_with_ASD&#x27;])])),\n",
              "                                       (&#x27;classifier&#x27;,\n",
              "                                        AdaBoostClassifier(random_state=42))]),\n",
              "             param_grid={&#x27;classifier__learning_rate&#x27;: [0.01, 0.1, 1.0],\n",
              "                         &#x27;classifier__n_estimators&#x27;: [50, 100, 200]},\n",
              "             refit=&#x27;accuracy&#x27;,\n",
              "             scoring={&#x27;accuracy&#x27;: make_scorer(accuracy_score),\n",
              "                      &#x27;f1_score&#x27;: make_scorer(f1_score, pos_label=Yes),\n",
              "                      &#x27;precision&#x27;: make_scorer(precision_score, pos_label=Yes),\n",
              "                      &#x27;recall&#x27;: make_scorer(recall_score, pos_label=Yes)})</pre></div></div></div><div class=\"sk-parallel\"><div class=\"sk-parallel-item\"><div class=\"sk-item\"><div class=\"sk-label-container\"><div class=\"sk-label sk-toggleable\"><input class=\"sk-toggleable__control sk-hidden--visually\" id=\"sk-estimator-id-3\" type=\"checkbox\" ><label for=\"sk-estimator-id-3\" class=\"sk-toggleable__label sk-toggleable__label-arrow\">estimator: Pipeline</label><div class=\"sk-toggleable__content\"><pre>Pipeline(steps=[(&#x27;preprocess&#x27;,\n",
              "                 ColumnTransformer(transformers=[(&#x27;scaling&#x27;, MinMaxScaler(),\n",
              "                                                  [&#x27;Age_Mons&#x27;]),\n",
              "                                                 (&#x27;encoding&#x27;, OrdinalEncoder(),\n",
              "                                                  [&#x27;Sex&#x27;, &#x27;Jaundice&#x27;,\n",
              "                                                   &#x27;Family_mem_with_ASD&#x27;])])),\n",
              "                (&#x27;classifier&#x27;, AdaBoostClassifier(random_state=42))])</pre></div></div></div><div class=\"sk-serial\"><div class=\"sk-item\"><div class=\"sk-serial\"><div class=\"sk-item sk-dashed-wrapped\"><div class=\"sk-label-container\"><div class=\"sk-label sk-toggleable\"><input class=\"sk-toggleable__control sk-hidden--visually\" id=\"sk-estimator-id-4\" type=\"checkbox\" ><label for=\"sk-estimator-id-4\" class=\"sk-toggleable__label sk-toggleable__label-arrow\">preprocess: ColumnTransformer</label><div class=\"sk-toggleable__content\"><pre>ColumnTransformer(transformers=[(&#x27;scaling&#x27;, MinMaxScaler(), [&#x27;Age_Mons&#x27;]),\n",
              "                                (&#x27;encoding&#x27;, OrdinalEncoder(),\n",
              "                                 [&#x27;Sex&#x27;, &#x27;Jaundice&#x27;, &#x27;Family_mem_with_ASD&#x27;])])</pre></div></div></div><div class=\"sk-parallel\"><div class=\"sk-parallel-item\"><div class=\"sk-item\"><div class=\"sk-label-container\"><div class=\"sk-label sk-toggleable\"><input class=\"sk-toggleable__control sk-hidden--visually\" id=\"sk-estimator-id-5\" type=\"checkbox\" ><label for=\"sk-estimator-id-5\" class=\"sk-toggleable__label sk-toggleable__label-arrow\">scaling</label><div class=\"sk-toggleable__content\"><pre>[&#x27;Age_Mons&#x27;]</pre></div></div></div><div class=\"sk-serial\"><div class=\"sk-item\"><div class=\"sk-estimator sk-toggleable\"><input class=\"sk-toggleable__control sk-hidden--visually\" id=\"sk-estimator-id-6\" type=\"checkbox\" ><label for=\"sk-estimator-id-6\" class=\"sk-toggleable__label sk-toggleable__label-arrow\">MinMaxScaler</label><div class=\"sk-toggleable__content\"><pre>MinMaxScaler()</pre></div></div></div></div></div></div><div class=\"sk-parallel-item\"><div class=\"sk-item\"><div class=\"sk-label-container\"><div class=\"sk-label sk-toggleable\"><input class=\"sk-toggleable__control sk-hidden--visually\" id=\"sk-estimator-id-7\" type=\"checkbox\" ><label for=\"sk-estimator-id-7\" class=\"sk-toggleable__label sk-toggleable__label-arrow\">encoding</label><div class=\"sk-toggleable__content\"><pre>[&#x27;Sex&#x27;, &#x27;Jaundice&#x27;, &#x27;Family_mem_with_ASD&#x27;]</pre></div></div></div><div class=\"sk-serial\"><div class=\"sk-item\"><div class=\"sk-estimator sk-toggleable\"><input class=\"sk-toggleable__control sk-hidden--visually\" id=\"sk-estimator-id-8\" type=\"checkbox\" ><label for=\"sk-estimator-id-8\" class=\"sk-toggleable__label sk-toggleable__label-arrow\">OrdinalEncoder</label><div class=\"sk-toggleable__content\"><pre>OrdinalEncoder()</pre></div></div></div></div></div></div></div></div><div class=\"sk-item\"><div class=\"sk-estimator sk-toggleable\"><input class=\"sk-toggleable__control sk-hidden--visually\" id=\"sk-estimator-id-9\" type=\"checkbox\" ><label for=\"sk-estimator-id-9\" class=\"sk-toggleable__label sk-toggleable__label-arrow\">AdaBoostClassifier</label><div class=\"sk-toggleable__content\"><pre>AdaBoostClassifier(random_state=42)</pre></div></div></div></div></div></div></div></div></div></div></div></div>"
            ]
          },
          "metadata": {},
          "execution_count": 31
        }
      ]
    },
    {
      "cell_type": "code",
      "source": [
        "grid_search.fit(X_grid_train, y_grid_train)"
      ],
      "metadata": {
        "colab": {
          "base_uri": "https://localhost:8080/",
          "height": 219
        },
        "id": "raEGLHG_Gl5s",
        "outputId": "8fccd3dc-20b0-4aa8-a55f-b3665c4a61da"
      },
      "execution_count": 32,
      "outputs": [
        {
          "output_type": "execute_result",
          "data": {
            "text/plain": [
              "GridSearchCV(cv=5,\n",
              "             estimator=Pipeline(steps=[('preprocess',\n",
              "                                        ColumnTransformer(transformers=[('scaling',\n",
              "                                                                         MinMaxScaler(),\n",
              "                                                                         ['Age_Mons']),\n",
              "                                                                        ('encoding',\n",
              "                                                                         OrdinalEncoder(),\n",
              "                                                                         ['Sex',\n",
              "                                                                          'Jaundice',\n",
              "                                                                          'Family_mem_with_ASD'])])),\n",
              "                                       ('classifier',\n",
              "                                        AdaBoostClassifier(random_state=42))]),\n",
              "             param_grid={'classifier__learning_rate': [0.01, 0.1, 1.0],\n",
              "                         'classifier__n_estimators': [50, 100, 200]},\n",
              "             refit='accuracy',\n",
              "             scoring={'accuracy': make_scorer(accuracy_score),\n",
              "                      'f1_score': make_scorer(f1_score, pos_label=Yes),\n",
              "                      'precision': make_scorer(precision_score, pos_label=Yes),\n",
              "                      'recall': make_scorer(recall_score, pos_label=Yes)})"
            ],
            "text/html": [
              "<style>#sk-container-id-3 {color: black;background-color: white;}#sk-container-id-3 pre{padding: 0;}#sk-container-id-3 div.sk-toggleable {background-color: white;}#sk-container-id-3 label.sk-toggleable__label {cursor: pointer;display: block;width: 100%;margin-bottom: 0;padding: 0.3em;box-sizing: border-box;text-align: center;}#sk-container-id-3 label.sk-toggleable__label-arrow:before {content: \"▸\";float: left;margin-right: 0.25em;color: #696969;}#sk-container-id-3 label.sk-toggleable__label-arrow:hover:before {color: black;}#sk-container-id-3 div.sk-estimator:hover label.sk-toggleable__label-arrow:before {color: black;}#sk-container-id-3 div.sk-toggleable__content {max-height: 0;max-width: 0;overflow: hidden;text-align: left;background-color: #f0f8ff;}#sk-container-id-3 div.sk-toggleable__content pre {margin: 0.2em;color: black;border-radius: 0.25em;background-color: #f0f8ff;}#sk-container-id-3 input.sk-toggleable__control:checked~div.sk-toggleable__content {max-height: 200px;max-width: 100%;overflow: auto;}#sk-container-id-3 input.sk-toggleable__control:checked~label.sk-toggleable__label-arrow:before {content: \"▾\";}#sk-container-id-3 div.sk-estimator input.sk-toggleable__control:checked~label.sk-toggleable__label {background-color: #d4ebff;}#sk-container-id-3 div.sk-label input.sk-toggleable__control:checked~label.sk-toggleable__label {background-color: #d4ebff;}#sk-container-id-3 input.sk-hidden--visually {border: 0;clip: rect(1px 1px 1px 1px);clip: rect(1px, 1px, 1px, 1px);height: 1px;margin: -1px;overflow: hidden;padding: 0;position: absolute;width: 1px;}#sk-container-id-3 div.sk-estimator {font-family: monospace;background-color: #f0f8ff;border: 1px dotted black;border-radius: 0.25em;box-sizing: border-box;margin-bottom: 0.5em;}#sk-container-id-3 div.sk-estimator:hover {background-color: #d4ebff;}#sk-container-id-3 div.sk-parallel-item::after {content: \"\";width: 100%;border-bottom: 1px solid gray;flex-grow: 1;}#sk-container-id-3 div.sk-label:hover label.sk-toggleable__label {background-color: #d4ebff;}#sk-container-id-3 div.sk-serial::before {content: \"\";position: absolute;border-left: 1px solid gray;box-sizing: border-box;top: 0;bottom: 0;left: 50%;z-index: 0;}#sk-container-id-3 div.sk-serial {display: flex;flex-direction: column;align-items: center;background-color: white;padding-right: 0.2em;padding-left: 0.2em;position: relative;}#sk-container-id-3 div.sk-item {position: relative;z-index: 1;}#sk-container-id-3 div.sk-parallel {display: flex;align-items: stretch;justify-content: center;background-color: white;position: relative;}#sk-container-id-3 div.sk-item::before, #sk-container-id-3 div.sk-parallel-item::before {content: \"\";position: absolute;border-left: 1px solid gray;box-sizing: border-box;top: 0;bottom: 0;left: 50%;z-index: -1;}#sk-container-id-3 div.sk-parallel-item {display: flex;flex-direction: column;z-index: 1;position: relative;background-color: white;}#sk-container-id-3 div.sk-parallel-item:first-child::after {align-self: flex-end;width: 50%;}#sk-container-id-3 div.sk-parallel-item:last-child::after {align-self: flex-start;width: 50%;}#sk-container-id-3 div.sk-parallel-item:only-child::after {width: 0;}#sk-container-id-3 div.sk-dashed-wrapped {border: 1px dashed gray;margin: 0 0.4em 0.5em 0.4em;box-sizing: border-box;padding-bottom: 0.4em;background-color: white;}#sk-container-id-3 div.sk-label label {font-family: monospace;font-weight: bold;display: inline-block;line-height: 1.2em;}#sk-container-id-3 div.sk-label-container {text-align: center;}#sk-container-id-3 div.sk-container {/* jupyter's `normalize.less` sets `[hidden] { display: none; }` but bootstrap.min.css set `[hidden] { display: none !important; }` so we also need the `!important` here to be able to override the default hidden behavior on the sphinx rendered scikit-learn.org. See: https://github.com/scikit-learn/scikit-learn/issues/21755 */display: inline-block !important;position: relative;}#sk-container-id-3 div.sk-text-repr-fallback {display: none;}</style><div id=\"sk-container-id-3\" class=\"sk-top-container\"><div class=\"sk-text-repr-fallback\"><pre>GridSearchCV(cv=5,\n",
              "             estimator=Pipeline(steps=[(&#x27;preprocess&#x27;,\n",
              "                                        ColumnTransformer(transformers=[(&#x27;scaling&#x27;,\n",
              "                                                                         MinMaxScaler(),\n",
              "                                                                         [&#x27;Age_Mons&#x27;]),\n",
              "                                                                        (&#x27;encoding&#x27;,\n",
              "                                                                         OrdinalEncoder(),\n",
              "                                                                         [&#x27;Sex&#x27;,\n",
              "                                                                          &#x27;Jaundice&#x27;,\n",
              "                                                                          &#x27;Family_mem_with_ASD&#x27;])])),\n",
              "                                       (&#x27;classifier&#x27;,\n",
              "                                        AdaBoostClassifier(random_state=42))]),\n",
              "             param_grid={&#x27;classifier__learning_rate&#x27;: [0.01, 0.1, 1.0],\n",
              "                         &#x27;classifier__n_estimators&#x27;: [50, 100, 200]},\n",
              "             refit=&#x27;accuracy&#x27;,\n",
              "             scoring={&#x27;accuracy&#x27;: make_scorer(accuracy_score),\n",
              "                      &#x27;f1_score&#x27;: make_scorer(f1_score, pos_label=Yes),\n",
              "                      &#x27;precision&#x27;: make_scorer(precision_score, pos_label=Yes),\n",
              "                      &#x27;recall&#x27;: make_scorer(recall_score, pos_label=Yes)})</pre><b>In a Jupyter environment, please rerun this cell to show the HTML representation or trust the notebook. <br />On GitHub, the HTML representation is unable to render, please try loading this page with nbviewer.org.</b></div><div class=\"sk-container\" hidden><div class=\"sk-item sk-dashed-wrapped\"><div class=\"sk-label-container\"><div class=\"sk-label sk-toggleable\"><input class=\"sk-toggleable__control sk-hidden--visually\" id=\"sk-estimator-id-10\" type=\"checkbox\" ><label for=\"sk-estimator-id-10\" class=\"sk-toggleable__label sk-toggleable__label-arrow\">GridSearchCV</label><div class=\"sk-toggleable__content\"><pre>GridSearchCV(cv=5,\n",
              "             estimator=Pipeline(steps=[(&#x27;preprocess&#x27;,\n",
              "                                        ColumnTransformer(transformers=[(&#x27;scaling&#x27;,\n",
              "                                                                         MinMaxScaler(),\n",
              "                                                                         [&#x27;Age_Mons&#x27;]),\n",
              "                                                                        (&#x27;encoding&#x27;,\n",
              "                                                                         OrdinalEncoder(),\n",
              "                                                                         [&#x27;Sex&#x27;,\n",
              "                                                                          &#x27;Jaundice&#x27;,\n",
              "                                                                          &#x27;Family_mem_with_ASD&#x27;])])),\n",
              "                                       (&#x27;classifier&#x27;,\n",
              "                                        AdaBoostClassifier(random_state=42))]),\n",
              "             param_grid={&#x27;classifier__learning_rate&#x27;: [0.01, 0.1, 1.0],\n",
              "                         &#x27;classifier__n_estimators&#x27;: [50, 100, 200]},\n",
              "             refit=&#x27;accuracy&#x27;,\n",
              "             scoring={&#x27;accuracy&#x27;: make_scorer(accuracy_score),\n",
              "                      &#x27;f1_score&#x27;: make_scorer(f1_score, pos_label=Yes),\n",
              "                      &#x27;precision&#x27;: make_scorer(precision_score, pos_label=Yes),\n",
              "                      &#x27;recall&#x27;: make_scorer(recall_score, pos_label=Yes)})</pre></div></div></div><div class=\"sk-parallel\"><div class=\"sk-parallel-item\"><div class=\"sk-item\"><div class=\"sk-label-container\"><div class=\"sk-label sk-toggleable\"><input class=\"sk-toggleable__control sk-hidden--visually\" id=\"sk-estimator-id-11\" type=\"checkbox\" ><label for=\"sk-estimator-id-11\" class=\"sk-toggleable__label sk-toggleable__label-arrow\">estimator: Pipeline</label><div class=\"sk-toggleable__content\"><pre>Pipeline(steps=[(&#x27;preprocess&#x27;,\n",
              "                 ColumnTransformer(transformers=[(&#x27;scaling&#x27;, MinMaxScaler(),\n",
              "                                                  [&#x27;Age_Mons&#x27;]),\n",
              "                                                 (&#x27;encoding&#x27;, OrdinalEncoder(),\n",
              "                                                  [&#x27;Sex&#x27;, &#x27;Jaundice&#x27;,\n",
              "                                                   &#x27;Family_mem_with_ASD&#x27;])])),\n",
              "                (&#x27;classifier&#x27;, AdaBoostClassifier(random_state=42))])</pre></div></div></div><div class=\"sk-serial\"><div class=\"sk-item\"><div class=\"sk-serial\"><div class=\"sk-item sk-dashed-wrapped\"><div class=\"sk-label-container\"><div class=\"sk-label sk-toggleable\"><input class=\"sk-toggleable__control sk-hidden--visually\" id=\"sk-estimator-id-12\" type=\"checkbox\" ><label for=\"sk-estimator-id-12\" class=\"sk-toggleable__label sk-toggleable__label-arrow\">preprocess: ColumnTransformer</label><div class=\"sk-toggleable__content\"><pre>ColumnTransformer(transformers=[(&#x27;scaling&#x27;, MinMaxScaler(), [&#x27;Age_Mons&#x27;]),\n",
              "                                (&#x27;encoding&#x27;, OrdinalEncoder(),\n",
              "                                 [&#x27;Sex&#x27;, &#x27;Jaundice&#x27;, &#x27;Family_mem_with_ASD&#x27;])])</pre></div></div></div><div class=\"sk-parallel\"><div class=\"sk-parallel-item\"><div class=\"sk-item\"><div class=\"sk-label-container\"><div class=\"sk-label sk-toggleable\"><input class=\"sk-toggleable__control sk-hidden--visually\" id=\"sk-estimator-id-13\" type=\"checkbox\" ><label for=\"sk-estimator-id-13\" class=\"sk-toggleable__label sk-toggleable__label-arrow\">scaling</label><div class=\"sk-toggleable__content\"><pre>[&#x27;Age_Mons&#x27;]</pre></div></div></div><div class=\"sk-serial\"><div class=\"sk-item\"><div class=\"sk-estimator sk-toggleable\"><input class=\"sk-toggleable__control sk-hidden--visually\" id=\"sk-estimator-id-14\" type=\"checkbox\" ><label for=\"sk-estimator-id-14\" class=\"sk-toggleable__label sk-toggleable__label-arrow\">MinMaxScaler</label><div class=\"sk-toggleable__content\"><pre>MinMaxScaler()</pre></div></div></div></div></div></div><div class=\"sk-parallel-item\"><div class=\"sk-item\"><div class=\"sk-label-container\"><div class=\"sk-label sk-toggleable\"><input class=\"sk-toggleable__control sk-hidden--visually\" id=\"sk-estimator-id-15\" type=\"checkbox\" ><label for=\"sk-estimator-id-15\" class=\"sk-toggleable__label sk-toggleable__label-arrow\">encoding</label><div class=\"sk-toggleable__content\"><pre>[&#x27;Sex&#x27;, &#x27;Jaundice&#x27;, &#x27;Family_mem_with_ASD&#x27;]</pre></div></div></div><div class=\"sk-serial\"><div class=\"sk-item\"><div class=\"sk-estimator sk-toggleable\"><input class=\"sk-toggleable__control sk-hidden--visually\" id=\"sk-estimator-id-16\" type=\"checkbox\" ><label for=\"sk-estimator-id-16\" class=\"sk-toggleable__label sk-toggleable__label-arrow\">OrdinalEncoder</label><div class=\"sk-toggleable__content\"><pre>OrdinalEncoder()</pre></div></div></div></div></div></div></div></div><div class=\"sk-item\"><div class=\"sk-estimator sk-toggleable\"><input class=\"sk-toggleable__control sk-hidden--visually\" id=\"sk-estimator-id-17\" type=\"checkbox\" ><label for=\"sk-estimator-id-17\" class=\"sk-toggleable__label sk-toggleable__label-arrow\">AdaBoostClassifier</label><div class=\"sk-toggleable__content\"><pre>AdaBoostClassifier(random_state=42)</pre></div></div></div></div></div></div></div></div></div></div></div></div>"
            ]
          },
          "metadata": {},
          "execution_count": 32
        }
      ]
    },
    {
      "cell_type": "code",
      "source": [
        "y_grid_train"
      ],
      "metadata": {
        "colab": {
          "base_uri": "https://localhost:8080/"
        },
        "id": "K90qzA5YrAyA",
        "outputId": "72393378-3a6b-40b7-e0b0-b261f9d8cc35"
      },
      "execution_count": 33,
      "outputs": [
        {
          "output_type": "execute_result",
          "data": {
            "text/plain": [
              "750    Yes\n",
              "285     No\n",
              "901    Yes\n",
              "902    Yes\n",
              "228    Yes\n",
              "      ... \n",
              "53     Yes\n",
              "835     No\n",
              "170     No\n",
              "362    Yes\n",
              "39      No\n",
              "Name: ASD_Traits, Length: 223, dtype: object"
            ]
          },
          "metadata": {},
          "execution_count": 33
        }
      ]
    },
    {
      "cell_type": "code",
      "source": [
        "accuracy = grid_search.cv_results_['mean_test_accuracy']\n",
        "precision = grid_search.cv_results_['mean_test_precision']\n",
        "recall = grid_search.cv_results_['mean_test_recall']\n",
        "f1 = grid_search.cv_results_['mean_test_f1_score']\n",
        "\n",
        "print(\"Best parameters: {}\".format(grid_search.best_params_))\n",
        "print(\"Best score: {:.2f}\".format(grid_search.best_score_))\n",
        "print(\"Accuracy: \", accuracy.mean())\n",
        "print(\"Precision: \", precision.mean())\n",
        "print(\"Recall: \", recall.mean())\n",
        "print(\"F1 Score: \", f1.mean())\n"
      ],
      "metadata": {
        "colab": {
          "base_uri": "https://localhost:8080/"
        },
        "id": "v9Su_gX2mrSg",
        "outputId": "a8a0545d-b036-4201-cbbe-351b2e3db85b"
      },
      "execution_count": 34,
      "outputs": [
        {
          "output_type": "stream",
          "name": "stdout",
          "text": [
            "Best parameters: {'classifier__learning_rate': 1.0, 'classifier__n_estimators': 200}\n",
            "Best score: 0.71\n",
            "Accuracy:  0.6940179573512908\n",
            "Precision:  0.6971402164473061\n",
            "Recall:  0.8925631981187537\n",
            "F1 Score:  0.7804019527637908\n"
          ]
        }
      ]
    },
    {
      "cell_type": "code",
      "source": [
        "def show_grid_cv_results(model):\n",
        "  accuracy = model.cv_results_['mean_test_accuracy']\n",
        "  precision = model.cv_results_['mean_test_precision']\n",
        "  recall = model.cv_results_['mean_test_recall']\n",
        "  f1 = model.cv_results_['mean_test_f1_score']\n",
        "\n",
        "  print(\"Best parameters: {}\".format(model.best_params_))\n",
        "  print(\"Best score: {:.2f}\".format(model.best_score_))\n",
        "  print(\"Accuracy: \", accuracy.mean())\n",
        "  print(\"Precision: \", precision.mean())\n",
        "  print(\"Recall: \", recall.mean())\n",
        "  print(\"F1 Score: \", f1.mean())"
      ],
      "metadata": {
        "id": "sF8lHPmyDv8b"
      },
      "execution_count": 35,
      "outputs": []
    },
    {
      "cell_type": "code",
      "source": [
        "ConfusionMatrixDisplay.from_estimator(grid_search.best_estimator_, X_grid_train, y_grid_train)"
      ],
      "metadata": {
        "colab": {
          "base_uri": "https://localhost:8080/",
          "height": 298
        },
        "id": "sF9opGAdrlFf",
        "outputId": "10ad76f5-ad8c-43e6-f45a-97a61580089c"
      },
      "execution_count": 36,
      "outputs": [
        {
          "output_type": "execute_result",
          "data": {
            "text/plain": [
              "<sklearn.metrics._plot.confusion_matrix.ConfusionMatrixDisplay at 0x7f4c5c4d9b50>"
            ]
          },
          "metadata": {},
          "execution_count": 36
        },
        {
          "output_type": "display_data",
          "data": {
            "text/plain": [
              "<Figure size 432x288 with 2 Axes>"
            ],
            "image/png": "[encoded data removed]"
          },
          "metadata": {
            "needs_background": "light"
          }
        }
      ]
    },
    {
      "cell_type": "code",
      "source": [
        "y_grid_pred = grid_search.predict(X_grid_test)"
      ],
      "metadata": {
        "id": "qaRBawLDsocn"
      },
      "execution_count": 37,
      "outputs": []
    },
    {
      "cell_type": "code",
      "source": [
        "y_grid_test"
      ],
      "metadata": {
        "colab": {
          "base_uri": "https://localhost:8080/"
        },
        "id": "BZ2RBLtP4W5j",
        "outputId": "dc158073-4d1b-48ae-c38c-8f7b3b0aff89"
      },
      "execution_count": 38,
      "outputs": [
        {
          "output_type": "execute_result",
          "data": {
            "text/plain": [
              "241     Yes\n",
              "1017    Yes\n",
              "185     Yes\n",
              "910     Yes\n",
              "18       No\n",
              "       ... \n",
              "587     Yes\n",
              "701      No\n",
              "527     Yes\n",
              "438     Yes\n",
              "768      No\n",
              "Name: ASD_Traits, Length: 96, dtype: object"
            ]
          },
          "metadata": {},
          "execution_count": 38
        }
      ]
    },
    {
      "cell_type": "code",
      "source": [
        "def evaluate_classes(model, predictors, target):\n",
        "  predictions = model.predict(predictors)\n",
        "  print(\"Accuracy: \", accuracy_score(target, predictions))\n",
        "  print(\"Precision[YES]: \", precision_score(target, predictions, average='binary', pos_label='Yes'))\n",
        "  print(\"Recall[YES]: \", recall_score(target, predictions,average='binary', pos_label='Yes'))\n",
        "  print(\"F1[YES]: \", f1_score(target, predictions,average='binary', pos_label='Yes'))\n",
        "\n",
        "  ConfusionMatrixDisplay.from_estimator(model, predictors, target)"
      ],
      "metadata": {
        "id": "DVvi7ypU_YA4"
      },
      "execution_count": 39,
      "outputs": []
    },
    {
      "cell_type": "code",
      "source": [
        "evaluate_classes(grid_search, X_grid_test, y_grid_test)"
      ],
      "metadata": {
        "colab": {
          "base_uri": "https://localhost:8080/",
          "height": 348
        },
        "id": "LbJvb7qD_4yQ",
        "outputId": "cd7815aa-70eb-495a-e2ba-c73807eb3852"
      },
      "execution_count": 40,
      "outputs": [
        {
          "output_type": "stream",
          "name": "stdout",
          "text": [
            "Accuracy:  0.625\n",
            "Precision[YES]:  0.6774193548387096\n",
            "Recall[YES]:  0.7241379310344828\n",
            "F1[YES]:  0.7\n"
          ]
        },
        {
          "output_type": "display_data",
          "data": {
            "text/plain": [
              "<Figure size 432x288 with 2 Axes>"
            ],
            "image/png": "[encoded data removed]"
          },
          "metadata": {
            "needs_background": "light"
          }
        }
      ]
    },
    {
      "cell_type": "markdown",
      "source": [
        "##**Pre-processed without a pipeline**"
      ],
      "metadata": {
        "id": "XOMbcDGgG7PL"
      }
    },
    {
      "cell_type": "code",
      "source": [
        "param_grid_new = {\n",
        "    'n_estimators': [50, 100, 200],\n",
        "    'learning_rate': [0.01, 0.1, 1.0],\n",
        "}"
      ],
      "metadata": {
        "id": "jzNK4_QvIHGd"
      },
      "execution_count": 128,
      "outputs": []
    },
    {
      "cell_type": "code",
      "source": [
        "scorers_new = {\n",
        "    'accuracy': make_scorer(accuracy_score),\n",
        "    'precision': make_scorer(precision_score, average='binary', pos_label=1),\n",
        "    'recall': make_scorer(recall_score,average='binary',pos_label=1),\n",
        "    'f1_score': make_scorer(f1_score,average='binary',pos_label=1)\n",
        "}"
      ],
      "metadata": {
        "id": "k-n5QfWsIlkD"
      },
      "execution_count": 137,
      "outputs": []
    },
    {
      "cell_type": "code",
      "source": [
        "ada_grid = GridSearchCV(ada,param_grid=param_grid_new,cv=5, scoring=scorers_new, refit='accuracy' )"
      ],
      "metadata": {
        "id": "S6H5QrcrHDSv"
      },
      "execution_count": 138,
      "outputs": []
    },
    {
      "cell_type": "code",
      "source": [
        "ada_grid"
      ],
      "metadata": {
        "colab": {
          "base_uri": "https://localhost:8080/",
          "height": 118
        },
        "id": "MgiNi0xZHRui",
        "outputId": "cd61b827-5d33-438e-a7b5-da85fca9aff8"
      },
      "execution_count": 139,
      "outputs": [
        {
          "output_type": "execute_result",
          "data": {
            "text/plain": [
              "GridSearchCV(cv=5,\n",
              "             estimator=AdaBoostClassifier(n_estimators=100, random_state=42),\n",
              "             param_grid={'learning_rate': [0.01, 0.1, 1.0],\n",
              "                         'n_estimators': [50, 100, 200]},\n",
              "             refit='accuracy',\n",
              "             scoring={'accuracy': make_scorer(accuracy_score),\n",
              "                      'f1_score': make_scorer(f1_score, average=binary, pos_label=1),\n",
              "                      'precision': make_scorer(precision_score, average=binary, pos_label=1),\n",
              "                      'recall': make_scorer(recall_score, average=binary, pos_label=1)})"
            ],
            "text/html": [
              "<style>#sk-container-id-17 {color: black;background-color: white;}#sk-container-id-17 pre{padding: 0;}#sk-container-id-17 div.sk-toggleable {background-color: white;}#sk-container-id-17 label.sk-toggleable__label {cursor: pointer;display: block;width: 100%;margin-bottom: 0;padding: 0.3em;box-sizing: border-box;text-align: center;}#sk-container-id-17 label.sk-toggleable__label-arrow:before {content: \"▸\";float: left;margin-right: 0.25em;color: #696969;}#sk-container-id-17 label.sk-toggleable__label-arrow:hover:before {color: black;}#sk-container-id-17 div.sk-estimator:hover label.sk-toggleable__label-arrow:before {color: black;}#sk-container-id-17 div.sk-toggleable__content {max-height: 0;max-width: 0;overflow: hidden;text-align: left;background-color: #f0f8ff;}#sk-container-id-17 div.sk-toggleable__content pre {margin: 0.2em;color: black;border-radius: 0.25em;background-color: #f0f8ff;}#sk-container-id-17 input.sk-toggleable__control:checked~div.sk-toggleable__content {max-height: 200px;max-width: 100%;overflow: auto;}#sk-container-id-17 input.sk-toggleable__control:checked~label.sk-toggleable__label-arrow:before {content: \"▾\";}#sk-container-id-17 div.sk-estimator input.sk-toggleable__control:checked~label.sk-toggleable__label {background-color: #d4ebff;}#sk-container-id-17 div.sk-label input.sk-toggleable__control:checked~label.sk-toggleable__label {background-color: #d4ebff;}#sk-container-id-17 input.sk-hidden--visually {border: 0;clip: rect(1px 1px 1px 1px);clip: rect(1px, 1px, 1px, 1px);height: 1px;margin: -1px;overflow: hidden;padding: 0;position: absolute;width: 1px;}#sk-container-id-17 div.sk-estimator {font-family: monospace;background-color: #f0f8ff;border: 1px dotted black;border-radius: 0.25em;box-sizing: border-box;margin-bottom: 0.5em;}#sk-container-id-17 div.sk-estimator:hover {background-color: #d4ebff;}#sk-container-id-17 div.sk-parallel-item::after {content: \"\";width: 100%;border-bottom: 1px solid gray;flex-grow: 1;}#sk-container-id-17 div.sk-label:hover label.sk-toggleable__label {background-color: #d4ebff;}#sk-container-id-17 div.sk-serial::before {content: \"\";position: absolute;border-left: 1px solid gray;box-sizing: border-box;top: 0;bottom: 0;left: 50%;z-index: 0;}#sk-container-id-17 div.sk-serial {display: flex;flex-direction: column;align-items: center;background-color: white;padding-right: 0.2em;padding-left: 0.2em;position: relative;}#sk-container-id-17 div.sk-item {position: relative;z-index: 1;}#sk-container-id-17 div.sk-parallel {display: flex;align-items: stretch;justify-content: center;background-color: white;position: relative;}#sk-container-id-17 div.sk-item::before, #sk-container-id-17 div.sk-parallel-item::before {content: \"\";position: absolute;border-left: 1px solid gray;box-sizing: border-box;top: 0;bottom: 0;left: 50%;z-index: -1;}#sk-container-id-17 div.sk-parallel-item {display: flex;flex-direction: column;z-index: 1;position: relative;background-color: white;}#sk-container-id-17 div.sk-parallel-item:first-child::after {align-self: flex-end;width: 50%;}#sk-container-id-17 div.sk-parallel-item:last-child::after {align-self: flex-start;width: 50%;}#sk-container-id-17 div.sk-parallel-item:only-child::after {width: 0;}#sk-container-id-17 div.sk-dashed-wrapped {border: 1px dashed gray;margin: 0 0.4em 0.5em 0.4em;box-sizing: border-box;padding-bottom: 0.4em;background-color: white;}#sk-container-id-17 div.sk-label label {font-family: monospace;font-weight: bold;display: inline-block;line-height: 1.2em;}#sk-container-id-17 div.sk-label-container {text-align: center;}#sk-container-id-17 div.sk-container {/* jupyter's `normalize.less` sets `[hidden] { display: none; }` but bootstrap.min.css set `[hidden] { display: none !important; }` so we also need the `!important` here to be able to override the default hidden behavior on the sphinx rendered scikit-learn.org. See: https://github.com/scikit-learn/scikit-learn/issues/21755 */display: inline-block !important;position: relative;}#sk-container-id-17 div.sk-text-repr-fallback {display: none;}</style><div id=\"sk-container-id-17\" class=\"sk-top-container\"><div class=\"sk-text-repr-fallback\"><pre>GridSearchCV(cv=5,\n",
              "             estimator=AdaBoostClassifier(n_estimators=100, random_state=42),\n",
              "             param_grid={&#x27;learning_rate&#x27;: [0.01, 0.1, 1.0],\n",
              "                         &#x27;n_estimators&#x27;: [50, 100, 200]},\n",
              "             refit=&#x27;accuracy&#x27;,\n",
              "             scoring={&#x27;accuracy&#x27;: make_scorer(accuracy_score),\n",
              "                      &#x27;f1_score&#x27;: make_scorer(f1_score, average=binary, pos_label=1),\n",
              "                      &#x27;precision&#x27;: make_scorer(precision_score, average=binary, pos_label=1),\n",
              "                      &#x27;recall&#x27;: make_scorer(recall_score, average=binary, pos_label=1)})</pre><b>In a Jupyter environment, please rerun this cell to show the HTML representation or trust the notebook. <br />On GitHub, the HTML representation is unable to render, please try loading this page with nbviewer.org.</b></div><div class=\"sk-container\" hidden><div class=\"sk-item sk-dashed-wrapped\"><div class=\"sk-label-container\"><div class=\"sk-label sk-toggleable\"><input class=\"sk-toggleable__control sk-hidden--visually\" id=\"sk-estimator-id-64\" type=\"checkbox\" ><label for=\"sk-estimator-id-64\" class=\"sk-toggleable__label sk-toggleable__label-arrow\">GridSearchCV</label><div class=\"sk-toggleable__content\"><pre>GridSearchCV(cv=5,\n",
              "             estimator=AdaBoostClassifier(n_estimators=100, random_state=42),\n",
              "             param_grid={&#x27;learning_rate&#x27;: [0.01, 0.1, 1.0],\n",
              "                         &#x27;n_estimators&#x27;: [50, 100, 200]},\n",
              "             refit=&#x27;accuracy&#x27;,\n",
              "             scoring={&#x27;accuracy&#x27;: make_scorer(accuracy_score),\n",
              "                      &#x27;f1_score&#x27;: make_scorer(f1_score, average=binary, pos_label=1),\n",
              "                      &#x27;precision&#x27;: make_scorer(precision_score, average=binary, pos_label=1),\n",
              "                      &#x27;recall&#x27;: make_scorer(recall_score, average=binary, pos_label=1)})</pre></div></div></div><div class=\"sk-parallel\"><div class=\"sk-parallel-item\"><div class=\"sk-item\"><div class=\"sk-label-container\"><div class=\"sk-label sk-toggleable\"><input class=\"sk-toggleable__control sk-hidden--visually\" id=\"sk-estimator-id-65\" type=\"checkbox\" ><label for=\"sk-estimator-id-65\" class=\"sk-toggleable__label sk-toggleable__label-arrow\">estimator: AdaBoostClassifier</label><div class=\"sk-toggleable__content\"><pre>AdaBoostClassifier(n_estimators=100, random_state=42)</pre></div></div></div><div class=\"sk-serial\"><div class=\"sk-item\"><div class=\"sk-estimator sk-toggleable\"><input class=\"sk-toggleable__control sk-hidden--visually\" id=\"sk-estimator-id-66\" type=\"checkbox\" ><label for=\"sk-estimator-id-66\" class=\"sk-toggleable__label sk-toggleable__label-arrow\">AdaBoostClassifier</label><div class=\"sk-toggleable__content\"><pre>AdaBoostClassifier(n_estimators=100, random_state=42)</pre></div></div></div></div></div></div></div></div></div></div>"
            ]
          },
          "metadata": {},
          "execution_count": 139
        }
      ]
    },
    {
      "cell_type": "code",
      "source": [
        "ada_grid.fit(X_train, y_train)"
      ],
      "metadata": {
        "colab": {
          "base_uri": "https://localhost:8080/",
          "height": 118
        },
        "id": "hXzOWzf6HYqd",
        "outputId": "33c25845-f0d9-4dde-a386-c56505fe7186"
      },
      "execution_count": 140,
      "outputs": [
        {
          "output_type": "execute_result",
          "data": {
            "text/plain": [
              "GridSearchCV(cv=5,\n",
              "             estimator=AdaBoostClassifier(n_estimators=100, random_state=42),\n",
              "             param_grid={'learning_rate': [0.01, 0.1, 1.0],\n",
              "                         'n_estimators': [50, 100, 200]},\n",
              "             refit='accuracy',\n",
              "             scoring={'accuracy': make_scorer(accuracy_score),\n",
              "                      'f1_score': make_scorer(f1_score, average=binary, pos_label=1),\n",
              "                      'precision': make_scorer(precision_score, average=binary, pos_label=1),\n",
              "                      'recall': make_scorer(recall_score, average=binary, pos_label=1)})"
            ],
            "text/html": [
              "<style>#sk-container-id-18 {color: black;background-color: white;}#sk-container-id-18 pre{padding: 0;}#sk-container-id-18 div.sk-toggleable {background-color: white;}#sk-container-id-18 label.sk-toggleable__label {cursor: pointer;display: block;width: 100%;margin-bottom: 0;padding: 0.3em;box-sizing: border-box;text-align: center;}#sk-container-id-18 label.sk-toggleable__label-arrow:before {content: \"▸\";float: left;margin-right: 0.25em;color: #696969;}#sk-container-id-18 label.sk-toggleable__label-arrow:hover:before {color: black;}#sk-container-id-18 div.sk-estimator:hover label.sk-toggleable__label-arrow:before {color: black;}#sk-container-id-18 div.sk-toggleable__content {max-height: 0;max-width: 0;overflow: hidden;text-align: left;background-color: #f0f8ff;}#sk-container-id-18 div.sk-toggleable__content pre {margin: 0.2em;color: black;border-radius: 0.25em;background-color: #f0f8ff;}#sk-container-id-18 input.sk-toggleable__control:checked~div.sk-toggleable__content {max-height: 200px;max-width: 100%;overflow: auto;}#sk-container-id-18 input.sk-toggleable__control:checked~label.sk-toggleable__label-arrow:before {content: \"▾\";}#sk-container-id-18 div.sk-estimator input.sk-toggleable__control:checked~label.sk-toggleable__label {background-color: #d4ebff;}#sk-container-id-18 div.sk-label input.sk-toggleable__control:checked~label.sk-toggleable__label {background-color: #d4ebff;}#sk-container-id-18 input.sk-hidden--visually {border: 0;clip: rect(1px 1px 1px 1px);clip: rect(1px, 1px, 1px, 1px);height: 1px;margin: -1px;overflow: hidden;padding: 0;position: absolute;width: 1px;}#sk-container-id-18 div.sk-estimator {font-family: monospace;background-color: #f0f8ff;border: 1px dotted black;border-radius: 0.25em;box-sizing: border-box;margin-bottom: 0.5em;}#sk-container-id-18 div.sk-estimator:hover {background-color: #d4ebff;}#sk-container-id-18 div.sk-parallel-item::after {content: \"\";width: 100%;border-bottom: 1px solid gray;flex-grow: 1;}#sk-container-id-18 div.sk-label:hover label.sk-toggleable__label {background-color: #d4ebff;}#sk-container-id-18 div.sk-serial::before {content: \"\";position: absolute;border-left: 1px solid gray;box-sizing: border-box;top: 0;bottom: 0;left: 50%;z-index: 0;}#sk-container-id-18 div.sk-serial {display: flex;flex-direction: column;align-items: center;background-color: white;padding-right: 0.2em;padding-left: 0.2em;position: relative;}#sk-container-id-18 div.sk-item {position: relative;z-index: 1;}#sk-container-id-18 div.sk-parallel {display: flex;align-items: stretch;justify-content: center;background-color: white;position: relative;}#sk-container-id-18 div.sk-item::before, #sk-container-id-18 div.sk-parallel-item::before {content: \"\";position: absolute;border-left: 1px solid gray;box-sizing: border-box;top: 0;bottom: 0;left: 50%;z-index: -1;}#sk-container-id-18 div.sk-parallel-item {display: flex;flex-direction: column;z-index: 1;position: relative;background-color: white;}#sk-container-id-18 div.sk-parallel-item:first-child::after {align-self: flex-end;width: 50%;}#sk-container-id-18 div.sk-parallel-item:last-child::after {align-self: flex-start;width: 50%;}#sk-container-id-18 div.sk-parallel-item:only-child::after {width: 0;}#sk-container-id-18 div.sk-dashed-wrapped {border: 1px dashed gray;margin: 0 0.4em 0.5em 0.4em;box-sizing: border-box;padding-bottom: 0.4em;background-color: white;}#sk-container-id-18 div.sk-label label {font-family: monospace;font-weight: bold;display: inline-block;line-height: 1.2em;}#sk-container-id-18 div.sk-label-container {text-align: center;}#sk-container-id-18 div.sk-container {/* jupyter's `normalize.less` sets `[hidden] { display: none; }` but bootstrap.min.css set `[hidden] { display: none !important; }` so we also need the `!important` here to be able to override the default hidden behavior on the sphinx rendered scikit-learn.org. See: https://github.com/scikit-learn/scikit-learn/issues/21755 */display: inline-block !important;position: relative;}#sk-container-id-18 div.sk-text-repr-fallback {display: none;}</style><div id=\"sk-container-id-18\" class=\"sk-top-container\"><div class=\"sk-text-repr-fallback\"><pre>GridSearchCV(cv=5,\n",
              "             estimator=AdaBoostClassifier(n_estimators=100, random_state=42),\n",
              "             param_grid={&#x27;learning_rate&#x27;: [0.01, 0.1, 1.0],\n",
              "                         &#x27;n_estimators&#x27;: [50, 100, 200]},\n",
              "             refit=&#x27;accuracy&#x27;,\n",
              "             scoring={&#x27;accuracy&#x27;: make_scorer(accuracy_score),\n",
              "                      &#x27;f1_score&#x27;: make_scorer(f1_score, average=binary, pos_label=1),\n",
              "                      &#x27;precision&#x27;: make_scorer(precision_score, average=binary, pos_label=1),\n",
              "                      &#x27;recall&#x27;: make_scorer(recall_score, average=binary, pos_label=1)})</pre><b>In a Jupyter environment, please rerun this cell to show the HTML representation or trust the notebook. <br />On GitHub, the HTML representation is unable to render, please try loading this page with nbviewer.org.</b></div><div class=\"sk-container\" hidden><div class=\"sk-item sk-dashed-wrapped\"><div class=\"sk-label-container\"><div class=\"sk-label sk-toggleable\"><input class=\"sk-toggleable__control sk-hidden--visually\" id=\"sk-estimator-id-67\" type=\"checkbox\" ><label for=\"sk-estimator-id-67\" class=\"sk-toggleable__label sk-toggleable__label-arrow\">GridSearchCV</label><div class=\"sk-toggleable__content\"><pre>GridSearchCV(cv=5,\n",
              "             estimator=AdaBoostClassifier(n_estimators=100, random_state=42),\n",
              "             param_grid={&#x27;learning_rate&#x27;: [0.01, 0.1, 1.0],\n",
              "                         &#x27;n_estimators&#x27;: [50, 100, 200]},\n",
              "             refit=&#x27;accuracy&#x27;,\n",
              "             scoring={&#x27;accuracy&#x27;: make_scorer(accuracy_score),\n",
              "                      &#x27;f1_score&#x27;: make_scorer(f1_score, average=binary, pos_label=1),\n",
              "                      &#x27;precision&#x27;: make_scorer(precision_score, average=binary, pos_label=1),\n",
              "                      &#x27;recall&#x27;: make_scorer(recall_score, average=binary, pos_label=1)})</pre></div></div></div><div class=\"sk-parallel\"><div class=\"sk-parallel-item\"><div class=\"sk-item\"><div class=\"sk-label-container\"><div class=\"sk-label sk-toggleable\"><input class=\"sk-toggleable__control sk-hidden--visually\" id=\"sk-estimator-id-68\" type=\"checkbox\" ><label for=\"sk-estimator-id-68\" class=\"sk-toggleable__label sk-toggleable__label-arrow\">estimator: AdaBoostClassifier</label><div class=\"sk-toggleable__content\"><pre>AdaBoostClassifier(n_estimators=100, random_state=42)</pre></div></div></div><div class=\"sk-serial\"><div class=\"sk-item\"><div class=\"sk-estimator sk-toggleable\"><input class=\"sk-toggleable__control sk-hidden--visually\" id=\"sk-estimator-id-69\" type=\"checkbox\" ><label for=\"sk-estimator-id-69\" class=\"sk-toggleable__label sk-toggleable__label-arrow\">AdaBoostClassifier</label><div class=\"sk-toggleable__content\"><pre>AdaBoostClassifier(n_estimators=100, random_state=42)</pre></div></div></div></div></div></div></div></div></div></div>"
            ]
          },
          "metadata": {},
          "execution_count": 140
        }
      ]
    },
    {
      "cell_type": "code",
      "source": [
        "show_grid_cv_results(ada_grid)"
      ],
      "metadata": {
        "colab": {
          "base_uri": "https://localhost:8080/"
        },
        "id": "cfIVsdbWQVNN",
        "outputId": "dde101fb-4b2b-46ac-cecc-269889570a98"
      },
      "execution_count": 141,
      "outputs": [
        {
          "output_type": "stream",
          "name": "stdout",
          "text": [
            "Best parameters: {'learning_rate': 1.0, 'n_estimators': 100}\n",
            "Best score: 0.99\n",
            "Accuracy:  0.9545342312008979\n",
            "Precision:  0.9585513298138439\n",
            "Recall:  0.970487948265726\n",
            "F1 Score:  0.9635099165451706\n"
          ]
        }
      ]
    },
    {
      "cell_type": "code",
      "source": [
        "ada_best = ada_grid.best_estimator_\n",
        "ada_best"
      ],
      "metadata": {
        "colab": {
          "base_uri": "https://localhost:8080/",
          "height": 75
        },
        "id": "0Pjfzlo9Sxni",
        "outputId": "0598b226-1c0a-492f-88bb-331b8bb8bb33"
      },
      "execution_count": 145,
      "outputs": [
        {
          "output_type": "execute_result",
          "data": {
            "text/plain": [
              "AdaBoostClassifier(n_estimators=100, random_state=42)"
            ],
            "text/html": [
              "<style>#sk-container-id-19 {color: black;background-color: white;}#sk-container-id-19 pre{padding: 0;}#sk-container-id-19 div.sk-toggleable {background-color: white;}#sk-container-id-19 label.sk-toggleable__label {cursor: pointer;display: block;width: 100%;margin-bottom: 0;padding: 0.3em;box-sizing: border-box;text-align: center;}#sk-container-id-19 label.sk-toggleable__label-arrow:before {content: \"▸\";float: left;margin-right: 0.25em;color: #696969;}#sk-container-id-19 label.sk-toggleable__label-arrow:hover:before {color: black;}#sk-container-id-19 div.sk-estimator:hover label.sk-toggleable__label-arrow:before {color: black;}#sk-container-id-19 div.sk-toggleable__content {max-height: 0;max-width: 0;overflow: hidden;text-align: left;background-color: #f0f8ff;}#sk-container-id-19 div.sk-toggleable__content pre {margin: 0.2em;color: black;border-radius: 0.25em;background-color: #f0f8ff;}#sk-container-id-19 input.sk-toggleable__control:checked~div.sk-toggleable__content {max-height: 200px;max-width: 100%;overflow: auto;}#sk-container-id-19 input.sk-toggleable__control:checked~label.sk-toggleable__label-arrow:before {content: \"▾\";}#sk-container-id-19 div.sk-estimator input.sk-toggleable__control:checked~label.sk-toggleable__label {background-color: #d4ebff;}#sk-container-id-19 div.sk-label input.sk-toggleable__control:checked~label.sk-toggleable__label {background-color: #d4ebff;}#sk-container-id-19 input.sk-hidden--visually {border: 0;clip: rect(1px 1px 1px 1px);clip: rect(1px, 1px, 1px, 1px);height: 1px;margin: -1px;overflow: hidden;padding: 0;position: absolute;width: 1px;}#sk-container-id-19 div.sk-estimator {font-family: monospace;background-color: #f0f8ff;border: 1px dotted black;border-radius: 0.25em;box-sizing: border-box;margin-bottom: 0.5em;}#sk-container-id-19 div.sk-estimator:hover {background-color: #d4ebff;}#sk-container-id-19 div.sk-parallel-item::after {content: \"\";width: 100%;border-bottom: 1px solid gray;flex-grow: 1;}#sk-container-id-19 div.sk-label:hover label.sk-toggleable__label {background-color: #d4ebff;}#sk-container-id-19 div.sk-serial::before {content: \"\";position: absolute;border-left: 1px solid gray;box-sizing: border-box;top: 0;bottom: 0;left: 50%;z-index: 0;}#sk-container-id-19 div.sk-serial {display: flex;flex-direction: column;align-items: center;background-color: white;padding-right: 0.2em;padding-left: 0.2em;position: relative;}#sk-container-id-19 div.sk-item {position: relative;z-index: 1;}#sk-container-id-19 div.sk-parallel {display: flex;align-items: stretch;justify-content: center;background-color: white;position: relative;}#sk-container-id-19 div.sk-item::before, #sk-container-id-19 div.sk-parallel-item::before {content: \"\";position: absolute;border-left: 1px solid gray;box-sizing: border-box;top: 0;bottom: 0;left: 50%;z-index: -1;}#sk-container-id-19 div.sk-parallel-item {display: flex;flex-direction: column;z-index: 1;position: relative;background-color: white;}#sk-container-id-19 div.sk-parallel-item:first-child::after {align-self: flex-end;width: 50%;}#sk-container-id-19 div.sk-parallel-item:last-child::after {align-self: flex-start;width: 50%;}#sk-container-id-19 div.sk-parallel-item:only-child::after {width: 0;}#sk-container-id-19 div.sk-dashed-wrapped {border: 1px dashed gray;margin: 0 0.4em 0.5em 0.4em;box-sizing: border-box;padding-bottom: 0.4em;background-color: white;}#sk-container-id-19 div.sk-label label {font-family: monospace;font-weight: bold;display: inline-block;line-height: 1.2em;}#sk-container-id-19 div.sk-label-container {text-align: center;}#sk-container-id-19 div.sk-container {/* jupyter's `normalize.less` sets `[hidden] { display: none; }` but bootstrap.min.css set `[hidden] { display: none !important; }` so we also need the `!important` here to be able to override the default hidden behavior on the sphinx rendered scikit-learn.org. See: https://github.com/scikit-learn/scikit-learn/issues/21755 */display: inline-block !important;position: relative;}#sk-container-id-19 div.sk-text-repr-fallback {display: none;}</style><div id=\"sk-container-id-19\" class=\"sk-top-container\"><div class=\"sk-text-repr-fallback\"><pre>AdaBoostClassifier(n_estimators=100, random_state=42)</pre><b>In a Jupyter environment, please rerun this cell to show the HTML representation or trust the notebook. <br />On GitHub, the HTML representation is unable to render, please try loading this page with nbviewer.org.</b></div><div class=\"sk-container\" hidden><div class=\"sk-item\"><div class=\"sk-estimator sk-toggleable\"><input class=\"sk-toggleable__control sk-hidden--visually\" id=\"sk-estimator-id-70\" type=\"checkbox\" checked><label for=\"sk-estimator-id-70\" class=\"sk-toggleable__label sk-toggleable__label-arrow\">AdaBoostClassifier</label><div class=\"sk-toggleable__content\"><pre>AdaBoostClassifier(n_estimators=100, random_state=42)</pre></div></div></div></div></div>"
            ]
          },
          "metadata": {},
          "execution_count": 145
        }
      ]
    },
    {
      "cell_type": "code",
      "source": [
        "ConfusionMatrixDisplay.from_estimator(ada_best, X_train, y_train)"
      ],
      "metadata": {
        "colab": {
          "base_uri": "https://localhost:8080/",
          "height": 296
        },
        "id": "ynqiUDTNQiCA",
        "outputId": "6d7e3ff8-8ad4-4bf8-bc45-4b29e1de19a1"
      },
      "execution_count": 148,
      "outputs": [
        {
          "output_type": "execute_result",
          "data": {
            "text/plain": [
              "<sklearn.metrics._plot.confusion_matrix.ConfusionMatrixDisplay at 0x7f4c5c1f6190>"
            ]
          },
          "metadata": {},
          "execution_count": 148
        },
        {
          "output_type": "display_data",
          "data": {
            "text/plain": [
              "<Figure size 432x288 with 2 Axes>"
            ],
            "image/png": "[encoded data removed]"
          },
          "metadata": {
            "needs_background": "light"
          }
        }
      ]
    },
    {
      "cell_type": "code",
      "source": [
        "def final_evaluation(model, predictors, target):\n",
        "  predictions = model.predict(predictors)\n",
        "  print(\"Accuracy: \", accuracy_score(target, predictions))\n",
        "  print(\"Precision[YES]: \", precision_score(target, predictions, average='binary', pos_label=1))\n",
        "  print(\"Recall[YES]: \", recall_score(target, predictions,average='binary', pos_label=1))\n",
        "  print(\"F1[YES]: \", f1_score(target, predictions,average='binary', pos_label=1))\n",
        "\n",
        "  ConfusionMatrixDisplay.from_estimator(model, predictors, target)"
      ],
      "metadata": {
        "id": "LqUJ7Y4gSwRq"
      },
      "execution_count": 146,
      "outputs": []
    },
    {
      "cell_type": "code",
      "source": [
        "final_evaluation(ada_best, X_test, y_test)"
      ],
      "metadata": {
        "colab": {
          "base_uri": "https://localhost:8080/",
          "height": 348
        },
        "id": "ICkB2BNaS-jR",
        "outputId": "3e434957-edc1-44e3-ec5e-e405280e59d9"
      },
      "execution_count": 147,
      "outputs": [
        {
          "output_type": "stream",
          "name": "stdout",
          "text": [
            "Accuracy:  0.96875\n",
            "Precision[YES]:  0.9508196721311475\n",
            "Recall[YES]:  1.0\n",
            "F1[YES]:  0.9747899159663865\n"
          ]
        },
        {
          "output_type": "display_data",
          "data": {
            "text/plain": [
              "<Figure size 432x288 with 2 Axes>"
            ],
            "image/png": "[encoded data removed]"
          },
          "metadata": {
            "needs_background": "light"
          }
        }
      ]
    },
    {
      "cell_type": "markdown",
      "source": [
        "##**Mixed**"
      ],
      "metadata": {
        "id": "kU81QW4hDRVJ"
      }
    },
    {
      "cell_type": "code",
      "source": [
        "grid_mixed = asd_2018_df.drop(['Case_No', 'Qchat-10-Score','Who completed the test','Ethnicity'], axis=1)"
      ],
      "metadata": {
        "id": "e5KLKM3fDZhl"
      },
      "execution_count": 41,
      "outputs": []
    },
    {
      "cell_type": "code",
      "source": [
        "X_mixed_grid = grid_mixed.drop(\"ASD_Traits\", axis=1)\n",
        "y_mixed_grid = grid_mixed[\"ASD_Traits\"]\n",
        "\n",
        "X_mixed_grid_train, X_mixed_grid_test, y_mixed_grid_train, y_mixed_grid_test = train_test_split(X_mixed_grid, y_mixed_grid, test_size=0.3, random_state=42, stratify=y_mixed_grid)"
      ],
      "metadata": {
        "id": "36CU3UTlDvPE"
      },
      "execution_count": 42,
      "outputs": []
    },
    {
      "cell_type": "code",
      "source": [
        "grid_search_mixed = GridSearchCV(pipeline, param_grid=param_grid,cv=5, scoring=scorers, refit='accuracy')"
      ],
      "metadata": {
        "id": "3B3CKxxjDOKx"
      },
      "execution_count": 43,
      "outputs": []
    },
    {
      "cell_type": "code",
      "source": [
        "grid_search_mixed.fit(X_mixed_grid_train, y_mixed_grid_train)"
      ],
      "metadata": {
        "colab": {
          "base_uri": "https://localhost:8080/",
          "height": 219
        },
        "id": "gnmulW7yDeX2",
        "outputId": "a26ef97b-6424-4a1c-d27d-f8fde0942f8f"
      },
      "execution_count": 44,
      "outputs": [
        {
          "output_type": "execute_result",
          "data": {
            "text/plain": [
              "GridSearchCV(cv=5,\n",
              "             estimator=Pipeline(steps=[('preprocess',\n",
              "                                        ColumnTransformer(transformers=[('scaling',\n",
              "                                                                         MinMaxScaler(),\n",
              "                                                                         ['Age_Mons']),\n",
              "                                                                        ('encoding',\n",
              "                                                                         OrdinalEncoder(),\n",
              "                                                                         ['Sex',\n",
              "                                                                          'Jaundice',\n",
              "                                                                          'Family_mem_with_ASD'])])),\n",
              "                                       ('classifier',\n",
              "                                        AdaBoostClassifier(random_state=42))]),\n",
              "             param_grid={'classifier__learning_rate': [0.01, 0.1, 1.0],\n",
              "                         'classifier__n_estimators': [50, 100, 200]},\n",
              "             refit='accuracy',\n",
              "             scoring={'accuracy': make_scorer(accuracy_score),\n",
              "                      'f1_score': make_scorer(f1_score, pos_label=Yes),\n",
              "                      'precision': make_scorer(precision_score, pos_label=Yes),\n",
              "                      'recall': make_scorer(recall_score, pos_label=Yes)})"
            ],
            "text/html": [
              "<style>#sk-container-id-4 {color: black;background-color: white;}#sk-container-id-4 pre{padding: 0;}#sk-container-id-4 div.sk-toggleable {background-color: white;}#sk-container-id-4 label.sk-toggleable__label {cursor: pointer;display: block;width: 100%;margin-bottom: 0;padding: 0.3em;box-sizing: border-box;text-align: center;}#sk-container-id-4 label.sk-toggleable__label-arrow:before {content: \"▸\";float: left;margin-right: 0.25em;color: #696969;}#sk-container-id-4 label.sk-toggleable__label-arrow:hover:before {color: black;}#sk-container-id-4 div.sk-estimator:hover label.sk-toggleable__label-arrow:before {color: black;}#sk-container-id-4 div.sk-toggleable__content {max-height: 0;max-width: 0;overflow: hidden;text-align: left;background-color: #f0f8ff;}#sk-container-id-4 div.sk-toggleable__content pre {margin: 0.2em;color: black;border-radius: 0.25em;background-color: #f0f8ff;}#sk-container-id-4 input.sk-toggleable__control:checked~div.sk-toggleable__content {max-height: 200px;max-width: 100%;overflow: auto;}#sk-container-id-4 input.sk-toggleable__control:checked~label.sk-toggleable__label-arrow:before {content: \"▾\";}#sk-container-id-4 div.sk-estimator input.sk-toggleable__control:checked~label.sk-toggleable__label {background-color: #d4ebff;}#sk-container-id-4 div.sk-label input.sk-toggleable__control:checked~label.sk-toggleable__label {background-color: #d4ebff;}#sk-container-id-4 input.sk-hidden--visually {border: 0;clip: rect(1px 1px 1px 1px);clip: rect(1px, 1px, 1px, 1px);height: 1px;margin: -1px;overflow: hidden;padding: 0;position: absolute;width: 1px;}#sk-container-id-4 div.sk-estimator {font-family: monospace;background-color: #f0f8ff;border: 1px dotted black;border-radius: 0.25em;box-sizing: border-box;margin-bottom: 0.5em;}#sk-container-id-4 div.sk-estimator:hover {background-color: #d4ebff;}#sk-container-id-4 div.sk-parallel-item::after {content: \"\";width: 100%;border-bottom: 1px solid gray;flex-grow: 1;}#sk-container-id-4 div.sk-label:hover label.sk-toggleable__label {background-color: #d4ebff;}#sk-container-id-4 div.sk-serial::before {content: \"\";position: absolute;border-left: 1px solid gray;box-sizing: border-box;top: 0;bottom: 0;left: 50%;z-index: 0;}#sk-container-id-4 div.sk-serial {display: flex;flex-direction: column;align-items: center;background-color: white;padding-right: 0.2em;padding-left: 0.2em;position: relative;}#sk-container-id-4 div.sk-item {position: relative;z-index: 1;}#sk-container-id-4 div.sk-parallel {display: flex;align-items: stretch;justify-content: center;background-color: white;position: relative;}#sk-container-id-4 div.sk-item::before, #sk-container-id-4 div.sk-parallel-item::before {content: \"\";position: absolute;border-left: 1px solid gray;box-sizing: border-box;top: 0;bottom: 0;left: 50%;z-index: -1;}#sk-container-id-4 div.sk-parallel-item {display: flex;flex-direction: column;z-index: 1;position: relative;background-color: white;}#sk-container-id-4 div.sk-parallel-item:first-child::after {align-self: flex-end;width: 50%;}#sk-container-id-4 div.sk-parallel-item:last-child::after {align-self: flex-start;width: 50%;}#sk-container-id-4 div.sk-parallel-item:only-child::after {width: 0;}#sk-container-id-4 div.sk-dashed-wrapped {border: 1px dashed gray;margin: 0 0.4em 0.5em 0.4em;box-sizing: border-box;padding-bottom: 0.4em;background-color: white;}#sk-container-id-4 div.sk-label label {font-family: monospace;font-weight: bold;display: inline-block;line-height: 1.2em;}#sk-container-id-4 div.sk-label-container {text-align: center;}#sk-container-id-4 div.sk-container {/* jupyter's `normalize.less` sets `[hidden] { display: none; }` but bootstrap.min.css set `[hidden] { display: none !important; }` so we also need the `!important` here to be able to override the default hidden behavior on the sphinx rendered scikit-learn.org. See: https://github.com/scikit-learn/scikit-learn/issues/21755 */display: inline-block !important;position: relative;}#sk-container-id-4 div.sk-text-repr-fallback {display: none;}</style><div id=\"sk-container-id-4\" class=\"sk-top-container\"><div class=\"sk-text-repr-fallback\"><pre>GridSearchCV(cv=5,\n",
              "             estimator=Pipeline(steps=[(&#x27;preprocess&#x27;,\n",
              "                                        ColumnTransformer(transformers=[(&#x27;scaling&#x27;,\n",
              "                                                                         MinMaxScaler(),\n",
              "                                                                         [&#x27;Age_Mons&#x27;]),\n",
              "                                                                        (&#x27;encoding&#x27;,\n",
              "                                                                         OrdinalEncoder(),\n",
              "                                                                         [&#x27;Sex&#x27;,\n",
              "                                                                          &#x27;Jaundice&#x27;,\n",
              "                                                                          &#x27;Family_mem_with_ASD&#x27;])])),\n",
              "                                       (&#x27;classifier&#x27;,\n",
              "                                        AdaBoostClassifier(random_state=42))]),\n",
              "             param_grid={&#x27;classifier__learning_rate&#x27;: [0.01, 0.1, 1.0],\n",
              "                         &#x27;classifier__n_estimators&#x27;: [50, 100, 200]},\n",
              "             refit=&#x27;accuracy&#x27;,\n",
              "             scoring={&#x27;accuracy&#x27;: make_scorer(accuracy_score),\n",
              "                      &#x27;f1_score&#x27;: make_scorer(f1_score, pos_label=Yes),\n",
              "                      &#x27;precision&#x27;: make_scorer(precision_score, pos_label=Yes),\n",
              "                      &#x27;recall&#x27;: make_scorer(recall_score, pos_label=Yes)})</pre><b>In a Jupyter environment, please rerun this cell to show the HTML representation or trust the notebook. <br />On GitHub, the HTML representation is unable to render, please try loading this page with nbviewer.org.</b></div><div class=\"sk-container\" hidden><div class=\"sk-item sk-dashed-wrapped\"><div class=\"sk-label-container\"><div class=\"sk-label sk-toggleable\"><input class=\"sk-toggleable__control sk-hidden--visually\" id=\"sk-estimator-id-18\" type=\"checkbox\" ><label for=\"sk-estimator-id-18\" class=\"sk-toggleable__label sk-toggleable__label-arrow\">GridSearchCV</label><div class=\"sk-toggleable__content\"><pre>GridSearchCV(cv=5,\n",
              "             estimator=Pipeline(steps=[(&#x27;preprocess&#x27;,\n",
              "                                        ColumnTransformer(transformers=[(&#x27;scaling&#x27;,\n",
              "                                                                         MinMaxScaler(),\n",
              "                                                                         [&#x27;Age_Mons&#x27;]),\n",
              "                                                                        (&#x27;encoding&#x27;,\n",
              "                                                                         OrdinalEncoder(),\n",
              "                                                                         [&#x27;Sex&#x27;,\n",
              "                                                                          &#x27;Jaundice&#x27;,\n",
              "                                                                          &#x27;Family_mem_with_ASD&#x27;])])),\n",
              "                                       (&#x27;classifier&#x27;,\n",
              "                                        AdaBoostClassifier(random_state=42))]),\n",
              "             param_grid={&#x27;classifier__learning_rate&#x27;: [0.01, 0.1, 1.0],\n",
              "                         &#x27;classifier__n_estimators&#x27;: [50, 100, 200]},\n",
              "             refit=&#x27;accuracy&#x27;,\n",
              "             scoring={&#x27;accuracy&#x27;: make_scorer(accuracy_score),\n",
              "                      &#x27;f1_score&#x27;: make_scorer(f1_score, pos_label=Yes),\n",
              "                      &#x27;precision&#x27;: make_scorer(precision_score, pos_label=Yes),\n",
              "                      &#x27;recall&#x27;: make_scorer(recall_score, pos_label=Yes)})</pre></div></div></div><div class=\"sk-parallel\"><div class=\"sk-parallel-item\"><div class=\"sk-item\"><div class=\"sk-label-container\"><div class=\"sk-label sk-toggleable\"><input class=\"sk-toggleable__control sk-hidden--visually\" id=\"sk-estimator-id-19\" type=\"checkbox\" ><label for=\"sk-estimator-id-19\" class=\"sk-toggleable__label sk-toggleable__label-arrow\">estimator: Pipeline</label><div class=\"sk-toggleable__content\"><pre>Pipeline(steps=[(&#x27;preprocess&#x27;,\n",
              "                 ColumnTransformer(transformers=[(&#x27;scaling&#x27;, MinMaxScaler(),\n",
              "                                                  [&#x27;Age_Mons&#x27;]),\n",
              "                                                 (&#x27;encoding&#x27;, OrdinalEncoder(),\n",
              "                                                  [&#x27;Sex&#x27;, &#x27;Jaundice&#x27;,\n",
              "                                                   &#x27;Family_mem_with_ASD&#x27;])])),\n",
              "                (&#x27;classifier&#x27;, AdaBoostClassifier(random_state=42))])</pre></div></div></div><div class=\"sk-serial\"><div class=\"sk-item\"><div class=\"sk-serial\"><div class=\"sk-item sk-dashed-wrapped\"><div class=\"sk-label-container\"><div class=\"sk-label sk-toggleable\"><input class=\"sk-toggleable__control sk-hidden--visually\" id=\"sk-estimator-id-20\" type=\"checkbox\" ><label for=\"sk-estimator-id-20\" class=\"sk-toggleable__label sk-toggleable__label-arrow\">preprocess: ColumnTransformer</label><div class=\"sk-toggleable__content\"><pre>ColumnTransformer(transformers=[(&#x27;scaling&#x27;, MinMaxScaler(), [&#x27;Age_Mons&#x27;]),\n",
              "                                (&#x27;encoding&#x27;, OrdinalEncoder(),\n",
              "                                 [&#x27;Sex&#x27;, &#x27;Jaundice&#x27;, &#x27;Family_mem_with_ASD&#x27;])])</pre></div></div></div><div class=\"sk-parallel\"><div class=\"sk-parallel-item\"><div class=\"sk-item\"><div class=\"sk-label-container\"><div class=\"sk-label sk-toggleable\"><input class=\"sk-toggleable__control sk-hidden--visually\" id=\"sk-estimator-id-21\" type=\"checkbox\" ><label for=\"sk-estimator-id-21\" class=\"sk-toggleable__label sk-toggleable__label-arrow\">scaling</label><div class=\"sk-toggleable__content\"><pre>[&#x27;Age_Mons&#x27;]</pre></div></div></div><div class=\"sk-serial\"><div class=\"sk-item\"><div class=\"sk-estimator sk-toggleable\"><input class=\"sk-toggleable__control sk-hidden--visually\" id=\"sk-estimator-id-22\" type=\"checkbox\" ><label for=\"sk-estimator-id-22\" class=\"sk-toggleable__label sk-toggleable__label-arrow\">MinMaxScaler</label><div class=\"sk-toggleable__content\"><pre>MinMaxScaler()</pre></div></div></div></div></div></div><div class=\"sk-parallel-item\"><div class=\"sk-item\"><div class=\"sk-label-container\"><div class=\"sk-label sk-toggleable\"><input class=\"sk-toggleable__control sk-hidden--visually\" id=\"sk-estimator-id-23\" type=\"checkbox\" ><label for=\"sk-estimator-id-23\" class=\"sk-toggleable__label sk-toggleable__label-arrow\">encoding</label><div class=\"sk-toggleable__content\"><pre>[&#x27;Sex&#x27;, &#x27;Jaundice&#x27;, &#x27;Family_mem_with_ASD&#x27;]</pre></div></div></div><div class=\"sk-serial\"><div class=\"sk-item\"><div class=\"sk-estimator sk-toggleable\"><input class=\"sk-toggleable__control sk-hidden--visually\" id=\"sk-estimator-id-24\" type=\"checkbox\" ><label for=\"sk-estimator-id-24\" class=\"sk-toggleable__label sk-toggleable__label-arrow\">OrdinalEncoder</label><div class=\"sk-toggleable__content\"><pre>OrdinalEncoder()</pre></div></div></div></div></div></div></div></div><div class=\"sk-item\"><div class=\"sk-estimator sk-toggleable\"><input class=\"sk-toggleable__control sk-hidden--visually\" id=\"sk-estimator-id-25\" type=\"checkbox\" ><label for=\"sk-estimator-id-25\" class=\"sk-toggleable__label sk-toggleable__label-arrow\">AdaBoostClassifier</label><div class=\"sk-toggleable__content\"><pre>AdaBoostClassifier(random_state=42)</pre></div></div></div></div></div></div></div></div></div></div></div></div>"
            ]
          },
          "metadata": {},
          "execution_count": 44
        }
      ]
    },
    {
      "cell_type": "code",
      "source": [
        "show_grid_cv_results(grid_search_mixed)"
      ],
      "metadata": {
        "colab": {
          "base_uri": "https://localhost:8080/"
        },
        "id": "V2ykSORrDpI6",
        "outputId": "cc06d2e9-6790-4c87-a81f-fea726c8f200"
      },
      "execution_count": 45,
      "outputs": [
        {
          "output_type": "stream",
          "name": "stdout",
          "text": [
            "Best parameters: {'classifier__learning_rate': 0.1, 'classifier__n_estimators': 200}\n",
            "Best score: 0.70\n",
            "Accuracy:  0.6913587056444199\n",
            "Precision:  0.7002896925984258\n",
            "Recall:  0.967719320951703\n",
            "F1 Score:  0.8123526374851081\n"
          ]
        }
      ]
    },
    {
      "cell_type": "code",
      "source": [
        "ConfusionMatrixDisplay.from_estimator(grid_search_mixed.best_estimator_, X_mixed_grid_train, y_mixed_grid_train)"
      ],
      "metadata": {
        "colab": {
          "base_uri": "https://localhost:8080/",
          "height": 296
        },
        "id": "8xDx8AiiEdX0",
        "outputId": "f2696d3e-d8ac-4085-d70d-fac81bf27f65"
      },
      "execution_count": 46,
      "outputs": [
        {
          "output_type": "execute_result",
          "data": {
            "text/plain": [
              "<sklearn.metrics._plot.confusion_matrix.ConfusionMatrixDisplay at 0x7f4c5c37f190>"
            ]
          },
          "metadata": {},
          "execution_count": 46
        },
        {
          "output_type": "display_data",
          "data": {
            "text/plain": [
              "<Figure size 432x288 with 2 Axes>"
            ],
            "image/png": "[encoded data removed]"
          },
          "metadata": {
            "needs_background": "light"
          }
        }
      ]
    },
    {
      "cell_type": "code",
      "source": [
        "y_mixed_grid_pred = grid_search_mixed.predict(X_mixed_grid_test)"
      ],
      "metadata": {
        "id": "MXQJNXqUE5Fb"
      },
      "execution_count": 47,
      "outputs": []
    },
    {
      "cell_type": "code",
      "source": [
        "evaluate_classes(grid_search_mixed, X_mixed_grid_test, y_mixed_grid_test)"
      ],
      "metadata": {
        "colab": {
          "base_uri": "https://localhost:8080/",
          "height": 348
        },
        "id": "MUBlTaZ0FFkT",
        "outputId": "c78da03b-c68e-4d25-d2b0-d115f8a0bbb6"
      },
      "execution_count": 48,
      "outputs": [
        {
          "output_type": "stream",
          "name": "stdout",
          "text": [
            "Accuracy:  0.7003154574132492\n",
            "Precision[YES]:  0.7\n",
            "Recall[YES]:  0.9908675799086758\n",
            "F1[YES]:  0.8204158790170133\n"
          ]
        },
        {
          "output_type": "display_data",
          "data": {
            "text/plain": [
              "<Figure size 432x288 with 2 Axes>"
            ],
            "image/png": "[encoded data removed]"
          },
          "metadata": {
            "needs_background": "light"
          }
        }
      ]
    },
    {
      "cell_type": "code",
      "source": [
        "features = list(grid_mixed)"
      ],
      "metadata": {
        "id": "EGvRYFmtZFG3"
      },
      "execution_count": 49,
      "outputs": []
    },
    {
      "cell_type": "code",
      "source": [
        "best_model = grid_search_mixed.best_estimator_\n",
        "best_model"
      ],
      "metadata": {
        "colab": {
          "base_uri": "https://localhost:8080/",
          "height": 192
        },
        "id": "254sqcCsZp0d",
        "outputId": "82dc0e19-7d08-48be-f7a6-db49db2d4b9a"
      },
      "execution_count": 50,
      "outputs": [
        {
          "output_type": "execute_result",
          "data": {
            "text/plain": [
              "Pipeline(steps=[('preprocess',\n",
              "                 ColumnTransformer(transformers=[('scaling', MinMaxScaler(),\n",
              "                                                  ['Age_Mons']),\n",
              "                                                 ('encoding', OrdinalEncoder(),\n",
              "                                                  ['Sex', 'Jaundice',\n",
              "                                                   'Family_mem_with_ASD'])])),\n",
              "                ('classifier',\n",
              "                 AdaBoostClassifier(learning_rate=0.1, n_estimators=200,\n",
              "                                    random_state=42))])"
            ],
            "text/html": [
              "<style>#sk-container-id-5 {color: black;background-color: white;}#sk-container-id-5 pre{padding: 0;}#sk-container-id-5 div.sk-toggleable {background-color: white;}#sk-container-id-5 label.sk-toggleable__label {cursor: pointer;display: block;width: 100%;margin-bottom: 0;padding: 0.3em;box-sizing: border-box;text-align: center;}#sk-container-id-5 label.sk-toggleable__label-arrow:before {content: \"▸\";float: left;margin-right: 0.25em;color: #696969;}#sk-container-id-5 label.sk-toggleable__label-arrow:hover:before {color: black;}#sk-container-id-5 div.sk-estimator:hover label.sk-toggleable__label-arrow:before {color: black;}#sk-container-id-5 div.sk-toggleable__content {max-height: 0;max-width: 0;overflow: hidden;text-align: left;background-color: #f0f8ff;}#sk-container-id-5 div.sk-toggleable__content pre {margin: 0.2em;color: black;border-radius: 0.25em;background-color: #f0f8ff;}#sk-container-id-5 input.sk-toggleable__control:checked~div.sk-toggleable__content {max-height: 200px;max-width: 100%;overflow: auto;}#sk-container-id-5 input.sk-toggleable__control:checked~label.sk-toggleable__label-arrow:before {content: \"▾\";}#sk-container-id-5 div.sk-estimator input.sk-toggleable__control:checked~label.sk-toggleable__label {background-color: #d4ebff;}#sk-container-id-5 div.sk-label input.sk-toggleable__control:checked~label.sk-toggleable__label {background-color: #d4ebff;}#sk-container-id-5 input.sk-hidden--visually {border: 0;clip: rect(1px 1px 1px 1px);clip: rect(1px, 1px, 1px, 1px);height: 1px;margin: -1px;overflow: hidden;padding: 0;position: absolute;width: 1px;}#sk-container-id-5 div.sk-estimator {font-family: monospace;background-color: #f0f8ff;border: 1px dotted black;border-radius: 0.25em;box-sizing: border-box;margin-bottom: 0.5em;}#sk-container-id-5 div.sk-estimator:hover {background-color: #d4ebff;}#sk-container-id-5 div.sk-parallel-item::after {content: \"\";width: 100%;border-bottom: 1px solid gray;flex-grow: 1;}#sk-container-id-5 div.sk-label:hover label.sk-toggleable__label {background-color: #d4ebff;}#sk-container-id-5 div.sk-serial::before {content: \"\";position: absolute;border-left: 1px solid gray;box-sizing: border-box;top: 0;bottom: 0;left: 50%;z-index: 0;}#sk-container-id-5 div.sk-serial {display: flex;flex-direction: column;align-items: center;background-color: white;padding-right: 0.2em;padding-left: 0.2em;position: relative;}#sk-container-id-5 div.sk-item {position: relative;z-index: 1;}#sk-container-id-5 div.sk-parallel {display: flex;align-items: stretch;justify-content: center;background-color: white;position: relative;}#sk-container-id-5 div.sk-item::before, #sk-container-id-5 div.sk-parallel-item::before {content: \"\";position: absolute;border-left: 1px solid gray;box-sizing: border-box;top: 0;bottom: 0;left: 50%;z-index: -1;}#sk-container-id-5 div.sk-parallel-item {display: flex;flex-direction: column;z-index: 1;position: relative;background-color: white;}#sk-container-id-5 div.sk-parallel-item:first-child::after {align-self: flex-end;width: 50%;}#sk-container-id-5 div.sk-parallel-item:last-child::after {align-self: flex-start;width: 50%;}#sk-container-id-5 div.sk-parallel-item:only-child::after {width: 0;}#sk-container-id-5 div.sk-dashed-wrapped {border: 1px dashed gray;margin: 0 0.4em 0.5em 0.4em;box-sizing: border-box;padding-bottom: 0.4em;background-color: white;}#sk-container-id-5 div.sk-label label {font-family: monospace;font-weight: bold;display: inline-block;line-height: 1.2em;}#sk-container-id-5 div.sk-label-container {text-align: center;}#sk-container-id-5 div.sk-container {/* jupyter's `normalize.less` sets `[hidden] { display: none; }` but bootstrap.min.css set `[hidden] { display: none !important; }` so we also need the `!important` here to be able to override the default hidden behavior on the sphinx rendered scikit-learn.org. See: https://github.com/scikit-learn/scikit-learn/issues/21755 */display: inline-block !important;position: relative;}#sk-container-id-5 div.sk-text-repr-fallback {display: none;}</style><div id=\"sk-container-id-5\" class=\"sk-top-container\"><div class=\"sk-text-repr-fallback\"><pre>Pipeline(steps=[(&#x27;preprocess&#x27;,\n",
              "                 ColumnTransformer(transformers=[(&#x27;scaling&#x27;, MinMaxScaler(),\n",
              "                                                  [&#x27;Age_Mons&#x27;]),\n",
              "                                                 (&#x27;encoding&#x27;, OrdinalEncoder(),\n",
              "                                                  [&#x27;Sex&#x27;, &#x27;Jaundice&#x27;,\n",
              "                                                   &#x27;Family_mem_with_ASD&#x27;])])),\n",
              "                (&#x27;classifier&#x27;,\n",
              "                 AdaBoostClassifier(learning_rate=0.1, n_estimators=200,\n",
              "                                    random_state=42))])</pre><b>In a Jupyter environment, please rerun this cell to show the HTML representation or trust the notebook. <br />On GitHub, the HTML representation is unable to render, please try loading this page with nbviewer.org.</b></div><div class=\"sk-container\" hidden><div class=\"sk-item sk-dashed-wrapped\"><div class=\"sk-label-container\"><div class=\"sk-label sk-toggleable\"><input class=\"sk-toggleable__control sk-hidden--visually\" id=\"sk-estimator-id-26\" type=\"checkbox\" ><label for=\"sk-estimator-id-26\" class=\"sk-toggleable__label sk-toggleable__label-arrow\">Pipeline</label><div class=\"sk-toggleable__content\"><pre>Pipeline(steps=[(&#x27;preprocess&#x27;,\n",
              "                 ColumnTransformer(transformers=[(&#x27;scaling&#x27;, MinMaxScaler(),\n",
              "                                                  [&#x27;Age_Mons&#x27;]),\n",
              "                                                 (&#x27;encoding&#x27;, OrdinalEncoder(),\n",
              "                                                  [&#x27;Sex&#x27;, &#x27;Jaundice&#x27;,\n",
              "                                                   &#x27;Family_mem_with_ASD&#x27;])])),\n",
              "                (&#x27;classifier&#x27;,\n",
              "                 AdaBoostClassifier(learning_rate=0.1, n_estimators=200,\n",
              "                                    random_state=42))])</pre></div></div></div><div class=\"sk-serial\"><div class=\"sk-item sk-dashed-wrapped\"><div class=\"sk-label-container\"><div class=\"sk-label sk-toggleable\"><input class=\"sk-toggleable__control sk-hidden--visually\" id=\"sk-estimator-id-27\" type=\"checkbox\" ><label for=\"sk-estimator-id-27\" class=\"sk-toggleable__label sk-toggleable__label-arrow\">preprocess: ColumnTransformer</label><div class=\"sk-toggleable__content\"><pre>ColumnTransformer(transformers=[(&#x27;scaling&#x27;, MinMaxScaler(), [&#x27;Age_Mons&#x27;]),\n",
              "                                (&#x27;encoding&#x27;, OrdinalEncoder(),\n",
              "                                 [&#x27;Sex&#x27;, &#x27;Jaundice&#x27;, &#x27;Family_mem_with_ASD&#x27;])])</pre></div></div></div><div class=\"sk-parallel\"><div class=\"sk-parallel-item\"><div class=\"sk-item\"><div class=\"sk-label-container\"><div class=\"sk-label sk-toggleable\"><input class=\"sk-toggleable__control sk-hidden--visually\" id=\"sk-estimator-id-28\" type=\"checkbox\" ><label for=\"sk-estimator-id-28\" class=\"sk-toggleable__label sk-toggleable__label-arrow\">scaling</label><div class=\"sk-toggleable__content\"><pre>[&#x27;Age_Mons&#x27;]</pre></div></div></div><div class=\"sk-serial\"><div class=\"sk-item\"><div class=\"sk-estimator sk-toggleable\"><input class=\"sk-toggleable__control sk-hidden--visually\" id=\"sk-estimator-id-29\" type=\"checkbox\" ><label for=\"sk-estimator-id-29\" class=\"sk-toggleable__label sk-toggleable__label-arrow\">MinMaxScaler</label><div class=\"sk-toggleable__content\"><pre>MinMaxScaler()</pre></div></div></div></div></div></div><div class=\"sk-parallel-item\"><div class=\"sk-item\"><div class=\"sk-label-container\"><div class=\"sk-label sk-toggleable\"><input class=\"sk-toggleable__control sk-hidden--visually\" id=\"sk-estimator-id-30\" type=\"checkbox\" ><label for=\"sk-estimator-id-30\" class=\"sk-toggleable__label sk-toggleable__label-arrow\">encoding</label><div class=\"sk-toggleable__content\"><pre>[&#x27;Sex&#x27;, &#x27;Jaundice&#x27;, &#x27;Family_mem_with_ASD&#x27;]</pre></div></div></div><div class=\"sk-serial\"><div class=\"sk-item\"><div class=\"sk-estimator sk-toggleable\"><input class=\"sk-toggleable__control sk-hidden--visually\" id=\"sk-estimator-id-31\" type=\"checkbox\" ><label for=\"sk-estimator-id-31\" class=\"sk-toggleable__label sk-toggleable__label-arrow\">OrdinalEncoder</label><div class=\"sk-toggleable__content\"><pre>OrdinalEncoder()</pre></div></div></div></div></div></div></div></div><div class=\"sk-item\"><div class=\"sk-estimator sk-toggleable\"><input class=\"sk-toggleable__control sk-hidden--visually\" id=\"sk-estimator-id-32\" type=\"checkbox\" ><label for=\"sk-estimator-id-32\" class=\"sk-toggleable__label sk-toggleable__label-arrow\">AdaBoostClassifier</label><div class=\"sk-toggleable__content\"><pre>AdaBoostClassifier(learning_rate=0.1, n_estimators=200, random_state=42)</pre></div></div></div></div></div></div></div>"
            ]
          },
          "metadata": {},
          "execution_count": 50
        }
      ]
    },
    {
      "cell_type": "code",
      "source": [
        "classifier_best = best_model.named_steps['classifier']"
      ],
      "metadata": {
        "id": "LBeIunHzbQ_m"
      },
      "execution_count": 51,
      "outputs": []
    },
    {
      "cell_type": "code",
      "source": [
        "classifier_best.base_estimator"
      ],
      "metadata": {
        "colab": {
          "base_uri": "https://localhost:8080/",
          "height": 35
        },
        "id": "HyTc-pN7bZAn",
        "outputId": "b2948742-396e-47b8-b2f7-0fd2285a8602"
      },
      "execution_count": 52,
      "outputs": [
        {
          "output_type": "execute_result",
          "data": {
            "text/plain": [
              "'deprecated'"
            ],
            "application/vnd.google.colaboratory.intrinsic+json": {
              "type": "string"
            }
          },
          "metadata": {},
          "execution_count": 52
        }
      ]
    },
    {
      "cell_type": "code",
      "source": [],
      "metadata": {
        "id": "Qlp1PHilbY6P"
      },
      "execution_count": 52,
      "outputs": []
    },
    {
      "cell_type": "code",
      "source": [
        "importances_mixed = grid_search_mixed.best_estimator_.named_steps['classifier'].base_estimator.feature_importances_\n",
        "\n",
        "mixed_sorted = sorted(zip(importances_mixed, features), reverse=True)"
      ],
      "metadata": {
        "colab": {
          "base_uri": "https://localhost:8080/",
          "height": 202
        },
        "id": "3_h_cPraKmHj",
        "outputId": "fd023f9e-6b03-4e56-9a95-4384c9b0bc73"
      },
      "execution_count": 53,
      "outputs": [
        {
          "output_type": "error",
          "ename": "AttributeError",
          "evalue": "ignored",
          "traceback": [
            "\u001b[0;31m---------------------------------------------------------------------------\u001b[0m",
            "\u001b[0;31mAttributeError\u001b[0m                            Traceback (most recent call last)",
            "\u001b[0;32m<ipython-input-53-98272713377a>\u001b[0m in \u001b[0;36m<module>\u001b[0;34m\u001b[0m\n\u001b[0;32m----> 1\u001b[0;31m \u001b[0mimportances_mixed\u001b[0m \u001b[0;34m=\u001b[0m \u001b[0mgrid_search_mixed\u001b[0m\u001b[0;34m.\u001b[0m\u001b[0mbest_estimator_\u001b[0m\u001b[0;34m.\u001b[0m\u001b[0mnamed_steps\u001b[0m\u001b[0;34m[\u001b[0m\u001b[0;34m'classifier'\u001b[0m\u001b[0;34m]\u001b[0m\u001b[0;34m.\u001b[0m\u001b[0mbase_estimator\u001b[0m\u001b[0;34m.\u001b[0m\u001b[0mfeature_importances_\u001b[0m\u001b[0;34m\u001b[0m\u001b[0;34m\u001b[0m\u001b[0m\n\u001b[0m\u001b[1;32m      2\u001b[0m \u001b[0;34m\u001b[0m\u001b[0m\n\u001b[1;32m      3\u001b[0m \u001b[0mmixed_sorted\u001b[0m \u001b[0;34m=\u001b[0m \u001b[0msorted\u001b[0m\u001b[0;34m(\u001b[0m\u001b[0mzip\u001b[0m\u001b[0;34m(\u001b[0m\u001b[0mimportances_mixed\u001b[0m\u001b[0;34m,\u001b[0m \u001b[0mfeatures\u001b[0m\u001b[0;34m)\u001b[0m\u001b[0;34m,\u001b[0m \u001b[0mreverse\u001b[0m\u001b[0;34m=\u001b[0m\u001b[0;32mTrue\u001b[0m\u001b[0;34m)\u001b[0m\u001b[0;34m\u001b[0m\u001b[0;34m\u001b[0m\u001b[0m\n",
            "\u001b[0;31mAttributeError\u001b[0m: 'str' object has no attribute 'feature_importances_'"
          ]
        }
      ]
    }
  ],
  "metadata": {
    "kernelspec": {
      "display_name": "Python 3",
      "language": "python",
      "name": "python3"
    },
    "language_info": {
      "codemirror_mode": {
        "name": "ipython",
        "version": 3
      },
      "file_extension": ".py",
      "mimetype": "text/x-python",
      "name": "python",
      "nbconvert_exporter": "python",
      "pygments_lexer": "ipython3",
      "version": "3.10.0"
    },
    "orig_nbformat": 4,
    "colab": {
      "provenance": [],
      "include_colab_link": true
    }
  },
  "nbformat": 4,
  "nbformat_minor": 0
}