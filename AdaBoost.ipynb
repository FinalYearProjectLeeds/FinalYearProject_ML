{
  "nbformat": 4,
  "nbformat_minor": 0,
  "metadata": {
    "colab": {
      "provenance": [],
      "authorship_tag": "ABX9TyPvwRKAnOfN4hQUjtAmaKFH",
      "include_colab_link": true
    },
    "kernelspec": {
      "name": "python3",
      "display_name": "Python 3"
    },
    "language_info": {
      "name": "python"
    }
  },
  "cells": [
    {
      "cell_type": "markdown",
      "metadata": {
        "id": "view-in-github",
        "colab_type": "text"
      },
      "source": [
        "<a href=\"https://colab.research.google.com/github/sckgn/FinalYearProject_ML/blob/main/AdaBoost.ipynb\" target=\"_parent\"><img src=\"https://colab.research.google.com/assets/colab-badge.svg\" alt=\"Open In Colab\"/></a>"
      ]
    },
    {
      "cell_type": "markdown",
      "source": [
        "AdaBoost is an ensemble algorithm that combines multiple weak learners (algorithms that are generally simple) sequentially. The focus is on improving previously made errors."
      ],
      "metadata": {
        "id": "5HnuNbm1T1oa"
      }
    },
    {
      "cell_type": "code",
      "execution_count": 1,
      "metadata": {
        "colab": {
          "base_uri": "https://localhost:8080/",
          "height": 73
        },
        "id": "HKdX6uiQTi8b",
        "outputId": "6350b396-9bc2-4d91-8202-55e718fc5728"
      },
      "outputs": [
        {
          "output_type": "display_data",
          "data": {
            "text/plain": [
              "<IPython.core.display.HTML object>"
            ],
            "text/html": [
              "\n",
              "     <input type=\"file\" id=\"files-b8473e8f-c65e-4820-b5c1-0ffc7aee8779\" name=\"files[]\" multiple disabled\n",
              "        style=\"border:none\" />\n",
              "     <output id=\"result-b8473e8f-c65e-4820-b5c1-0ffc7aee8779\">\n",
              "      Upload widget is only available when the cell has been executed in the\n",
              "      current browser session. Please rerun this cell to enable.\n",
              "      </output>\n",
              "      <script>// Copyright 2017 Google LLC\n",
              "//\n",
              "// Licensed under the Apache License, Version 2.0 (the \"License\");\n",
              "// you may not use this file except in compliance with the License.\n",
              "// You may obtain a copy of the License at\n",
              "//\n",
              "//      http://www.apache.org/licenses/LICENSE-2.0\n",
              "//\n",
              "// Unless required by applicable law or agreed to in writing, software\n",
              "// distributed under the License is distributed on an \"AS IS\" BASIS,\n",
              "// WITHOUT WARRANTIES OR CONDITIONS OF ANY KIND, either express or implied.\n",
              "// See the License for the specific language governing permissions and\n",
              "// limitations under the License.\n",
              "\n",
              "/**\n",
              " * @fileoverview Helpers for google.colab Python module.\n",
              " */\n",
              "(function(scope) {\n",
              "function span(text, styleAttributes = {}) {\n",
              "  const element = document.createElement('span');\n",
              "  element.textContent = text;\n",
              "  for (const key of Object.keys(styleAttributes)) {\n",
              "    element.style[key] = styleAttributes[key];\n",
              "  }\n",
              "  return element;\n",
              "}\n",
              "\n",
              "// Max number of bytes which will be uploaded at a time.\n",
              "const MAX_PAYLOAD_SIZE = 100 * 1024;\n",
              "\n",
              "function _uploadFiles(inputId, outputId) {\n",
              "  const steps = uploadFilesStep(inputId, outputId);\n",
              "  const outputElement = document.getElementById(outputId);\n",
              "  // Cache steps on the outputElement to make it available for the next call\n",
              "  // to uploadFilesContinue from Python.\n",
              "  outputElement.steps = steps;\n",
              "\n",
              "  return _uploadFilesContinue(outputId);\n",
              "}\n",
              "\n",
              "// This is roughly an async generator (not supported in the browser yet),\n",
              "// where there are multiple asynchronous steps and the Python side is going\n",
              "// to poll for completion of each step.\n",
              "// This uses a Promise to block the python side on completion of each step,\n",
              "// then passes the result of the previous step as the input to the next step.\n",
              "function _uploadFilesContinue(outputId) {\n",
              "  const outputElement = document.getElementById(outputId);\n",
              "  const steps = outputElement.steps;\n",
              "\n",
              "  const next = steps.next(outputElement.lastPromiseValue);\n",
              "  return Promise.resolve(next.value.promise).then((value) => {\n",
              "    // Cache the last promise value to make it available to the next\n",
              "    // step of the generator.\n",
              "    outputElement.lastPromiseValue = value;\n",
              "    return next.value.response;\n",
              "  });\n",
              "}\n",
              "\n",
              "/**\n",
              " * Generator function which is called between each async step of the upload\n",
              " * process.\n",
              " * @param {string} inputId Element ID of the input file picker element.\n",
              " * @param {string} outputId Element ID of the output display.\n",
              " * @return {!Iterable<!Object>} Iterable of next steps.\n",
              " */\n",
              "function* uploadFilesStep(inputId, outputId) {\n",
              "  const inputElement = document.getElementById(inputId);\n",
              "  inputElement.disabled = false;\n",
              "\n",
              "  const outputElement = document.getElementById(outputId);\n",
              "  outputElement.innerHTML = '';\n",
              "\n",
              "  const pickedPromise = new Promise((resolve) => {\n",
              "    inputElement.addEventListener('change', (e) => {\n",
              "      resolve(e.target.files);\n",
              "    });\n",
              "  });\n",
              "\n",
              "  const cancel = document.createElement('button');\n",
              "  inputElement.parentElement.appendChild(cancel);\n",
              "  cancel.textContent = 'Cancel upload';\n",
              "  const cancelPromise = new Promise((resolve) => {\n",
              "    cancel.onclick = () => {\n",
              "      resolve(null);\n",
              "    };\n",
              "  });\n",
              "\n",
              "  // Wait for the user to pick the files.\n",
              "  const files = yield {\n",
              "    promise: Promise.race([pickedPromise, cancelPromise]),\n",
              "    response: {\n",
              "      action: 'starting',\n",
              "    }\n",
              "  };\n",
              "\n",
              "  cancel.remove();\n",
              "\n",
              "  // Disable the input element since further picks are not allowed.\n",
              "  inputElement.disabled = true;\n",
              "\n",
              "  if (!files) {\n",
              "    return {\n",
              "      response: {\n",
              "        action: 'complete',\n",
              "      }\n",
              "    };\n",
              "  }\n",
              "\n",
              "  for (const file of files) {\n",
              "    const li = document.createElement('li');\n",
              "    li.append(span(file.name, {fontWeight: 'bold'}));\n",
              "    li.append(span(\n",
              "        `(${file.type || 'n/a'}) - ${file.size} bytes, ` +\n",
              "        `last modified: ${\n",
              "            file.lastModifiedDate ? file.lastModifiedDate.toLocaleDateString() :\n",
              "                                    'n/a'} - `));\n",
              "    const percent = span('0% done');\n",
              "    li.appendChild(percent);\n",
              "\n",
              "    outputElement.appendChild(li);\n",
              "\n",
              "    const fileDataPromise = new Promise((resolve) => {\n",
              "      const reader = new FileReader();\n",
              "      reader.onload = (e) => {\n",
              "        resolve(e.target.result);\n",
              "      };\n",
              "      reader.readAsArrayBuffer(file);\n",
              "    });\n",
              "    // Wait for the data to be ready.\n",
              "    let fileData = yield {\n",
              "      promise: fileDataPromise,\n",
              "      response: {\n",
              "        action: 'continue',\n",
              "      }\n",
              "    };\n",
              "\n",
              "    // Use a chunked sending to avoid message size limits. See b/62115660.\n",
              "    let position = 0;\n",
              "    do {\n",
              "      const length = Math.min(fileData.byteLength - position, MAX_PAYLOAD_SIZE);\n",
              "      const chunk = new Uint8Array(fileData, position, length);\n",
              "      position += length;\n",
              "\n",
              "      const base64 = btoa(String.fromCharCode.apply(null, chunk));\n",
              "      yield {\n",
              "        response: {\n",
              "          action: 'append',\n",
              "          file: file.name,\n",
              "          data: base64,\n",
              "        },\n",
              "      };\n",
              "\n",
              "      let percentDone = fileData.byteLength === 0 ?\n",
              "          100 :\n",
              "          Math.round((position / fileData.byteLength) * 100);\n",
              "      percent.textContent = `${percentDone}% done`;\n",
              "\n",
              "    } while (position < fileData.byteLength);\n",
              "  }\n",
              "\n",
              "  // All done.\n",
              "  yield {\n",
              "    response: {\n",
              "      action: 'complete',\n",
              "    }\n",
              "  };\n",
              "}\n",
              "\n",
              "scope.google = scope.google || {};\n",
              "scope.google.colab = scope.google.colab || {};\n",
              "scope.google.colab._files = {\n",
              "  _uploadFiles,\n",
              "  _uploadFilesContinue,\n",
              "};\n",
              "})(self);\n",
              "</script> "
            ]
          },
          "metadata": {}
        },
        {
          "output_type": "stream",
          "name": "stdout",
          "text": [
            "Saving dataset_2018.csv to dataset_2018.csv\n"
          ]
        }
      ],
      "source": [
        "from google.colab import files\n",
        "uploaded = files.upload()"
      ]
    },
    {
      "cell_type": "code",
      "source": [
        "import os \n",
        "import pandas as pd\n",
        "import sklearn\n",
        "%matplotlib inline \n",
        "import matplotlib.pyplot as plt\n",
        "import numpy as np\n",
        "import seaborn as sns\n",
        "\n",
        "#Read in ASDTest dataset\n",
        "asd_2018_df = pd.read_csv(\"dataset_2018.csv\")\n",
        "\n",
        "asd_2018_df.info()"
      ],
      "metadata": {
        "id": "5iC0uvsTU70x",
        "colab": {
          "base_uri": "https://localhost:8080/"
        },
        "outputId": "2f2e0e03-946f-4985-cdf5-5b8c20d88d8f"
      },
      "execution_count": 2,
      "outputs": [
        {
          "output_type": "stream",
          "name": "stdout",
          "text": [
            "<class 'pandas.core.frame.DataFrame'>\n",
            "RangeIndex: 1054 entries, 0 to 1053\n",
            "Data columns (total 19 columns):\n",
            " #   Column                  Non-Null Count  Dtype \n",
            "---  ------                  --------------  ----- \n",
            " 0   Case_No                 1054 non-null   int64 \n",
            " 1   A1                      1054 non-null   int64 \n",
            " 2   A2                      1054 non-null   int64 \n",
            " 3   A3                      1054 non-null   int64 \n",
            " 4   A4                      1054 non-null   int64 \n",
            " 5   A5                      1054 non-null   int64 \n",
            " 6   A6                      1054 non-null   int64 \n",
            " 7   A7                      1054 non-null   int64 \n",
            " 8   A8                      1054 non-null   int64 \n",
            " 9   A9                      1054 non-null   int64 \n",
            " 10  A10                     1054 non-null   int64 \n",
            " 11  Age_Mons                1054 non-null   int64 \n",
            " 12  Qchat-10-Score          1054 non-null   int64 \n",
            " 13  Sex                     1054 non-null   object\n",
            " 14  Ethnicity               1054 non-null   object\n",
            " 15  Jaundice                1054 non-null   object\n",
            " 16  Family_mem_with_ASD     1054 non-null   object\n",
            " 17  Who completed the test  1054 non-null   object\n",
            " 18  Class/ASD Traits        1054 non-null   object\n",
            "dtypes: int64(13), object(6)\n",
            "memory usage: 156.6+ KB\n"
          ]
        }
      ]
    },
    {
      "cell_type": "code",
      "source": [
        "asd_2018_df.rename(columns={'Class/ASD Traits ':'ASD_Traits'},inplace=True)"
      ],
      "metadata": {
        "id": "H5An5_OgVCqb"
      },
      "execution_count": 3,
      "outputs": []
    },
    {
      "cell_type": "code",
      "source": [
        "mixed_df = asd_2018_df.drop(['Case_No','Qchat-10-Score','Who completed the test'],axis=1)\n",
        "mixed_df.columns\n",
        "mixed_df.head()"
      ],
      "metadata": {
        "colab": {
          "base_uri": "https://localhost:8080/",
          "height": 206
        },
        "id": "gif1CDQsVGfT",
        "outputId": "3188099b-0c2b-4700-c282-fc6ccfa455fe"
      },
      "execution_count": 4,
      "outputs": [
        {
          "output_type": "execute_result",
          "data": {
            "text/plain": [
              "   A1  A2  A3  A4  A5  A6  A7  A8  A9  A10  Age_Mons Sex       Ethnicity  \\\n",
              "0   0   0   0   0   0   0   1   1   0    1        28   f  middle eastern   \n",
              "1   1   1   0   0   0   1   1   0   0    0        36   m  White European   \n",
              "2   1   0   0   0   0   0   1   1   0    1        36   m  middle eastern   \n",
              "3   1   1   1   1   1   1   1   1   1    1        24   m        Hispanic   \n",
              "4   1   1   0   1   1   1   1   1   1    1        20   f  White European   \n",
              "\n",
              "  Jaundice Family_mem_with_ASD ASD_Traits  \n",
              "0      yes                  no         No  \n",
              "1      yes                  no        Yes  \n",
              "2      yes                  no        Yes  \n",
              "3       no                  no        Yes  \n",
              "4       no                 yes        Yes  "
            ],
            "text/html": [
              "\n",
              "  <div id=\"df-fb01809d-18c2-494d-82d8-13d623c40c7a\">\n",
              "    <div class=\"colab-df-container\">\n",
              "      <div>\n",
              "<style scoped>\n",
              "    .dataframe tbody tr th:only-of-type {\n",
              "        vertical-align: middle;\n",
              "    }\n",
              "\n",
              "    .dataframe tbody tr th {\n",
              "        vertical-align: top;\n",
              "    }\n",
              "\n",
              "    .dataframe thead th {\n",
              "        text-align: right;\n",
              "    }\n",
              "</style>\n",
              "<table border=\"1\" class=\"dataframe\">\n",
              "  <thead>\n",
              "    <tr style=\"text-align: right;\">\n",
              "      <th></th>\n",
              "      <th>A1</th>\n",
              "      <th>A2</th>\n",
              "      <th>A3</th>\n",
              "      <th>A4</th>\n",
              "      <th>A5</th>\n",
              "      <th>A6</th>\n",
              "      <th>A7</th>\n",
              "      <th>A8</th>\n",
              "      <th>A9</th>\n",
              "      <th>A10</th>\n",
              "      <th>Age_Mons</th>\n",
              "      <th>Sex</th>\n",
              "      <th>Ethnicity</th>\n",
              "      <th>Jaundice</th>\n",
              "      <th>Family_mem_with_ASD</th>\n",
              "      <th>ASD_Traits</th>\n",
              "    </tr>\n",
              "  </thead>\n",
              "  <tbody>\n",
              "    <tr>\n",
              "      <th>0</th>\n",
              "      <td>0</td>\n",
              "      <td>0</td>\n",
              "      <td>0</td>\n",
              "      <td>0</td>\n",
              "      <td>0</td>\n",
              "      <td>0</td>\n",
              "      <td>1</td>\n",
              "      <td>1</td>\n",
              "      <td>0</td>\n",
              "      <td>1</td>\n",
              "      <td>28</td>\n",
              "      <td>f</td>\n",
              "      <td>middle eastern</td>\n",
              "      <td>yes</td>\n",
              "      <td>no</td>\n",
              "      <td>No</td>\n",
              "    </tr>\n",
              "    <tr>\n",
              "      <th>1</th>\n",
              "      <td>1</td>\n",
              "      <td>1</td>\n",
              "      <td>0</td>\n",
              "      <td>0</td>\n",
              "      <td>0</td>\n",
              "      <td>1</td>\n",
              "      <td>1</td>\n",
              "      <td>0</td>\n",
              "      <td>0</td>\n",
              "      <td>0</td>\n",
              "      <td>36</td>\n",
              "      <td>m</td>\n",
              "      <td>White European</td>\n",
              "      <td>yes</td>\n",
              "      <td>no</td>\n",
              "      <td>Yes</td>\n",
              "    </tr>\n",
              "    <tr>\n",
              "      <th>2</th>\n",
              "      <td>1</td>\n",
              "      <td>0</td>\n",
              "      <td>0</td>\n",
              "      <td>0</td>\n",
              "      <td>0</td>\n",
              "      <td>0</td>\n",
              "      <td>1</td>\n",
              "      <td>1</td>\n",
              "      <td>0</td>\n",
              "      <td>1</td>\n",
              "      <td>36</td>\n",
              "      <td>m</td>\n",
              "      <td>middle eastern</td>\n",
              "      <td>yes</td>\n",
              "      <td>no</td>\n",
              "      <td>Yes</td>\n",
              "    </tr>\n",
              "    <tr>\n",
              "      <th>3</th>\n",
              "      <td>1</td>\n",
              "      <td>1</td>\n",
              "      <td>1</td>\n",
              "      <td>1</td>\n",
              "      <td>1</td>\n",
              "      <td>1</td>\n",
              "      <td>1</td>\n",
              "      <td>1</td>\n",
              "      <td>1</td>\n",
              "      <td>1</td>\n",
              "      <td>24</td>\n",
              "      <td>m</td>\n",
              "      <td>Hispanic</td>\n",
              "      <td>no</td>\n",
              "      <td>no</td>\n",
              "      <td>Yes</td>\n",
              "    </tr>\n",
              "    <tr>\n",
              "      <th>4</th>\n",
              "      <td>1</td>\n",
              "      <td>1</td>\n",
              "      <td>0</td>\n",
              "      <td>1</td>\n",
              "      <td>1</td>\n",
              "      <td>1</td>\n",
              "      <td>1</td>\n",
              "      <td>1</td>\n",
              "      <td>1</td>\n",
              "      <td>1</td>\n",
              "      <td>20</td>\n",
              "      <td>f</td>\n",
              "      <td>White European</td>\n",
              "      <td>no</td>\n",
              "      <td>yes</td>\n",
              "      <td>Yes</td>\n",
              "    </tr>\n",
              "  </tbody>\n",
              "</table>\n",
              "</div>\n",
              "      <button class=\"colab-df-convert\" onclick=\"convertToInteractive('df-fb01809d-18c2-494d-82d8-13d623c40c7a')\"\n",
              "              title=\"Convert this dataframe to an interactive table.\"\n",
              "              style=\"display:none;\">\n",
              "        \n",
              "  <svg xmlns=\"http://www.w3.org/2000/svg\" height=\"24px\"viewBox=\"0 0 24 24\"\n",
              "       width=\"24px\">\n",
              "    <path d=\"M0 0h24v24H0V0z\" fill=\"none\"/>\n",
              "    <path d=\"M18.56 5.44l.94 2.06.94-2.06 2.06-.94-2.06-.94-.94-2.06-.94 2.06-2.06.94zm-11 1L8.5 8.5l.94-2.06 2.06-.94-2.06-.94L8.5 2.5l-.94 2.06-2.06.94zm10 10l.94 2.06.94-2.06 2.06-.94-2.06-.94-.94-2.06-.94 2.06-2.06.94z\"/><path d=\"M17.41 7.96l-1.37-1.37c-.4-.4-.92-.59-1.43-.59-.52 0-1.04.2-1.43.59L10.3 9.45l-7.72 7.72c-.78.78-.78 2.05 0 2.83L4 21.41c.39.39.9.59 1.41.59.51 0 1.02-.2 1.41-.59l7.78-7.78 2.81-2.81c.8-.78.8-2.07 0-2.86zM5.41 20L4 18.59l7.72-7.72 1.47 1.35L5.41 20z\"/>\n",
              "  </svg>\n",
              "      </button>\n",
              "      \n",
              "  <style>\n",
              "    .colab-df-container {\n",
              "      display:flex;\n",
              "      flex-wrap:wrap;\n",
              "      gap: 12px;\n",
              "    }\n",
              "\n",
              "    .colab-df-convert {\n",
              "      background-color: #E8F0FE;\n",
              "      border: none;\n",
              "      border-radius: 50%;\n",
              "      cursor: pointer;\n",
              "      display: none;\n",
              "      fill: #1967D2;\n",
              "      height: 32px;\n",
              "      padding: 0 0 0 0;\n",
              "      width: 32px;\n",
              "    }\n",
              "\n",
              "    .colab-df-convert:hover {\n",
              "      background-color: #E2EBFA;\n",
              "      box-shadow: 0px 1px 2px rgba(60, 64, 67, 0.3), 0px 1px 3px 1px rgba(60, 64, 67, 0.15);\n",
              "      fill: #174EA6;\n",
              "    }\n",
              "\n",
              "    [theme=dark] .colab-df-convert {\n",
              "      background-color: #3B4455;\n",
              "      fill: #D2E3FC;\n",
              "    }\n",
              "\n",
              "    [theme=dark] .colab-df-convert:hover {\n",
              "      background-color: #434B5C;\n",
              "      box-shadow: 0px 1px 3px 1px rgba(0, 0, 0, 0.15);\n",
              "      filter: drop-shadow(0px 1px 2px rgba(0, 0, 0, 0.3));\n",
              "      fill: #FFFFFF;\n",
              "    }\n",
              "  </style>\n",
              "\n",
              "      <script>\n",
              "        const buttonEl =\n",
              "          document.querySelector('#df-fb01809d-18c2-494d-82d8-13d623c40c7a button.colab-df-convert');\n",
              "        buttonEl.style.display =\n",
              "          google.colab.kernel.accessAllowed ? 'block' : 'none';\n",
              "\n",
              "        async function convertToInteractive(key) {\n",
              "          const element = document.querySelector('#df-fb01809d-18c2-494d-82d8-13d623c40c7a');\n",
              "          const dataTable =\n",
              "            await google.colab.kernel.invokeFunction('convertToInteractive',\n",
              "                                                     [key], {});\n",
              "          if (!dataTable) return;\n",
              "\n",
              "          const docLinkHtml = 'Like what you see? Visit the ' +\n",
              "            '<a target=\"_blank\" href=https://colab.research.google.com/notebooks/data_table.ipynb>data table notebook</a>'\n",
              "            + ' to learn more about interactive tables.';\n",
              "          element.innerHTML = '';\n",
              "          dataTable['output_type'] = 'display_data';\n",
              "          await google.colab.output.renderOutput(dataTable, element);\n",
              "          const docLink = document.createElement('div');\n",
              "          docLink.innerHTML = docLinkHtml;\n",
              "          element.appendChild(docLink);\n",
              "        }\n",
              "      </script>\n",
              "    </div>\n",
              "  </div>\n",
              "  "
            ]
          },
          "metadata": {},
          "execution_count": 4
        }
      ]
    },
    {
      "cell_type": "code",
      "source": [
        "features=list(mixed_df)"
      ],
      "metadata": {
        "id": "fkQ3xf2AVJWQ"
      },
      "execution_count": 5,
      "outputs": []
    },
    {
      "cell_type": "code",
      "source": [
        "from sklearn.preprocessing import OneHotEncoder\n",
        "from sklearn.preprocessing import MinMaxScaler\n",
        "\n",
        "encoder = OneHotEncoder()\n",
        "scaler = MinMaxScaler()\n",
        "\n",
        "age = ['Age_Mons']\n",
        "char_vals = ['ASD_Traits','Sex','Jaundice','Family_mem_with_ASD','Ethnicity']\n",
        "target = ['ASD_Traits']"
      ],
      "metadata": {
        "id": "C0bfQG9WXDmc"
      },
      "execution_count": 6,
      "outputs": []
    },
    {
      "cell_type": "code",
      "source": [
        "def preprocess(age, char_vals,dataframe):\n",
        "  dataframe[age] = scaler.fit_transform(dataframe[age].values.reshape(-1,1)) \n",
        "\n",
        "  for c in char_vals:\n",
        "      dataframe[c] = encoder.fit_transform(dataframe[c].values.reshape(-1,1)).toarray()\n",
        "  print(dataframe.dtypes)\n",
        "  print(dataframe.head())"
      ],
      "metadata": {
        "id": "3TlVa67fXaCA"
      },
      "execution_count": 7,
      "outputs": []
    },
    {
      "cell_type": "code",
      "source": [
        "def cross_validation_results(model, predictors, target, metrics,cv):\n",
        "  results = cross_validate(model, predictors, target, scoring = metrics, return_train_score=False, cv=10)\n",
        "\n",
        "  print(\"Mean Test R2: \", results['test_r2'].mean())\n",
        "  rmse = np.sqrt(-results['test_neg_mean_squared_error']).mean()\n",
        "  print(\"Mean Test MSE: \", -results['test_neg_mean_squared_error'].mean())\n",
        "  print(\"Test std: \",np.sqrt(-results['test_neg_mean_squared_error']).std() )\n",
        "  print(\"RMSE Test: \", rmse)\n",
        "  print(\"Accuracy: \", results['test_accuracy'].mean())"
      ],
      "metadata": {
        "id": "QVGQneqGY76O"
      },
      "execution_count": 8,
      "outputs": []
    },
    {
      "cell_type": "code",
      "source": [
        "from sklearn.metrics import r2_score, mean_squared_error\n",
        "\n",
        "def evaluate_on_test(model, predictors, target):\n",
        "  predictions = model.predict(predictors)\n",
        "  mse = mean_squared_error(target, predictions)\n",
        "  print(\"R2 score: \", r2_score(target, predictions))\n",
        "  print(\"Accuracy: \", accuracy_score(target, predictions))\n",
        "  print(\"MSE: \", mse)\n",
        "  print(\"RMSE: \", np.sqrt(mse))\n",
        "  ConfusionMatrixDisplay.from_estimator(model, predictors, target)"
      ],
      "metadata": {
        "id": "fczH8BE0gjdd"
      },
      "execution_count": 101,
      "outputs": []
    },
    {
      "cell_type": "code",
      "source": [
        "metrics =['r2','neg_mean_squared_error','accuracy']"
      ],
      "metadata": {
        "id": "lF6nxQIJZs4C"
      },
      "execution_count": 9,
      "outputs": []
    },
    {
      "cell_type": "code",
      "source": [
        "preprocess(age,char_vals,mixed_df)"
      ],
      "metadata": {
        "id": "TAdbFnCjXhGC",
        "colab": {
          "base_uri": "https://localhost:8080/"
        },
        "outputId": "b0c8b4e4-07a0-47f6-c59a-516f08f26780"
      },
      "execution_count": 10,
      "outputs": [
        {
          "output_type": "stream",
          "name": "stdout",
          "text": [
            "A1                       int64\n",
            "A2                       int64\n",
            "A3                       int64\n",
            "A4                       int64\n",
            "A5                       int64\n",
            "A6                       int64\n",
            "A7                       int64\n",
            "A8                       int64\n",
            "A9                       int64\n",
            "A10                      int64\n",
            "Age_Mons               float64\n",
            "Sex                    float64\n",
            "Ethnicity              float64\n",
            "Jaundice               float64\n",
            "Family_mem_with_ASD    float64\n",
            "ASD_Traits             float64\n",
            "dtype: object\n",
            "   A1  A2  A3  A4  A5  A6  A7  A8  A9  A10  Age_Mons  Sex  Ethnicity  \\\n",
            "0   0   0   0   0   0   0   1   1   0    1  0.666667  1.0        0.0   \n",
            "1   1   1   0   0   0   1   1   0   0    0  1.000000  0.0        0.0   \n",
            "2   1   0   0   0   0   0   1   1   0    1  1.000000  0.0        0.0   \n",
            "3   1   1   1   1   1   1   1   1   1    1  0.500000  0.0        1.0   \n",
            "4   1   1   0   1   1   1   1   1   1    1  0.333333  1.0        0.0   \n",
            "\n",
            "   Jaundice  Family_mem_with_ASD  ASD_Traits  \n",
            "0       0.0                  1.0         1.0  \n",
            "1       0.0                  1.0         0.0  \n",
            "2       0.0                  1.0         0.0  \n",
            "3       1.0                  1.0         0.0  \n",
            "4       1.0                  0.0         0.0  \n"
          ]
        }
      ]
    },
    {
      "cell_type": "code",
      "source": [
        "from sklearn.model_selection import train_test_split\n",
        "\n",
        "X_mixed = mixed_df.drop(\"ASD_Traits\", axis=1)\n",
        "y_mixed = mixed_df[\"ASD_Traits\"]\n",
        "sex = mixed_df[\"Sex\"]\n",
        "\n",
        "\n",
        "X_mixed_train, X_mixed_test , y_mixed_train, y_mixed_test = train_test_split(X_mixed, y_mixed, test_size=0.3, random_state=42, stratify=sex)"
      ],
      "metadata": {
        "id": "Qj2Tg31NPRzv"
      },
      "execution_count": 97,
      "outputs": []
    },
    {
      "cell_type": "code",
      "source": [
        "from numpy import mean, std\n",
        "from sklearn.model_selection import cross_val_score, RepeatedStratifiedKFold, cross_validate\n",
        "from sklearn.ensemble import AdaBoostClassifier\n",
        "\n",
        "ada = AdaBoostClassifier()\n",
        "\n",
        "ada_mixed = ada.fit(X_mixed_train, y_mixed_train)\n",
        "\n",
        "cv = RepeatedStratifiedKFold(n_splits=10, n_repeats=3, random_state=42)\n",
        "scores = cross_val_score(ada_mixed, X_mixed_train, y_mixed_train, scoring='accuracy',cv=cv, n_jobs=-1)\n",
        "\n",
        "print('AdaBoostClassifier Mixed Dataset accuracy:  %.3f (%.3f)' % (mean(scores),std(scores)))"
      ],
      "metadata": {
        "colab": {
          "base_uri": "https://localhost:8080/"
        },
        "id": "KQgyAzZSYKw-",
        "outputId": "329b6921-0d0b-48ed-96d2-2b4747dc4775"
      },
      "execution_count": 98,
      "outputs": [
        {
          "output_type": "stream",
          "name": "stdout",
          "text": [
            "AdaBoostClassifier Mixed Dataset accuracy:  1.000 (0.000)\n"
          ]
        }
      ]
    },
    {
      "cell_type": "code",
      "source": [
        "importance_mixed = ada_mixed.feature_importances_\n",
        "\n",
        "mixed_importances = sorted(zip(importance_mixed, features), reverse=True)\n",
        "mixed_importances"
      ],
      "metadata": {
        "colab": {
          "base_uri": "https://localhost:8080/"
        },
        "id": "jcvHD7HLRuFP",
        "outputId": "3319d2d7-c281-4dfa-c574-5571a78a6c37"
      },
      "execution_count": 123,
      "outputs": [
        {
          "output_type": "execute_result",
          "data": {
            "text/plain": [
              "[(0.12, 'A4'),\n",
              " (0.1, 'A8'),\n",
              " (0.1, 'A7'),\n",
              " (0.1, 'A6'),\n",
              " (0.1, 'A5'),\n",
              " (0.1, 'A2'),\n",
              " (0.1, 'A10'),\n",
              " (0.1, 'A1'),\n",
              " (0.08, 'A9'),\n",
              " (0.08, 'A3'),\n",
              " (0.02, 'Jaundice'),\n",
              " (0.0, 'Sex'),\n",
              " (0.0, 'Family_mem_with_ASD'),\n",
              " (0.0, 'Ethnicity'),\n",
              " (0.0, 'Age_Mons')]"
            ]
          },
          "metadata": {},
          "execution_count": 123
        }
      ]
    },
    {
      "cell_type": "code",
      "source": [
        "cross_validation_results(ada_mixed, X_mixed_train, y_mixed_train, metrics, cv=10)"
      ],
      "metadata": {
        "colab": {
          "base_uri": "https://localhost:8080/"
        },
        "id": "mw_ZpoFgPYrA",
        "outputId": "0a70aaa9-573f-44e2-c88d-89c8d11821ee"
      },
      "execution_count": 100,
      "outputs": [
        {
          "output_type": "stream",
          "name": "stdout",
          "text": [
            "Mean Test R2:  1.0\n",
            "Mean Test MSE:  -0.0\n",
            "Test std:  0.0\n",
            "RMSE Test:  0.0\n",
            "Accuracy:  1.0\n"
          ]
        }
      ]
    },
    {
      "cell_type": "code",
      "source": [
        "from sklearn.metrics import accuracy_score, ConfusionMatrixDisplay, PrecisionRecallDisplay\n",
        "\n",
        "evaluate_on_test(ada_mixed, X_mixed_test, y_mixed_test)"
      ],
      "metadata": {
        "colab": {
          "base_uri": "https://localhost:8080/",
          "height": 348
        },
        "id": "xldlNeQSxoM8",
        "outputId": "fb518f99-8a40-4e3e-9166-8d137677939e"
      },
      "execution_count": 102,
      "outputs": [
        {
          "output_type": "stream",
          "name": "stdout",
          "text": [
            "R2 score:  1.0\n",
            "Accuracy:  1.0\n",
            "MSE:  0.0\n",
            "RMSE:  0.0\n"
          ]
        },
        {
          "output_type": "display_data",
          "data": {
            "text/plain": [
              "<Figure size 432x288 with 2 Axes>"
            ],
            "image/png": "[encoded data removed]"
          },
          "metadata": {
            "needs_background": "light"
          }
        }
      ]
    },
    {
      "cell_type": "markdown",
      "source": [
        "**Train, test, validation split**"
      ],
      "metadata": {
        "id": "NIfUAXB2WTeU"
      }
    },
    {
      "cell_type": "code",
      "source": [
        "new_mixed_df = asd_2018_df.drop(['Case_No','Qchat-10-Score','Who completed the test'],axis=1)\n",
        "new_mixed_df.columns\n",
        "new_mixed_df.head()"
      ],
      "metadata": {
        "id": "HsBJARjmWI2Q"
      },
      "execution_count": null,
      "outputs": []
    },
    {
      "cell_type": "code",
      "source": [
        "preprocess(age, char_vals, new_mixed_df)"
      ],
      "metadata": {
        "id": "gf0Kr9ppWkZL"
      },
      "execution_count": null,
      "outputs": []
    },
    {
      "cell_type": "code",
      "source": [
        "X_new = new_mixed_df.drop(['ASD_Traits'], axis=1)\n",
        "y_new = new_mixed_df['ASD_Traits']\n",
        "\n",
        "X_new_train, X_new_test, y_new_train, y_new_test = train_test_split(X_new, y_new, test_size=0.30, random_state=42, stratify=y_new)"
      ],
      "metadata": {
        "id": "wXVmEaRyW8ir"
      },
      "execution_count": 18,
      "outputs": []
    },
    {
      "cell_type": "code",
      "source": [
        "X_new_validate, X_new_test, y_new_validate, y_new_test = train_test_split(X_new_test, y_new_test, test_size=0.50, random_state=42, stratify=y_new_test)"
      ],
      "metadata": {
        "id": "O0s6MWyVXuOj"
      },
      "execution_count": 19,
      "outputs": []
    },
    {
      "cell_type": "code",
      "source": [
        "new_ada = AdaBoostClassifier()\n",
        "\n",
        "new_ada.fit(X_new_train, y_new_train)"
      ],
      "metadata": {
        "colab": {
          "base_uri": "https://localhost:8080/",
          "height": 75
        },
        "id": "XQWisxPwYbDe",
        "outputId": "0b2ebb9b-f864-4cf5-f000-f52bac064367"
      },
      "execution_count": 20,
      "outputs": [
        {
          "output_type": "execute_result",
          "data": {
            "text/plain": [
              "AdaBoostClassifier()"
            ],
            "text/html": [
              "<style>#sk-container-id-1 {color: black;background-color: white;}#sk-container-id-1 pre{padding: 0;}#sk-container-id-1 div.sk-toggleable {background-color: white;}#sk-container-id-1 label.sk-toggleable__label {cursor: pointer;display: block;width: 100%;margin-bottom: 0;padding: 0.3em;box-sizing: border-box;text-align: center;}#sk-container-id-1 label.sk-toggleable__label-arrow:before {content: \"▸\";float: left;margin-right: 0.25em;color: #696969;}#sk-container-id-1 label.sk-toggleable__label-arrow:hover:before {color: black;}#sk-container-id-1 div.sk-estimator:hover label.sk-toggleable__label-arrow:before {color: black;}#sk-container-id-1 div.sk-toggleable__content {max-height: 0;max-width: 0;overflow: hidden;text-align: left;background-color: #f0f8ff;}#sk-container-id-1 div.sk-toggleable__content pre {margin: 0.2em;color: black;border-radius: 0.25em;background-color: #f0f8ff;}#sk-container-id-1 input.sk-toggleable__control:checked~div.sk-toggleable__content {max-height: 200px;max-width: 100%;overflow: auto;}#sk-container-id-1 input.sk-toggleable__control:checked~label.sk-toggleable__label-arrow:before {content: \"▾\";}#sk-container-id-1 div.sk-estimator input.sk-toggleable__control:checked~label.sk-toggleable__label {background-color: #d4ebff;}#sk-container-id-1 div.sk-label input.sk-toggleable__control:checked~label.sk-toggleable__label {background-color: #d4ebff;}#sk-container-id-1 input.sk-hidden--visually {border: 0;clip: rect(1px 1px 1px 1px);clip: rect(1px, 1px, 1px, 1px);height: 1px;margin: -1px;overflow: hidden;padding: 0;position: absolute;width: 1px;}#sk-container-id-1 div.sk-estimator {font-family: monospace;background-color: #f0f8ff;border: 1px dotted black;border-radius: 0.25em;box-sizing: border-box;margin-bottom: 0.5em;}#sk-container-id-1 div.sk-estimator:hover {background-color: #d4ebff;}#sk-container-id-1 div.sk-parallel-item::after {content: \"\";width: 100%;border-bottom: 1px solid gray;flex-grow: 1;}#sk-container-id-1 div.sk-label:hover label.sk-toggleable__label {background-color: #d4ebff;}#sk-container-id-1 div.sk-serial::before {content: \"\";position: absolute;border-left: 1px solid gray;box-sizing: border-box;top: 0;bottom: 0;left: 50%;z-index: 0;}#sk-container-id-1 div.sk-serial {display: flex;flex-direction: column;align-items: center;background-color: white;padding-right: 0.2em;padding-left: 0.2em;position: relative;}#sk-container-id-1 div.sk-item {position: relative;z-index: 1;}#sk-container-id-1 div.sk-parallel {display: flex;align-items: stretch;justify-content: center;background-color: white;position: relative;}#sk-container-id-1 div.sk-item::before, #sk-container-id-1 div.sk-parallel-item::before {content: \"\";position: absolute;border-left: 1px solid gray;box-sizing: border-box;top: 0;bottom: 0;left: 50%;z-index: -1;}#sk-container-id-1 div.sk-parallel-item {display: flex;flex-direction: column;z-index: 1;position: relative;background-color: white;}#sk-container-id-1 div.sk-parallel-item:first-child::after {align-self: flex-end;width: 50%;}#sk-container-id-1 div.sk-parallel-item:last-child::after {align-self: flex-start;width: 50%;}#sk-container-id-1 div.sk-parallel-item:only-child::after {width: 0;}#sk-container-id-1 div.sk-dashed-wrapped {border: 1px dashed gray;margin: 0 0.4em 0.5em 0.4em;box-sizing: border-box;padding-bottom: 0.4em;background-color: white;}#sk-container-id-1 div.sk-label label {font-family: monospace;font-weight: bold;display: inline-block;line-height: 1.2em;}#sk-container-id-1 div.sk-label-container {text-align: center;}#sk-container-id-1 div.sk-container {/* jupyter's `normalize.less` sets `[hidden] { display: none; }` but bootstrap.min.css set `[hidden] { display: none !important; }` so we also need the `!important` here to be able to override the default hidden behavior on the sphinx rendered scikit-learn.org. See: https://github.com/scikit-learn/scikit-learn/issues/21755 */display: inline-block !important;position: relative;}#sk-container-id-1 div.sk-text-repr-fallback {display: none;}</style><div id=\"sk-container-id-1\" class=\"sk-top-container\"><div class=\"sk-text-repr-fallback\"><pre>AdaBoostClassifier()</pre><b>In a Jupyter environment, please rerun this cell to show the HTML representation or trust the notebook. <br />On GitHub, the HTML representation is unable to render, please try loading this page with nbviewer.org.</b></div><div class=\"sk-container\" hidden><div class=\"sk-item\"><div class=\"sk-estimator sk-toggleable\"><input class=\"sk-toggleable__control sk-hidden--visually\" id=\"sk-estimator-id-1\" type=\"checkbox\" checked><label for=\"sk-estimator-id-1\" class=\"sk-toggleable__label sk-toggleable__label-arrow\">AdaBoostClassifier</label><div class=\"sk-toggleable__content\"><pre>AdaBoostClassifier()</pre></div></div></div></div></div>"
            ]
          },
          "metadata": {},
          "execution_count": 20
        }
      ]
    },
    {
      "cell_type": "code",
      "source": [
        "new_val_pred = new_ada.predict(X_new_validate)\n",
        "print('Accuracy:', accuracy_score(y_new_validate, new_val_pred))"
      ],
      "metadata": {
        "colab": {
          "base_uri": "https://localhost:8080/"
        },
        "id": "C_UWvlnwbBFs",
        "outputId": "dc46d3b7-9cb9-434d-b121-4eb2db9f4eff"
      },
      "execution_count": 22,
      "outputs": [
        {
          "output_type": "stream",
          "name": "stdout",
          "text": [
            "Accuracy: 1.0\n"
          ]
        }
      ]
    },
    {
      "cell_type": "code",
      "source": [
        "new_ada.score(X_new_validate, y_new_validate)"
      ],
      "metadata": {
        "colab": {
          "base_uri": "https://localhost:8080/"
        },
        "id": "gJ_LphsIcNyG",
        "outputId": "61e7c348-0ee9-483e-ccdd-4a0ae89482ec"
      },
      "execution_count": 58,
      "outputs": [
        {
          "output_type": "execute_result",
          "data": {
            "text/plain": [
              "1.0"
            ]
          },
          "metadata": {},
          "execution_count": 58
        }
      ]
    },
    {
      "cell_type": "code",
      "source": [
        "cross_validation_results(new_ada, X_new_train, y_new_train, metrics, cv=10)"
      ],
      "metadata": {
        "colab": {
          "base_uri": "https://localhost:8080/"
        },
        "id": "hk5PUmqKgPkN",
        "outputId": "d75566c4-e8d0-4ba2-d23d-73f62efc5706"
      },
      "execution_count": 60,
      "outputs": [
        {
          "output_type": "stream",
          "name": "stdout",
          "text": [
            "Mean Test R2:  1.0\n",
            "Mean Test MSE:  -0.0\n",
            "Test std:  0.0\n",
            "RMSE Test:  0.0\n",
            "Accuracy:  1.0\n"
          ]
        }
      ]
    },
    {
      "cell_type": "code",
      "source": [
        "evaluate_on_test(new_ada, X_new_test, y_new_test)"
      ],
      "metadata": {
        "colab": {
          "base_uri": "https://localhost:8080/",
          "height": 348
        },
        "id": "z-WO0Y_EiAr_",
        "outputId": "afcdbdc5-4b66-45fc-96f8-3849dfa0f0aa"
      },
      "execution_count": 64,
      "outputs": [
        {
          "output_type": "stream",
          "name": "stdout",
          "text": [
            "R2 score:  1.0\n",
            "Accuracy:  1.0\n",
            "MSE:  0.0\n",
            "RMSE:  0.0\n"
          ]
        },
        {
          "output_type": "display_data",
          "data": {
            "text/plain": [
              "<Figure size 432x288 with 2 Axes>"
            ],
            "image/png": "[encoded data removed]"
          },
          "metadata": {
            "needs_background": "light"
          }
        }
      ]
    },
    {
      "cell_type": "markdown",
      "source": [
        "**1:1 male to female ratio**"
      ],
      "metadata": {
        "id": "21y9ye8N0xpV"
      }
    },
    {
      "cell_type": "code",
      "source": [
        "f_only = asd_2018_df[asd_2018_df['Sex']=='f']\n",
        "f_only.info()\n",
        "f_only['ASD_Traits'].value_counts()"
      ],
      "metadata": {
        "colab": {
          "base_uri": "https://localhost:8080/"
        },
        "id": "8OvUSabYypaT",
        "outputId": "820cfa3a-498b-4405-9150-b77c95193599"
      },
      "execution_count": 24,
      "outputs": [
        {
          "output_type": "stream",
          "name": "stdout",
          "text": [
            "<class 'pandas.core.frame.DataFrame'>\n",
            "Int64Index: 319 entries, 0 to 1049\n",
            "Data columns (total 19 columns):\n",
            " #   Column                  Non-Null Count  Dtype \n",
            "---  ------                  --------------  ----- \n",
            " 0   Case_No                 319 non-null    int64 \n",
            " 1   A1                      319 non-null    int64 \n",
            " 2   A2                      319 non-null    int64 \n",
            " 3   A3                      319 non-null    int64 \n",
            " 4   A4                      319 non-null    int64 \n",
            " 5   A5                      319 non-null    int64 \n",
            " 6   A6                      319 non-null    int64 \n",
            " 7   A7                      319 non-null    int64 \n",
            " 8   A8                      319 non-null    int64 \n",
            " 9   A9                      319 non-null    int64 \n",
            " 10  A10                     319 non-null    int64 \n",
            " 11  Age_Mons                319 non-null    int64 \n",
            " 12  Qchat-10-Score          319 non-null    int64 \n",
            " 13  Sex                     319 non-null    object\n",
            " 14  Ethnicity               319 non-null    object\n",
            " 15  Jaundice                319 non-null    object\n",
            " 16  Family_mem_with_ASD     319 non-null    object\n",
            " 17  Who completed the test  319 non-null    object\n",
            " 18  ASD_Traits              319 non-null    object\n",
            "dtypes: int64(13), object(6)\n",
            "memory usage: 49.8+ KB\n"
          ]
        },
        {
          "output_type": "execute_result",
          "data": {
            "text/plain": [
              "Yes    194\n",
              "No     125\n",
              "Name: ASD_Traits, dtype: int64"
            ]
          },
          "metadata": {},
          "execution_count": 24
        }
      ]
    },
    {
      "cell_type": "code",
      "source": [
        "y_male = asd_2018_df[(asd_2018_df['Sex']=='m') & (asd_2018_df['ASD_Traits']=='Yes')].head(194)\n",
        "y_male.info()\n",
        "y_male['ASD_Traits'].value_counts()"
      ],
      "metadata": {
        "colab": {
          "base_uri": "https://localhost:8080/"
        },
        "id": "sP7dDe5L07Bn",
        "outputId": "c69984f7-8845-4a2b-d6bf-45537e9a3703"
      },
      "execution_count": 25,
      "outputs": [
        {
          "output_type": "stream",
          "name": "stdout",
          "text": [
            "<class 'pandas.core.frame.DataFrame'>\n",
            "Int64Index: 194 entries, 1 to 405\n",
            "Data columns (total 19 columns):\n",
            " #   Column                  Non-Null Count  Dtype \n",
            "---  ------                  --------------  ----- \n",
            " 0   Case_No                 194 non-null    int64 \n",
            " 1   A1                      194 non-null    int64 \n",
            " 2   A2                      194 non-null    int64 \n",
            " 3   A3                      194 non-null    int64 \n",
            " 4   A4                      194 non-null    int64 \n",
            " 5   A5                      194 non-null    int64 \n",
            " 6   A6                      194 non-null    int64 \n",
            " 7   A7                      194 non-null    int64 \n",
            " 8   A8                      194 non-null    int64 \n",
            " 9   A9                      194 non-null    int64 \n",
            " 10  A10                     194 non-null    int64 \n",
            " 11  Age_Mons                194 non-null    int64 \n",
            " 12  Qchat-10-Score          194 non-null    int64 \n",
            " 13  Sex                     194 non-null    object\n",
            " 14  Ethnicity               194 non-null    object\n",
            " 15  Jaundice                194 non-null    object\n",
            " 16  Family_mem_with_ASD     194 non-null    object\n",
            " 17  Who completed the test  194 non-null    object\n",
            " 18  ASD_Traits              194 non-null    object\n",
            "dtypes: int64(13), object(6)\n",
            "memory usage: 30.3+ KB\n"
          ]
        },
        {
          "output_type": "execute_result",
          "data": {
            "text/plain": [
              "Yes    194\n",
              "Name: ASD_Traits, dtype: int64"
            ]
          },
          "metadata": {},
          "execution_count": 25
        }
      ]
    },
    {
      "cell_type": "code",
      "source": [
        "n_male = asd_2018_df[(asd_2018_df['Sex']=='m') & (asd_2018_df['ASD_Traits']=='No')].head(125)\n",
        "n_male.info()\n",
        "n_male['ASD_Traits'].value_counts()"
      ],
      "metadata": {
        "colab": {
          "base_uri": "https://localhost:8080/"
        },
        "id": "cv5Yzb-a1Bl-",
        "outputId": "71c99b4e-112b-4d0c-f749-9e17f5e6acbc"
      },
      "execution_count": 26,
      "outputs": [
        {
          "output_type": "stream",
          "name": "stdout",
          "text": [
            "<class 'pandas.core.frame.DataFrame'>\n",
            "Int64Index: 125 entries, 8 to 704\n",
            "Data columns (total 19 columns):\n",
            " #   Column                  Non-Null Count  Dtype \n",
            "---  ------                  --------------  ----- \n",
            " 0   Case_No                 125 non-null    int64 \n",
            " 1   A1                      125 non-null    int64 \n",
            " 2   A2                      125 non-null    int64 \n",
            " 3   A3                      125 non-null    int64 \n",
            " 4   A4                      125 non-null    int64 \n",
            " 5   A5                      125 non-null    int64 \n",
            " 6   A6                      125 non-null    int64 \n",
            " 7   A7                      125 non-null    int64 \n",
            " 8   A8                      125 non-null    int64 \n",
            " 9   A9                      125 non-null    int64 \n",
            " 10  A10                     125 non-null    int64 \n",
            " 11  Age_Mons                125 non-null    int64 \n",
            " 12  Qchat-10-Score          125 non-null    int64 \n",
            " 13  Sex                     125 non-null    object\n",
            " 14  Ethnicity               125 non-null    object\n",
            " 15  Jaundice                125 non-null    object\n",
            " 16  Family_mem_with_ASD     125 non-null    object\n",
            " 17  Who completed the test  125 non-null    object\n",
            " 18  ASD_Traits              125 non-null    object\n",
            "dtypes: int64(13), object(6)\n",
            "memory usage: 19.5+ KB\n"
          ]
        },
        {
          "output_type": "execute_result",
          "data": {
            "text/plain": [
              "No    125\n",
              "Name: ASD_Traits, dtype: int64"
            ]
          },
          "metadata": {},
          "execution_count": 26
        }
      ]
    },
    {
      "cell_type": "code",
      "source": [
        "equal_male = pd.concat([y_male,n_male], axis=0)\n",
        "equal_male.info()"
      ],
      "metadata": {
        "colab": {
          "base_uri": "https://localhost:8080/"
        },
        "id": "uOybJqLe1HNc",
        "outputId": "9affda94-4420-42ec-fe62-b9ea74df800c"
      },
      "execution_count": 27,
      "outputs": [
        {
          "output_type": "stream",
          "name": "stdout",
          "text": [
            "<class 'pandas.core.frame.DataFrame'>\n",
            "Int64Index: 319 entries, 1 to 704\n",
            "Data columns (total 19 columns):\n",
            " #   Column                  Non-Null Count  Dtype \n",
            "---  ------                  --------------  ----- \n",
            " 0   Case_No                 319 non-null    int64 \n",
            " 1   A1                      319 non-null    int64 \n",
            " 2   A2                      319 non-null    int64 \n",
            " 3   A3                      319 non-null    int64 \n",
            " 4   A4                      319 non-null    int64 \n",
            " 5   A5                      319 non-null    int64 \n",
            " 6   A6                      319 non-null    int64 \n",
            " 7   A7                      319 non-null    int64 \n",
            " 8   A8                      319 non-null    int64 \n",
            " 9   A9                      319 non-null    int64 \n",
            " 10  A10                     319 non-null    int64 \n",
            " 11  Age_Mons                319 non-null    int64 \n",
            " 12  Qchat-10-Score          319 non-null    int64 \n",
            " 13  Sex                     319 non-null    object\n",
            " 14  Ethnicity               319 non-null    object\n",
            " 15  Jaundice                319 non-null    object\n",
            " 16  Family_mem_with_ASD     319 non-null    object\n",
            " 17  Who completed the test  319 non-null    object\n",
            " 18  ASD_Traits              319 non-null    object\n",
            "dtypes: int64(13), object(6)\n",
            "memory usage: 49.8+ KB\n"
          ]
        }
      ]
    },
    {
      "cell_type": "code",
      "source": [
        "equal_ratio = pd.concat([f_only, equal_male], axis=0)\n",
        "equal_ratio.info()"
      ],
      "metadata": {
        "colab": {
          "base_uri": "https://localhost:8080/"
        },
        "id": "SmJ8OW631O70",
        "outputId": "56927333-cf62-4e4f-8b06-b47c2cc02ea7"
      },
      "execution_count": 28,
      "outputs": [
        {
          "output_type": "stream",
          "name": "stdout",
          "text": [
            "<class 'pandas.core.frame.DataFrame'>\n",
            "Int64Index: 638 entries, 0 to 704\n",
            "Data columns (total 19 columns):\n",
            " #   Column                  Non-Null Count  Dtype \n",
            "---  ------                  --------------  ----- \n",
            " 0   Case_No                 638 non-null    int64 \n",
            " 1   A1                      638 non-null    int64 \n",
            " 2   A2                      638 non-null    int64 \n",
            " 3   A3                      638 non-null    int64 \n",
            " 4   A4                      638 non-null    int64 \n",
            " 5   A5                      638 non-null    int64 \n",
            " 6   A6                      638 non-null    int64 \n",
            " 7   A7                      638 non-null    int64 \n",
            " 8   A8                      638 non-null    int64 \n",
            " 9   A9                      638 non-null    int64 \n",
            " 10  A10                     638 non-null    int64 \n",
            " 11  Age_Mons                638 non-null    int64 \n",
            " 12  Qchat-10-Score          638 non-null    int64 \n",
            " 13  Sex                     638 non-null    object\n",
            " 14  Ethnicity               638 non-null    object\n",
            " 15  Jaundice                638 non-null    object\n",
            " 16  Family_mem_with_ASD     638 non-null    object\n",
            " 17  Who completed the test  638 non-null    object\n",
            " 18  ASD_Traits              638 non-null    object\n",
            "dtypes: int64(13), object(6)\n",
            "memory usage: 99.7+ KB\n"
          ]
        }
      ]
    },
    {
      "cell_type": "code",
      "source": [
        "equal_ratio = equal_ratio.drop(['Case_No','Qchat-10-Score','Who completed the test'], axis=1)"
      ],
      "metadata": {
        "id": "0KU8XulF1S3S"
      },
      "execution_count": 29,
      "outputs": []
    },
    {
      "cell_type": "code",
      "source": [
        "preprocess(age, char_vals,equal_ratio)"
      ],
      "metadata": {
        "colab": {
          "base_uri": "https://localhost:8080/"
        },
        "id": "Yqtm7j2P1XT4",
        "outputId": "a03c4429-2f3c-4c31-a973-95291fc11651"
      },
      "execution_count": 30,
      "outputs": [
        {
          "output_type": "stream",
          "name": "stdout",
          "text": [
            "A1                       int64\n",
            "A2                       int64\n",
            "A3                       int64\n",
            "A4                       int64\n",
            "A5                       int64\n",
            "A6                       int64\n",
            "A7                       int64\n",
            "A8                       int64\n",
            "A9                       int64\n",
            "A10                      int64\n",
            "Age_Mons               float64\n",
            "Sex                    float64\n",
            "Ethnicity              float64\n",
            "Jaundice               float64\n",
            "Family_mem_with_ASD    float64\n",
            "ASD_Traits             float64\n",
            "dtype: object\n",
            "    A1  A2  A3  A4  A5  A6  A7  A8  A9  A10  Age_Mons  Sex  Ethnicity  \\\n",
            "0    0   0   0   0   0   0   1   1   0    1  0.666667  1.0        0.0   \n",
            "4    1   1   0   1   1   1   1   1   1    1  0.333333  1.0        0.0   \n",
            "12   0   0   0   0   0   0   0   0   0    0  0.541667  1.0        0.0   \n",
            "13   1   1   1   1   0   0   1   0   1    1  0.125000  1.0        0.0   \n",
            "17   1   1   1   0   1   1   1   1   0    1  0.000000  1.0        0.0   \n",
            "\n",
            "    Jaundice  Family_mem_with_ASD  ASD_Traits  \n",
            "0        0.0                  1.0         1.0  \n",
            "4        1.0                  0.0         0.0  \n",
            "12       0.0                  1.0         1.0  \n",
            "13       0.0                  1.0         0.0  \n",
            "17       0.0                  1.0         0.0  \n"
          ]
        }
      ]
    },
    {
      "cell_type": "code",
      "source": [
        "X_equal = equal_ratio.drop(\"ASD_Traits\", axis=1)\n",
        "y_equal = equal_ratio[\"ASD_Traits\"]\n",
        "\n",
        "X_equal_train, X_equal_test, y_equal_train, y_equal_test = train_test_split(X_equal,y_equal, test_size=0.3, random_state=42, stratify = y_equal)"
      ],
      "metadata": {
        "id": "gSFBOUoJ1dUc"
      },
      "execution_count": 90,
      "outputs": []
    },
    {
      "cell_type": "code",
      "source": [
        "ada_equal = AdaBoostClassifier()\n",
        "ada_equal = ada_equal.fit(X_equal_train, y_equal_train)\n",
        "\n",
        "scores_equal = cross_val_score(ada_equal, X_equal_train, y_equal_train, scoring='accuracy',cv=cv, n_jobs=-1,error_score='raise')\n",
        "\n",
        "print('AdaBoostClassifier Equal Dataset accuracy:  %.3f (%.3f)' % (mean(scores_equal),std(scores_equal)))"
      ],
      "metadata": {
        "colab": {
          "base_uri": "https://localhost:8080/"
        },
        "id": "QyykAeM410Yq",
        "outputId": "350826f3-a38c-4826-95b0-b8a8742b076a"
      },
      "execution_count": 91,
      "outputs": [
        {
          "output_type": "stream",
          "name": "stdout",
          "text": [
            "AdaBoostClassifier Equal Dataset accuracy:  0.999 (0.008)\n"
          ]
        }
      ]
    },
    {
      "cell_type": "code",
      "source": [
        "cross_validation_results(ada_equal,X_equal_train, y_equal_train, metrics, cv=10)"
      ],
      "metadata": {
        "colab": {
          "base_uri": "https://localhost:8080/"
        },
        "id": "gcHgA3TpOqUP",
        "outputId": "4fbdb2e1-c62e-40a6-e029-92459f64b660"
      },
      "execution_count": 92,
      "outputs": [
        {
          "output_type": "stream",
          "name": "stdout",
          "text": [
            "Mean Test R2:  1.0\n",
            "Mean Test MSE:  -0.0\n",
            "Test std:  0.0\n",
            "RMSE Test:  0.0\n",
            "Accuracy:  1.0\n"
          ]
        }
      ]
    },
    {
      "cell_type": "code",
      "source": [
        "ConfusionMatrixDisplay.from_estimator(ada_equal, X_equal_train, y_equal_train)"
      ],
      "metadata": {
        "colab": {
          "base_uri": "https://localhost:8080/",
          "height": 296
        },
        "id": "LpB1t72KNbsz",
        "outputId": "d78b1faf-fe13-4bb0-c02a-914111eb540a"
      },
      "execution_count": 93,
      "outputs": [
        {
          "output_type": "execute_result",
          "data": {
            "text/plain": [
              "<sklearn.metrics._plot.confusion_matrix.ConfusionMatrixDisplay at 0x7ff27e6e3850>"
            ]
          },
          "metadata": {},
          "execution_count": 93
        },
        {
          "output_type": "display_data",
          "data": {
            "text/plain": [
              "<Figure size 432x288 with 2 Axes>"
            ],
            "image/png": "[encoded data removed]"
          },
          "metadata": {
            "needs_background": "light"
          }
        }
      ]
    },
    {
      "cell_type": "code",
      "source": [
        "y_equal_pred = ada_equal.predict(X_equal_test)\n",
        "print(\"Accuracy: \", accuracy_score(y_equal_test, y_equal_pred))"
      ],
      "metadata": {
        "colab": {
          "base_uri": "https://localhost:8080/"
        },
        "id": "gKYWT1MOKOnX",
        "outputId": "c5f4a52b-64e2-4c6d-d5f5-a316e42b7c76"
      },
      "execution_count": 94,
      "outputs": [
        {
          "output_type": "stream",
          "name": "stdout",
          "text": [
            "Accuracy:  1.0\n"
          ]
        }
      ]
    },
    {
      "cell_type": "code",
      "source": [
        "evaluate_on_test(ada_equal, X_equal_test, y_equal_test)"
      ],
      "metadata": {
        "colab": {
          "base_uri": "https://localhost:8080/",
          "height": 348
        },
        "id": "yuWxuw_4lzLm",
        "outputId": "c891ae23-ad22-4891-abe0-cdfeb3773d58"
      },
      "execution_count": 95,
      "outputs": [
        {
          "output_type": "stream",
          "name": "stdout",
          "text": [
            "R2 score:  1.0\n",
            "Accuracy:  1.0\n",
            "MSE:  0.0\n",
            "RMSE:  0.0\n"
          ]
        },
        {
          "output_type": "display_data",
          "data": {
            "text/plain": [
              "<Figure size 432x288 with 2 Axes>"
            ],
            "image/png": "[encoded data removed]"
          },
          "metadata": {
            "needs_background": "light"
          }
        }
      ]
    },
    {
      "cell_type": "code",
      "source": [
        "importance_equal = ada_equal.feature_importances_\n",
        "\n",
        "equal_importances = sorted(zip(importance_equal, features), reverse=True)\n",
        "equal_importances"
      ],
      "metadata": {
        "colab": {
          "base_uri": "https://localhost:8080/"
        },
        "id": "KcywtaPOEjeX",
        "outputId": "d40848e2-b8d2-4cb5-f70e-8eb8337b0c6b"
      },
      "execution_count": 124,
      "outputs": [
        {
          "output_type": "execute_result",
          "data": {
            "text/plain": [
              "[(0.12, 'A1'),\n",
              " (0.1, 'A8'),\n",
              " (0.1, 'A7'),\n",
              " (0.1, 'A6'),\n",
              " (0.1, 'A4'),\n",
              " (0.1, 'A2'),\n",
              " (0.1, 'A10'),\n",
              " (0.08, 'A5'),\n",
              " (0.08, 'A3'),\n",
              " (0.06, 'A9'),\n",
              " (0.02, 'Jaundice'),\n",
              " (0.02, 'Family_mem_with_ASD'),\n",
              " (0.02, 'Age_Mons'),\n",
              " (0.0, 'Sex'),\n",
              " (0.0, 'Ethnicity')]"
            ]
          },
          "metadata": {},
          "execution_count": 124
        }
      ]
    },
    {
      "cell_type": "markdown",
      "source": [
        "**Female Only**"
      ],
      "metadata": {
        "id": "aL-yZUwZ5lMb"
      }
    },
    {
      "cell_type": "code",
      "source": [
        "f_only.head()"
      ],
      "metadata": {
        "colab": {
          "base_uri": "https://localhost:8080/",
          "height": 206
        },
        "id": "6jtcdgiQCpAl",
        "outputId": "6d2a0a72-8b18-404b-c873-cdc7d842352c"
      },
      "execution_count": 107,
      "outputs": [
        {
          "output_type": "execute_result",
          "data": {
            "text/plain": [
              "    A1  A2  A3  A4  A5  A6  A7  A8  A9  A10  Age_Mons  Sex  Ethnicity  \\\n",
              "0    0   0   0   0   0   0   1   1   0    1  0.666667  1.0        1.0   \n",
              "4    1   1   0   1   1   1   1   1   1    1  0.333333  1.0        1.0   \n",
              "12   0   0   0   0   0   0   0   0   0    0  0.541667  1.0        1.0   \n",
              "13   1   1   1   1   0   0   1   0   1    1  0.125000  1.0        1.0   \n",
              "17   1   1   1   0   1   1   1   1   0    1  0.000000  1.0        1.0   \n",
              "\n",
              "    Jaundice  Family_mem_with_ASD  ASD_Traits  \n",
              "0        1.0                  0.0         0.0  \n",
              "4        0.0                  1.0         1.0  \n",
              "12       1.0                  0.0         0.0  \n",
              "13       1.0                  0.0         1.0  \n",
              "17       1.0                  0.0         1.0  "
            ],
            "text/html": [
              "\n",
              "  <div id=\"df-524941d6-d66f-47fb-83e9-949e830ad8bd\">\n",
              "    <div class=\"colab-df-container\">\n",
              "      <div>\n",
              "<style scoped>\n",
              "    .dataframe tbody tr th:only-of-type {\n",
              "        vertical-align: middle;\n",
              "    }\n",
              "\n",
              "    .dataframe tbody tr th {\n",
              "        vertical-align: top;\n",
              "    }\n",
              "\n",
              "    .dataframe thead th {\n",
              "        text-align: right;\n",
              "    }\n",
              "</style>\n",
              "<table border=\"1\" class=\"dataframe\">\n",
              "  <thead>\n",
              "    <tr style=\"text-align: right;\">\n",
              "      <th></th>\n",
              "      <th>A1</th>\n",
              "      <th>A2</th>\n",
              "      <th>A3</th>\n",
              "      <th>A4</th>\n",
              "      <th>A5</th>\n",
              "      <th>A6</th>\n",
              "      <th>A7</th>\n",
              "      <th>A8</th>\n",
              "      <th>A9</th>\n",
              "      <th>A10</th>\n",
              "      <th>Age_Mons</th>\n",
              "      <th>Sex</th>\n",
              "      <th>Ethnicity</th>\n",
              "      <th>Jaundice</th>\n",
              "      <th>Family_mem_with_ASD</th>\n",
              "      <th>ASD_Traits</th>\n",
              "    </tr>\n",
              "  </thead>\n",
              "  <tbody>\n",
              "    <tr>\n",
              "      <th>0</th>\n",
              "      <td>0</td>\n",
              "      <td>0</td>\n",
              "      <td>0</td>\n",
              "      <td>0</td>\n",
              "      <td>0</td>\n",
              "      <td>0</td>\n",
              "      <td>1</td>\n",
              "      <td>1</td>\n",
              "      <td>0</td>\n",
              "      <td>1</td>\n",
              "      <td>0.666667</td>\n",
              "      <td>1.0</td>\n",
              "      <td>1.0</td>\n",
              "      <td>1.0</td>\n",
              "      <td>0.0</td>\n",
              "      <td>0.0</td>\n",
              "    </tr>\n",
              "    <tr>\n",
              "      <th>4</th>\n",
              "      <td>1</td>\n",
              "      <td>1</td>\n",
              "      <td>0</td>\n",
              "      <td>1</td>\n",
              "      <td>1</td>\n",
              "      <td>1</td>\n",
              "      <td>1</td>\n",
              "      <td>1</td>\n",
              "      <td>1</td>\n",
              "      <td>1</td>\n",
              "      <td>0.333333</td>\n",
              "      <td>1.0</td>\n",
              "      <td>1.0</td>\n",
              "      <td>0.0</td>\n",
              "      <td>1.0</td>\n",
              "      <td>1.0</td>\n",
              "    </tr>\n",
              "    <tr>\n",
              "      <th>12</th>\n",
              "      <td>0</td>\n",
              "      <td>0</td>\n",
              "      <td>0</td>\n",
              "      <td>0</td>\n",
              "      <td>0</td>\n",
              "      <td>0</td>\n",
              "      <td>0</td>\n",
              "      <td>0</td>\n",
              "      <td>0</td>\n",
              "      <td>0</td>\n",
              "      <td>0.541667</td>\n",
              "      <td>1.0</td>\n",
              "      <td>1.0</td>\n",
              "      <td>1.0</td>\n",
              "      <td>0.0</td>\n",
              "      <td>0.0</td>\n",
              "    </tr>\n",
              "    <tr>\n",
              "      <th>13</th>\n",
              "      <td>1</td>\n",
              "      <td>1</td>\n",
              "      <td>1</td>\n",
              "      <td>1</td>\n",
              "      <td>0</td>\n",
              "      <td>0</td>\n",
              "      <td>1</td>\n",
              "      <td>0</td>\n",
              "      <td>1</td>\n",
              "      <td>1</td>\n",
              "      <td>0.125000</td>\n",
              "      <td>1.0</td>\n",
              "      <td>1.0</td>\n",
              "      <td>1.0</td>\n",
              "      <td>0.0</td>\n",
              "      <td>1.0</td>\n",
              "    </tr>\n",
              "    <tr>\n",
              "      <th>17</th>\n",
              "      <td>1</td>\n",
              "      <td>1</td>\n",
              "      <td>1</td>\n",
              "      <td>0</td>\n",
              "      <td>1</td>\n",
              "      <td>1</td>\n",
              "      <td>1</td>\n",
              "      <td>1</td>\n",
              "      <td>0</td>\n",
              "      <td>1</td>\n",
              "      <td>0.000000</td>\n",
              "      <td>1.0</td>\n",
              "      <td>1.0</td>\n",
              "      <td>1.0</td>\n",
              "      <td>0.0</td>\n",
              "      <td>1.0</td>\n",
              "    </tr>\n",
              "  </tbody>\n",
              "</table>\n",
              "</div>\n",
              "      <button class=\"colab-df-convert\" onclick=\"convertToInteractive('df-524941d6-d66f-47fb-83e9-949e830ad8bd')\"\n",
              "              title=\"Convert this dataframe to an interactive table.\"\n",
              "              style=\"display:none;\">\n",
              "        \n",
              "  <svg xmlns=\"http://www.w3.org/2000/svg\" height=\"24px\"viewBox=\"0 0 24 24\"\n",
              "       width=\"24px\">\n",
              "    <path d=\"M0 0h24v24H0V0z\" fill=\"none\"/>\n",
              "    <path d=\"M18.56 5.44l.94 2.06.94-2.06 2.06-.94-2.06-.94-.94-2.06-.94 2.06-2.06.94zm-11 1L8.5 8.5l.94-2.06 2.06-.94-2.06-.94L8.5 2.5l-.94 2.06-2.06.94zm10 10l.94 2.06.94-2.06 2.06-.94-2.06-.94-.94-2.06-.94 2.06-2.06.94z\"/><path d=\"M17.41 7.96l-1.37-1.37c-.4-.4-.92-.59-1.43-.59-.52 0-1.04.2-1.43.59L10.3 9.45l-7.72 7.72c-.78.78-.78 2.05 0 2.83L4 21.41c.39.39.9.59 1.41.59.51 0 1.02-.2 1.41-.59l7.78-7.78 2.81-2.81c.8-.78.8-2.07 0-2.86zM5.41 20L4 18.59l7.72-7.72 1.47 1.35L5.41 20z\"/>\n",
              "  </svg>\n",
              "      </button>\n",
              "      \n",
              "  <style>\n",
              "    .colab-df-container {\n",
              "      display:flex;\n",
              "      flex-wrap:wrap;\n",
              "      gap: 12px;\n",
              "    }\n",
              "\n",
              "    .colab-df-convert {\n",
              "      background-color: #E8F0FE;\n",
              "      border: none;\n",
              "      border-radius: 50%;\n",
              "      cursor: pointer;\n",
              "      display: none;\n",
              "      fill: #1967D2;\n",
              "      height: 32px;\n",
              "      padding: 0 0 0 0;\n",
              "      width: 32px;\n",
              "    }\n",
              "\n",
              "    .colab-df-convert:hover {\n",
              "      background-color: #E2EBFA;\n",
              "      box-shadow: 0px 1px 2px rgba(60, 64, 67, 0.3), 0px 1px 3px 1px rgba(60, 64, 67, 0.15);\n",
              "      fill: #174EA6;\n",
              "    }\n",
              "\n",
              "    [theme=dark] .colab-df-convert {\n",
              "      background-color: #3B4455;\n",
              "      fill: #D2E3FC;\n",
              "    }\n",
              "\n",
              "    [theme=dark] .colab-df-convert:hover {\n",
              "      background-color: #434B5C;\n",
              "      box-shadow: 0px 1px 3px 1px rgba(0, 0, 0, 0.15);\n",
              "      filter: drop-shadow(0px 1px 2px rgba(0, 0, 0, 0.3));\n",
              "      fill: #FFFFFF;\n",
              "    }\n",
              "  </style>\n",
              "\n",
              "      <script>\n",
              "        const buttonEl =\n",
              "          document.querySelector('#df-524941d6-d66f-47fb-83e9-949e830ad8bd button.colab-df-convert');\n",
              "        buttonEl.style.display =\n",
              "          google.colab.kernel.accessAllowed ? 'block' : 'none';\n",
              "\n",
              "        async function convertToInteractive(key) {\n",
              "          const element = document.querySelector('#df-524941d6-d66f-47fb-83e9-949e830ad8bd');\n",
              "          const dataTable =\n",
              "            await google.colab.kernel.invokeFunction('convertToInteractive',\n",
              "                                                     [key], {});\n",
              "          if (!dataTable) return;\n",
              "\n",
              "          const docLinkHtml = 'Like what you see? Visit the ' +\n",
              "            '<a target=\"_blank\" href=https://colab.research.google.com/notebooks/data_table.ipynb>data table notebook</a>'\n",
              "            + ' to learn more about interactive tables.';\n",
              "          element.innerHTML = '';\n",
              "          dataTable['output_type'] = 'display_data';\n",
              "          await google.colab.output.renderOutput(dataTable, element);\n",
              "          const docLink = document.createElement('div');\n",
              "          docLink.innerHTML = docLinkHtml;\n",
              "          element.appendChild(docLink);\n",
              "        }\n",
              "      </script>\n",
              "    </div>\n",
              "  </div>\n",
              "  "
            ]
          },
          "metadata": {},
          "execution_count": 107
        }
      ]
    },
    {
      "cell_type": "code",
      "source": [
        "f_only['ASD_Traits'].value_counts()"
      ],
      "metadata": {
        "id": "tqjBPYahBja9"
      },
      "execution_count": null,
      "outputs": []
    },
    {
      "cell_type": "code",
      "source": [
        "# f_only = f_only.drop([\"Case_No\",\"Qchat-10-Score\",\"Who completed the test\"], axis=1)"
      ],
      "metadata": {
        "id": "SQkhIjRwPxbQ"
      },
      "execution_count": null,
      "outputs": []
    },
    {
      "cell_type": "code",
      "source": [
        "preprocess(age, char_vals,f_only)"
      ],
      "metadata": {
        "id": "HoRRQZa_DUWX"
      },
      "execution_count": null,
      "outputs": []
    },
    {
      "cell_type": "code",
      "source": [
        "X_f = f_only.drop(\"ASD_Traits\", axis=1)\n",
        "y_f = f_only[\"ASD_Traits\"]\n",
        "\n",
        "X_f_train, X_f_test, y_f_train, y_f_test = train_test_split(X_f,y_f, test_size=0.3, random_state=42, stratify=y_f)"
      ],
      "metadata": {
        "id": "bwgDwaoV5pRl"
      },
      "execution_count": 82,
      "outputs": []
    },
    {
      "cell_type": "code",
      "source": [
        "ada_f = AdaBoostClassifier()\n",
        "ada_f_model = ada_f.fit(X_f_train, y_f_train)\n",
        "# scores_f = cross_val_score(ada_f_model, X_f_train, y_f_train, scoring='accuracy',cv=cv, n_jobs=-1,error_score='raise')\n",
        "# print('AdaBoostClassifier Female Dataset accuracy:  %.3f (%.3f)' % (mean(scores_f),std(scores_f)))"
      ],
      "metadata": {
        "id": "Rmb_y00I7NCF"
      },
      "execution_count": 83,
      "outputs": []
    },
    {
      "cell_type": "code",
      "source": [
        "cross_validation_results(ada_f_model, X_f_train, y_f_train, metrics, cv=10)"
      ],
      "metadata": {
        "colab": {
          "base_uri": "https://localhost:8080/"
        },
        "id": "xT3N8qGTQpIx",
        "outputId": "be1790c8-7355-427e-9ad9-56d506c40e80"
      },
      "execution_count": 84,
      "outputs": [
        {
          "output_type": "stream",
          "name": "stdout",
          "text": [
            "Mean Test R2:  0.9446886446886447\n",
            "Mean Test MSE:  0.01324110671936759\n",
            "Test std:  0.09627675696730742\n",
            "RMSE Test:  0.063022954446976\n",
            "Accuracy:  0.9867588932806324\n"
          ]
        }
      ]
    },
    {
      "cell_type": "code",
      "source": [
        "from sklearn.model_selection import cross_val_predict\n",
        "\n",
        "y_f_pred = cross_val_predict(ada_f_model, X_f_train, y_f_train, cv=10)\n",
        "\n",
        "ConfusionMatrixDisplay.from_predictions(y_f_train, y_f_pred)\n"
      ],
      "metadata": {
        "colab": {
          "base_uri": "https://localhost:8080/",
          "height": 296
        },
        "id": "DV74MG8Qb2et",
        "outputId": "96c203bf-a688-4ec6-84e1-00128a24d11b"
      },
      "execution_count": 85,
      "outputs": [
        {
          "output_type": "execute_result",
          "data": {
            "text/plain": [
              "<sklearn.metrics._plot.confusion_matrix.ConfusionMatrixDisplay at 0x7ff27e89dd30>"
            ]
          },
          "metadata": {},
          "execution_count": 85
        },
        {
          "output_type": "display_data",
          "data": {
            "text/plain": [
              "<Figure size 432x288 with 2 Axes>"
            ],
            "image/png": "[encoded data removed]"
          },
          "metadata": {
            "needs_background": "light"
          }
        }
      ]
    },
    {
      "cell_type": "code",
      "source": [
        "for row_index, (input, prediction, label) in enumerate(zip(X_f_train.values, y_f_pred, y_f_train)):\n",
        "    if prediction != label:\n",
        "        print('Row', row_index, 'has been classified as', prediction, 'and should be', label)"
      ],
      "metadata": {
        "colab": {
          "base_uri": "https://localhost:8080/"
        },
        "id": "eYjjfnTTdxU5",
        "outputId": "456d5e09-472e-47ff-8b36-6ce6146159c6"
      },
      "execution_count": 86,
      "outputs": [
        {
          "output_type": "stream",
          "name": "stdout",
          "text": [
            "Row 22 has been classified as 0.0 and should be 1.0\n",
            "Row 24 has been classified as 1.0 and should be 0.0\n",
            "Row 220 has been classified as 1.0 and should be 0.0\n"
          ]
        }
      ]
    },
    {
      "cell_type": "code",
      "source": [
        "# https://datascience.stackexchange.com/questions/37899/sklearn-svm-how-to-get-a-list-of-the-wrong-predictions\n",
        "for row_index, (input, prediction, label) in enumerate(zip(X_f_test.values, y_new_f_pred, y_f_test)):\n",
        "    if prediction != label:\n",
        "        print('Row', row_index, 'has been classified as', prediction, 'and should be', label, \"\\nInput:\",input )"
      ],
      "metadata": {
        "colab": {
          "base_uri": "https://localhost:8080/"
        },
        "id": "SZ136Z4ycHAr",
        "outputId": "7daa9fdb-172e-4d6f-b1ab-92ec83bdc038"
      },
      "execution_count": 111,
      "outputs": [
        {
          "output_type": "stream",
          "name": "stdout",
          "text": [
            "Row 32 has been classified as 1.0 and should be 0.0 \n",
            "Input: [1.         0.         0.         1.         0.         1.\n",
            " 0.         0.         0.         0.         0.70833333 1.\n",
            " 1.         0.         0.        ]\n",
            "Row 40 has been classified as 1.0 and should be 0.0 \n",
            "Input: [0.         0.         0.         1.         0.         0.\n",
            " 1.         0.         0.         1.         0.91666667 1.\n",
            " 1.         0.         1.        ]\n"
          ]
        }
      ]
    },
    {
      "cell_type": "markdown",
      "source": [
        "3 False positives, 5 False negatives - When not stratified training and test data splits\n",
        "\\\n",
        "2 False positives - When stratified on target"
      ],
      "metadata": {
        "id": "3kjxtVlORH9v"
      }
    },
    {
      "cell_type": "code",
      "source": [
        "evaluate_on_test(ada_f_model, X_f_test,y_f_pred)"
      ],
      "metadata": {
        "colab": {
          "base_uri": "https://localhost:8080/",
          "height": 348
        },
        "id": "X_Oqqqn5I8vj",
        "outputId": "236b5280-3afd-4567-b7c2-8dce6eb028e2"
      },
      "execution_count": 117,
      "outputs": [
        {
          "output_type": "stream",
          "name": "stdout",
          "text": [
            "R2 score:  0.9128856624319419\n",
            "Accuracy:  0.9791666666666666\n",
            "MSE:  0.020833333333333332\n",
            "RMSE:  0.14433756729740643\n"
          ]
        },
        {
          "output_type": "display_data",
          "data": {
            "text/plain": [
              "<Figure size 432x288 with 2 Axes>"
            ],
            "image/png": "[encoded data removed]"
          },
          "metadata": {
            "needs_background": "light"
          }
        }
      ]
    },
    {
      "cell_type": "code",
      "source": [
        "y_new_f_pred = ada_f_model.predict(X_f_test)"
      ],
      "metadata": {
        "id": "nqSFF4mNJcxi"
      },
      "execution_count": 121,
      "outputs": []
    },
    {
      "cell_type": "code",
      "source": [
        "for row_index, (input, prediction, label) in enumerate(zip(X_f_test.values, y_new_f_pred, y_f_test)):\n",
        "    if prediction != label:\n",
        "        print('Row', row_index, 'has been classified as', prediction, 'and should be', label, \"\\nInput:\",input)"
      ],
      "metadata": {
        "colab": {
          "base_uri": "https://localhost:8080/"
        },
        "id": "iR1SX84lJM5O",
        "outputId": "76081126-162d-421b-84e7-14e0d5a8d690"
      },
      "execution_count": 122,
      "outputs": [
        {
          "output_type": "stream",
          "name": "stdout",
          "text": [
            "Row 32 has been classified as 1.0 and should be 0.0 \n",
            "Input: [1.         0.         0.         1.         0.         1.\n",
            " 0.         0.         0.         0.         0.70833333 1.\n",
            " 1.         0.         0.        ]\n",
            "Row 40 has been classified as 1.0 and should be 0.0 \n",
            "Input: [0.         0.         0.         1.         0.         0.\n",
            " 1.         0.         0.         1.         0.91666667 1.\n",
            " 1.         0.         1.        ]\n"
          ]
        }
      ]
    },
    {
      "cell_type": "code",
      "source": [
        "importance_fem = ada_f_model.feature_importances_\n",
        "female_importances = sorted(zip(importance_fem, features), reverse=True)\n",
        "female_importances"
      ],
      "metadata": {
        "colab": {
          "base_uri": "https://localhost:8080/"
        },
        "id": "Q7wj78p2FVDZ",
        "outputId": "a5d7b190-939b-4907-8512-ef2bc8867105"
      },
      "execution_count": 113,
      "outputs": [
        {
          "output_type": "execute_result",
          "data": {
            "text/plain": [
              "[(0.12, 'A4'),\n",
              " (0.12, 'A1'),\n",
              " (0.1, 'A8'),\n",
              " (0.1, 'A6'),\n",
              " (0.1, 'A5'),\n",
              " (0.1, 'A10'),\n",
              " (0.08, 'Age_Mons'),\n",
              " (0.08, 'A9'),\n",
              " (0.06, 'A7'),\n",
              " (0.06, 'A2'),\n",
              " (0.04, 'A3'),\n",
              " (0.02, 'Jaundice'),\n",
              " (0.02, 'Family_mem_with_ASD'),\n",
              " (0.0, 'Sex'),\n",
              " (0.0, 'Ethnicity')]"
            ]
          },
          "metadata": {},
          "execution_count": 113
        }
      ]
    },
    {
      "cell_type": "code",
      "source": [
        "PrecisionRecallDisplay.from_estimator(ada_f_model, X_f_test, y_f_test)"
      ],
      "metadata": {
        "colab": {
          "base_uri": "https://localhost:8080/",
          "height": 296
        },
        "id": "vF1WwKHBS4VC",
        "outputId": "9d18eddd-fdb3-41ef-a846-b9787cc4b613"
      },
      "execution_count": 109,
      "outputs": [
        {
          "output_type": "execute_result",
          "data": {
            "text/plain": [
              "<sklearn.metrics._plot.precision_recall_curve.PrecisionRecallDisplay at 0x7ff27e674b20>"
            ]
          },
          "metadata": {},
          "execution_count": 109
        },
        {
          "output_type": "display_data",
          "data": {
            "text/plain": [
              "<Figure size 432x288 with 1 Axes>"
            ],
            "image/png": "[encoded data removed]"
          },
          "metadata": {
            "needs_background": "light"
          }
        }
      ]
    }
  ]
}