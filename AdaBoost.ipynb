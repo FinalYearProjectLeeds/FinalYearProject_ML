{
  "nbformat": 4,
  "nbformat_minor": 0,
  "metadata": {
    "colab": {
      "provenance": [],
      "authorship_tag": "ABX9TyOcgoZ/JOGa+cvPjylJGoMj",
      "include_colab_link": true
    },
    "kernelspec": {
      "name": "python3",
      "display_name": "Python 3"
    },
    "language_info": {
      "name": "python"
    }
  },
  "cells": [
    {
      "cell_type": "markdown",
      "metadata": {
        "id": "view-in-github",
        "colab_type": "text"
      },
      "source": [
        "<a href=\"https://colab.research.google.com/github/sckgn/FinalYearProject_ML/blob/main/AdaBoost.ipynb\" target=\"_parent\"><img src=\"https://colab.research.google.com/assets/colab-badge.svg\" alt=\"Open In Colab\"/></a>"
      ]
    },
    {
      "cell_type": "markdown",
      "source": [
        "AdaBoost is an ensemble algorithm that combines multiple weak learners (algorithms that are generally simple) sequentially. The focus is on improving previously made errors."
      ],
      "metadata": {
        "id": "5HnuNbm1T1oa"
      }
    },
    {
      "cell_type": "code",
      "execution_count": 87,
      "metadata": {
        "colab": {
          "base_uri": "https://localhost:8080/",
          "height": 73
        },
        "id": "HKdX6uiQTi8b",
        "outputId": "5f50c15a-43ed-404b-96b9-94c20ad72651"
      },
      "outputs": [
        {
          "output_type": "display_data",
          "data": {
            "text/plain": [
              "<IPython.core.display.HTML object>"
            ],
            "text/html": [
              "\n",
              "     <input type=\"file\" id=\"files-a09144f3-ac1e-496f-b667-05702c34c14d\" name=\"files[]\" multiple disabled\n",
              "        style=\"border:none\" />\n",
              "     <output id=\"result-a09144f3-ac1e-496f-b667-05702c34c14d\">\n",
              "      Upload widget is only available when the cell has been executed in the\n",
              "      current browser session. Please rerun this cell to enable.\n",
              "      </output>\n",
              "      <script>// Copyright 2017 Google LLC\n",
              "//\n",
              "// Licensed under the Apache License, Version 2.0 (the \"License\");\n",
              "// you may not use this file except in compliance with the License.\n",
              "// You may obtain a copy of the License at\n",
              "//\n",
              "//      http://www.apache.org/licenses/LICENSE-2.0\n",
              "//\n",
              "// Unless required by applicable law or agreed to in writing, software\n",
              "// distributed under the License is distributed on an \"AS IS\" BASIS,\n",
              "// WITHOUT WARRANTIES OR CONDITIONS OF ANY KIND, either express or implied.\n",
              "// See the License for the specific language governing permissions and\n",
              "// limitations under the License.\n",
              "\n",
              "/**\n",
              " * @fileoverview Helpers for google.colab Python module.\n",
              " */\n",
              "(function(scope) {\n",
              "function span(text, styleAttributes = {}) {\n",
              "  const element = document.createElement('span');\n",
              "  element.textContent = text;\n",
              "  for (const key of Object.keys(styleAttributes)) {\n",
              "    element.style[key] = styleAttributes[key];\n",
              "  }\n",
              "  return element;\n",
              "}\n",
              "\n",
              "// Max number of bytes which will be uploaded at a time.\n",
              "const MAX_PAYLOAD_SIZE = 100 * 1024;\n",
              "\n",
              "function _uploadFiles(inputId, outputId) {\n",
              "  const steps = uploadFilesStep(inputId, outputId);\n",
              "  const outputElement = document.getElementById(outputId);\n",
              "  // Cache steps on the outputElement to make it available for the next call\n",
              "  // to uploadFilesContinue from Python.\n",
              "  outputElement.steps = steps;\n",
              "\n",
              "  return _uploadFilesContinue(outputId);\n",
              "}\n",
              "\n",
              "// This is roughly an async generator (not supported in the browser yet),\n",
              "// where there are multiple asynchronous steps and the Python side is going\n",
              "// to poll for completion of each step.\n",
              "// This uses a Promise to block the python side on completion of each step,\n",
              "// then passes the result of the previous step as the input to the next step.\n",
              "function _uploadFilesContinue(outputId) {\n",
              "  const outputElement = document.getElementById(outputId);\n",
              "  const steps = outputElement.steps;\n",
              "\n",
              "  const next = steps.next(outputElement.lastPromiseValue);\n",
              "  return Promise.resolve(next.value.promise).then((value) => {\n",
              "    // Cache the last promise value to make it available to the next\n",
              "    // step of the generator.\n",
              "    outputElement.lastPromiseValue = value;\n",
              "    return next.value.response;\n",
              "  });\n",
              "}\n",
              "\n",
              "/**\n",
              " * Generator function which is called between each async step of the upload\n",
              " * process.\n",
              " * @param {string} inputId Element ID of the input file picker element.\n",
              " * @param {string} outputId Element ID of the output display.\n",
              " * @return {!Iterable<!Object>} Iterable of next steps.\n",
              " */\n",
              "function* uploadFilesStep(inputId, outputId) {\n",
              "  const inputElement = document.getElementById(inputId);\n",
              "  inputElement.disabled = false;\n",
              "\n",
              "  const outputElement = document.getElementById(outputId);\n",
              "  outputElement.innerHTML = '';\n",
              "\n",
              "  const pickedPromise = new Promise((resolve) => {\n",
              "    inputElement.addEventListener('change', (e) => {\n",
              "      resolve(e.target.files);\n",
              "    });\n",
              "  });\n",
              "\n",
              "  const cancel = document.createElement('button');\n",
              "  inputElement.parentElement.appendChild(cancel);\n",
              "  cancel.textContent = 'Cancel upload';\n",
              "  const cancelPromise = new Promise((resolve) => {\n",
              "    cancel.onclick = () => {\n",
              "      resolve(null);\n",
              "    };\n",
              "  });\n",
              "\n",
              "  // Wait for the user to pick the files.\n",
              "  const files = yield {\n",
              "    promise: Promise.race([pickedPromise, cancelPromise]),\n",
              "    response: {\n",
              "      action: 'starting',\n",
              "    }\n",
              "  };\n",
              "\n",
              "  cancel.remove();\n",
              "\n",
              "  // Disable the input element since further picks are not allowed.\n",
              "  inputElement.disabled = true;\n",
              "\n",
              "  if (!files) {\n",
              "    return {\n",
              "      response: {\n",
              "        action: 'complete',\n",
              "      }\n",
              "    };\n",
              "  }\n",
              "\n",
              "  for (const file of files) {\n",
              "    const li = document.createElement('li');\n",
              "    li.append(span(file.name, {fontWeight: 'bold'}));\n",
              "    li.append(span(\n",
              "        `(${file.type || 'n/a'}) - ${file.size} bytes, ` +\n",
              "        `last modified: ${\n",
              "            file.lastModifiedDate ? file.lastModifiedDate.toLocaleDateString() :\n",
              "                                    'n/a'} - `));\n",
              "    const percent = span('0% done');\n",
              "    li.appendChild(percent);\n",
              "\n",
              "    outputElement.appendChild(li);\n",
              "\n",
              "    const fileDataPromise = new Promise((resolve) => {\n",
              "      const reader = new FileReader();\n",
              "      reader.onload = (e) => {\n",
              "        resolve(e.target.result);\n",
              "      };\n",
              "      reader.readAsArrayBuffer(file);\n",
              "    });\n",
              "    // Wait for the data to be ready.\n",
              "    let fileData = yield {\n",
              "      promise: fileDataPromise,\n",
              "      response: {\n",
              "        action: 'continue',\n",
              "      }\n",
              "    };\n",
              "\n",
              "    // Use a chunked sending to avoid message size limits. See b/62115660.\n",
              "    let position = 0;\n",
              "    do {\n",
              "      const length = Math.min(fileData.byteLength - position, MAX_PAYLOAD_SIZE);\n",
              "      const chunk = new Uint8Array(fileData, position, length);\n",
              "      position += length;\n",
              "\n",
              "      const base64 = btoa(String.fromCharCode.apply(null, chunk));\n",
              "      yield {\n",
              "        response: {\n",
              "          action: 'append',\n",
              "          file: file.name,\n",
              "          data: base64,\n",
              "        },\n",
              "      };\n",
              "\n",
              "      let percentDone = fileData.byteLength === 0 ?\n",
              "          100 :\n",
              "          Math.round((position / fileData.byteLength) * 100);\n",
              "      percent.textContent = `${percentDone}% done`;\n",
              "\n",
              "    } while (position < fileData.byteLength);\n",
              "  }\n",
              "\n",
              "  // All done.\n",
              "  yield {\n",
              "    response: {\n",
              "      action: 'complete',\n",
              "    }\n",
              "  };\n",
              "}\n",
              "\n",
              "scope.google = scope.google || {};\n",
              "scope.google.colab = scope.google.colab || {};\n",
              "scope.google.colab._files = {\n",
              "  _uploadFiles,\n",
              "  _uploadFilesContinue,\n",
              "};\n",
              "})(self);\n",
              "</script> "
            ]
          },
          "metadata": {}
        },
        {
          "output_type": "stream",
          "name": "stdout",
          "text": [
            "Saving dataset_2018.csv to dataset_2018 (1).csv\n"
          ]
        }
      ],
      "source": [
        "from google.colab import files\n",
        "uploaded = files.upload()"
      ]
    },
    {
      "cell_type": "code",
      "source": [
        "import os \n",
        "import pandas as pd\n",
        "import sklearn\n",
        "%matplotlib inline \n",
        "import matplotlib.pyplot as plt\n",
        "import numpy as np\n",
        "import seaborn as sns\n",
        "\n",
        "#Read in ASDTest dataset\n",
        "asd_2018_df = pd.read_csv(\"dataset_2018.csv\")\n",
        "\n",
        "asd_2018_df.info()"
      ],
      "metadata": {
        "id": "5iC0uvsTU70x",
        "colab": {
          "base_uri": "https://localhost:8080/"
        },
        "outputId": "a51a8f58-dea2-4f3c-9e2d-367d77aec36a"
      },
      "execution_count": 153,
      "outputs": [
        {
          "output_type": "stream",
          "name": "stdout",
          "text": [
            "<class 'pandas.core.frame.DataFrame'>\n",
            "RangeIndex: 1054 entries, 0 to 1053\n",
            "Data columns (total 19 columns):\n",
            " #   Column                  Non-Null Count  Dtype \n",
            "---  ------                  --------------  ----- \n",
            " 0   Case_No                 1054 non-null   int64 \n",
            " 1   A1                      1054 non-null   int64 \n",
            " 2   A2                      1054 non-null   int64 \n",
            " 3   A3                      1054 non-null   int64 \n",
            " 4   A4                      1054 non-null   int64 \n",
            " 5   A5                      1054 non-null   int64 \n",
            " 6   A6                      1054 non-null   int64 \n",
            " 7   A7                      1054 non-null   int64 \n",
            " 8   A8                      1054 non-null   int64 \n",
            " 9   A9                      1054 non-null   int64 \n",
            " 10  A10                     1054 non-null   int64 \n",
            " 11  Age_Mons                1054 non-null   int64 \n",
            " 12  Qchat-10-Score          1054 non-null   int64 \n",
            " 13  Sex                     1054 non-null   object\n",
            " 14  Ethnicity               1054 non-null   object\n",
            " 15  Jaundice                1054 non-null   object\n",
            " 16  Family_mem_with_ASD     1054 non-null   object\n",
            " 17  Who completed the test  1054 non-null   object\n",
            " 18  Class/ASD Traits        1054 non-null   object\n",
            "dtypes: int64(13), object(6)\n",
            "memory usage: 156.6+ KB\n"
          ]
        }
      ]
    },
    {
      "cell_type": "code",
      "source": [
        "asd_2018_df.rename(columns={'Class/ASD Traits ':'ASD_Traits'},inplace=True)"
      ],
      "metadata": {
        "id": "H5An5_OgVCqb"
      },
      "execution_count": 154,
      "outputs": []
    },
    {
      "cell_type": "code",
      "source": [
        "mixed_df = asd_2018_df.drop(['Case_No','Qchat-10-Score','Who completed the test'],axis=1)\n",
        "mixed_df.columns\n",
        "mixed_df.head()"
      ],
      "metadata": {
        "colab": {
          "base_uri": "https://localhost:8080/",
          "height": 206
        },
        "id": "gif1CDQsVGfT",
        "outputId": "1c3b3e00-41ab-4b58-a289-2a481426c446"
      },
      "execution_count": 155,
      "outputs": [
        {
          "output_type": "execute_result",
          "data": {
            "text/plain": [
              "   A1  A2  A3  A4  A5  A6  A7  A8  A9  A10  Age_Mons Sex       Ethnicity  \\\n",
              "0   0   0   0   0   0   0   1   1   0    1        28   f  middle eastern   \n",
              "1   1   1   0   0   0   1   1   0   0    0        36   m  White European   \n",
              "2   1   0   0   0   0   0   1   1   0    1        36   m  middle eastern   \n",
              "3   1   1   1   1   1   1   1   1   1    1        24   m        Hispanic   \n",
              "4   1   1   0   1   1   1   1   1   1    1        20   f  White European   \n",
              "\n",
              "  Jaundice Family_mem_with_ASD ASD_Traits  \n",
              "0      yes                  no         No  \n",
              "1      yes                  no        Yes  \n",
              "2      yes                  no        Yes  \n",
              "3       no                  no        Yes  \n",
              "4       no                 yes        Yes  "
            ],
            "text/html": [
              "\n",
              "  <div id=\"df-3e96983a-7502-4742-a21b-31b82ea69f8a\">\n",
              "    <div class=\"colab-df-container\">\n",
              "      <div>\n",
              "<style scoped>\n",
              "    .dataframe tbody tr th:only-of-type {\n",
              "        vertical-align: middle;\n",
              "    }\n",
              "\n",
              "    .dataframe tbody tr th {\n",
              "        vertical-align: top;\n",
              "    }\n",
              "\n",
              "    .dataframe thead th {\n",
              "        text-align: right;\n",
              "    }\n",
              "</style>\n",
              "<table border=\"1\" class=\"dataframe\">\n",
              "  <thead>\n",
              "    <tr style=\"text-align: right;\">\n",
              "      <th></th>\n",
              "      <th>A1</th>\n",
              "      <th>A2</th>\n",
              "      <th>A3</th>\n",
              "      <th>A4</th>\n",
              "      <th>A5</th>\n",
              "      <th>A6</th>\n",
              "      <th>A7</th>\n",
              "      <th>A8</th>\n",
              "      <th>A9</th>\n",
              "      <th>A10</th>\n",
              "      <th>Age_Mons</th>\n",
              "      <th>Sex</th>\n",
              "      <th>Ethnicity</th>\n",
              "      <th>Jaundice</th>\n",
              "      <th>Family_mem_with_ASD</th>\n",
              "      <th>ASD_Traits</th>\n",
              "    </tr>\n",
              "  </thead>\n",
              "  <tbody>\n",
              "    <tr>\n",
              "      <th>0</th>\n",
              "      <td>0</td>\n",
              "      <td>0</td>\n",
              "      <td>0</td>\n",
              "      <td>0</td>\n",
              "      <td>0</td>\n",
              "      <td>0</td>\n",
              "      <td>1</td>\n",
              "      <td>1</td>\n",
              "      <td>0</td>\n",
              "      <td>1</td>\n",
              "      <td>28</td>\n",
              "      <td>f</td>\n",
              "      <td>middle eastern</td>\n",
              "      <td>yes</td>\n",
              "      <td>no</td>\n",
              "      <td>No</td>\n",
              "    </tr>\n",
              "    <tr>\n",
              "      <th>1</th>\n",
              "      <td>1</td>\n",
              "      <td>1</td>\n",
              "      <td>0</td>\n",
              "      <td>0</td>\n",
              "      <td>0</td>\n",
              "      <td>1</td>\n",
              "      <td>1</td>\n",
              "      <td>0</td>\n",
              "      <td>0</td>\n",
              "      <td>0</td>\n",
              "      <td>36</td>\n",
              "      <td>m</td>\n",
              "      <td>White European</td>\n",
              "      <td>yes</td>\n",
              "      <td>no</td>\n",
              "      <td>Yes</td>\n",
              "    </tr>\n",
              "    <tr>\n",
              "      <th>2</th>\n",
              "      <td>1</td>\n",
              "      <td>0</td>\n",
              "      <td>0</td>\n",
              "      <td>0</td>\n",
              "      <td>0</td>\n",
              "      <td>0</td>\n",
              "      <td>1</td>\n",
              "      <td>1</td>\n",
              "      <td>0</td>\n",
              "      <td>1</td>\n",
              "      <td>36</td>\n",
              "      <td>m</td>\n",
              "      <td>middle eastern</td>\n",
              "      <td>yes</td>\n",
              "      <td>no</td>\n",
              "      <td>Yes</td>\n",
              "    </tr>\n",
              "    <tr>\n",
              "      <th>3</th>\n",
              "      <td>1</td>\n",
              "      <td>1</td>\n",
              "      <td>1</td>\n",
              "      <td>1</td>\n",
              "      <td>1</td>\n",
              "      <td>1</td>\n",
              "      <td>1</td>\n",
              "      <td>1</td>\n",
              "      <td>1</td>\n",
              "      <td>1</td>\n",
              "      <td>24</td>\n",
              "      <td>m</td>\n",
              "      <td>Hispanic</td>\n",
              "      <td>no</td>\n",
              "      <td>no</td>\n",
              "      <td>Yes</td>\n",
              "    </tr>\n",
              "    <tr>\n",
              "      <th>4</th>\n",
              "      <td>1</td>\n",
              "      <td>1</td>\n",
              "      <td>0</td>\n",
              "      <td>1</td>\n",
              "      <td>1</td>\n",
              "      <td>1</td>\n",
              "      <td>1</td>\n",
              "      <td>1</td>\n",
              "      <td>1</td>\n",
              "      <td>1</td>\n",
              "      <td>20</td>\n",
              "      <td>f</td>\n",
              "      <td>White European</td>\n",
              "      <td>no</td>\n",
              "      <td>yes</td>\n",
              "      <td>Yes</td>\n",
              "    </tr>\n",
              "  </tbody>\n",
              "</table>\n",
              "</div>\n",
              "      <button class=\"colab-df-convert\" onclick=\"convertToInteractive('df-3e96983a-7502-4742-a21b-31b82ea69f8a')\"\n",
              "              title=\"Convert this dataframe to an interactive table.\"\n",
              "              style=\"display:none;\">\n",
              "        \n",
              "  <svg xmlns=\"http://www.w3.org/2000/svg\" height=\"24px\"viewBox=\"0 0 24 24\"\n",
              "       width=\"24px\">\n",
              "    <path d=\"M0 0h24v24H0V0z\" fill=\"none\"/>\n",
              "    <path d=\"M18.56 5.44l.94 2.06.94-2.06 2.06-.94-2.06-.94-.94-2.06-.94 2.06-2.06.94zm-11 1L8.5 8.5l.94-2.06 2.06-.94-2.06-.94L8.5 2.5l-.94 2.06-2.06.94zm10 10l.94 2.06.94-2.06 2.06-.94-2.06-.94-.94-2.06-.94 2.06-2.06.94z\"/><path d=\"M17.41 7.96l-1.37-1.37c-.4-.4-.92-.59-1.43-.59-.52 0-1.04.2-1.43.59L10.3 9.45l-7.72 7.72c-.78.78-.78 2.05 0 2.83L4 21.41c.39.39.9.59 1.41.59.51 0 1.02-.2 1.41-.59l7.78-7.78 2.81-2.81c.8-.78.8-2.07 0-2.86zM5.41 20L4 18.59l7.72-7.72 1.47 1.35L5.41 20z\"/>\n",
              "  </svg>\n",
              "      </button>\n",
              "      \n",
              "  <style>\n",
              "    .colab-df-container {\n",
              "      display:flex;\n",
              "      flex-wrap:wrap;\n",
              "      gap: 12px;\n",
              "    }\n",
              "\n",
              "    .colab-df-convert {\n",
              "      background-color: #E8F0FE;\n",
              "      border: none;\n",
              "      border-radius: 50%;\n",
              "      cursor: pointer;\n",
              "      display: none;\n",
              "      fill: #1967D2;\n",
              "      height: 32px;\n",
              "      padding: 0 0 0 0;\n",
              "      width: 32px;\n",
              "    }\n",
              "\n",
              "    .colab-df-convert:hover {\n",
              "      background-color: #E2EBFA;\n",
              "      box-shadow: 0px 1px 2px rgba(60, 64, 67, 0.3), 0px 1px 3px 1px rgba(60, 64, 67, 0.15);\n",
              "      fill: #174EA6;\n",
              "    }\n",
              "\n",
              "    [theme=dark] .colab-df-convert {\n",
              "      background-color: #3B4455;\n",
              "      fill: #D2E3FC;\n",
              "    }\n",
              "\n",
              "    [theme=dark] .colab-df-convert:hover {\n",
              "      background-color: #434B5C;\n",
              "      box-shadow: 0px 1px 3px 1px rgba(0, 0, 0, 0.15);\n",
              "      filter: drop-shadow(0px 1px 2px rgba(0, 0, 0, 0.3));\n",
              "      fill: #FFFFFF;\n",
              "    }\n",
              "  </style>\n",
              "\n",
              "      <script>\n",
              "        const buttonEl =\n",
              "          document.querySelector('#df-3e96983a-7502-4742-a21b-31b82ea69f8a button.colab-df-convert');\n",
              "        buttonEl.style.display =\n",
              "          google.colab.kernel.accessAllowed ? 'block' : 'none';\n",
              "\n",
              "        async function convertToInteractive(key) {\n",
              "          const element = document.querySelector('#df-3e96983a-7502-4742-a21b-31b82ea69f8a');\n",
              "          const dataTable =\n",
              "            await google.colab.kernel.invokeFunction('convertToInteractive',\n",
              "                                                     [key], {});\n",
              "          if (!dataTable) return;\n",
              "\n",
              "          const docLinkHtml = 'Like what you see? Visit the ' +\n",
              "            '<a target=\"_blank\" href=https://colab.research.google.com/notebooks/data_table.ipynb>data table notebook</a>'\n",
              "            + ' to learn more about interactive tables.';\n",
              "          element.innerHTML = '';\n",
              "          dataTable['output_type'] = 'display_data';\n",
              "          await google.colab.output.renderOutput(dataTable, element);\n",
              "          const docLink = document.createElement('div');\n",
              "          docLink.innerHTML = docLinkHtml;\n",
              "          element.appendChild(docLink);\n",
              "        }\n",
              "      </script>\n",
              "    </div>\n",
              "  </div>\n",
              "  "
            ]
          },
          "metadata": {},
          "execution_count": 155
        }
      ]
    },
    {
      "cell_type": "code",
      "source": [
        "features=list(mixed_df)"
      ],
      "metadata": {
        "id": "fkQ3xf2AVJWQ"
      },
      "execution_count": 156,
      "outputs": []
    },
    {
      "cell_type": "code",
      "source": [
        "from sklearn.preprocessing import OneHotEncoder\n",
        "from sklearn.preprocessing import MinMaxScaler\n",
        "\n",
        "encoder = OneHotEncoder()\n",
        "scaler = MinMaxScaler()\n",
        "\n",
        "age = ['Age_Mons']\n",
        "char_vals = ['ASD_Traits','Sex','Jaundice','Family_mem_with_ASD','Ethnicity']\n",
        "target = ['ASD_Traits']"
      ],
      "metadata": {
        "id": "C0bfQG9WXDmc"
      },
      "execution_count": 157,
      "outputs": []
    },
    {
      "cell_type": "code",
      "source": [
        "from sklearn.metrics import make_scorer, accuracy_score, precision_score, recall_score, f1_score"
      ],
      "metadata": {
        "id": "kNyDnA270Pt4"
      },
      "execution_count": 158,
      "outputs": []
    },
    {
      "cell_type": "code",
      "source": [
        "metrics ={'accuracy': make_scorer(accuracy_score),\n",
        "          'precision': make_scorer(precision_score),\n",
        "          'recall' : make_scorer(recall_score),\n",
        "          'f1_score' : make_scorer(f1_score)}"
      ],
      "metadata": {
        "id": "lF6nxQIJZs4C"
      },
      "execution_count": 159,
      "outputs": []
    },
    {
      "cell_type": "code",
      "source": [
        "def preprocess(age, char_vals,dataframe):\n",
        "  dataframe[age] = scaler.fit_transform(dataframe[age].values.reshape(-1,1)) \n",
        "\n",
        "  for c in char_vals:\n",
        "      dataframe[c] = encoder.fit_transform(dataframe[c].values.reshape(-1,1)).toarray()\n",
        "  print(dataframe.dtypes)\n",
        "  print(dataframe.head())"
      ],
      "metadata": {
        "id": "3TlVa67fXaCA"
      },
      "execution_count": 160,
      "outputs": []
    },
    {
      "cell_type": "code",
      "source": [
        "def cross_validation_results(model, predictors, target, metrics,cv):\n",
        "  results = cross_validate(model, predictors, target, scoring = metrics, return_train_score=False, cv=10)\n",
        "\n",
        "  print(\"Mean Test Precision: \", results['test_precision'].mean())\n",
        "  print(\"Mean Test Recall: \", results['test_recall'].mean())\n",
        "  print(\"Mean Test F1: \", results['test_f1_score'].mean())\n",
        "  print(\"Accuracy: \", results['test_accuracy'].mean())"
      ],
      "metadata": {
        "id": "QVGQneqGY76O"
      },
      "execution_count": 161,
      "outputs": []
    },
    {
      "cell_type": "code",
      "source": [
        "def evaluate_on_test(model, predictors, target):\n",
        "  predictions = model.predict(predictors)\n",
        "  print(\"Accuracy: \", accuracy_score(target, predictions))\n",
        "  print(\"Precision: \", precision_score(target, predictions))\n",
        "  print(\"Recall: \", recall_score(target, predictions))\n",
        "  print(\"F1: \", f1_score(target, predictions))\n",
        "  ConfusionMatrixDisplay.from_estimator(model, predictors, target)"
      ],
      "metadata": {
        "id": "fczH8BE0gjdd"
      },
      "execution_count": 162,
      "outputs": []
    },
    {
      "cell_type": "code",
      "source": [
        "preprocess(age,char_vals,mixed_df)"
      ],
      "metadata": {
        "id": "TAdbFnCjXhGC",
        "colab": {
          "base_uri": "https://localhost:8080/"
        },
        "outputId": "47514c68-21a8-4523-914e-c4b7612f70b8"
      },
      "execution_count": 163,
      "outputs": [
        {
          "output_type": "stream",
          "name": "stdout",
          "text": [
            "A1                       int64\n",
            "A2                       int64\n",
            "A3                       int64\n",
            "A4                       int64\n",
            "A5                       int64\n",
            "A6                       int64\n",
            "A7                       int64\n",
            "A8                       int64\n",
            "A9                       int64\n",
            "A10                      int64\n",
            "Age_Mons               float64\n",
            "Sex                    float64\n",
            "Ethnicity              float64\n",
            "Jaundice               float64\n",
            "Family_mem_with_ASD    float64\n",
            "ASD_Traits             float64\n",
            "dtype: object\n",
            "   A1  A2  A3  A4  A5  A6  A7  A8  A9  A10  Age_Mons  Sex  Ethnicity  \\\n",
            "0   0   0   0   0   0   0   1   1   0    1  0.666667  1.0        0.0   \n",
            "1   1   1   0   0   0   1   1   0   0    0  1.000000  0.0        0.0   \n",
            "2   1   0   0   0   0   0   1   1   0    1  1.000000  0.0        0.0   \n",
            "3   1   1   1   1   1   1   1   1   1    1  0.500000  0.0        1.0   \n",
            "4   1   1   0   1   1   1   1   1   1    1  0.333333  1.0        0.0   \n",
            "\n",
            "   Jaundice  Family_mem_with_ASD  ASD_Traits  \n",
            "0       0.0                  1.0         1.0  \n",
            "1       0.0                  1.0         0.0  \n",
            "2       0.0                  1.0         0.0  \n",
            "3       1.0                  1.0         0.0  \n",
            "4       1.0                  0.0         0.0  \n"
          ]
        }
      ]
    },
    {
      "cell_type": "code",
      "source": [
        "from sklearn.model_selection import train_test_split\n",
        "\n",
        "X_mixed = mixed_df.drop(\"ASD_Traits\", axis=1)\n",
        "y_mixed = mixed_df[\"ASD_Traits\"]\n",
        "sex = mixed_df[\"Sex\"]\n",
        "\n",
        "\n",
        "X_mixed_train, X_mixed_test , y_mixed_train, y_mixed_test = train_test_split(X_mixed, y_mixed, test_size=0.3, random_state=42, stratify=sex)"
      ],
      "metadata": {
        "id": "Qj2Tg31NPRzv"
      },
      "execution_count": 164,
      "outputs": []
    },
    {
      "cell_type": "code",
      "source": [
        "from numpy import mean, std\n",
        "from sklearn.model_selection import cross_val_score, RepeatedStratifiedKFold, cross_validate\n",
        "from sklearn.ensemble import AdaBoostClassifier\n",
        "\n",
        "ada = AdaBoostClassifier()\n",
        "\n",
        "ada_mixed = ada.fit(X_mixed_train, y_mixed_train)\n",
        "\n",
        "cv = RepeatedStratifiedKFold(n_splits=10, n_repeats=3, random_state=42)\n",
        "scores = cross_val_score(ada_mixed, X_mixed_train, y_mixed_train, scoring='accuracy',cv=cv, n_jobs=-1)\n",
        "\n",
        "print('AdaBoostClassifier Mixed Dataset accuracy:  %.3f (%.3f)' % (mean(scores),std(scores)))"
      ],
      "metadata": {
        "colab": {
          "base_uri": "https://localhost:8080/"
        },
        "id": "KQgyAzZSYKw-",
        "outputId": "862dbf57-8589-4c14-afea-f598c9c6ffe7"
      },
      "execution_count": 165,
      "outputs": [
        {
          "output_type": "stream",
          "name": "stdout",
          "text": [
            "AdaBoostClassifier Mixed Dataset accuracy:  1.000 (0.000)\n"
          ]
        }
      ]
    },
    {
      "cell_type": "code",
      "source": [
        "importance_mixed = ada_mixed.feature_importances_\n",
        "\n",
        "mixed_importances = sorted(zip(importance_mixed, features), reverse=True)\n",
        "mixed_importances"
      ],
      "metadata": {
        "colab": {
          "base_uri": "https://localhost:8080/"
        },
        "id": "jcvHD7HLRuFP",
        "outputId": "3131c951-4b1b-4592-d0ef-7538bf115a33"
      },
      "execution_count": 166,
      "outputs": [
        {
          "output_type": "execute_result",
          "data": {
            "text/plain": [
              "[(0.12, 'A4'),\n",
              " (0.1, 'A8'),\n",
              " (0.1, 'A7'),\n",
              " (0.1, 'A6'),\n",
              " (0.1, 'A5'),\n",
              " (0.1, 'A2'),\n",
              " (0.1, 'A10'),\n",
              " (0.1, 'A1'),\n",
              " (0.08, 'A9'),\n",
              " (0.08, 'A3'),\n",
              " (0.02, 'Jaundice'),\n",
              " (0.0, 'Sex'),\n",
              " (0.0, 'Family_mem_with_ASD'),\n",
              " (0.0, 'Ethnicity'),\n",
              " (0.0, 'Age_Mons')]"
            ]
          },
          "metadata": {},
          "execution_count": 166
        }
      ]
    },
    {
      "cell_type": "code",
      "source": [
        "cross_validation_results(ada_mixed, X_mixed_train, y_mixed_train, metrics, cv=10)"
      ],
      "metadata": {
        "colab": {
          "base_uri": "https://localhost:8080/"
        },
        "id": "mw_ZpoFgPYrA",
        "outputId": "c920937f-3ed1-4b9a-8ff7-8849267380f2"
      },
      "execution_count": 167,
      "outputs": [
        {
          "output_type": "stream",
          "name": "stdout",
          "text": [
            "Mean Test Precision:  1.0\n",
            "Mean Test Recall:  1.0\n",
            "Mean Test F1:  1.0\n",
            "Accuracy:  1.0\n"
          ]
        }
      ]
    },
    {
      "cell_type": "code",
      "source": [
        "from sklearn.metrics import accuracy_score, ConfusionMatrixDisplay, PrecisionRecallDisplay\n",
        "\n",
        "evaluate_on_test(ada_mixed, X_mixed_test, y_mixed_test)"
      ],
      "metadata": {
        "colab": {
          "base_uri": "https://localhost:8080/",
          "height": 348
        },
        "id": "xldlNeQSxoM8",
        "outputId": "0b7211de-2ae9-48af-9326-d83b14565226"
      },
      "execution_count": 168,
      "outputs": [
        {
          "output_type": "stream",
          "name": "stdout",
          "text": [
            "Accuracy:  1.0\n",
            "Precision:  1.0\n",
            "Recall:  1.0\n",
            "F1:  1.0\n"
          ]
        },
        {
          "output_type": "display_data",
          "data": {
            "text/plain": [
              "<Figure size 432x288 with 2 Axes>"
            ],
            "image/png": "[encoded data removed]"
          },
          "metadata": {
            "needs_background": "light"
          }
        }
      ]
    },
    {
      "cell_type": "markdown",
      "source": [
        "**Train, test, validation split**"
      ],
      "metadata": {
        "id": "NIfUAXB2WTeU"
      }
    },
    {
      "cell_type": "code",
      "source": [
        "new_mixed_df = asd_2018_df.drop(['Case_No','Qchat-10-Score','Who completed the test'],axis=1)\n",
        "new_mixed_df.columns\n",
        "new_mixed_df.head()"
      ],
      "metadata": {
        "colab": {
          "base_uri": "https://localhost:8080/",
          "height": 206
        },
        "id": "HsBJARjmWI2Q",
        "outputId": "fd850cf2-4f55-465c-9366-da554b931291"
      },
      "execution_count": 169,
      "outputs": [
        {
          "output_type": "execute_result",
          "data": {
            "text/plain": [
              "   A1  A2  A3  A4  A5  A6  A7  A8  A9  A10  Age_Mons Sex       Ethnicity  \\\n",
              "0   0   0   0   0   0   0   1   1   0    1        28   f  middle eastern   \n",
              "1   1   1   0   0   0   1   1   0   0    0        36   m  White European   \n",
              "2   1   0   0   0   0   0   1   1   0    1        36   m  middle eastern   \n",
              "3   1   1   1   1   1   1   1   1   1    1        24   m        Hispanic   \n",
              "4   1   1   0   1   1   1   1   1   1    1        20   f  White European   \n",
              "\n",
              "  Jaundice Family_mem_with_ASD ASD_Traits  \n",
              "0      yes                  no         No  \n",
              "1      yes                  no        Yes  \n",
              "2      yes                  no        Yes  \n",
              "3       no                  no        Yes  \n",
              "4       no                 yes        Yes  "
            ],
            "text/html": [
              "\n",
              "  <div id=\"df-5d225b79-fcf8-4857-975f-9d2124d40610\">\n",
              "    <div class=\"colab-df-container\">\n",
              "      <div>\n",
              "<style scoped>\n",
              "    .dataframe tbody tr th:only-of-type {\n",
              "        vertical-align: middle;\n",
              "    }\n",
              "\n",
              "    .dataframe tbody tr th {\n",
              "        vertical-align: top;\n",
              "    }\n",
              "\n",
              "    .dataframe thead th {\n",
              "        text-align: right;\n",
              "    }\n",
              "</style>\n",
              "<table border=\"1\" class=\"dataframe\">\n",
              "  <thead>\n",
              "    <tr style=\"text-align: right;\">\n",
              "      <th></th>\n",
              "      <th>A1</th>\n",
              "      <th>A2</th>\n",
              "      <th>A3</th>\n",
              "      <th>A4</th>\n",
              "      <th>A5</th>\n",
              "      <th>A6</th>\n",
              "      <th>A7</th>\n",
              "      <th>A8</th>\n",
              "      <th>A9</th>\n",
              "      <th>A10</th>\n",
              "      <th>Age_Mons</th>\n",
              "      <th>Sex</th>\n",
              "      <th>Ethnicity</th>\n",
              "      <th>Jaundice</th>\n",
              "      <th>Family_mem_with_ASD</th>\n",
              "      <th>ASD_Traits</th>\n",
              "    </tr>\n",
              "  </thead>\n",
              "  <tbody>\n",
              "    <tr>\n",
              "      <th>0</th>\n",
              "      <td>0</td>\n",
              "      <td>0</td>\n",
              "      <td>0</td>\n",
              "      <td>0</td>\n",
              "      <td>0</td>\n",
              "      <td>0</td>\n",
              "      <td>1</td>\n",
              "      <td>1</td>\n",
              "      <td>0</td>\n",
              "      <td>1</td>\n",
              "      <td>28</td>\n",
              "      <td>f</td>\n",
              "      <td>middle eastern</td>\n",
              "      <td>yes</td>\n",
              "      <td>no</td>\n",
              "      <td>No</td>\n",
              "    </tr>\n",
              "    <tr>\n",
              "      <th>1</th>\n",
              "      <td>1</td>\n",
              "      <td>1</td>\n",
              "      <td>0</td>\n",
              "      <td>0</td>\n",
              "      <td>0</td>\n",
              "      <td>1</td>\n",
              "      <td>1</td>\n",
              "      <td>0</td>\n",
              "      <td>0</td>\n",
              "      <td>0</td>\n",
              "      <td>36</td>\n",
              "      <td>m</td>\n",
              "      <td>White European</td>\n",
              "      <td>yes</td>\n",
              "      <td>no</td>\n",
              "      <td>Yes</td>\n",
              "    </tr>\n",
              "    <tr>\n",
              "      <th>2</th>\n",
              "      <td>1</td>\n",
              "      <td>0</td>\n",
              "      <td>0</td>\n",
              "      <td>0</td>\n",
              "      <td>0</td>\n",
              "      <td>0</td>\n",
              "      <td>1</td>\n",
              "      <td>1</td>\n",
              "      <td>0</td>\n",
              "      <td>1</td>\n",
              "      <td>36</td>\n",
              "      <td>m</td>\n",
              "      <td>middle eastern</td>\n",
              "      <td>yes</td>\n",
              "      <td>no</td>\n",
              "      <td>Yes</td>\n",
              "    </tr>\n",
              "    <tr>\n",
              "      <th>3</th>\n",
              "      <td>1</td>\n",
              "      <td>1</td>\n",
              "      <td>1</td>\n",
              "      <td>1</td>\n",
              "      <td>1</td>\n",
              "      <td>1</td>\n",
              "      <td>1</td>\n",
              "      <td>1</td>\n",
              "      <td>1</td>\n",
              "      <td>1</td>\n",
              "      <td>24</td>\n",
              "      <td>m</td>\n",
              "      <td>Hispanic</td>\n",
              "      <td>no</td>\n",
              "      <td>no</td>\n",
              "      <td>Yes</td>\n",
              "    </tr>\n",
              "    <tr>\n",
              "      <th>4</th>\n",
              "      <td>1</td>\n",
              "      <td>1</td>\n",
              "      <td>0</td>\n",
              "      <td>1</td>\n",
              "      <td>1</td>\n",
              "      <td>1</td>\n",
              "      <td>1</td>\n",
              "      <td>1</td>\n",
              "      <td>1</td>\n",
              "      <td>1</td>\n",
              "      <td>20</td>\n",
              "      <td>f</td>\n",
              "      <td>White European</td>\n",
              "      <td>no</td>\n",
              "      <td>yes</td>\n",
              "      <td>Yes</td>\n",
              "    </tr>\n",
              "  </tbody>\n",
              "</table>\n",
              "</div>\n",
              "      <button class=\"colab-df-convert\" onclick=\"convertToInteractive('df-5d225b79-fcf8-4857-975f-9d2124d40610')\"\n",
              "              title=\"Convert this dataframe to an interactive table.\"\n",
              "              style=\"display:none;\">\n",
              "        \n",
              "  <svg xmlns=\"http://www.w3.org/2000/svg\" height=\"24px\"viewBox=\"0 0 24 24\"\n",
              "       width=\"24px\">\n",
              "    <path d=\"M0 0h24v24H0V0z\" fill=\"none\"/>\n",
              "    <path d=\"M18.56 5.44l.94 2.06.94-2.06 2.06-.94-2.06-.94-.94-2.06-.94 2.06-2.06.94zm-11 1L8.5 8.5l.94-2.06 2.06-.94-2.06-.94L8.5 2.5l-.94 2.06-2.06.94zm10 10l.94 2.06.94-2.06 2.06-.94-2.06-.94-.94-2.06-.94 2.06-2.06.94z\"/><path d=\"M17.41 7.96l-1.37-1.37c-.4-.4-.92-.59-1.43-.59-.52 0-1.04.2-1.43.59L10.3 9.45l-7.72 7.72c-.78.78-.78 2.05 0 2.83L4 21.41c.39.39.9.59 1.41.59.51 0 1.02-.2 1.41-.59l7.78-7.78 2.81-2.81c.8-.78.8-2.07 0-2.86zM5.41 20L4 18.59l7.72-7.72 1.47 1.35L5.41 20z\"/>\n",
              "  </svg>\n",
              "      </button>\n",
              "      \n",
              "  <style>\n",
              "    .colab-df-container {\n",
              "      display:flex;\n",
              "      flex-wrap:wrap;\n",
              "      gap: 12px;\n",
              "    }\n",
              "\n",
              "    .colab-df-convert {\n",
              "      background-color: #E8F0FE;\n",
              "      border: none;\n",
              "      border-radius: 50%;\n",
              "      cursor: pointer;\n",
              "      display: none;\n",
              "      fill: #1967D2;\n",
              "      height: 32px;\n",
              "      padding: 0 0 0 0;\n",
              "      width: 32px;\n",
              "    }\n",
              "\n",
              "    .colab-df-convert:hover {\n",
              "      background-color: #E2EBFA;\n",
              "      box-shadow: 0px 1px 2px rgba(60, 64, 67, 0.3), 0px 1px 3px 1px rgba(60, 64, 67, 0.15);\n",
              "      fill: #174EA6;\n",
              "    }\n",
              "\n",
              "    [theme=dark] .colab-df-convert {\n",
              "      background-color: #3B4455;\n",
              "      fill: #D2E3FC;\n",
              "    }\n",
              "\n",
              "    [theme=dark] .colab-df-convert:hover {\n",
              "      background-color: #434B5C;\n",
              "      box-shadow: 0px 1px 3px 1px rgba(0, 0, 0, 0.15);\n",
              "      filter: drop-shadow(0px 1px 2px rgba(0, 0, 0, 0.3));\n",
              "      fill: #FFFFFF;\n",
              "    }\n",
              "  </style>\n",
              "\n",
              "      <script>\n",
              "        const buttonEl =\n",
              "          document.querySelector('#df-5d225b79-fcf8-4857-975f-9d2124d40610 button.colab-df-convert');\n",
              "        buttonEl.style.display =\n",
              "          google.colab.kernel.accessAllowed ? 'block' : 'none';\n",
              "\n",
              "        async function convertToInteractive(key) {\n",
              "          const element = document.querySelector('#df-5d225b79-fcf8-4857-975f-9d2124d40610');\n",
              "          const dataTable =\n",
              "            await google.colab.kernel.invokeFunction('convertToInteractive',\n",
              "                                                     [key], {});\n",
              "          if (!dataTable) return;\n",
              "\n",
              "          const docLinkHtml = 'Like what you see? Visit the ' +\n",
              "            '<a target=\"_blank\" href=https://colab.research.google.com/notebooks/data_table.ipynb>data table notebook</a>'\n",
              "            + ' to learn more about interactive tables.';\n",
              "          element.innerHTML = '';\n",
              "          dataTable['output_type'] = 'display_data';\n",
              "          await google.colab.output.renderOutput(dataTable, element);\n",
              "          const docLink = document.createElement('div');\n",
              "          docLink.innerHTML = docLinkHtml;\n",
              "          element.appendChild(docLink);\n",
              "        }\n",
              "      </script>\n",
              "    </div>\n",
              "  </div>\n",
              "  "
            ]
          },
          "metadata": {},
          "execution_count": 169
        }
      ]
    },
    {
      "cell_type": "code",
      "source": [
        "preprocess(age, char_vals, new_mixed_df)"
      ],
      "metadata": {
        "colab": {
          "base_uri": "https://localhost:8080/"
        },
        "id": "gf0Kr9ppWkZL",
        "outputId": "e12d93e1-dad5-4cd5-b377-a050aa3c0130"
      },
      "execution_count": 170,
      "outputs": [
        {
          "output_type": "stream",
          "name": "stdout",
          "text": [
            "A1                       int64\n",
            "A2                       int64\n",
            "A3                       int64\n",
            "A4                       int64\n",
            "A5                       int64\n",
            "A6                       int64\n",
            "A7                       int64\n",
            "A8                       int64\n",
            "A9                       int64\n",
            "A10                      int64\n",
            "Age_Mons               float64\n",
            "Sex                    float64\n",
            "Ethnicity              float64\n",
            "Jaundice               float64\n",
            "Family_mem_with_ASD    float64\n",
            "ASD_Traits             float64\n",
            "dtype: object\n",
            "   A1  A2  A3  A4  A5  A6  A7  A8  A9  A10  Age_Mons  Sex  Ethnicity  \\\n",
            "0   0   0   0   0   0   0   1   1   0    1  0.666667  1.0        0.0   \n",
            "1   1   1   0   0   0   1   1   0   0    0  1.000000  0.0        0.0   \n",
            "2   1   0   0   0   0   0   1   1   0    1  1.000000  0.0        0.0   \n",
            "3   1   1   1   1   1   1   1   1   1    1  0.500000  0.0        1.0   \n",
            "4   1   1   0   1   1   1   1   1   1    1  0.333333  1.0        0.0   \n",
            "\n",
            "   Jaundice  Family_mem_with_ASD  ASD_Traits  \n",
            "0       0.0                  1.0         1.0  \n",
            "1       0.0                  1.0         0.0  \n",
            "2       0.0                  1.0         0.0  \n",
            "3       1.0                  1.0         0.0  \n",
            "4       1.0                  0.0         0.0  \n"
          ]
        }
      ]
    },
    {
      "cell_type": "code",
      "source": [
        "X_new = new_mixed_df.drop(['ASD_Traits'], axis=1)\n",
        "y_new = new_mixed_df['ASD_Traits']\n",
        "\n",
        "X_new_train, X_new_test, y_new_train, y_new_test = train_test_split(X_new, y_new, test_size=0.30, random_state=42, stratify=y_new)"
      ],
      "metadata": {
        "id": "wXVmEaRyW8ir"
      },
      "execution_count": 171,
      "outputs": []
    },
    {
      "cell_type": "code",
      "source": [
        "X_new_validate, X_new_test, y_new_validate, y_new_test = train_test_split(X_new_test, y_new_test, test_size=0.50, random_state=42, stratify=y_new_test)"
      ],
      "metadata": {
        "id": "O0s6MWyVXuOj"
      },
      "execution_count": 172,
      "outputs": []
    },
    {
      "cell_type": "code",
      "source": [
        "new_ada = AdaBoostClassifier()\n",
        "\n",
        "new_ada.fit(X_new_train, y_new_train)"
      ],
      "metadata": {
        "colab": {
          "base_uri": "https://localhost:8080/",
          "height": 75
        },
        "id": "XQWisxPwYbDe",
        "outputId": "2c97dbb8-e933-402c-9202-01e91ca5d54c"
      },
      "execution_count": 173,
      "outputs": [
        {
          "output_type": "execute_result",
          "data": {
            "text/plain": [
              "AdaBoostClassifier()"
            ],
            "text/html": [
              "<style>#sk-container-id-3 {color: black;background-color: white;}#sk-container-id-3 pre{padding: 0;}#sk-container-id-3 div.sk-toggleable {background-color: white;}#sk-container-id-3 label.sk-toggleable__label {cursor: pointer;display: block;width: 100%;margin-bottom: 0;padding: 0.3em;box-sizing: border-box;text-align: center;}#sk-container-id-3 label.sk-toggleable__label-arrow:before {content: \"▸\";float: left;margin-right: 0.25em;color: #696969;}#sk-container-id-3 label.sk-toggleable__label-arrow:hover:before {color: black;}#sk-container-id-3 div.sk-estimator:hover label.sk-toggleable__label-arrow:before {color: black;}#sk-container-id-3 div.sk-toggleable__content {max-height: 0;max-width: 0;overflow: hidden;text-align: left;background-color: #f0f8ff;}#sk-container-id-3 div.sk-toggleable__content pre {margin: 0.2em;color: black;border-radius: 0.25em;background-color: #f0f8ff;}#sk-container-id-3 input.sk-toggleable__control:checked~div.sk-toggleable__content {max-height: 200px;max-width: 100%;overflow: auto;}#sk-container-id-3 input.sk-toggleable__control:checked~label.sk-toggleable__label-arrow:before {content: \"▾\";}#sk-container-id-3 div.sk-estimator input.sk-toggleable__control:checked~label.sk-toggleable__label {background-color: #d4ebff;}#sk-container-id-3 div.sk-label input.sk-toggleable__control:checked~label.sk-toggleable__label {background-color: #d4ebff;}#sk-container-id-3 input.sk-hidden--visually {border: 0;clip: rect(1px 1px 1px 1px);clip: rect(1px, 1px, 1px, 1px);height: 1px;margin: -1px;overflow: hidden;padding: 0;position: absolute;width: 1px;}#sk-container-id-3 div.sk-estimator {font-family: monospace;background-color: #f0f8ff;border: 1px dotted black;border-radius: 0.25em;box-sizing: border-box;margin-bottom: 0.5em;}#sk-container-id-3 div.sk-estimator:hover {background-color: #d4ebff;}#sk-container-id-3 div.sk-parallel-item::after {content: \"\";width: 100%;border-bottom: 1px solid gray;flex-grow: 1;}#sk-container-id-3 div.sk-label:hover label.sk-toggleable__label {background-color: #d4ebff;}#sk-container-id-3 div.sk-serial::before {content: \"\";position: absolute;border-left: 1px solid gray;box-sizing: border-box;top: 0;bottom: 0;left: 50%;z-index: 0;}#sk-container-id-3 div.sk-serial {display: flex;flex-direction: column;align-items: center;background-color: white;padding-right: 0.2em;padding-left: 0.2em;position: relative;}#sk-container-id-3 div.sk-item {position: relative;z-index: 1;}#sk-container-id-3 div.sk-parallel {display: flex;align-items: stretch;justify-content: center;background-color: white;position: relative;}#sk-container-id-3 div.sk-item::before, #sk-container-id-3 div.sk-parallel-item::before {content: \"\";position: absolute;border-left: 1px solid gray;box-sizing: border-box;top: 0;bottom: 0;left: 50%;z-index: -1;}#sk-container-id-3 div.sk-parallel-item {display: flex;flex-direction: column;z-index: 1;position: relative;background-color: white;}#sk-container-id-3 div.sk-parallel-item:first-child::after {align-self: flex-end;width: 50%;}#sk-container-id-3 div.sk-parallel-item:last-child::after {align-self: flex-start;width: 50%;}#sk-container-id-3 div.sk-parallel-item:only-child::after {width: 0;}#sk-container-id-3 div.sk-dashed-wrapped {border: 1px dashed gray;margin: 0 0.4em 0.5em 0.4em;box-sizing: border-box;padding-bottom: 0.4em;background-color: white;}#sk-container-id-3 div.sk-label label {font-family: monospace;font-weight: bold;display: inline-block;line-height: 1.2em;}#sk-container-id-3 div.sk-label-container {text-align: center;}#sk-container-id-3 div.sk-container {/* jupyter's `normalize.less` sets `[hidden] { display: none; }` but bootstrap.min.css set `[hidden] { display: none !important; }` so we also need the `!important` here to be able to override the default hidden behavior on the sphinx rendered scikit-learn.org. See: https://github.com/scikit-learn/scikit-learn/issues/21755 */display: inline-block !important;position: relative;}#sk-container-id-3 div.sk-text-repr-fallback {display: none;}</style><div id=\"sk-container-id-3\" class=\"sk-top-container\"><div class=\"sk-text-repr-fallback\"><pre>AdaBoostClassifier()</pre><b>In a Jupyter environment, please rerun this cell to show the HTML representation or trust the notebook. <br />On GitHub, the HTML representation is unable to render, please try loading this page with nbviewer.org.</b></div><div class=\"sk-container\" hidden><div class=\"sk-item\"><div class=\"sk-estimator sk-toggleable\"><input class=\"sk-toggleable__control sk-hidden--visually\" id=\"sk-estimator-id-3\" type=\"checkbox\" checked><label for=\"sk-estimator-id-3\" class=\"sk-toggleable__label sk-toggleable__label-arrow\">AdaBoostClassifier</label><div class=\"sk-toggleable__content\"><pre>AdaBoostClassifier()</pre></div></div></div></div></div>"
            ]
          },
          "metadata": {},
          "execution_count": 173
        }
      ]
    },
    {
      "cell_type": "code",
      "source": [
        "new_val_pred = new_ada.predict(X_new_validate)\n",
        "print('Accuracy:', accuracy_score(y_new_validate, new_val_pred))"
      ],
      "metadata": {
        "colab": {
          "base_uri": "https://localhost:8080/"
        },
        "id": "C_UWvlnwbBFs",
        "outputId": "8566e1b9-ca05-4b25-b4eb-37ce34e4e927"
      },
      "execution_count": 174,
      "outputs": [
        {
          "output_type": "stream",
          "name": "stdout",
          "text": [
            "Accuracy: 1.0\n"
          ]
        }
      ]
    },
    {
      "cell_type": "code",
      "source": [
        "new_ada.score(X_new_validate, y_new_validate)"
      ],
      "metadata": {
        "colab": {
          "base_uri": "https://localhost:8080/"
        },
        "id": "gJ_LphsIcNyG",
        "outputId": "48e3fecf-289f-4d54-da81-03fa746f1eba"
      },
      "execution_count": 175,
      "outputs": [
        {
          "output_type": "execute_result",
          "data": {
            "text/plain": [
              "1.0"
            ]
          },
          "metadata": {},
          "execution_count": 175
        }
      ]
    },
    {
      "cell_type": "code",
      "source": [
        "cross_validation_results(new_ada, X_new_train, y_new_train, metrics, cv=10)"
      ],
      "metadata": {
        "colab": {
          "base_uri": "https://localhost:8080/"
        },
        "id": "hk5PUmqKgPkN",
        "outputId": "95a268c3-d3ff-40f0-f223-64327d79bd59"
      },
      "execution_count": 176,
      "outputs": [
        {
          "output_type": "stream",
          "name": "stdout",
          "text": [
            "Mean Test Precision:  1.0\n",
            "Mean Test Recall:  1.0\n",
            "Mean Test F1:  1.0\n",
            "Accuracy:  1.0\n"
          ]
        }
      ]
    },
    {
      "cell_type": "code",
      "source": [
        "evaluate_on_test(new_ada, X_new_test, y_new_test)"
      ],
      "metadata": {
        "colab": {
          "base_uri": "https://localhost:8080/",
          "height": 348
        },
        "id": "z-WO0Y_EiAr_",
        "outputId": "19448c4b-eabf-4089-afa9-f792be3a5d3f"
      },
      "execution_count": 177,
      "outputs": [
        {
          "output_type": "stream",
          "name": "stdout",
          "text": [
            "Accuracy:  1.0\n",
            "Precision:  1.0\n",
            "Recall:  1.0\n",
            "F1:  1.0\n"
          ]
        },
        {
          "output_type": "display_data",
          "data": {
            "text/plain": [
              "<Figure size 432x288 with 2 Axes>"
            ],
            "image/png": "[encoded data removed]"
          },
          "metadata": {
            "needs_background": "light"
          }
        }
      ]
    },
    {
      "cell_type": "markdown",
      "source": [
        "**1:1 male to female ratio**"
      ],
      "metadata": {
        "id": "21y9ye8N0xpV"
      }
    },
    {
      "cell_type": "code",
      "source": [
        "f_only = asd_2018_df[asd_2018_df['Sex']=='f']\n",
        "f_only.info()\n",
        "f_only['ASD_Traits'].value_counts()"
      ],
      "metadata": {
        "colab": {
          "base_uri": "https://localhost:8080/"
        },
        "id": "8OvUSabYypaT",
        "outputId": "d4cc416f-061a-453c-b2ca-b5fcf9f321fa"
      },
      "execution_count": 178,
      "outputs": [
        {
          "output_type": "stream",
          "name": "stdout",
          "text": [
            "<class 'pandas.core.frame.DataFrame'>\n",
            "Int64Index: 319 entries, 0 to 1049\n",
            "Data columns (total 19 columns):\n",
            " #   Column                  Non-Null Count  Dtype \n",
            "---  ------                  --------------  ----- \n",
            " 0   Case_No                 319 non-null    int64 \n",
            " 1   A1                      319 non-null    int64 \n",
            " 2   A2                      319 non-null    int64 \n",
            " 3   A3                      319 non-null    int64 \n",
            " 4   A4                      319 non-null    int64 \n",
            " 5   A5                      319 non-null    int64 \n",
            " 6   A6                      319 non-null    int64 \n",
            " 7   A7                      319 non-null    int64 \n",
            " 8   A8                      319 non-null    int64 \n",
            " 9   A9                      319 non-null    int64 \n",
            " 10  A10                     319 non-null    int64 \n",
            " 11  Age_Mons                319 non-null    int64 \n",
            " 12  Qchat-10-Score          319 non-null    int64 \n",
            " 13  Sex                     319 non-null    object\n",
            " 14  Ethnicity               319 non-null    object\n",
            " 15  Jaundice                319 non-null    object\n",
            " 16  Family_mem_with_ASD     319 non-null    object\n",
            " 17  Who completed the test  319 non-null    object\n",
            " 18  ASD_Traits              319 non-null    object\n",
            "dtypes: int64(13), object(6)\n",
            "memory usage: 49.8+ KB\n"
          ]
        },
        {
          "output_type": "execute_result",
          "data": {
            "text/plain": [
              "Yes    194\n",
              "No     125\n",
              "Name: ASD_Traits, dtype: int64"
            ]
          },
          "metadata": {},
          "execution_count": 178
        }
      ]
    },
    {
      "cell_type": "code",
      "source": [
        "y_male = asd_2018_df[(asd_2018_df['Sex']=='m') & (asd_2018_df['ASD_Traits']=='Yes')].head(194)\n",
        "y_male.info()\n",
        "y_male['ASD_Traits'].value_counts()"
      ],
      "metadata": {
        "colab": {
          "base_uri": "https://localhost:8080/"
        },
        "id": "sP7dDe5L07Bn",
        "outputId": "453b2b99-956a-4b1c-fd93-90a1daa79008"
      },
      "execution_count": 179,
      "outputs": [
        {
          "output_type": "stream",
          "name": "stdout",
          "text": [
            "<class 'pandas.core.frame.DataFrame'>\n",
            "Int64Index: 194 entries, 1 to 405\n",
            "Data columns (total 19 columns):\n",
            " #   Column                  Non-Null Count  Dtype \n",
            "---  ------                  --------------  ----- \n",
            " 0   Case_No                 194 non-null    int64 \n",
            " 1   A1                      194 non-null    int64 \n",
            " 2   A2                      194 non-null    int64 \n",
            " 3   A3                      194 non-null    int64 \n",
            " 4   A4                      194 non-null    int64 \n",
            " 5   A5                      194 non-null    int64 \n",
            " 6   A6                      194 non-null    int64 \n",
            " 7   A7                      194 non-null    int64 \n",
            " 8   A8                      194 non-null    int64 \n",
            " 9   A9                      194 non-null    int64 \n",
            " 10  A10                     194 non-null    int64 \n",
            " 11  Age_Mons                194 non-null    int64 \n",
            " 12  Qchat-10-Score          194 non-null    int64 \n",
            " 13  Sex                     194 non-null    object\n",
            " 14  Ethnicity               194 non-null    object\n",
            " 15  Jaundice                194 non-null    object\n",
            " 16  Family_mem_with_ASD     194 non-null    object\n",
            " 17  Who completed the test  194 non-null    object\n",
            " 18  ASD_Traits              194 non-null    object\n",
            "dtypes: int64(13), object(6)\n",
            "memory usage: 30.3+ KB\n"
          ]
        },
        {
          "output_type": "execute_result",
          "data": {
            "text/plain": [
              "Yes    194\n",
              "Name: ASD_Traits, dtype: int64"
            ]
          },
          "metadata": {},
          "execution_count": 179
        }
      ]
    },
    {
      "cell_type": "code",
      "source": [
        "n_male = asd_2018_df[(asd_2018_df['Sex']=='m') & (asd_2018_df['ASD_Traits']=='No')].head(125)\n",
        "n_male.info()\n",
        "n_male['ASD_Traits'].value_counts()"
      ],
      "metadata": {
        "colab": {
          "base_uri": "https://localhost:8080/"
        },
        "id": "cv5Yzb-a1Bl-",
        "outputId": "f31979ec-04d1-4de1-d858-97ad8e785849"
      },
      "execution_count": 180,
      "outputs": [
        {
          "output_type": "stream",
          "name": "stdout",
          "text": [
            "<class 'pandas.core.frame.DataFrame'>\n",
            "Int64Index: 125 entries, 8 to 704\n",
            "Data columns (total 19 columns):\n",
            " #   Column                  Non-Null Count  Dtype \n",
            "---  ------                  --------------  ----- \n",
            " 0   Case_No                 125 non-null    int64 \n",
            " 1   A1                      125 non-null    int64 \n",
            " 2   A2                      125 non-null    int64 \n",
            " 3   A3                      125 non-null    int64 \n",
            " 4   A4                      125 non-null    int64 \n",
            " 5   A5                      125 non-null    int64 \n",
            " 6   A6                      125 non-null    int64 \n",
            " 7   A7                      125 non-null    int64 \n",
            " 8   A8                      125 non-null    int64 \n",
            " 9   A9                      125 non-null    int64 \n",
            " 10  A10                     125 non-null    int64 \n",
            " 11  Age_Mons                125 non-null    int64 \n",
            " 12  Qchat-10-Score          125 non-null    int64 \n",
            " 13  Sex                     125 non-null    object\n",
            " 14  Ethnicity               125 non-null    object\n",
            " 15  Jaundice                125 non-null    object\n",
            " 16  Family_mem_with_ASD     125 non-null    object\n",
            " 17  Who completed the test  125 non-null    object\n",
            " 18  ASD_Traits              125 non-null    object\n",
            "dtypes: int64(13), object(6)\n",
            "memory usage: 19.5+ KB\n"
          ]
        },
        {
          "output_type": "execute_result",
          "data": {
            "text/plain": [
              "No    125\n",
              "Name: ASD_Traits, dtype: int64"
            ]
          },
          "metadata": {},
          "execution_count": 180
        }
      ]
    },
    {
      "cell_type": "code",
      "source": [
        "equal_male = pd.concat([y_male,n_male], axis=0)\n",
        "equal_male.info()"
      ],
      "metadata": {
        "colab": {
          "base_uri": "https://localhost:8080/"
        },
        "id": "uOybJqLe1HNc",
        "outputId": "17f61a90-770e-4a19-f6e8-1b6a9bee7940"
      },
      "execution_count": 181,
      "outputs": [
        {
          "output_type": "stream",
          "name": "stdout",
          "text": [
            "<class 'pandas.core.frame.DataFrame'>\n",
            "Int64Index: 319 entries, 1 to 704\n",
            "Data columns (total 19 columns):\n",
            " #   Column                  Non-Null Count  Dtype \n",
            "---  ------                  --------------  ----- \n",
            " 0   Case_No                 319 non-null    int64 \n",
            " 1   A1                      319 non-null    int64 \n",
            " 2   A2                      319 non-null    int64 \n",
            " 3   A3                      319 non-null    int64 \n",
            " 4   A4                      319 non-null    int64 \n",
            " 5   A5                      319 non-null    int64 \n",
            " 6   A6                      319 non-null    int64 \n",
            " 7   A7                      319 non-null    int64 \n",
            " 8   A8                      319 non-null    int64 \n",
            " 9   A9                      319 non-null    int64 \n",
            " 10  A10                     319 non-null    int64 \n",
            " 11  Age_Mons                319 non-null    int64 \n",
            " 12  Qchat-10-Score          319 non-null    int64 \n",
            " 13  Sex                     319 non-null    object\n",
            " 14  Ethnicity               319 non-null    object\n",
            " 15  Jaundice                319 non-null    object\n",
            " 16  Family_mem_with_ASD     319 non-null    object\n",
            " 17  Who completed the test  319 non-null    object\n",
            " 18  ASD_Traits              319 non-null    object\n",
            "dtypes: int64(13), object(6)\n",
            "memory usage: 49.8+ KB\n"
          ]
        }
      ]
    },
    {
      "cell_type": "code",
      "source": [
        "equal_ratio = pd.concat([f_only, equal_male], axis=0)\n",
        "equal_ratio.info()"
      ],
      "metadata": {
        "colab": {
          "base_uri": "https://localhost:8080/"
        },
        "id": "SmJ8OW631O70",
        "outputId": "5728d72b-7c95-4b5a-ca7b-cc09fda30a34"
      },
      "execution_count": 182,
      "outputs": [
        {
          "output_type": "stream",
          "name": "stdout",
          "text": [
            "<class 'pandas.core.frame.DataFrame'>\n",
            "Int64Index: 638 entries, 0 to 704\n",
            "Data columns (total 19 columns):\n",
            " #   Column                  Non-Null Count  Dtype \n",
            "---  ------                  --------------  ----- \n",
            " 0   Case_No                 638 non-null    int64 \n",
            " 1   A1                      638 non-null    int64 \n",
            " 2   A2                      638 non-null    int64 \n",
            " 3   A3                      638 non-null    int64 \n",
            " 4   A4                      638 non-null    int64 \n",
            " 5   A5                      638 non-null    int64 \n",
            " 6   A6                      638 non-null    int64 \n",
            " 7   A7                      638 non-null    int64 \n",
            " 8   A8                      638 non-null    int64 \n",
            " 9   A9                      638 non-null    int64 \n",
            " 10  A10                     638 non-null    int64 \n",
            " 11  Age_Mons                638 non-null    int64 \n",
            " 12  Qchat-10-Score          638 non-null    int64 \n",
            " 13  Sex                     638 non-null    object\n",
            " 14  Ethnicity               638 non-null    object\n",
            " 15  Jaundice                638 non-null    object\n",
            " 16  Family_mem_with_ASD     638 non-null    object\n",
            " 17  Who completed the test  638 non-null    object\n",
            " 18  ASD_Traits              638 non-null    object\n",
            "dtypes: int64(13), object(6)\n",
            "memory usage: 99.7+ KB\n"
          ]
        }
      ]
    },
    {
      "cell_type": "code",
      "source": [
        "equal_ratio = equal_ratio.drop(['Case_No','Qchat-10-Score','Who completed the test'], axis=1)"
      ],
      "metadata": {
        "id": "0KU8XulF1S3S"
      },
      "execution_count": 183,
      "outputs": []
    },
    {
      "cell_type": "code",
      "source": [
        "preprocess(age, char_vals,equal_ratio)"
      ],
      "metadata": {
        "colab": {
          "base_uri": "https://localhost:8080/"
        },
        "id": "Yqtm7j2P1XT4",
        "outputId": "f40e8ff7-d16a-4092-c7e1-19f03cf4872d"
      },
      "execution_count": 184,
      "outputs": [
        {
          "output_type": "stream",
          "name": "stdout",
          "text": [
            "A1                       int64\n",
            "A2                       int64\n",
            "A3                       int64\n",
            "A4                       int64\n",
            "A5                       int64\n",
            "A6                       int64\n",
            "A7                       int64\n",
            "A8                       int64\n",
            "A9                       int64\n",
            "A10                      int64\n",
            "Age_Mons               float64\n",
            "Sex                    float64\n",
            "Ethnicity              float64\n",
            "Jaundice               float64\n",
            "Family_mem_with_ASD    float64\n",
            "ASD_Traits             float64\n",
            "dtype: object\n",
            "    A1  A2  A3  A4  A5  A6  A7  A8  A9  A10  Age_Mons  Sex  Ethnicity  \\\n",
            "0    0   0   0   0   0   0   1   1   0    1  0.666667  1.0        0.0   \n",
            "4    1   1   0   1   1   1   1   1   1    1  0.333333  1.0        0.0   \n",
            "12   0   0   0   0   0   0   0   0   0    0  0.541667  1.0        0.0   \n",
            "13   1   1   1   1   0   0   1   0   1    1  0.125000  1.0        0.0   \n",
            "17   1   1   1   0   1   1   1   1   0    1  0.000000  1.0        0.0   \n",
            "\n",
            "    Jaundice  Family_mem_with_ASD  ASD_Traits  \n",
            "0        0.0                  1.0         1.0  \n",
            "4        1.0                  0.0         0.0  \n",
            "12       0.0                  1.0         1.0  \n",
            "13       0.0                  1.0         0.0  \n",
            "17       0.0                  1.0         0.0  \n"
          ]
        }
      ]
    },
    {
      "cell_type": "code",
      "source": [
        "X_equal = equal_ratio.drop(\"ASD_Traits\", axis=1)\n",
        "y_equal = equal_ratio[\"ASD_Traits\"]\n",
        "\n",
        "X_equal_train, X_equal_test, y_equal_train, y_equal_test = train_test_split(X_equal,y_equal, test_size=0.3, random_state=42, stratify = y_equal)"
      ],
      "metadata": {
        "id": "gSFBOUoJ1dUc"
      },
      "execution_count": 185,
      "outputs": []
    },
    {
      "cell_type": "code",
      "source": [
        "ada_equal = AdaBoostClassifier()\n",
        "ada_equal = ada_equal.fit(X_equal_train, y_equal_train)\n",
        "\n",
        "scores_equal = cross_val_score(ada_equal, X_equal_train, y_equal_train, scoring='accuracy',cv=cv, n_jobs=-1,error_score='raise')\n",
        "\n",
        "print('AdaBoostClassifier Equal Dataset accuracy:  %.3f (%.3f)' % (mean(scores_equal),std(scores_equal)))"
      ],
      "metadata": {
        "colab": {
          "base_uri": "https://localhost:8080/"
        },
        "id": "QyykAeM410Yq",
        "outputId": "b69a8c7d-cf08-4cce-c3b3-9d348a30e1ab"
      },
      "execution_count": 186,
      "outputs": [
        {
          "output_type": "stream",
          "name": "stdout",
          "text": [
            "AdaBoostClassifier Equal Dataset accuracy:  0.999 (0.008)\n"
          ]
        }
      ]
    },
    {
      "cell_type": "code",
      "source": [
        "cross_validation_results(ada_equal,X_equal_train, y_equal_train, metrics, cv=10)"
      ],
      "metadata": {
        "colab": {
          "base_uri": "https://localhost:8080/"
        },
        "id": "gcHgA3TpOqUP",
        "outputId": "222603f5-f417-4b4f-ced1-81dfb14d70cb"
      },
      "execution_count": 187,
      "outputs": [
        {
          "output_type": "stream",
          "name": "stdout",
          "text": [
            "Mean Test Precision:  1.0\n",
            "Mean Test Recall:  1.0\n",
            "Mean Test F1:  1.0\n",
            "Accuracy:  1.0\n"
          ]
        }
      ]
    },
    {
      "cell_type": "code",
      "source": [
        "ConfusionMatrixDisplay.from_estimator(ada_equal, X_equal_train, y_equal_train)"
      ],
      "metadata": {
        "colab": {
          "base_uri": "https://localhost:8080/",
          "height": 296
        },
        "id": "LpB1t72KNbsz",
        "outputId": "cd201c0a-5b66-4c64-8ae0-431aaaf2486b"
      },
      "execution_count": 188,
      "outputs": [
        {
          "output_type": "execute_result",
          "data": {
            "text/plain": [
              "<sklearn.metrics._plot.confusion_matrix.ConfusionMatrixDisplay at 0x7f2a20058850>"
            ]
          },
          "metadata": {},
          "execution_count": 188
        },
        {
          "output_type": "display_data",
          "data": {
            "text/plain": [
              "<Figure size 432x288 with 2 Axes>"
            ],
            "image/png": "[encoded data removed]"
          },
          "metadata": {
            "needs_background": "light"
          }
        }
      ]
    },
    {
      "cell_type": "code",
      "source": [
        "y_equal_pred = ada_equal.predict(X_equal_test)\n",
        "print(\"Accuracy: \", accuracy_score(y_equal_test, y_equal_pred))"
      ],
      "metadata": {
        "colab": {
          "base_uri": "https://localhost:8080/"
        },
        "id": "gKYWT1MOKOnX",
        "outputId": "bd9fdc66-5f06-410d-e699-dada33c07cf0"
      },
      "execution_count": 189,
      "outputs": [
        {
          "output_type": "stream",
          "name": "stdout",
          "text": [
            "Accuracy:  1.0\n"
          ]
        }
      ]
    },
    {
      "cell_type": "code",
      "source": [
        "evaluate_on_test(ada_equal, X_equal_test, y_equal_test)"
      ],
      "metadata": {
        "colab": {
          "base_uri": "https://localhost:8080/",
          "height": 348
        },
        "id": "yuWxuw_4lzLm",
        "outputId": "d7623eab-b097-46df-ff47-65a6f12ebc09"
      },
      "execution_count": 190,
      "outputs": [
        {
          "output_type": "stream",
          "name": "stdout",
          "text": [
            "Accuracy:  1.0\n",
            "Precision:  1.0\n",
            "Recall:  1.0\n",
            "F1:  1.0\n"
          ]
        },
        {
          "output_type": "display_data",
          "data": {
            "text/plain": [
              "<Figure size 432x288 with 2 Axes>"
            ],
            "image/png": "[encoded data removed]"
          },
          "metadata": {
            "needs_background": "light"
          }
        }
      ]
    },
    {
      "cell_type": "code",
      "source": [
        "importance_equal = ada_equal.feature_importances_\n",
        "\n",
        "equal_importances = sorted(zip(importance_equal, features), reverse=True)\n",
        "equal_importances"
      ],
      "metadata": {
        "colab": {
          "base_uri": "https://localhost:8080/"
        },
        "id": "KcywtaPOEjeX",
        "outputId": "6056e61f-d08d-4629-cb6f-864838d88186"
      },
      "execution_count": 191,
      "outputs": [
        {
          "output_type": "execute_result",
          "data": {
            "text/plain": [
              "[(0.12, 'A1'),\n",
              " (0.1, 'A8'),\n",
              " (0.1, 'A7'),\n",
              " (0.1, 'A6'),\n",
              " (0.1, 'A4'),\n",
              " (0.1, 'A2'),\n",
              " (0.1, 'A10'),\n",
              " (0.08, 'A5'),\n",
              " (0.08, 'A3'),\n",
              " (0.06, 'A9'),\n",
              " (0.02, 'Jaundice'),\n",
              " (0.02, 'Family_mem_with_ASD'),\n",
              " (0.02, 'Age_Mons'),\n",
              " (0.0, 'Sex'),\n",
              " (0.0, 'Ethnicity')]"
            ]
          },
          "metadata": {},
          "execution_count": 191
        }
      ]
    },
    {
      "cell_type": "markdown",
      "source": [
        "**Female Only**"
      ],
      "metadata": {
        "id": "aL-yZUwZ5lMb"
      }
    },
    {
      "cell_type": "code",
      "source": [
        "f_only.head()"
      ],
      "metadata": {
        "colab": {
          "base_uri": "https://localhost:8080/",
          "height": 206
        },
        "id": "6jtcdgiQCpAl",
        "outputId": "1b0c5b17-c859-4b7b-bac8-9d6e26a40568"
      },
      "execution_count": 192,
      "outputs": [
        {
          "output_type": "execute_result",
          "data": {
            "text/plain": [
              "    Case_No  A1  A2  A3  A4  A5  A6  A7  A8  A9  A10  Age_Mons  \\\n",
              "0         1   0   0   0   0   0   0   1   1   0    1        28   \n",
              "4         5   1   1   0   1   1   1   1   1   1    1        20   \n",
              "12       13   0   0   0   0   0   0   0   0   0    0        25   \n",
              "13       14   1   1   1   1   0   0   1   0   1    1        15   \n",
              "17       18   1   1   1   0   1   1   1   1   0    1        12   \n",
              "\n",
              "    Qchat-10-Score Sex       Ethnicity Jaundice Family_mem_with_ASD  \\\n",
              "0                3   f  middle eastern      yes                  no   \n",
              "4                9   f  White European       no                 yes   \n",
              "12               0   f  middle eastern      yes                  no   \n",
              "13               7   f  middle eastern      yes                  no   \n",
              "17               8   f  middle eastern      yes                  no   \n",
              "\n",
              "   Who completed the test ASD_Traits  \n",
              "0           family member         No  \n",
              "4           family member        Yes  \n",
              "12          family member         No  \n",
              "13          family member        Yes  \n",
              "17          family member        Yes  "
            ],
            "text/html": [
              "\n",
              "  <div id=\"df-b7424bfc-82f2-45da-aa8f-2d8820d3bf2c\">\n",
              "    <div class=\"colab-df-container\">\n",
              "      <div>\n",
              "<style scoped>\n",
              "    .dataframe tbody tr th:only-of-type {\n",
              "        vertical-align: middle;\n",
              "    }\n",
              "\n",
              "    .dataframe tbody tr th {\n",
              "        vertical-align: top;\n",
              "    }\n",
              "\n",
              "    .dataframe thead th {\n",
              "        text-align: right;\n",
              "    }\n",
              "</style>\n",
              "<table border=\"1\" class=\"dataframe\">\n",
              "  <thead>\n",
              "    <tr style=\"text-align: right;\">\n",
              "      <th></th>\n",
              "      <th>Case_No</th>\n",
              "      <th>A1</th>\n",
              "      <th>A2</th>\n",
              "      <th>A3</th>\n",
              "      <th>A4</th>\n",
              "      <th>A5</th>\n",
              "      <th>A6</th>\n",
              "      <th>A7</th>\n",
              "      <th>A8</th>\n",
              "      <th>A9</th>\n",
              "      <th>A10</th>\n",
              "      <th>Age_Mons</th>\n",
              "      <th>Qchat-10-Score</th>\n",
              "      <th>Sex</th>\n",
              "      <th>Ethnicity</th>\n",
              "      <th>Jaundice</th>\n",
              "      <th>Family_mem_with_ASD</th>\n",
              "      <th>Who completed the test</th>\n",
              "      <th>ASD_Traits</th>\n",
              "    </tr>\n",
              "  </thead>\n",
              "  <tbody>\n",
              "    <tr>\n",
              "      <th>0</th>\n",
              "      <td>1</td>\n",
              "      <td>0</td>\n",
              "      <td>0</td>\n",
              "      <td>0</td>\n",
              "      <td>0</td>\n",
              "      <td>0</td>\n",
              "      <td>0</td>\n",
              "      <td>1</td>\n",
              "      <td>1</td>\n",
              "      <td>0</td>\n",
              "      <td>1</td>\n",
              "      <td>28</td>\n",
              "      <td>3</td>\n",
              "      <td>f</td>\n",
              "      <td>middle eastern</td>\n",
              "      <td>yes</td>\n",
              "      <td>no</td>\n",
              "      <td>family member</td>\n",
              "      <td>No</td>\n",
              "    </tr>\n",
              "    <tr>\n",
              "      <th>4</th>\n",
              "      <td>5</td>\n",
              "      <td>1</td>\n",
              "      <td>1</td>\n",
              "      <td>0</td>\n",
              "      <td>1</td>\n",
              "      <td>1</td>\n",
              "      <td>1</td>\n",
              "      <td>1</td>\n",
              "      <td>1</td>\n",
              "      <td>1</td>\n",
              "      <td>1</td>\n",
              "      <td>20</td>\n",
              "      <td>9</td>\n",
              "      <td>f</td>\n",
              "      <td>White European</td>\n",
              "      <td>no</td>\n",
              "      <td>yes</td>\n",
              "      <td>family member</td>\n",
              "      <td>Yes</td>\n",
              "    </tr>\n",
              "    <tr>\n",
              "      <th>12</th>\n",
              "      <td>13</td>\n",
              "      <td>0</td>\n",
              "      <td>0</td>\n",
              "      <td>0</td>\n",
              "      <td>0</td>\n",
              "      <td>0</td>\n",
              "      <td>0</td>\n",
              "      <td>0</td>\n",
              "      <td>0</td>\n",
              "      <td>0</td>\n",
              "      <td>0</td>\n",
              "      <td>25</td>\n",
              "      <td>0</td>\n",
              "      <td>f</td>\n",
              "      <td>middle eastern</td>\n",
              "      <td>yes</td>\n",
              "      <td>no</td>\n",
              "      <td>family member</td>\n",
              "      <td>No</td>\n",
              "    </tr>\n",
              "    <tr>\n",
              "      <th>13</th>\n",
              "      <td>14</td>\n",
              "      <td>1</td>\n",
              "      <td>1</td>\n",
              "      <td>1</td>\n",
              "      <td>1</td>\n",
              "      <td>0</td>\n",
              "      <td>0</td>\n",
              "      <td>1</td>\n",
              "      <td>0</td>\n",
              "      <td>1</td>\n",
              "      <td>1</td>\n",
              "      <td>15</td>\n",
              "      <td>7</td>\n",
              "      <td>f</td>\n",
              "      <td>middle eastern</td>\n",
              "      <td>yes</td>\n",
              "      <td>no</td>\n",
              "      <td>family member</td>\n",
              "      <td>Yes</td>\n",
              "    </tr>\n",
              "    <tr>\n",
              "      <th>17</th>\n",
              "      <td>18</td>\n",
              "      <td>1</td>\n",
              "      <td>1</td>\n",
              "      <td>1</td>\n",
              "      <td>0</td>\n",
              "      <td>1</td>\n",
              "      <td>1</td>\n",
              "      <td>1</td>\n",
              "      <td>1</td>\n",
              "      <td>0</td>\n",
              "      <td>1</td>\n",
              "      <td>12</td>\n",
              "      <td>8</td>\n",
              "      <td>f</td>\n",
              "      <td>middle eastern</td>\n",
              "      <td>yes</td>\n",
              "      <td>no</td>\n",
              "      <td>family member</td>\n",
              "      <td>Yes</td>\n",
              "    </tr>\n",
              "  </tbody>\n",
              "</table>\n",
              "</div>\n",
              "      <button class=\"colab-df-convert\" onclick=\"convertToInteractive('df-b7424bfc-82f2-45da-aa8f-2d8820d3bf2c')\"\n",
              "              title=\"Convert this dataframe to an interactive table.\"\n",
              "              style=\"display:none;\">\n",
              "        \n",
              "  <svg xmlns=\"http://www.w3.org/2000/svg\" height=\"24px\"viewBox=\"0 0 24 24\"\n",
              "       width=\"24px\">\n",
              "    <path d=\"M0 0h24v24H0V0z\" fill=\"none\"/>\n",
              "    <path d=\"M18.56 5.44l.94 2.06.94-2.06 2.06-.94-2.06-.94-.94-2.06-.94 2.06-2.06.94zm-11 1L8.5 8.5l.94-2.06 2.06-.94-2.06-.94L8.5 2.5l-.94 2.06-2.06.94zm10 10l.94 2.06.94-2.06 2.06-.94-2.06-.94-.94-2.06-.94 2.06-2.06.94z\"/><path d=\"M17.41 7.96l-1.37-1.37c-.4-.4-.92-.59-1.43-.59-.52 0-1.04.2-1.43.59L10.3 9.45l-7.72 7.72c-.78.78-.78 2.05 0 2.83L4 21.41c.39.39.9.59 1.41.59.51 0 1.02-.2 1.41-.59l7.78-7.78 2.81-2.81c.8-.78.8-2.07 0-2.86zM5.41 20L4 18.59l7.72-7.72 1.47 1.35L5.41 20z\"/>\n",
              "  </svg>\n",
              "      </button>\n",
              "      \n",
              "  <style>\n",
              "    .colab-df-container {\n",
              "      display:flex;\n",
              "      flex-wrap:wrap;\n",
              "      gap: 12px;\n",
              "    }\n",
              "\n",
              "    .colab-df-convert {\n",
              "      background-color: #E8F0FE;\n",
              "      border: none;\n",
              "      border-radius: 50%;\n",
              "      cursor: pointer;\n",
              "      display: none;\n",
              "      fill: #1967D2;\n",
              "      height: 32px;\n",
              "      padding: 0 0 0 0;\n",
              "      width: 32px;\n",
              "    }\n",
              "\n",
              "    .colab-df-convert:hover {\n",
              "      background-color: #E2EBFA;\n",
              "      box-shadow: 0px 1px 2px rgba(60, 64, 67, 0.3), 0px 1px 3px 1px rgba(60, 64, 67, 0.15);\n",
              "      fill: #174EA6;\n",
              "    }\n",
              "\n",
              "    [theme=dark] .colab-df-convert {\n",
              "      background-color: #3B4455;\n",
              "      fill: #D2E3FC;\n",
              "    }\n",
              "\n",
              "    [theme=dark] .colab-df-convert:hover {\n",
              "      background-color: #434B5C;\n",
              "      box-shadow: 0px 1px 3px 1px rgba(0, 0, 0, 0.15);\n",
              "      filter: drop-shadow(0px 1px 2px rgba(0, 0, 0, 0.3));\n",
              "      fill: #FFFFFF;\n",
              "    }\n",
              "  </style>\n",
              "\n",
              "      <script>\n",
              "        const buttonEl =\n",
              "          document.querySelector('#df-b7424bfc-82f2-45da-aa8f-2d8820d3bf2c button.colab-df-convert');\n",
              "        buttonEl.style.display =\n",
              "          google.colab.kernel.accessAllowed ? 'block' : 'none';\n",
              "\n",
              "        async function convertToInteractive(key) {\n",
              "          const element = document.querySelector('#df-b7424bfc-82f2-45da-aa8f-2d8820d3bf2c');\n",
              "          const dataTable =\n",
              "            await google.colab.kernel.invokeFunction('convertToInteractive',\n",
              "                                                     [key], {});\n",
              "          if (!dataTable) return;\n",
              "\n",
              "          const docLinkHtml = 'Like what you see? Visit the ' +\n",
              "            '<a target=\"_blank\" href=https://colab.research.google.com/notebooks/data_table.ipynb>data table notebook</a>'\n",
              "            + ' to learn more about interactive tables.';\n",
              "          element.innerHTML = '';\n",
              "          dataTable['output_type'] = 'display_data';\n",
              "          await google.colab.output.renderOutput(dataTable, element);\n",
              "          const docLink = document.createElement('div');\n",
              "          docLink.innerHTML = docLinkHtml;\n",
              "          element.appendChild(docLink);\n",
              "        }\n",
              "      </script>\n",
              "    </div>\n",
              "  </div>\n",
              "  "
            ]
          },
          "metadata": {},
          "execution_count": 192
        }
      ]
    },
    {
      "cell_type": "code",
      "source": [
        "f_only['ASD_Traits'].value_counts()"
      ],
      "metadata": {
        "colab": {
          "base_uri": "https://localhost:8080/"
        },
        "id": "tqjBPYahBja9",
        "outputId": "109f85d3-4460-4bfe-e2b6-402c5e4449b3"
      },
      "execution_count": 193,
      "outputs": [
        {
          "output_type": "execute_result",
          "data": {
            "text/plain": [
              "Yes    194\n",
              "No     125\n",
              "Name: ASD_Traits, dtype: int64"
            ]
          },
          "metadata": {},
          "execution_count": 193
        }
      ]
    },
    {
      "cell_type": "code",
      "source": [
        "f_only = f_only.drop([\"Case_No\",\"Qchat-10-Score\",\"Who completed the test\"], axis=1)"
      ],
      "metadata": {
        "id": "SQkhIjRwPxbQ"
      },
      "execution_count": 194,
      "outputs": []
    },
    {
      "cell_type": "code",
      "source": [
        "preprocess(age, char_vals,f_only)"
      ],
      "metadata": {
        "colab": {
          "base_uri": "https://localhost:8080/"
        },
        "id": "HoRRQZa_DUWX",
        "outputId": "f7090249-75f5-4644-d283-55277c64e140"
      },
      "execution_count": 195,
      "outputs": [
        {
          "output_type": "stream",
          "name": "stdout",
          "text": [
            "A1                       int64\n",
            "A2                       int64\n",
            "A3                       int64\n",
            "A4                       int64\n",
            "A5                       int64\n",
            "A6                       int64\n",
            "A7                       int64\n",
            "A8                       int64\n",
            "A9                       int64\n",
            "A10                      int64\n",
            "Age_Mons               float64\n",
            "Sex                    float64\n",
            "Ethnicity              float64\n",
            "Jaundice               float64\n",
            "Family_mem_with_ASD    float64\n",
            "ASD_Traits             float64\n",
            "dtype: object\n",
            "    A1  A2  A3  A4  A5  A6  A7  A8  A9  A10  Age_Mons  Sex  Ethnicity  \\\n",
            "0    0   0   0   0   0   0   1   1   0    1  0.666667  1.0        0.0   \n",
            "4    1   1   0   1   1   1   1   1   1    1  0.333333  1.0        0.0   \n",
            "12   0   0   0   0   0   0   0   0   0    0  0.541667  1.0        0.0   \n",
            "13   1   1   1   1   0   0   1   0   1    1  0.125000  1.0        0.0   \n",
            "17   1   1   1   0   1   1   1   1   0    1  0.000000  1.0        0.0   \n",
            "\n",
            "    Jaundice  Family_mem_with_ASD  ASD_Traits  \n",
            "0        0.0                  1.0         1.0  \n",
            "4        1.0                  0.0         0.0  \n",
            "12       0.0                  1.0         1.0  \n",
            "13       0.0                  1.0         0.0  \n",
            "17       0.0                  1.0         0.0  \n"
          ]
        }
      ]
    },
    {
      "cell_type": "code",
      "source": [
        "X_f = f_only.drop(\"ASD_Traits\", axis=1)\n",
        "y_f = f_only[\"ASD_Traits\"]\n",
        "\n",
        "X_f_train, X_f_test, y_f_train, y_f_test = train_test_split(X_f,y_f, test_size=0.3, random_state=42, stratify=y_f)"
      ],
      "metadata": {
        "id": "bwgDwaoV5pRl"
      },
      "execution_count": 196,
      "outputs": []
    },
    {
      "cell_type": "code",
      "source": [
        "ada_f = AdaBoostClassifier()\n",
        "ada_f_model = ada_f.fit(X_f_train, y_f_train)\n",
        "# scores_f = cross_val_score(ada_f_model, X_f_train, y_f_train, scoring='accuracy',cv=cv, n_jobs=-1,error_score='raise')\n",
        "# print('AdaBoostClassifier Female Dataset accuracy:  %.3f (%.3f)' % (mean(scores_f),std(scores_f)))"
      ],
      "metadata": {
        "id": "Rmb_y00I7NCF"
      },
      "execution_count": 197,
      "outputs": []
    },
    {
      "cell_type": "code",
      "source": [
        "cross_validation_results(ada_f_model, X_f_train, y_f_train, metrics, cv=10)"
      ],
      "metadata": {
        "colab": {
          "base_uri": "https://localhost:8080/"
        },
        "id": "xT3N8qGTQpIx",
        "outputId": "ebe9f8d0-e033-414a-9e13-6adedec3380e"
      },
      "execution_count": 198,
      "outputs": [
        {
          "output_type": "stream",
          "name": "stdout",
          "text": [
            "Mean Test Precision:  0.99\n",
            "Mean Test Recall:  0.951388888888889\n",
            "Mean Test F1:  0.9657775660871636\n",
            "Accuracy:  0.9774703557312254\n"
          ]
        }
      ]
    },
    {
      "cell_type": "code",
      "source": [
        "from sklearn.model_selection import cross_val_predict\n",
        "\n",
        "y_f_pred = cross_val_predict(ada_f_model, X_f_train, y_f_train, cv=10)\n",
        "\n",
        "ConfusionMatrixDisplay.from_predictions(y_f_train, y_f_pred)\n"
      ],
      "metadata": {
        "colab": {
          "base_uri": "https://localhost:8080/",
          "height": 296
        },
        "id": "DV74MG8Qb2et",
        "outputId": "3ce7c08d-f732-4f54-e6fe-a42bffe78820"
      },
      "execution_count": 199,
      "outputs": [
        {
          "output_type": "execute_result",
          "data": {
            "text/plain": [
              "<sklearn.metrics._plot.confusion_matrix.ConfusionMatrixDisplay at 0x7f2a187f9970>"
            ]
          },
          "metadata": {},
          "execution_count": 199
        },
        {
          "output_type": "display_data",
          "data": {
            "text/plain": [
              "<Figure size 432x288 with 2 Axes>"
            ],
            "image/png": "[encoded data removed]"
          },
          "metadata": {
            "needs_background": "light"
          }
        }
      ]
    },
    {
      "cell_type": "code",
      "source": [
        "# https://datascience.stackexchange.com/questions/37899/sklearn-svm-how-to-get-a-list-of-the-wrong-predictions\n",
        "for row_index, (input, prediction, label) in enumerate(zip(X_f_train.values, y_f_pred, y_f_train)):\n",
        "    if prediction != label:\n",
        "        print('Row', row_index, 'has been classified as', prediction, 'and should be', label)"
      ],
      "metadata": {
        "colab": {
          "base_uri": "https://localhost:8080/"
        },
        "id": "eYjjfnTTdxU5",
        "outputId": "3db4c96f-7119-4a47-de22-a0245616db17"
      },
      "execution_count": 200,
      "outputs": [
        {
          "output_type": "stream",
          "name": "stdout",
          "text": [
            "Row 43 has been classified as 1.0 and should be 0.0\n",
            "Row 160 has been classified as 0.0 and should be 1.0\n",
            "Row 162 has been classified as 0.0 and should be 1.0\n",
            "Row 171 has been classified as 0.0 and should be 1.0\n",
            "Row 173 has been classified as 0.0 and should be 1.0\n"
          ]
        }
      ]
    },
    {
      "cell_type": "markdown",
      "source": [
        "3 False positives, 5 False negatives - When not stratified training and test data splits\n",
        "\\\n",
        "2 False positives - When stratified on target"
      ],
      "metadata": {
        "id": "3kjxtVlORH9v"
      }
    },
    {
      "cell_type": "code",
      "source": [
        "evaluate_on_test(ada_f_model, X_f_test,y_f_test)"
      ],
      "metadata": {
        "colab": {
          "base_uri": "https://localhost:8080/",
          "height": 348
        },
        "id": "X_Oqqqn5I8vj",
        "outputId": "525e7169-d173-4157-f7dd-2e63a11e75ff"
      },
      "execution_count": 201,
      "outputs": [
        {
          "output_type": "stream",
          "name": "stdout",
          "text": [
            "Accuracy:  1.0\n",
            "Precision:  1.0\n",
            "Recall:  1.0\n",
            "F1:  1.0\n"
          ]
        },
        {
          "output_type": "display_data",
          "data": {
            "text/plain": [
              "<Figure size 432x288 with 2 Axes>"
            ],
            "image/png": "[encoded data removed]"
          },
          "metadata": {
            "needs_background": "light"
          }
        }
      ]
    },
    {
      "cell_type": "code",
      "source": [
        "y_new_f_pred = ada_f_model.predict(X_f_test)"
      ],
      "metadata": {
        "id": "nqSFF4mNJcxi"
      },
      "execution_count": 202,
      "outputs": []
    },
    {
      "cell_type": "code",
      "source": [
        "for row_index, (input, prediction, label) in enumerate(zip(X_f_test.values, y_new_f_pred, y_f_test)):\n",
        "    if prediction != label:\n",
        "        print('Row', row_index, 'has been classified as', prediction, 'and should be', label, \"\\nInput:\",input)"
      ],
      "metadata": {
        "id": "iR1SX84lJM5O"
      },
      "execution_count": 203,
      "outputs": []
    },
    {
      "cell_type": "code",
      "source": [
        "importance_fem = ada_f_model.feature_importances_\n",
        "female_importances = sorted(zip(importance_fem, features), reverse=True)\n",
        "female_importances"
      ],
      "metadata": {
        "colab": {
          "base_uri": "https://localhost:8080/"
        },
        "id": "Q7wj78p2FVDZ",
        "outputId": "0bcb0b15-2a08-4ebb-db9f-09f6487c80e5"
      },
      "execution_count": 204,
      "outputs": [
        {
          "output_type": "execute_result",
          "data": {
            "text/plain": [
              "[(0.12, 'A4'),\n",
              " (0.12, 'A10'),\n",
              " (0.1, 'A9'),\n",
              " (0.1, 'A6'),\n",
              " (0.1, 'A1'),\n",
              " (0.08, 'A8'),\n",
              " (0.08, 'A5'),\n",
              " (0.08, 'A2'),\n",
              " (0.06, 'Age_Mons'),\n",
              " (0.06, 'A7'),\n",
              " (0.04, 'Jaundice'),\n",
              " (0.04, 'A3'),\n",
              " (0.02, 'Family_mem_with_ASD'),\n",
              " (0.0, 'Sex'),\n",
              " (0.0, 'Ethnicity')]"
            ]
          },
          "metadata": {},
          "execution_count": 204
        }
      ]
    },
    {
      "cell_type": "code",
      "source": [
        "PrecisionRecallDisplay.from_estimator(ada_f_model, X_f_test, y_f_test)"
      ],
      "metadata": {
        "colab": {
          "base_uri": "https://localhost:8080/",
          "height": 296
        },
        "id": "vF1WwKHBS4VC",
        "outputId": "58710d81-c276-42cb-9e6c-c202c4f0a43f"
      },
      "execution_count": 205,
      "outputs": [
        {
          "output_type": "execute_result",
          "data": {
            "text/plain": [
              "<sklearn.metrics._plot.precision_recall_curve.PrecisionRecallDisplay at 0x7f2a19ba3700>"
            ]
          },
          "metadata": {},
          "execution_count": 205
        },
        {
          "output_type": "display_data",
          "data": {
            "text/plain": [
              "<Figure size 432x288 with 1 Axes>"
            ],
            "image/png": "[encoded data removed]"
          },
          "metadata": {
            "needs_background": "light"
          }
        }
      ]
    },
    {
      "cell_type": "markdown",
      "source": [
        "**Male dataset**"
      ],
      "metadata": {
        "id": "OW53dhhAlyM9"
      }
    },
    {
      "cell_type": "code",
      "source": [
        "equal_male.head()\n",
        "equal_male[\"ASD_Traits\"].value_counts()"
      ],
      "metadata": {
        "colab": {
          "base_uri": "https://localhost:8080/"
        },
        "id": "Cdk8UVjTlxS_",
        "outputId": "7a80b546-f70c-45b4-d386-a9752f5fd87c"
      },
      "execution_count": 206,
      "outputs": [
        {
          "output_type": "execute_result",
          "data": {
            "text/plain": [
              "Yes    194\n",
              "No     125\n",
              "Name: ASD_Traits, dtype: int64"
            ]
          },
          "metadata": {},
          "execution_count": 206
        }
      ]
    },
    {
      "cell_type": "code",
      "source": [
        "equal_male = equal_male.drop([\"Case_No\",\"Qchat-10-Score\",\"Who completed the test\"], axis=1)"
      ],
      "metadata": {
        "id": "3_Av3p3hmeMG"
      },
      "execution_count": 207,
      "outputs": []
    },
    {
      "cell_type": "code",
      "source": [
        "preprocess(age, char_vals, equal_male)"
      ],
      "metadata": {
        "colab": {
          "base_uri": "https://localhost:8080/"
        },
        "id": "GANtKdysmPNb",
        "outputId": "f051127a-2513-43f3-baf2-9ddea8b47a08"
      },
      "execution_count": 208,
      "outputs": [
        {
          "output_type": "stream",
          "name": "stdout",
          "text": [
            "A1                       int64\n",
            "A2                       int64\n",
            "A3                       int64\n",
            "A4                       int64\n",
            "A5                       int64\n",
            "A6                       int64\n",
            "A7                       int64\n",
            "A8                       int64\n",
            "A9                       int64\n",
            "A10                      int64\n",
            "Age_Mons               float64\n",
            "Sex                    float64\n",
            "Ethnicity              float64\n",
            "Jaundice               float64\n",
            "Family_mem_with_ASD    float64\n",
            "ASD_Traits             float64\n",
            "dtype: object\n",
            "   A1  A2  A3  A4  A5  A6  A7  A8  A9  A10  Age_Mons  Sex  Ethnicity  \\\n",
            "1   1   1   0   0   0   1   1   0   0    0     1.000  1.0        0.0   \n",
            "2   1   0   0   0   0   0   1   1   0    1     1.000  1.0        0.0   \n",
            "3   1   1   1   1   1   1   1   1   1    1     0.500  1.0        1.0   \n",
            "5   1   1   0   0   1   1   1   1   1    1     0.375  1.0        0.0   \n",
            "6   1   0   0   1   1   1   0   0   1    0     0.875  1.0        0.0   \n",
            "\n",
            "   Jaundice  Family_mem_with_ASD  ASD_Traits  \n",
            "1       0.0                  1.0         0.0  \n",
            "2       0.0                  1.0         0.0  \n",
            "3       1.0                  1.0         0.0  \n",
            "5       1.0                  1.0         0.0  \n",
            "6       0.0                  1.0         0.0  \n"
          ]
        }
      ]
    },
    {
      "cell_type": "code",
      "source": [
        "X_m = equal_male.drop([\"ASD_Traits\"], axis=1)\n",
        "y_m = equal_male[\"ASD_Traits\"]\n",
        "\n",
        "X_m_train, X_m_test, y_m_train, y_m_test = train_test_split(X_m, y_m, test_size=0.30, random_state=42, stratify=y_m)"
      ],
      "metadata": {
        "id": "fZ_A2zqDmy0Z"
      },
      "execution_count": 209,
      "outputs": []
    },
    {
      "cell_type": "code",
      "source": [
        "male_ada = AdaBoostClassifier()\n",
        "male_ada = male_ada.fit(X_m_train, y_m_train)"
      ],
      "metadata": {
        "id": "x-DaBZeJn16f"
      },
      "execution_count": 210,
      "outputs": []
    },
    {
      "cell_type": "code",
      "source": [
        "cross_validation_results(male_ada, X_m_train, y_m_train, metrics, cv=10)"
      ],
      "metadata": {
        "colab": {
          "base_uri": "https://localhost:8080/"
        },
        "id": "CiBnyiwLoApn",
        "outputId": "1697ab8c-2a0b-4e0c-fcf2-3875b49dbf40"
      },
      "execution_count": 211,
      "outputs": [
        {
          "output_type": "stream",
          "name": "stdout",
          "text": [
            "Mean Test Precision:  0.9627272727272727\n",
            "Mean Test Recall:  0.976388888888889\n",
            "Mean Test F1:  0.9680701754385964\n",
            "Accuracy:  0.9727272727272727\n"
          ]
        }
      ]
    },
    {
      "cell_type": "code",
      "source": [
        "y_m_pred = cross_val_predict(male_ada, X_m_train, y_m_train, cv=10)\n",
        "\n",
        "ConfusionMatrixDisplay.from_predictions(y_m_train, y_m_pred)"
      ],
      "metadata": {
        "colab": {
          "base_uri": "https://localhost:8080/",
          "height": 296
        },
        "id": "i0nwGoH2q8s6",
        "outputId": "642b684f-bdd6-49d9-f9ad-a5f5f7549390"
      },
      "execution_count": 212,
      "outputs": [
        {
          "output_type": "execute_result",
          "data": {
            "text/plain": [
              "<sklearn.metrics._plot.confusion_matrix.ConfusionMatrixDisplay at 0x7f2a19f274f0>"
            ]
          },
          "metadata": {},
          "execution_count": 212
        },
        {
          "output_type": "display_data",
          "data": {
            "text/plain": [
              "<Figure size 432x288 with 2 Axes>"
            ],
            "image/png": "[encoded data removed]"
          },
          "metadata": {
            "needs_background": "light"
          }
        }
      ]
    },
    {
      "cell_type": "code",
      "source": [
        "for row_index, (input, prediction, label) in enumerate(zip(X_m_train.values, y_m_pred, y_m_train)):\n",
        "    if prediction != label:\n",
        "        print('Row', row_index, 'has been classified as', prediction, 'and should be', label, \"\\nInput:\",input)"
      ],
      "metadata": {
        "colab": {
          "base_uri": "https://localhost:8080/"
        },
        "id": "AtvpZvuQrPl-",
        "outputId": "8d4f30ed-83e3-4de1-9b79-1147f00af2e4"
      },
      "execution_count": 213,
      "outputs": [
        {
          "output_type": "stream",
          "name": "stdout",
          "text": [
            "Row 105 has been classified as 1.0 and should be 0.0 \n",
            "Input: [0.         0.         0.         0.         1.         1.\n",
            " 1.         0.         0.         1.         0.79166667 1.\n",
            " 1.         0.         1.        ]\n",
            "Row 121 has been classified as 1.0 and should be 0.0 \n",
            "Input: [0. 0. 1. 1. 0. 0. 0. 1. 0. 1. 1. 1. 0. 1. 1.]\n",
            "Row 127 has been classified as 1.0 and should be 0.0 \n",
            "Input: [0.         0.         1.         1.         0.         0.\n",
            " 1.         0.         0.         1.         0.83333333 1.\n",
            " 0.         1.         1.        ]\n",
            "Row 131 has been classified as 1.0 and should be 0.0 \n",
            "Input: [1.         0.         1.         1.         1.         0.\n",
            " 1.         0.         0.         0.         0.45833333 1.\n",
            " 0.         1.         1.        ]\n",
            "Row 135 has been classified as 0.0 and should be 1.0 \n",
            "Input: [1.    0.    0.    0.    0.    1.    0.    0.    1.    0.    0.875 1.\n",
            " 0.    1.    0.   ]\n",
            "Row 175 has been classified as 0.0 and should be 1.0 \n",
            "Input: [0. 0. 0. 1. 0. 0. 1. 1. 0. 0. 1. 1. 1. 1. 1.]\n"
          ]
        }
      ]
    },
    {
      "cell_type": "code",
      "source": [
        "importance_m = male_ada.feature_importances_\n",
        "male_importances = sorted(zip(importance_m, features), reverse=True)\n",
        "male_importances"
      ],
      "metadata": {
        "colab": {
          "base_uri": "https://localhost:8080/"
        },
        "id": "Uv370u_6rjSS",
        "outputId": "fec8dcc0-b7fc-4142-84d2-8cee2ba1dba5"
      },
      "execution_count": 214,
      "outputs": [
        {
          "output_type": "execute_result",
          "data": {
            "text/plain": [
              "[(0.12, 'A7'),\n",
              " (0.12, 'A2'),\n",
              " (0.12, 'A10'),\n",
              " (0.1, 'A8'),\n",
              " (0.1, 'A6'),\n",
              " (0.1, 'A3'),\n",
              " (0.08, 'A9'),\n",
              " (0.08, 'A5'),\n",
              " (0.08, 'A4'),\n",
              " (0.06, 'A1'),\n",
              " (0.02, 'Family_mem_with_ASD'),\n",
              " (0.02, 'Age_Mons'),\n",
              " (0.0, 'Sex'),\n",
              " (0.0, 'Jaundice'),\n",
              " (0.0, 'Ethnicity')]"
            ]
          },
          "metadata": {},
          "execution_count": 214
        }
      ]
    },
    {
      "cell_type": "code",
      "source": [
        "evaluate_on_test(male_ada, X_m_test, y_m_test)"
      ],
      "metadata": {
        "colab": {
          "base_uri": "https://localhost:8080/",
          "height": 348
        },
        "id": "Y2IloJpyrfQu",
        "outputId": "3210bd36-b5d7-426d-f768-0228a230628d"
      },
      "execution_count": 215,
      "outputs": [
        {
          "output_type": "stream",
          "name": "stdout",
          "text": [
            "Accuracy:  0.9791666666666666\n",
            "Precision:  0.9736842105263158\n",
            "Recall:  0.9736842105263158\n",
            "F1:  0.9736842105263158\n"
          ]
        },
        {
          "output_type": "display_data",
          "data": {
            "text/plain": [
              "<Figure size 432x288 with 2 Axes>"
            ],
            "image/png": "[encoded data removed]"
          },
          "metadata": {
            "needs_background": "light"
          }
        }
      ]
    },
    {
      "cell_type": "code",
      "source": [
        "def show_incorrectly_classified(predictors, predictions, target):\n",
        "  for row_index, (input, prediction, label) in enumerate(zip(predictors.values, predictions, target)):\n",
        "    if prediction != label:\n",
        "        print('Row', row_index, 'has been classified as', prediction, 'and should be', label, \"\\nInput:\",input)"
      ],
      "metadata": {
        "id": "KBzHUpzQsDUb"
      },
      "execution_count": 216,
      "outputs": []
    },
    {
      "cell_type": "code",
      "source": [
        "m_pred = male_ada.predict(X_m_test)\n",
        "\n",
        "show_incorrectly_classified(X_m_test, m_pred, y_m_test)"
      ],
      "metadata": {
        "colab": {
          "base_uri": "https://localhost:8080/"
        },
        "id": "rmFuk35Xsdbx",
        "outputId": "8eeaa652-7532-42dc-b6ac-9b4020f34a67"
      },
      "execution_count": 217,
      "outputs": [
        {
          "output_type": "stream",
          "name": "stdout",
          "text": [
            "Row 17 has been classified as 1.0 and should be 0.0 \n",
            "Input: [1.   0.   1.   1.   0.   1.   0.   0.   0.   0.   0.75 1.   0.   1.\n",
            " 1.  ]\n",
            "Row 91 has been classified as 0.0 and should be 1.0 \n",
            "Input: [0. 0. 0. 0. 0. 0. 1. 0. 1. 1. 1. 1. 0. 1. 1.]\n"
          ]
        }
      ]
    }
  ]
}